{
 "cells": [
  {
   "cell_type": "code",
   "execution_count": 212,
   "id": "01a15f7b",
   "metadata": {},
   "outputs": [],
   "source": [
    "import pandas as pd\n",
    "import numpy as np\n",
    "import matplotlib.pyplot as plt\n",
    "from statsmodels.graphics.tsaplots import plot_acf, plot_pacf \n",
    "from statsmodels.tsa.stattools import acf, pacf\n",
    "import seaborn as sns\n",
    "import datetime as dt"
   ]
  },
  {
   "cell_type": "markdown",
   "id": "3f2526ea",
   "metadata": {},
   "source": [
    "#### The data have 7 columns:\n",
    "#### Symbol, Y-M-D, Time, Open, High, Low, Close values for every minute."
   ]
  },
  {
   "cell_type": "code",
   "execution_count": 190,
   "id": "506dc621",
   "metadata": {},
   "outputs": [
    {
     "name": "stderr",
     "output_type": "stream",
     "text": [
      "C:\\Users\\varsha\\AppData\\Local\\Temp\\ipykernel_15376\\114772563.py:1: ParserWarning: Length of header or names does not match length of data. This leads to a loss of data with index_col=False.\n",
      "  df_13= pd.read_csv(r\"D:\\Datasets\\trading dataset\\nifty2_2013.txt\",names= ['Symbol', 'Y-M-D', 'Time', 'Open', 'High', 'Low', 'Close'], index_col=False)\n"
     ]
    }
   ],
   "source": [
    "df_13= pd.read_csv(r\"D:\\Datasets\\trading dataset\\nifty2_2013.txt\",names= ['Symbol', 'Y-M-D', 'Time', 'Open', 'High', 'Low', 'Close'], index_col=False)\n"
   ]
  },
  {
   "cell_type": "code",
   "execution_count": 191,
   "id": "a6402c8b",
   "metadata": {},
   "outputs": [
    {
     "data": {
      "text/html": [
       "<div>\n",
       "<style scoped>\n",
       "    .dataframe tbody tr th:only-of-type {\n",
       "        vertical-align: middle;\n",
       "    }\n",
       "\n",
       "    .dataframe tbody tr th {\n",
       "        vertical-align: top;\n",
       "    }\n",
       "\n",
       "    .dataframe thead th {\n",
       "        text-align: right;\n",
       "    }\n",
       "</style>\n",
       "<table border=\"1\" class=\"dataframe\">\n",
       "  <thead>\n",
       "    <tr style=\"text-align: right;\">\n",
       "      <th></th>\n",
       "      <th>Symbol</th>\n",
       "      <th>Y-M-D</th>\n",
       "      <th>Time</th>\n",
       "      <th>Open</th>\n",
       "      <th>High</th>\n",
       "      <th>Low</th>\n",
       "      <th>Close</th>\n",
       "    </tr>\n",
       "  </thead>\n",
       "  <tbody>\n",
       "    <tr>\n",
       "      <th>0</th>\n",
       "      <td>NIFTY</td>\n",
       "      <td>20130603</td>\n",
       "      <td>09:16</td>\n",
       "      <td>6005.90</td>\n",
       "      <td>6011.00</td>\n",
       "      <td>5985.00</td>\n",
       "      <td>5985.65</td>\n",
       "    </tr>\n",
       "    <tr>\n",
       "      <th>1</th>\n",
       "      <td>NIFTY</td>\n",
       "      <td>20130603</td>\n",
       "      <td>09:17</td>\n",
       "      <td>5985.45</td>\n",
       "      <td>5988.40</td>\n",
       "      <td>5978.75</td>\n",
       "      <td>5981.40</td>\n",
       "    </tr>\n",
       "    <tr>\n",
       "      <th>2</th>\n",
       "      <td>NIFTY</td>\n",
       "      <td>20130603</td>\n",
       "      <td>09:18</td>\n",
       "      <td>5980.90</td>\n",
       "      <td>5985.25</td>\n",
       "      <td>5980.60</td>\n",
       "      <td>5984.90</td>\n",
       "    </tr>\n",
       "    <tr>\n",
       "      <th>3</th>\n",
       "      <td>NIFTY</td>\n",
       "      <td>20130603</td>\n",
       "      <td>09:19</td>\n",
       "      <td>5985.25</td>\n",
       "      <td>5992.50</td>\n",
       "      <td>5984.60</td>\n",
       "      <td>5992.50</td>\n",
       "    </tr>\n",
       "    <tr>\n",
       "      <th>4</th>\n",
       "      <td>NIFTY</td>\n",
       "      <td>20130603</td>\n",
       "      <td>09:20</td>\n",
       "      <td>5992.75</td>\n",
       "      <td>5998.40</td>\n",
       "      <td>5992.40</td>\n",
       "      <td>5997.60</td>\n",
       "    </tr>\n",
       "  </tbody>\n",
       "</table>\n",
       "</div>"
      ],
      "text/plain": [
       "  Symbol     Y-M-D   Time     Open     High      Low    Close\n",
       "0  NIFTY  20130603  09:16  6005.90  6011.00  5985.00  5985.65\n",
       "1  NIFTY  20130603  09:17  5985.45  5988.40  5978.75  5981.40\n",
       "2  NIFTY  20130603  09:18  5980.90  5985.25  5980.60  5984.90\n",
       "3  NIFTY  20130603  09:19  5985.25  5992.50  5984.60  5992.50\n",
       "4  NIFTY  20130603  09:20  5992.75  5998.40  5992.40  5997.60"
      ]
     },
     "execution_count": 191,
     "metadata": {},
     "output_type": "execute_result"
    }
   ],
   "source": [
    "df_13.head()"
   ]
  },
  {
   "cell_type": "code",
   "execution_count": 192,
   "id": "50b7b9af",
   "metadata": {},
   "outputs": [
    {
     "name": "stdout",
     "output_type": "stream",
     "text": [
      "<class 'pandas.core.frame.DataFrame'>\n",
      "RangeIndex: 53922 entries, 0 to 53921\n",
      "Data columns (total 7 columns):\n",
      " #   Column  Non-Null Count  Dtype  \n",
      "---  ------  --------------  -----  \n",
      " 0   Symbol  53922 non-null  object \n",
      " 1   Y-M-D   53922 non-null  int64  \n",
      " 2   Time    53922 non-null  object \n",
      " 3   Open    53922 non-null  float64\n",
      " 4   High    53922 non-null  float64\n",
      " 5   Low     53922 non-null  float64\n",
      " 6   Close   53922 non-null  float64\n",
      "dtypes: float64(4), int64(1), object(2)\n",
      "memory usage: 2.9+ MB\n"
     ]
    }
   ],
   "source": [
    "# lcheck the datatypes of all the columns in the dataframe\n",
    "df_13.info()"
   ]
  },
  {
   "cell_type": "code",
   "execution_count": 193,
   "id": "71bd9eef",
   "metadata": {},
   "outputs": [
    {
     "data": {
      "text/plain": [
       "(53922, 7)"
      ]
     },
     "execution_count": 193,
     "metadata": {},
     "output_type": "execute_result"
    }
   ],
   "source": [
    "df_13.shape"
   ]
  },
  {
   "cell_type": "code",
   "execution_count": 194,
   "id": "69602e17",
   "metadata": {},
   "outputs": [
    {
     "data": {
      "text/plain": [
       "Symbol    0\n",
       "Y-M-D     0\n",
       "Time      0\n",
       "Open      0\n",
       "High      0\n",
       "Low       0\n",
       "Close     0\n",
       "dtype: int64"
      ]
     },
     "execution_count": 194,
     "metadata": {},
     "output_type": "execute_result"
    }
   ],
   "source": [
    "df_13.isnull().sum()"
   ]
  },
  {
   "cell_type": "code",
   "execution_count": 195,
   "id": "b5d27291",
   "metadata": {},
   "outputs": [],
   "source": [
    "# convert the date year column correctly into dateTime format\n",
    "df_13['date(Y/M/D)']= pd.to_datetime(df_13['Y-M-D'], format= '%Y%m%d')"
   ]
  },
  {
   "cell_type": "code",
   "execution_count": 196,
   "id": "cf476cb1",
   "metadata": {},
   "outputs": [
    {
     "data": {
      "text/html": [
       "<div>\n",
       "<style scoped>\n",
       "    .dataframe tbody tr th:only-of-type {\n",
       "        vertical-align: middle;\n",
       "    }\n",
       "\n",
       "    .dataframe tbody tr th {\n",
       "        vertical-align: top;\n",
       "    }\n",
       "\n",
       "    .dataframe thead th {\n",
       "        text-align: right;\n",
       "    }\n",
       "</style>\n",
       "<table border=\"1\" class=\"dataframe\">\n",
       "  <thead>\n",
       "    <tr style=\"text-align: right;\">\n",
       "      <th></th>\n",
       "      <th>Symbol</th>\n",
       "      <th>Y-M-D</th>\n",
       "      <th>Time</th>\n",
       "      <th>Open</th>\n",
       "      <th>High</th>\n",
       "      <th>Low</th>\n",
       "      <th>Close</th>\n",
       "      <th>date(Y/M/D)</th>\n",
       "    </tr>\n",
       "  </thead>\n",
       "  <tbody>\n",
       "    <tr>\n",
       "      <th>0</th>\n",
       "      <td>NIFTY</td>\n",
       "      <td>20130603</td>\n",
       "      <td>09:16</td>\n",
       "      <td>6005.90</td>\n",
       "      <td>6011.00</td>\n",
       "      <td>5985.00</td>\n",
       "      <td>5985.65</td>\n",
       "      <td>2013-06-03</td>\n",
       "    </tr>\n",
       "    <tr>\n",
       "      <th>1</th>\n",
       "      <td>NIFTY</td>\n",
       "      <td>20130603</td>\n",
       "      <td>09:17</td>\n",
       "      <td>5985.45</td>\n",
       "      <td>5988.40</td>\n",
       "      <td>5978.75</td>\n",
       "      <td>5981.40</td>\n",
       "      <td>2013-06-03</td>\n",
       "    </tr>\n",
       "    <tr>\n",
       "      <th>2</th>\n",
       "      <td>NIFTY</td>\n",
       "      <td>20130603</td>\n",
       "      <td>09:18</td>\n",
       "      <td>5980.90</td>\n",
       "      <td>5985.25</td>\n",
       "      <td>5980.60</td>\n",
       "      <td>5984.90</td>\n",
       "      <td>2013-06-03</td>\n",
       "    </tr>\n",
       "    <tr>\n",
       "      <th>3</th>\n",
       "      <td>NIFTY</td>\n",
       "      <td>20130603</td>\n",
       "      <td>09:19</td>\n",
       "      <td>5985.25</td>\n",
       "      <td>5992.50</td>\n",
       "      <td>5984.60</td>\n",
       "      <td>5992.50</td>\n",
       "      <td>2013-06-03</td>\n",
       "    </tr>\n",
       "    <tr>\n",
       "      <th>4</th>\n",
       "      <td>NIFTY</td>\n",
       "      <td>20130603</td>\n",
       "      <td>09:20</td>\n",
       "      <td>5992.75</td>\n",
       "      <td>5998.40</td>\n",
       "      <td>5992.40</td>\n",
       "      <td>5997.60</td>\n",
       "      <td>2013-06-03</td>\n",
       "    </tr>\n",
       "  </tbody>\n",
       "</table>\n",
       "</div>"
      ],
      "text/plain": [
       "  Symbol     Y-M-D   Time     Open     High      Low    Close date(Y/M/D)\n",
       "0  NIFTY  20130603  09:16  6005.90  6011.00  5985.00  5985.65  2013-06-03\n",
       "1  NIFTY  20130603  09:17  5985.45  5988.40  5978.75  5981.40  2013-06-03\n",
       "2  NIFTY  20130603  09:18  5980.90  5985.25  5980.60  5984.90  2013-06-03\n",
       "3  NIFTY  20130603  09:19  5985.25  5992.50  5984.60  5992.50  2013-06-03\n",
       "4  NIFTY  20130603  09:20  5992.75  5998.40  5992.40  5997.60  2013-06-03"
      ]
     },
     "execution_count": 196,
     "metadata": {},
     "output_type": "execute_result"
    }
   ],
   "source": [
    "df_13.head()"
   ]
  },
  {
   "cell_type": "code",
   "execution_count": 197,
   "id": "7b7a3b1f",
   "metadata": {},
   "outputs": [],
   "source": [
    "# lets seperate out the date, month and year sepeartely\n",
    "\n",
    "df_13['date']= df_13['date(Y/M/D)'].dt.day\n",
    "df_13['month']= df_13['date(Y/M/D)'].dt.month\n",
    "df_13['year']= df_13['date(Y/M/D)'].dt.year"
   ]
  },
  {
   "cell_type": "code",
   "execution_count": 198,
   "id": "39bcfaac",
   "metadata": {},
   "outputs": [
    {
     "data": {
      "text/html": [
       "<div>\n",
       "<style scoped>\n",
       "    .dataframe tbody tr th:only-of-type {\n",
       "        vertical-align: middle;\n",
       "    }\n",
       "\n",
       "    .dataframe tbody tr th {\n",
       "        vertical-align: top;\n",
       "    }\n",
       "\n",
       "    .dataframe thead th {\n",
       "        text-align: right;\n",
       "    }\n",
       "</style>\n",
       "<table border=\"1\" class=\"dataframe\">\n",
       "  <thead>\n",
       "    <tr style=\"text-align: right;\">\n",
       "      <th></th>\n",
       "      <th>Symbol</th>\n",
       "      <th>Y-M-D</th>\n",
       "      <th>Time</th>\n",
       "      <th>Open</th>\n",
       "      <th>High</th>\n",
       "      <th>Low</th>\n",
       "      <th>Close</th>\n",
       "      <th>date(Y/M/D)</th>\n",
       "      <th>date</th>\n",
       "      <th>month</th>\n",
       "      <th>year</th>\n",
       "    </tr>\n",
       "  </thead>\n",
       "  <tbody>\n",
       "    <tr>\n",
       "      <th>0</th>\n",
       "      <td>NIFTY</td>\n",
       "      <td>20130603</td>\n",
       "      <td>09:16</td>\n",
       "      <td>6005.90</td>\n",
       "      <td>6011.00</td>\n",
       "      <td>5985.00</td>\n",
       "      <td>5985.65</td>\n",
       "      <td>2013-06-03</td>\n",
       "      <td>3</td>\n",
       "      <td>6</td>\n",
       "      <td>2013</td>\n",
       "    </tr>\n",
       "    <tr>\n",
       "      <th>1</th>\n",
       "      <td>NIFTY</td>\n",
       "      <td>20130603</td>\n",
       "      <td>09:17</td>\n",
       "      <td>5985.45</td>\n",
       "      <td>5988.40</td>\n",
       "      <td>5978.75</td>\n",
       "      <td>5981.40</td>\n",
       "      <td>2013-06-03</td>\n",
       "      <td>3</td>\n",
       "      <td>6</td>\n",
       "      <td>2013</td>\n",
       "    </tr>\n",
       "    <tr>\n",
       "      <th>2</th>\n",
       "      <td>NIFTY</td>\n",
       "      <td>20130603</td>\n",
       "      <td>09:18</td>\n",
       "      <td>5980.90</td>\n",
       "      <td>5985.25</td>\n",
       "      <td>5980.60</td>\n",
       "      <td>5984.90</td>\n",
       "      <td>2013-06-03</td>\n",
       "      <td>3</td>\n",
       "      <td>6</td>\n",
       "      <td>2013</td>\n",
       "    </tr>\n",
       "    <tr>\n",
       "      <th>3</th>\n",
       "      <td>NIFTY</td>\n",
       "      <td>20130603</td>\n",
       "      <td>09:19</td>\n",
       "      <td>5985.25</td>\n",
       "      <td>5992.50</td>\n",
       "      <td>5984.60</td>\n",
       "      <td>5992.50</td>\n",
       "      <td>2013-06-03</td>\n",
       "      <td>3</td>\n",
       "      <td>6</td>\n",
       "      <td>2013</td>\n",
       "    </tr>\n",
       "    <tr>\n",
       "      <th>4</th>\n",
       "      <td>NIFTY</td>\n",
       "      <td>20130603</td>\n",
       "      <td>09:20</td>\n",
       "      <td>5992.75</td>\n",
       "      <td>5998.40</td>\n",
       "      <td>5992.40</td>\n",
       "      <td>5997.60</td>\n",
       "      <td>2013-06-03</td>\n",
       "      <td>3</td>\n",
       "      <td>6</td>\n",
       "      <td>2013</td>\n",
       "    </tr>\n",
       "  </tbody>\n",
       "</table>\n",
       "</div>"
      ],
      "text/plain": [
       "  Symbol     Y-M-D   Time     Open     High      Low    Close date(Y/M/D)  \\\n",
       "0  NIFTY  20130603  09:16  6005.90  6011.00  5985.00  5985.65  2013-06-03   \n",
       "1  NIFTY  20130603  09:17  5985.45  5988.40  5978.75  5981.40  2013-06-03   \n",
       "2  NIFTY  20130603  09:18  5980.90  5985.25  5980.60  5984.90  2013-06-03   \n",
       "3  NIFTY  20130603  09:19  5985.25  5992.50  5984.60  5992.50  2013-06-03   \n",
       "4  NIFTY  20130603  09:20  5992.75  5998.40  5992.40  5997.60  2013-06-03   \n",
       "\n",
       "   date  month  year  \n",
       "0     3      6  2013  \n",
       "1     3      6  2013  \n",
       "2     3      6  2013  \n",
       "3     3      6  2013  \n",
       "4     3      6  2013  "
      ]
     },
     "execution_count": 198,
     "metadata": {},
     "output_type": "execute_result"
    }
   ],
   "source": [
    "df_13.head()"
   ]
  },
  {
   "cell_type": "code",
   "execution_count": 199,
   "id": "bb4c084e",
   "metadata": {},
   "outputs": [],
   "source": [
    "# lets do the same for time column in hour and minutes\n",
    "\n",
    "df_13['Time(h:m)']= pd.to_datetime(df_13['Time'], format= '%H:%M')"
   ]
  },
  {
   "cell_type": "code",
   "execution_count": 200,
   "id": "60a813dc",
   "metadata": {},
   "outputs": [
    {
     "data": {
      "text/html": [
       "<div>\n",
       "<style scoped>\n",
       "    .dataframe tbody tr th:only-of-type {\n",
       "        vertical-align: middle;\n",
       "    }\n",
       "\n",
       "    .dataframe tbody tr th {\n",
       "        vertical-align: top;\n",
       "    }\n",
       "\n",
       "    .dataframe thead th {\n",
       "        text-align: right;\n",
       "    }\n",
       "</style>\n",
       "<table border=\"1\" class=\"dataframe\">\n",
       "  <thead>\n",
       "    <tr style=\"text-align: right;\">\n",
       "      <th></th>\n",
       "      <th>Symbol</th>\n",
       "      <th>Y-M-D</th>\n",
       "      <th>Time</th>\n",
       "      <th>Open</th>\n",
       "      <th>High</th>\n",
       "      <th>Low</th>\n",
       "      <th>Close</th>\n",
       "      <th>date(Y/M/D)</th>\n",
       "      <th>date</th>\n",
       "      <th>month</th>\n",
       "      <th>year</th>\n",
       "      <th>Time(h:m)</th>\n",
       "    </tr>\n",
       "  </thead>\n",
       "  <tbody>\n",
       "    <tr>\n",
       "      <th>0</th>\n",
       "      <td>NIFTY</td>\n",
       "      <td>20130603</td>\n",
       "      <td>09:16</td>\n",
       "      <td>6005.90</td>\n",
       "      <td>6011.00</td>\n",
       "      <td>5985.00</td>\n",
       "      <td>5985.65</td>\n",
       "      <td>2013-06-03</td>\n",
       "      <td>3</td>\n",
       "      <td>6</td>\n",
       "      <td>2013</td>\n",
       "      <td>1900-01-01 09:16:00</td>\n",
       "    </tr>\n",
       "    <tr>\n",
       "      <th>1</th>\n",
       "      <td>NIFTY</td>\n",
       "      <td>20130603</td>\n",
       "      <td>09:17</td>\n",
       "      <td>5985.45</td>\n",
       "      <td>5988.40</td>\n",
       "      <td>5978.75</td>\n",
       "      <td>5981.40</td>\n",
       "      <td>2013-06-03</td>\n",
       "      <td>3</td>\n",
       "      <td>6</td>\n",
       "      <td>2013</td>\n",
       "      <td>1900-01-01 09:17:00</td>\n",
       "    </tr>\n",
       "    <tr>\n",
       "      <th>2</th>\n",
       "      <td>NIFTY</td>\n",
       "      <td>20130603</td>\n",
       "      <td>09:18</td>\n",
       "      <td>5980.90</td>\n",
       "      <td>5985.25</td>\n",
       "      <td>5980.60</td>\n",
       "      <td>5984.90</td>\n",
       "      <td>2013-06-03</td>\n",
       "      <td>3</td>\n",
       "      <td>6</td>\n",
       "      <td>2013</td>\n",
       "      <td>1900-01-01 09:18:00</td>\n",
       "    </tr>\n",
       "    <tr>\n",
       "      <th>3</th>\n",
       "      <td>NIFTY</td>\n",
       "      <td>20130603</td>\n",
       "      <td>09:19</td>\n",
       "      <td>5985.25</td>\n",
       "      <td>5992.50</td>\n",
       "      <td>5984.60</td>\n",
       "      <td>5992.50</td>\n",
       "      <td>2013-06-03</td>\n",
       "      <td>3</td>\n",
       "      <td>6</td>\n",
       "      <td>2013</td>\n",
       "      <td>1900-01-01 09:19:00</td>\n",
       "    </tr>\n",
       "    <tr>\n",
       "      <th>4</th>\n",
       "      <td>NIFTY</td>\n",
       "      <td>20130603</td>\n",
       "      <td>09:20</td>\n",
       "      <td>5992.75</td>\n",
       "      <td>5998.40</td>\n",
       "      <td>5992.40</td>\n",
       "      <td>5997.60</td>\n",
       "      <td>2013-06-03</td>\n",
       "      <td>3</td>\n",
       "      <td>6</td>\n",
       "      <td>2013</td>\n",
       "      <td>1900-01-01 09:20:00</td>\n",
       "    </tr>\n",
       "  </tbody>\n",
       "</table>\n",
       "</div>"
      ],
      "text/plain": [
       "  Symbol     Y-M-D   Time     Open     High      Low    Close date(Y/M/D)  \\\n",
       "0  NIFTY  20130603  09:16  6005.90  6011.00  5985.00  5985.65  2013-06-03   \n",
       "1  NIFTY  20130603  09:17  5985.45  5988.40  5978.75  5981.40  2013-06-03   \n",
       "2  NIFTY  20130603  09:18  5980.90  5985.25  5980.60  5984.90  2013-06-03   \n",
       "3  NIFTY  20130603  09:19  5985.25  5992.50  5984.60  5992.50  2013-06-03   \n",
       "4  NIFTY  20130603  09:20  5992.75  5998.40  5992.40  5997.60  2013-06-03   \n",
       "\n",
       "   date  month  year           Time(h:m)  \n",
       "0     3      6  2013 1900-01-01 09:16:00  \n",
       "1     3      6  2013 1900-01-01 09:17:00  \n",
       "2     3      6  2013 1900-01-01 09:18:00  \n",
       "3     3      6  2013 1900-01-01 09:19:00  \n",
       "4     3      6  2013 1900-01-01 09:20:00  "
      ]
     },
     "execution_count": 200,
     "metadata": {},
     "output_type": "execute_result"
    }
   ],
   "source": [
    "df_13.head()"
   ]
  },
  {
   "cell_type": "code",
   "execution_count": 201,
   "id": "f79b0401",
   "metadata": {},
   "outputs": [],
   "source": [
    "df_13['hour']= df_13['Time(h:m)'].dt.hour\n",
    "df_13['min']= df_13['Time(h:m)'].dt.minute\n"
   ]
  },
  {
   "cell_type": "code",
   "execution_count": 202,
   "id": "8a16ba8b",
   "metadata": {},
   "outputs": [],
   "source": [
    "# drop the unwanted columns\n",
    "df_13.drop(labels='Y-M-D', inplace= True, axis= 1)\n",
    "df_13.drop(labels='Time(h:m)', inplace= True, axis= 1)"
   ]
  },
  {
   "cell_type": "code",
   "execution_count": 203,
   "id": "f9e82bcc",
   "metadata": {},
   "outputs": [
    {
     "data": {
      "text/html": [
       "<div>\n",
       "<style scoped>\n",
       "    .dataframe tbody tr th:only-of-type {\n",
       "        vertical-align: middle;\n",
       "    }\n",
       "\n",
       "    .dataframe tbody tr th {\n",
       "        vertical-align: top;\n",
       "    }\n",
       "\n",
       "    .dataframe thead th {\n",
       "        text-align: right;\n",
       "    }\n",
       "</style>\n",
       "<table border=\"1\" class=\"dataframe\">\n",
       "  <thead>\n",
       "    <tr style=\"text-align: right;\">\n",
       "      <th></th>\n",
       "      <th>Symbol</th>\n",
       "      <th>Time</th>\n",
       "      <th>Open</th>\n",
       "      <th>High</th>\n",
       "      <th>Low</th>\n",
       "      <th>Close</th>\n",
       "      <th>date(Y/M/D)</th>\n",
       "      <th>date</th>\n",
       "      <th>month</th>\n",
       "      <th>year</th>\n",
       "      <th>hour</th>\n",
       "      <th>min</th>\n",
       "    </tr>\n",
       "  </thead>\n",
       "  <tbody>\n",
       "    <tr>\n",
       "      <th>0</th>\n",
       "      <td>NIFTY</td>\n",
       "      <td>09:16</td>\n",
       "      <td>6005.90</td>\n",
       "      <td>6011.00</td>\n",
       "      <td>5985.00</td>\n",
       "      <td>5985.65</td>\n",
       "      <td>2013-06-03</td>\n",
       "      <td>3</td>\n",
       "      <td>6</td>\n",
       "      <td>2013</td>\n",
       "      <td>9</td>\n",
       "      <td>16</td>\n",
       "    </tr>\n",
       "    <tr>\n",
       "      <th>1</th>\n",
       "      <td>NIFTY</td>\n",
       "      <td>09:17</td>\n",
       "      <td>5985.45</td>\n",
       "      <td>5988.40</td>\n",
       "      <td>5978.75</td>\n",
       "      <td>5981.40</td>\n",
       "      <td>2013-06-03</td>\n",
       "      <td>3</td>\n",
       "      <td>6</td>\n",
       "      <td>2013</td>\n",
       "      <td>9</td>\n",
       "      <td>17</td>\n",
       "    </tr>\n",
       "    <tr>\n",
       "      <th>2</th>\n",
       "      <td>NIFTY</td>\n",
       "      <td>09:18</td>\n",
       "      <td>5980.90</td>\n",
       "      <td>5985.25</td>\n",
       "      <td>5980.60</td>\n",
       "      <td>5984.90</td>\n",
       "      <td>2013-06-03</td>\n",
       "      <td>3</td>\n",
       "      <td>6</td>\n",
       "      <td>2013</td>\n",
       "      <td>9</td>\n",
       "      <td>18</td>\n",
       "    </tr>\n",
       "    <tr>\n",
       "      <th>3</th>\n",
       "      <td>NIFTY</td>\n",
       "      <td>09:19</td>\n",
       "      <td>5985.25</td>\n",
       "      <td>5992.50</td>\n",
       "      <td>5984.60</td>\n",
       "      <td>5992.50</td>\n",
       "      <td>2013-06-03</td>\n",
       "      <td>3</td>\n",
       "      <td>6</td>\n",
       "      <td>2013</td>\n",
       "      <td>9</td>\n",
       "      <td>19</td>\n",
       "    </tr>\n",
       "    <tr>\n",
       "      <th>4</th>\n",
       "      <td>NIFTY</td>\n",
       "      <td>09:20</td>\n",
       "      <td>5992.75</td>\n",
       "      <td>5998.40</td>\n",
       "      <td>5992.40</td>\n",
       "      <td>5997.60</td>\n",
       "      <td>2013-06-03</td>\n",
       "      <td>3</td>\n",
       "      <td>6</td>\n",
       "      <td>2013</td>\n",
       "      <td>9</td>\n",
       "      <td>20</td>\n",
       "    </tr>\n",
       "  </tbody>\n",
       "</table>\n",
       "</div>"
      ],
      "text/plain": [
       "  Symbol   Time     Open     High      Low    Close date(Y/M/D)  date  month  \\\n",
       "0  NIFTY  09:16  6005.90  6011.00  5985.00  5985.65  2013-06-03     3      6   \n",
       "1  NIFTY  09:17  5985.45  5988.40  5978.75  5981.40  2013-06-03     3      6   \n",
       "2  NIFTY  09:18  5980.90  5985.25  5980.60  5984.90  2013-06-03     3      6   \n",
       "3  NIFTY  09:19  5985.25  5992.50  5984.60  5992.50  2013-06-03     3      6   \n",
       "4  NIFTY  09:20  5992.75  5998.40  5992.40  5997.60  2013-06-03     3      6   \n",
       "\n",
       "   year  hour  min  \n",
       "0  2013     9   16  \n",
       "1  2013     9   17  \n",
       "2  2013     9   18  \n",
       "3  2013     9   19  \n",
       "4  2013     9   20  "
      ]
     },
     "execution_count": 203,
     "metadata": {},
     "output_type": "execute_result"
    }
   ],
   "source": [
    "df_13.head()"
   ]
  },
  {
   "cell_type": "code",
   "execution_count": 204,
   "id": "dafc8a8b",
   "metadata": {},
   "outputs": [],
   "source": [
    "# lets create the copy of the original dataframe and delete the other unwanted columns too\n",
    "\n",
    "df_copy= df_13.copy()"
   ]
  },
  {
   "cell_type": "code",
   "execution_count": 205,
   "id": "f65bfe4f",
   "metadata": {},
   "outputs": [],
   "source": [
    "# df_copy.drop(labels= ['Time', 'date(Y/M/D)'], axis= 1, inplace= True)\n",
    "\n",
    "# we can drop the Symbol column too as all the Symbols are having value as Nifty, even delete the year column as we know\n",
    "# all the data is for 2013 year\n",
    "df_copy.drop(labels= ['Symbol', 'year'], inplace= True, axis= 1)"
   ]
  },
  {
   "cell_type": "code",
   "execution_count": 206,
   "id": "d0db1797",
   "metadata": {},
   "outputs": [
    {
     "data": {
      "text/html": [
       "<div>\n",
       "<style scoped>\n",
       "    .dataframe tbody tr th:only-of-type {\n",
       "        vertical-align: middle;\n",
       "    }\n",
       "\n",
       "    .dataframe tbody tr th {\n",
       "        vertical-align: top;\n",
       "    }\n",
       "\n",
       "    .dataframe thead th {\n",
       "        text-align: right;\n",
       "    }\n",
       "</style>\n",
       "<table border=\"1\" class=\"dataframe\">\n",
       "  <thead>\n",
       "    <tr style=\"text-align: right;\">\n",
       "      <th></th>\n",
       "      <th>Time</th>\n",
       "      <th>Open</th>\n",
       "      <th>High</th>\n",
       "      <th>Low</th>\n",
       "      <th>Close</th>\n",
       "      <th>date(Y/M/D)</th>\n",
       "      <th>date</th>\n",
       "      <th>month</th>\n",
       "      <th>hour</th>\n",
       "      <th>min</th>\n",
       "    </tr>\n",
       "  </thead>\n",
       "  <tbody>\n",
       "    <tr>\n",
       "      <th>0</th>\n",
       "      <td>09:16</td>\n",
       "      <td>6005.90</td>\n",
       "      <td>6011.00</td>\n",
       "      <td>5985.00</td>\n",
       "      <td>5985.65</td>\n",
       "      <td>2013-06-03</td>\n",
       "      <td>3</td>\n",
       "      <td>6</td>\n",
       "      <td>9</td>\n",
       "      <td>16</td>\n",
       "    </tr>\n",
       "    <tr>\n",
       "      <th>1</th>\n",
       "      <td>09:17</td>\n",
       "      <td>5985.45</td>\n",
       "      <td>5988.40</td>\n",
       "      <td>5978.75</td>\n",
       "      <td>5981.40</td>\n",
       "      <td>2013-06-03</td>\n",
       "      <td>3</td>\n",
       "      <td>6</td>\n",
       "      <td>9</td>\n",
       "      <td>17</td>\n",
       "    </tr>\n",
       "    <tr>\n",
       "      <th>2</th>\n",
       "      <td>09:18</td>\n",
       "      <td>5980.90</td>\n",
       "      <td>5985.25</td>\n",
       "      <td>5980.60</td>\n",
       "      <td>5984.90</td>\n",
       "      <td>2013-06-03</td>\n",
       "      <td>3</td>\n",
       "      <td>6</td>\n",
       "      <td>9</td>\n",
       "      <td>18</td>\n",
       "    </tr>\n",
       "    <tr>\n",
       "      <th>3</th>\n",
       "      <td>09:19</td>\n",
       "      <td>5985.25</td>\n",
       "      <td>5992.50</td>\n",
       "      <td>5984.60</td>\n",
       "      <td>5992.50</td>\n",
       "      <td>2013-06-03</td>\n",
       "      <td>3</td>\n",
       "      <td>6</td>\n",
       "      <td>9</td>\n",
       "      <td>19</td>\n",
       "    </tr>\n",
       "    <tr>\n",
       "      <th>4</th>\n",
       "      <td>09:20</td>\n",
       "      <td>5992.75</td>\n",
       "      <td>5998.40</td>\n",
       "      <td>5992.40</td>\n",
       "      <td>5997.60</td>\n",
       "      <td>2013-06-03</td>\n",
       "      <td>3</td>\n",
       "      <td>6</td>\n",
       "      <td>9</td>\n",
       "      <td>20</td>\n",
       "    </tr>\n",
       "  </tbody>\n",
       "</table>\n",
       "</div>"
      ],
      "text/plain": [
       "    Time     Open     High      Low    Close date(Y/M/D)  date  month  hour  \\\n",
       "0  09:16  6005.90  6011.00  5985.00  5985.65  2013-06-03     3      6     9   \n",
       "1  09:17  5985.45  5988.40  5978.75  5981.40  2013-06-03     3      6     9   \n",
       "2  09:18  5980.90  5985.25  5980.60  5984.90  2013-06-03     3      6     9   \n",
       "3  09:19  5985.25  5992.50  5984.60  5992.50  2013-06-03     3      6     9   \n",
       "4  09:20  5992.75  5998.40  5992.40  5997.60  2013-06-03     3      6     9   \n",
       "\n",
       "   min  \n",
       "0   16  \n",
       "1   17  \n",
       "2   18  \n",
       "3   19  \n",
       "4   20  "
      ]
     },
     "execution_count": 206,
     "metadata": {},
     "output_type": "execute_result"
    }
   ],
   "source": [
    "df_copy.head()"
   ]
  },
  {
   "cell_type": "code",
   "execution_count": 220,
   "id": "6737f6c6",
   "metadata": {},
   "outputs": [
    {
     "data": {
      "text/plain": [
       "[<matplotlib.lines.Line2D at 0x199b3550f10>]"
      ]
     },
     "execution_count": 220,
     "metadata": {},
     "output_type": "execute_result"
    },
    {
     "data": {
      "image/png": "[encoded data removed]",
      "text/plain": [
       "<Figure size 640x480 with 1 Axes>"
      ]
     },
     "metadata": {},
     "output_type": "display_data"
    }
   ],
   "source": [
    "plt.plot(df_copy['date(Y/M/D)'],df_copy['Close'])"
   ]
  },
  {
   "cell_type": "code",
   "execution_count": 217,
   "id": "108120da",
   "metadata": {},
   "outputs": [
    {
     "data": {
      "image/png": "[encoded data removed]",
      "text/plain": [
       "<Figure size 640x480 with 1 Axes>"
      ]
     },
     "metadata": {},
     "output_type": "display_data"
    }
   ],
   "source": [
    "acf= plot_acf(df_copy['Open'], lags= 100)"
   ]
  },
  {
   "cell_type": "code",
   "execution_count": 224,
   "id": "6e7be848",
   "metadata": {},
   "outputs": [],
   "source": [
    "df=df_copy['Close'].diff().dropna()"
   ]
  },
  {
   "cell_type": "code",
   "execution_count": 225,
   "id": "15c1d604",
   "metadata": {},
   "outputs": [
    {
     "data": {
      "text/plain": [
       "[<matplotlib.lines.Line2D at 0x199b67bd210>]"
      ]
     },
     "execution_count": 225,
     "metadata": {},
     "output_type": "execute_result"
    },
    {
     "data": {
      "image/png": "[encoded data removed]",
      "text/plain": [
       "<Figure size 640x480 with 1 Axes>"
      ]
     },
     "metadata": {},
     "output_type": "display_data"
    }
   ],
   "source": [
    "plt.plot(df)"
   ]
  },
  {
   "cell_type": "code",
   "execution_count": 227,
   "id": "d7e027df",
   "metadata": {},
   "outputs": [
    {
     "data": {
      "image/png": "[encoded data removed]",
      "text/plain": [
       "<Figure size 640x480 with 1 Axes>"
      ]
     },
     "execution_count": 227,
     "metadata": {},
     "output_type": "execute_result"
    },
    {
     "data": {
      "image/png": "[encoded data removed]",
      "text/plain": [
       "<Figure size 640x480 with 1 Axes>"
      ]
     },
     "metadata": {},
     "output_type": "display_data"
    }
   ],
   "source": [
    "plot_acf(df)"
   ]
  },
  {
   "cell_type": "code",
   "execution_count": 228,
   "id": "f56db580",
   "metadata": {},
   "outputs": [
    {
     "data": {
      "image/png": "[encoded data removed]",
      "text/plain": [
       "<Figure size 640x480 with 1 Axes>"
      ]
     },
     "execution_count": 228,
     "metadata": {},
     "output_type": "execute_result"
    },
    {
     "data": {
      "image/png": "[encoded data removed]",
      "text/plain": [
       "<Figure size 640x480 with 1 Axes>"
      ]
     },
     "metadata": {},
     "output_type": "display_data"
    }
   ],
   "source": [
    "plot_pacf(df)"
   ]
  },
  {
   "cell_type": "code",
   "execution_count": null,
   "id": "b9b22b30",
   "metadata": {},
   "outputs": [],
   "source": []
  },
  {
   "cell_type": "code",
   "execution_count": null,
   "id": "1c2938a7",
   "metadata": {},
   "outputs": [],
   "source": []
  },
  {
   "cell_type": "code",
   "execution_count": null,
   "id": "5de54ac5",
   "metadata": {},
   "outputs": [],
   "source": []
  },
  {
   "cell_type": "code",
   "execution_count": null,
   "id": "9a44a78d",
   "metadata": {},
   "outputs": [],
   "source": []
  },
  {
   "cell_type": "code",
   "execution_count": null,
   "id": "c56fe465",
   "metadata": {},
   "outputs": [],
   "source": []
  },
  {
   "cell_type": "code",
   "execution_count": null,
   "id": "be27b8e9",
   "metadata": {},
   "outputs": [],
   "source": []
  },
  {
   "cell_type": "code",
   "execution_count": null,
   "id": "33e2e5bc",
   "metadata": {},
   "outputs": [],
   "source": []
  },
  {
   "cell_type": "code",
   "execution_count": null,
   "id": "d599f20e",
   "metadata": {},
   "outputs": [],
   "source": []
  }
 ],
 "metadata": {
  "kernelspec": {
   "display_name": "Python 3 (ipykernel)",
   "language": "python",
   "name": "python3"
  },
  "language_info": {
   "codemirror_mode": {
    "name": "ipython",
    "version": 3
   },
   "file_extension": ".py",
   "mimetype": "text/x-python",
   "name": "python",
   "nbconvert_exporter": "python",
   "pygments_lexer": "ipython3",
   "version": "3.11.5"
  }
 },
 "nbformat": 4,
 "nbformat_minor": 5
}
