{
 "cells": [
  {
   "cell_type": "code",
   "execution_count": null,
   "id": "b37cbcb2",
   "metadata": {},
   "outputs": [],
   "source": [
    "# !pip install tensorflow"
   ]
  },
  {
   "cell_type": "code",
   "execution_count": null,
   "id": "992965e0",
   "metadata": {},
   "outputs": [],
   "source": [
    "# !pip install opencv-python"
   ]
  },
  {
   "cell_type": "code",
   "execution_count": 1,
   "id": "6cda2f09",
   "metadata": {},
   "outputs": [
    {
     "name": "stdout",
     "output_type": "stream",
     "text": [
      "WARNING:tensorflow:From C:\\Users\\varsha\\anaconda3\\Lib\\site-packages\\keras\\src\\losses.py:2976: The name tf.losses.sparse_softmax_cross_entropy is deprecated. Please use tf.compat.v1.losses.sparse_softmax_cross_entropy instead.\n",
      "\n"
     ]
    }
   ],
   "source": [
    "from tensorflow import keras\n",
    "import matplotlib.pyplot as plt\n",
    "import pandas as pd\n",
    "import numpy as np\n",
    "\n",
    "import cv2\n",
    "\n",
    "from sklearn.metrics import accuracy_score, confusion_matrix, classification_report\n",
    "\n"
   ]
  },
  {
   "cell_type": "code",
   "execution_count": 3,
   "id": "a692daa8",
   "metadata": {},
   "outputs": [],
   "source": [
    "#Load dataset\n",
    "\n",
    "(x_train, y_train),(x_test, y_test)= keras.datasets.cifar10.load_data()"
   ]
  },
  {
   "cell_type": "code",
   "execution_count": null,
   "id": "06519cdf",
   "metadata": {},
   "outputs": [],
   "source": []
  },
  {
   "cell_type": "code",
   "execution_count": null,
   "id": "98219e67",
   "metadata": {},
   "outputs": [],
   "source": [
    "x_train.shape, x_test.shape"
   ]
  },
  {
   "cell_type": "code",
   "execution_count": null,
   "id": "9e2c06f7",
   "metadata": {},
   "outputs": [],
   "source": [
    "# training dataset has 50000 images and test data has 10000 images, all the images are of dimension 32*32 and are coloured."
   ]
  },
  {
   "cell_type": "markdown",
   "id": "045ac522",
   "metadata": {},
   "source": [
    "### Data Pre-Processing"
   ]
  },
  {
   "cell_type": "code",
   "execution_count": null,
   "id": "246765b8",
   "metadata": {},
   "outputs": [],
   "source": [
    "# Normilazation \n",
    "x_train_norm = x_train/255.0\n",
    "x_test_norm = x_test/255.0"
   ]
  },
  {
   "cell_type": "raw",
   "id": "9fa160bb",
   "metadata": {},
   "source": [
    "# Transform the data into 2D format, as we will be using ML model so we need to convert 3D array to 2D and ML model accepts \n",
    "2D array as input."
   ]
  },
  {
   "cell_type": "markdown",
   "id": "8c6b19fe",
   "metadata": {},
   "source": [
    "NOTE: In the case of neural networks, we get to specify the input shape to the model and thus it is more flexible. But, in the case of sklearn, there are some restrictions."
   ]
  },
  {
   "cell_type": "code",
   "execution_count": null,
   "id": "3bc61ca6",
   "metadata": {},
   "outputs": [],
   "source": [
    "# sklearn expects input to be 2D array...as in...model.fit(x_train, y_train)-> reshape to 2D array\n",
    "\n",
    "nsample, nx, ny, nrgb= x_train.shape\n",
    "\n",
    "#convert 4D array to 2D array\n",
    "x_train2= x_train.reshape((nsample, nx*ny*nrgb))"
   ]
  },
  {
   "cell_type": "code",
   "execution_count": null,
   "id": "b04bda6c",
   "metadata": {},
   "outputs": [],
   "source": [
    "x_train2.shape, y_train.shape"
   ]
  },
  {
   "cell_type": "code",
   "execution_count": null,
   "id": "1051a4a4",
   "metadata": {},
   "outputs": [],
   "source": [
    "# convert the test data too to 2D array, as model.predict() also takes 2D array as input\n",
    "nsample, nx, ny, nrgb=  x_test.shape\n",
    "\n",
    "#convert 4D array to 2D\n",
    "x_test2= x_test.reshape((nsample, nx*ny*nrgb))"
   ]
  },
  {
   "cell_type": "code",
   "execution_count": null,
   "id": "2c185011",
   "metadata": {},
   "outputs": [],
   "source": [
    "x_test2.shape, y_test.shape"
   ]
  },
  {
   "cell_type": "code",
   "execution_count": null,
   "id": "22e66549",
   "metadata": {},
   "outputs": [],
   "source": [
    "# Create list to store all the accuracy results of the model\n",
    "\n",
    "result= []"
   ]
  },
  {
   "cell_type": "markdown",
   "id": "67ba5e64",
   "metadata": {},
   "source": [
    "## Implementing Random Forest Classifier"
   ]
  },
  {
   "cell_type": "code",
   "execution_count": null,
   "id": "c91f2940",
   "metadata": {},
   "outputs": [],
   "source": [
    "# import the model\n",
    "from sklearn.ensemble import RandomForestClassifier"
   ]
  },
  {
   "cell_type": "code",
   "execution_count": null,
   "id": "650132a7",
   "metadata": {},
   "outputs": [],
   "source": [
    "# create instance of the model\n",
    "rf_model= RandomForestClassifier()"
   ]
  },
  {
   "cell_type": "code",
   "execution_count": null,
   "id": "27c373bc",
   "metadata": {},
   "outputs": [],
   "source": [
    "# Train the model\n",
    "rf_model.fit(x_train2, y_train)"
   ]
  },
  {
   "cell_type": "code",
   "execution_count": null,
   "id": "99dd3cb8",
   "metadata": {},
   "outputs": [],
   "source": [
    "#Predict the model\n",
    "\n",
    "y_pred= rf_model.predict(x_test2)"
   ]
  },
  {
   "cell_type": "code",
   "execution_count": null,
   "id": "a7222e2f",
   "metadata": {},
   "outputs": [],
   "source": [
    "y_pred"
   ]
  },
  {
   "cell_type": "raw",
   "id": "f2603f6a",
   "metadata": {},
   "source": [
    "# We got the prediction in the range 0-9, which shows the classification of the data. We can map it prediction using below table\n",
    "\n",
    "\n",
    "\n",
    "                Output            Class               \n",
    "\n",
    "\t\n",
    "\n",
    "                Airplane             0\n",
    "\n",
    "\t\n",
    "\n",
    "                Automobile           1\n",
    "\n",
    "\t\n",
    "\n",
    "                Bird                 2\n",
    "\n",
    "\t\n",
    "\n",
    "                Cat                  3\n",
    "\n",
    "\t\n",
    "\n",
    "                Deer                 4\n",
    "\n",
    "\t\n",
    "\n",
    "                Dog                  5\n",
    "\n",
    "\t\n",
    "\n",
    "                Frog                 6\n",
    "\n",
    "\t\n",
    "\n",
    "                Horse                7\n",
    "\n",
    "\t\n",
    "\n",
    "                Ship                8\n",
    "\n",
    "\t\n",
    "\n",
    "                Truck               9"
   ]
  },
  {
   "cell_type": "markdown",
   "id": "7c14fbb6",
   "metadata": {},
   "source": [
    "### Model Evaluation"
   ]
  },
  {
   "cell_type": "code",
   "execution_count": null,
   "id": "cb433eb9",
   "metadata": {},
   "outputs": [],
   "source": [
    "rf_acc= accuracy_score(y_pred, y_test)\n",
    "rf_acc"
   ]
  },
  {
   "cell_type": "code",
   "execution_count": null,
   "id": "80f09185",
   "metadata": {},
   "outputs": [],
   "source": [
    "print(classification_report(y_pred, y_test))"
   ]
  },
  {
   "cell_type": "code",
   "execution_count": null,
   "id": "ded59c5e",
   "metadata": {},
   "outputs": [],
   "source": [
    "confusion_matrix(y_pred, y_test)"
   ]
  },
  {
   "cell_type": "code",
   "execution_count": null,
   "id": "be01a8f0",
   "metadata": {},
   "outputs": [],
   "source": [
    "result.append(round((rf_acc*100),2))"
   ]
  },
  {
   "cell_type": "raw",
   "id": "b4ef88f6",
   "metadata": {},
   "source": [
    "Conclusion:\n",
    "\n",
    "Random Forest classifier gives 47% accuracy, which is kind of low"
   ]
  },
  {
   "cell_type": "markdown",
   "id": "fecdf16a",
   "metadata": {},
   "source": [
    "### Implementing KNN"
   ]
  },
  {
   "cell_type": "code",
   "execution_count": null,
   "id": "83486021",
   "metadata": {},
   "outputs": [],
   "source": [
    "# Load the class\n",
    "\n",
    "from sklearn.neighbors import KNeighborsClassifier"
   ]
  },
  {
   "cell_type": "code",
   "execution_count": null,
   "id": "54bad6ac",
   "metadata": {},
   "outputs": [],
   "source": [
    "# create instance of a model\n",
    "\n",
    "model= KNeighborsClassifier(n_neighbors= 7)            # neighbour= 7 is chosen randomly"
   ]
  },
  {
   "cell_type": "code",
   "execution_count": null,
   "id": "17ccaeca",
   "metadata": {},
   "outputs": [],
   "source": [
    "# train the model\n",
    "\n",
    "model.fit(x_train2, y_train)"
   ]
  },
  {
   "cell_type": "code",
   "execution_count": null,
   "id": "4221d796",
   "metadata": {},
   "outputs": [],
   "source": [
    "# predict the data\n",
    "\n",
    "y_pred= model.predict(x_test2)"
   ]
  },
  {
   "cell_type": "code",
   "execution_count": null,
   "id": "268ff829",
   "metadata": {},
   "outputs": [],
   "source": [
    "# Evaluate the model prediction\n",
    "\n",
    "knn_acc= accuracy_score(y_pred, y_test)\n",
    "knn_acc"
   ]
  },
  {
   "cell_type": "code",
   "execution_count": null,
   "id": "fdb6da40",
   "metadata": {},
   "outputs": [],
   "source": [
    "print(classification_report(y_pred, y_test))"
   ]
  },
  {
   "cell_type": "code",
   "execution_count": null,
   "id": "dc850e01",
   "metadata": {},
   "outputs": [],
   "source": [
    "confusion_matrix(y_pred, y_test)"
   ]
  },
  {
   "cell_type": "code",
   "execution_count": null,
   "id": "bd042e7d",
   "metadata": {},
   "outputs": [],
   "source": [
    "result.append(round((knn_acc*100),2))"
   ]
  },
  {
   "cell_type": "raw",
   "id": "e80ed9f0",
   "metadata": {},
   "source": [
    "# Conclusion:\n",
    "\n",
    "KNN gives lower accuracy then that of RandomForest i.e 34%"
   ]
  },
  {
   "cell_type": "markdown",
   "id": "d1bf61cd",
   "metadata": {},
   "source": [
    "### Implementing Decision Tree"
   ]
  },
  {
   "cell_type": "code",
   "execution_count": null,
   "id": "e61706fb",
   "metadata": {},
   "outputs": [],
   "source": [
    "# Load model\n",
    "from sklearn.tree import DecisionTreeClassifier"
   ]
  },
  {
   "cell_type": "code",
   "execution_count": null,
   "id": "6a7c63c0",
   "metadata": {},
   "outputs": [],
   "source": [
    "# create instance of the DecisionTree\n",
    "\n",
    "model= DecisionTreeClassifier()"
   ]
  },
  {
   "cell_type": "code",
   "execution_count": null,
   "id": "ac39a4b4",
   "metadata": {},
   "outputs": [],
   "source": [
    "# train the model\n",
    "\n",
    "model.fit(x_train2, y_train)"
   ]
  },
  {
   "cell_type": "code",
   "execution_count": null,
   "id": "3df2471c",
   "metadata": {},
   "outputs": [],
   "source": [
    "# predict the test data\n",
    "\n",
    "y_pred= model.predict(x_test2)"
   ]
  },
  {
   "cell_type": "code",
   "execution_count": null,
   "id": "94b8818b",
   "metadata": {},
   "outputs": [],
   "source": [
    "# Find the accuracy\n",
    "\n",
    "dc_acc= accuracy_score(y_pred, y_test)\n",
    "dc_acc"
   ]
  },
  {
   "cell_type": "code",
   "execution_count": null,
   "id": "bb3e1e38",
   "metadata": {},
   "outputs": [],
   "source": [
    "print(classification_report(y_pred, y_test))"
   ]
  },
  {
   "cell_type": "code",
   "execution_count": null,
   "id": "34c79124",
   "metadata": {},
   "outputs": [],
   "source": [
    "confusion_matrix(y_pred, y_test)"
   ]
  },
  {
   "cell_type": "code",
   "execution_count": null,
   "id": "67bd7744",
   "metadata": {},
   "outputs": [],
   "source": [
    "result.append(round((dc_acc*100),2))"
   ]
  },
  {
   "cell_type": "raw",
   "id": "4d54b818",
   "metadata": {},
   "source": [
    "# Conclusion:\n",
    "\n",
    "As we can see accuracy of Decission tree classifier is lower than Random Forest and KNN i.e 27%"
   ]
  },
  {
   "cell_type": "markdown",
   "id": "75628f15",
   "metadata": {},
   "source": [
    "### Implement Naive Bayes "
   ]
  },
  {
   "cell_type": "code",
   "execution_count": null,
   "id": "9647a1f4",
   "metadata": {},
   "outputs": [],
   "source": [
    "# Load module\n",
    "from sklearn.naive_bayes import GaussianNB\n"
   ]
  },
  {
   "cell_type": "code",
   "execution_count": null,
   "id": "b77727b9",
   "metadata": {},
   "outputs": [],
   "source": [
    "# create instance of the model\n",
    "model= GaussianNB()"
   ]
  },
  {
   "cell_type": "code",
   "execution_count": null,
   "id": "bad0700e",
   "metadata": {},
   "outputs": [],
   "source": [
    "#train the model\n",
    "\n",
    "model.fit(x_train2, y_train)"
   ]
  },
  {
   "cell_type": "code",
   "execution_count": null,
   "id": "f1b40ed5",
   "metadata": {},
   "outputs": [],
   "source": [
    "# create prediction\n",
    "\n",
    "y_pred= model.predict(x_test2)"
   ]
  },
  {
   "cell_type": "code",
   "execution_count": null,
   "id": "48cc4e7a",
   "metadata": {},
   "outputs": [],
   "source": [
    "# Evaluate the prediction\n",
    "\n",
    "nb_acc= accuracy_score(y_pred, y_test)\n",
    "nb_acc"
   ]
  },
  {
   "cell_type": "code",
   "execution_count": null,
   "id": "73f1d732",
   "metadata": {},
   "outputs": [],
   "source": [
    "print(classification_report(y_pred, y_test))"
   ]
  },
  {
   "cell_type": "code",
   "execution_count": null,
   "id": "3337710f",
   "metadata": {},
   "outputs": [],
   "source": [
    "confusion_matrix(y_pred, y_test)"
   ]
  },
  {
   "cell_type": "code",
   "execution_count": null,
   "id": "7396f8cd",
   "metadata": {},
   "outputs": [],
   "source": [
    "result.append(round((nb_acc*100),2))"
   ]
  },
  {
   "cell_type": "raw",
   "id": "b95e1151",
   "metadata": {},
   "source": [
    "# Conclusion:\n",
    "\n",
    "Naive Bayes prediction is having accuracy 30% which is a bit better then the Decission tress, but its still lesser then RF and KNN"
   ]
  },
  {
   "cell_type": "code",
   "execution_count": null,
   "id": "07c4f281",
   "metadata": {},
   "outputs": [],
   "source": [
    "result"
   ]
  },
  {
   "cell_type": "code",
   "execution_count": null,
   "id": "3467175d",
   "metadata": {},
   "outputs": [],
   "source": [
    "names=['RF', 'KNN', 'DT', 'NB']"
   ]
  },
  {
   "cell_type": "code",
   "execution_count": null,
   "id": "d0c8829d",
   "metadata": {},
   "outputs": [],
   "source": [
    "plt.bar(names, result)\n",
    "plt.title('Performance Comaprision')\n",
    "plt.xlabel('Model')\n",
    "plt.ylabel('Accuracy')"
   ]
  },
  {
   "cell_type": "raw",
   "id": "cbc7db60",
   "metadata": {},
   "source": [
    "# Random Forest Classifier shows the best performance with 47% accuracy followed by KNN with 34% accuracy, NB with 30% accuracy, and Decision Tree with 27% accuracy. Thus, Random Forest exhibits the best performance and Decision Tree the worst."
   ]
  },
  {
   "cell_type": "markdown",
   "id": "727411d3",
   "metadata": {},
   "source": [
    "### Testing Custom Input"
   ]
  },
  {
   "cell_type": "code",
   "execution_count": null,
   "id": "f4d08aff",
   "metadata": {},
   "outputs": [],
   "source": [
    "img_path= r'1200.jpg'"
   ]
  },
  {
   "cell_type": "code",
   "execution_count": null,
   "id": "f2e09ade",
   "metadata": {},
   "outputs": [],
   "source": [
    "# read the image using OpenCV and then resize it to 32×32.\n",
    "img_arr= cv2.imread(img_path)\n",
    "img_arr= cv2.resize(img_arr,(32,32))"
   ]
  },
  {
   "cell_type": "code",
   "execution_count": null,
   "id": "c4190207",
   "metadata": {},
   "outputs": [],
   "source": [
    "img_arr.shape"
   ]
  },
  {
   "cell_type": "code",
   "execution_count": null,
   "id": "2c51d8da",
   "metadata": {},
   "outputs": [],
   "source": [
    "# reshape the image to 2D arr\n",
    "\n",
    "nx, ny, nrgb=  img_arr.shape\n",
    "img_arr_resize= img_arr.reshape(1,(nx*ny*nrgb))"
   ]
  },
  {
   "cell_type": "code",
   "execution_count": null,
   "id": "05083888",
   "metadata": {},
   "outputs": [],
   "source": [
    "img_arr_resize.shape"
   ]
  },
  {
   "cell_type": "code",
   "execution_count": null,
   "id": "e3498080",
   "metadata": {},
   "outputs": [],
   "source": [
    "# lets declare a list called classes\n",
    "classes = [\"airplane\",\"automobile\",\"bird\",\"cat\",\"deer\",\"dog\",\"frog\",\"horse\",\"ship\",\"truck\"]"
   ]
  },
  {
   "cell_type": "code",
   "execution_count": null,
   "id": "ee94e25a",
   "metadata": {},
   "outputs": [],
   "source": [
    "# pass the required array to the Random forest classifier using the predict() function.\n",
    "\n",
    "ans= rf_model.predict(img_arr_resize)\n",
    "print(classes[ans[0]])"
   ]
  },
  {
   "cell_type": "code",
   "execution_count": null,
   "id": "291b0b8d",
   "metadata": {},
   "outputs": [],
   "source": [
    "ans"
   ]
  },
  {
   "cell_type": "raw",
   "id": "574d7540",
   "metadata": {},
   "source": [
    "# Conclusion:\n",
    "\n",
    "The model predicts it to be a bird which is right! But, it predicts incorrectly for a few test images. The drawback can be overcome by building a CNN or ANN model instead."
   ]
  },
  {
   "cell_type": "code",
   "execution_count": null,
   "id": "2fa87810",
   "metadata": {},
   "outputs": [],
   "source": []
  },
  {
   "cell_type": "code",
   "execution_count": null,
   "id": "130bc52c",
   "metadata": {},
   "outputs": [],
   "source": []
  }
 ],
 "metadata": {
  "kernelspec": {
   "display_name": "Python 3 (ipykernel)",
   "language": "python",
   "name": "python3"
  },
  "language_info": {
   "codemirror_mode": {
    "name": "ipython",
    "version": 3
   },
   "file_extension": ".py",
   "mimetype": "text/x-python",
   "name": "python",
   "nbconvert_exporter": "python",
   "pygments_lexer": "ipython3",
   "version": "3.11.5"
  }
 },
 "nbformat": 4,
 "nbformat_minor": 5
}
