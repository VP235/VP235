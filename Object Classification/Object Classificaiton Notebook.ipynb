{
 "cells": [
  {
   "cell_type": "code",
   "execution_count": 64,
   "id": "b75b0161",
   "metadata": {},
   "outputs": [],
   "source": [
    "import cv2\n",
    "import pandas as pd\n",
    "import matplotlib.pyplot as plt\n",
    "import numpy as np\n",
    "\n",
    "import tensorflow as tf\n",
    "import tensorflow.keras as keras\n",
    "from keras.layers import Dense, Layer, Input\n",
    "\n",
    "from sklearn.metrics import accuracy_score, precision_score, recall_score, confusion_matrix, classification_report\n",
    "from sklearn.model_selection import KFold, GridSearchCV, RandomizedSearchCV\n",
    "from sklearn.neighbors import KNeighborsClassifier\n",
    "from sklearn.ensemble import RandomForestClassifier\n",
    "from sklearn.svm import SVC\n",
    "from sklearn.naive_bayes import GaussianNB\n",
    "from sklearn.tree import DecisionTreeClassifier"
   ]
  },
  {
   "cell_type": "code",
   "execution_count": 33,
   "id": "33b74cd1",
   "metadata": {},
   "outputs": [],
   "source": [
    "# load the fashion- MNIST data\n",
    "\n",
    "(X_train, y_train),(X_test, y_test) = keras.datasets.fashion_mnist.load_data()"
   ]
  },
  {
   "cell_type": "code",
   "execution_count": 34,
   "id": "5d56f586",
   "metadata": {},
   "outputs": [
    {
     "data": {
      "text/plain": [
       "((60000, 28, 28), (60000,), (10000, 28, 28), (10000,))"
      ]
     },
     "execution_count": 34,
     "metadata": {},
     "output_type": "execute_result"
    }
   ],
   "source": [
    "X_train.shape, y_train.shape, X_test.shape, y_test.shape"
   ]
  },
  {
   "cell_type": "code",
   "execution_count": 35,
   "id": "b21e1e37",
   "metadata": {},
   "outputs": [
    {
     "data": {
      "text/plain": [
       "<matplotlib.image.AxesImage at 0x20e8705d790>"
      ]
     },
     "execution_count": 35,
     "metadata": {},
     "output_type": "execute_result"
    },
    {
     "data": {
      "image/png": "[encoded data removed]",
      "text/plain": [
       "<Figure size 200x200 with 1 Axes>"
      ]
     },
     "metadata": {},
     "output_type": "display_data"
    }
   ],
   "source": [
    "plt.figure(figsize= (2,2))\n",
    "plt.imshow(X_train[0], cmap='gray')"
   ]
  },
  {
   "cell_type": "markdown",
   "id": "7c089e10",
   "metadata": {},
   "source": [
    "## Data Prepocessing"
   ]
  },
  {
   "cell_type": "code",
   "execution_count": 36,
   "id": "42d893db",
   "metadata": {},
   "outputs": [],
   "source": [
    "## Normalize the data\n",
    "\n",
    "X_train, X_test= X_train/255, X_test/255"
   ]
  },
  {
   "cell_type": "code",
   "execution_count": 37,
   "id": "8472d6c6",
   "metadata": {},
   "outputs": [],
   "source": [
    "# X_train[0]"
   ]
  },
  {
   "cell_type": "code",
   "execution_count": 38,
   "id": "66c6ed94",
   "metadata": {},
   "outputs": [],
   "source": [
    "# Now as our data is in 3D format, we need to rescale it from 3D images to 2D images. So, that we can use it for ML models"
   ]
  },
  {
   "cell_type": "code",
   "execution_count": 39,
   "id": "7101d271",
   "metadata": {},
   "outputs": [],
   "source": [
    "# rescaling data from 3D to 2D\n",
    "\n",
    "X_train_reshape= X_train.reshape((X_train.shape[0], X_train.shape[1]*X_train.shape[2]))\n",
    "X_test_reshape= X_test.reshape((X_test.shape[0], X_test.shape[1]*X_test.shape[2]))"
   ]
  },
  {
   "cell_type": "code",
   "execution_count": 40,
   "id": "821ebcc7",
   "metadata": {},
   "outputs": [
    {
     "data": {
      "text/plain": [
       "((60000, 784), (10000, 784))"
      ]
     },
     "execution_count": 40,
     "metadata": {},
     "output_type": "execute_result"
    }
   ],
   "source": [
    "X_train_reshape.shape, X_test_reshape.shape"
   ]
  },
  {
   "cell_type": "code",
   "execution_count": 55,
   "id": "b8494e76",
   "metadata": {},
   "outputs": [],
   "source": [
    "# Create a empty list to store all the results from all the models\n",
    "result = {}"
   ]
  },
  {
   "cell_type": "markdown",
   "id": "08353621",
   "metadata": {},
   "source": [
    "## Logistic Regression"
   ]
  },
  {
   "cell_type": "code",
   "execution_count": null,
   "id": "b9487820",
   "metadata": {},
   "outputs": [],
   "source": [
    "from sklearn.linear_model import LogisticRegression\n",
    "from sklearn.model_selection import cross_val_score\n",
    "\n",
    "k_fold= KFold(n_splits= 10, shuffle= True, random_state= 7)\n",
    "model =LogisticRegression()\n",
    "model.fit(X_train_reshape, y_train)\n",
    "# cv_result= cross_val_score(model, X_train_reshape, y_train, cv= k_fold, scoring= 'accuracy')"
   ]
  },
  {
   "cell_type": "code",
   "execution_count": null,
   "id": "476cdb88",
   "metadata": {},
   "outputs": [],
   "source": [
    "pred_y= model.predict(X_test_reshape)"
   ]
  },
  {
   "cell_type": "code",
   "execution_count": null,
   "id": "976ae5e2",
   "metadata": {},
   "outputs": [],
   "source": [
    "# Evaluate the model\n",
    "\n",
    "acc_log= accuracy_score(y_test, pred_y)\n",
    "\n",
    "# append in result\n",
    "result['Logistic_Regression']= np.round(acc_log*100, 2)\n",
    "acc_log"
   ]
  },
  {
   "cell_type": "markdown",
   "id": "d3926770",
   "metadata": {},
   "source": [
    "## Random Forest Classifier:\n",
    "\n",
    "Random Forest Classifier is used for classification tasks, where the target variable is categorical or consists of discrete class labels.\n",
    "\n",
    "It builds a forest of decision trees, each trained on a random subset of the training data and features.\n",
    "\n",
    "During prediction, the class label with the most votes (mode) from all the trees in the forest is assigned as the predicted class for the input sample.\n",
    "\n",
    "Random Forest Classifier is effective for tasks such as image recognition, spam detection, and sentiment analysis."
   ]
  },
  {
   "cell_type": "code",
   "execution_count": 42,
   "id": "73d3bb3a",
   "metadata": {},
   "outputs": [],
   "source": [
    "from sklearn.ensemble import RandomForestClassifier\n",
    "\n",
    "# define the model\n",
    "model_rf= RandomForestClassifier()\n",
    "\n",
    "# fit the model\n",
    "model_rf_fit= model_rf.fit(X_train_reshape, y_train)\n"
   ]
  },
  {
   "cell_type": "code",
   "execution_count": 44,
   "id": "69bed0e4",
   "metadata": {},
   "outputs": [],
   "source": [
    "# predict the model\n",
    "pred_rf= model_rf_fit.predict(X_test_reshape)"
   ]
  },
  {
   "cell_type": "code",
   "execution_count": 58,
   "id": "72cb1c48",
   "metadata": {},
   "outputs": [
    {
     "data": {
      "text/plain": [
       "0.8769"
      ]
     },
     "execution_count": 58,
     "metadata": {},
     "output_type": "execute_result"
    }
   ],
   "source": [
    "# Evaluate the model\n",
    "\n",
    "acc_rf= accuracy_score(y_test, pred_rf)\n",
    "\n",
    "# append in result\n",
    "result['RandaomForest']= np.round(acc_rf*100, 2)\n",
    "acc_rf"
   ]
  },
  {
   "cell_type": "code",
   "execution_count": 54,
   "id": "f9dd83cb",
   "metadata": {},
   "outputs": [
    {
     "name": "stdout",
     "output_type": "stream",
     "text": [
      "              precision    recall  f1-score   support\n",
      "\n",
      "           0       0.82      0.86      0.84      1000\n",
      "           1       0.99      0.97      0.98      1000\n",
      "           2       0.77      0.79      0.78      1000\n",
      "           3       0.88      0.91      0.89      1000\n",
      "           4       0.76      0.83      0.80      1000\n",
      "           5       0.97      0.96      0.97      1000\n",
      "           6       0.72      0.58      0.64      1000\n",
      "           7       0.93      0.95      0.94      1000\n",
      "           8       0.96      0.97      0.97      1000\n",
      "           9       0.96      0.95      0.95      1000\n",
      "\n",
      "    accuracy                           0.88     10000\n",
      "   macro avg       0.88      0.88      0.88     10000\n",
      "weighted avg       0.88      0.88      0.88     10000\n",
      "\n"
     ]
    }
   ],
   "source": [
    "# plot classification report\n",
    "print(classification_report(y_test, pred_rf))"
   ]
  },
  {
   "cell_type": "code",
   "execution_count": 52,
   "id": "46ff787d",
   "metadata": {},
   "outputs": [
    {
     "data": {
      "text/plain": [
       "<Axes: >"
      ]
     },
     "execution_count": 52,
     "metadata": {},
     "output_type": "execute_result"
    },
    {
     "data": {
      "image/png": "[encoded data removed]",
      "text/plain": [
       "<Figure size 1000x500 with 2 Axes>"
      ]
     },
     "metadata": {},
     "output_type": "display_data"
    }
   ],
   "source": [
    "# plot confussion matrix\n",
    "import seaborn as sns\n",
    "\n",
    "plt.figure(figsize=(10,5))\n",
    "sns.heatmap(confusion_matrix(y_test, pred_rf), annot= True)"
   ]
  },
  {
   "cell_type": "raw",
   "id": "0597a914",
   "metadata": {},
   "source": [
    "# Conclusion :\n",
    "\n",
    "Random Forest is showing quite a good accuracy of 87%"
   ]
  },
  {
   "cell_type": "markdown",
   "id": "ba45c787",
   "metadata": {},
   "source": [
    "### KNN Implementation\n",
    "\n",
    "K-Nearest Neighbors (KNN) is a simple yet powerful supervised machine learning algorithm used for both classification and regression tasks. It is a non-parametric and instance-based learning algorithm, meaning it makes predictions based on the similarity (or distance) between a new data point and existing labeled data points in the feature space."
   ]
  },
  {
   "cell_type": "code",
   "execution_count": 80,
   "id": "68839f30",
   "metadata": {},
   "outputs": [],
   "source": [
    "from sklearn.preprocessing import StandardScaler\n",
    "# Search the best K value for KNN\n",
    "scaler = StandardScaler().fit(X_train_reshape)\n",
    "rescaledX = scaler.transform(X_train_reshape)\n",
    "\n",
    "# create n odd neighbors\n",
    "n_knn= [1, 3, 5, 7, 9, 11, 13, 15, 17, 19, 21]\n",
    "param_grid= dict(n_neighbors= n_knn)\n",
    "\n",
    "model_knn= KNeighborsClassifier()\n",
    "\n",
    "k_fold= KFold(n_splits= 10, random_state= 7, shuffle= True)\n",
    "\n",
    "grid= GridSearchCV(estimator= model_knn, param_grid= param_grid, scoring='accuracy', cv= k_fold)\n",
    "grid_result= grid.fit(X= rescaledX, y= y_train)"
   ]
  },
  {
   "cell_type": "code",
   "execution_count": 69,
   "id": "9d1ce532",
   "metadata": {},
   "outputs": [
    {
     "data": {
      "text/html": [
       "<style>#sk-container-id-1 {color: black;}#sk-container-id-1 pre{padding: 0;}#sk-container-id-1 div.sk-toggleable {background-color: white;}#sk-container-id-1 label.sk-toggleable__label {cursor: pointer;display: block;width: 100%;margin-bottom: 0;padding: 0.3em;box-sizing: border-box;text-align: center;}#sk-container-id-1 label.sk-toggleable__label-arrow:before {content: \"▸\";float: left;margin-right: 0.25em;color: #696969;}#sk-container-id-1 label.sk-toggleable__label-arrow:hover:before {color: black;}#sk-container-id-1 div.sk-estimator:hover label.sk-toggleable__label-arrow:before {color: black;}#sk-container-id-1 div.sk-toggleable__content {max-height: 0;max-width: 0;overflow: hidden;text-align: left;background-color: #f0f8ff;}#sk-container-id-1 div.sk-toggleable__content pre {margin: 0.2em;color: black;border-radius: 0.25em;background-color: #f0f8ff;}#sk-container-id-1 input.sk-toggleable__control:checked~div.sk-toggleable__content {max-height: 200px;max-width: 100%;overflow: auto;}#sk-container-id-1 input.sk-toggleable__control:checked~label.sk-toggleable__label-arrow:before {content: \"▾\";}#sk-container-id-1 div.sk-estimator input.sk-toggleable__control:checked~label.sk-toggleable__label {background-color: #d4ebff;}#sk-container-id-1 div.sk-label input.sk-toggleable__control:checked~label.sk-toggleable__label {background-color: #d4ebff;}#sk-container-id-1 input.sk-hidden--visually {border: 0;clip: rect(1px 1px 1px 1px);clip: rect(1px, 1px, 1px, 1px);height: 1px;margin: -1px;overflow: hidden;padding: 0;position: absolute;width: 1px;}#sk-container-id-1 div.sk-estimator {font-family: monospace;background-color: #f0f8ff;border: 1px dotted black;border-radius: 0.25em;box-sizing: border-box;margin-bottom: 0.5em;}#sk-container-id-1 div.sk-estimator:hover {background-color: #d4ebff;}#sk-container-id-1 div.sk-parallel-item::after {content: \"\";width: 100%;border-bottom: 1px solid gray;flex-grow: 1;}#sk-container-id-1 div.sk-label:hover label.sk-toggleable__label {background-color: #d4ebff;}#sk-container-id-1 div.sk-serial::before {content: \"\";position: absolute;border-left: 1px solid gray;box-sizing: border-box;top: 0;bottom: 0;left: 50%;z-index: 0;}#sk-container-id-1 div.sk-serial {display: flex;flex-direction: column;align-items: center;background-color: white;padding-right: 0.2em;padding-left: 0.2em;position: relative;}#sk-container-id-1 div.sk-item {position: relative;z-index: 1;}#sk-container-id-1 div.sk-parallel {display: flex;align-items: stretch;justify-content: center;background-color: white;position: relative;}#sk-container-id-1 div.sk-item::before, #sk-container-id-1 div.sk-parallel-item::before {content: \"\";position: absolute;border-left: 1px solid gray;box-sizing: border-box;top: 0;bottom: 0;left: 50%;z-index: -1;}#sk-container-id-1 div.sk-parallel-item {display: flex;flex-direction: column;z-index: 1;position: relative;background-color: white;}#sk-container-id-1 div.sk-parallel-item:first-child::after {align-self: flex-end;width: 50%;}#sk-container-id-1 div.sk-parallel-item:last-child::after {align-self: flex-start;width: 50%;}#sk-container-id-1 div.sk-parallel-item:only-child::after {width: 0;}#sk-container-id-1 div.sk-dashed-wrapped {border: 1px dashed gray;margin: 0 0.4em 0.5em 0.4em;box-sizing: border-box;padding-bottom: 0.4em;background-color: white;}#sk-container-id-1 div.sk-label label {font-family: monospace;font-weight: bold;display: inline-block;line-height: 1.2em;}#sk-container-id-1 div.sk-label-container {text-align: center;}#sk-container-id-1 div.sk-container {/* jupyter's `normalize.less` sets `[hidden] { display: none; }` but bootstrap.min.css set `[hidden] { display: none !important; }` so we also need the `!important` here to be able to override the default hidden behavior on the sphinx rendered scikit-learn.org. See: https://github.com/scikit-learn/scikit-learn/issues/21755 */display: inline-block !important;position: relative;}#sk-container-id-1 div.sk-text-repr-fallback {display: none;}</style><div id=\"sk-container-id-1\" class=\"sk-top-container\"><div class=\"sk-text-repr-fallback\"><pre>GridSearchCV(cv=KFold(n_splits=10, random_state=7, shuffle=True),\n",
       "             estimator=KNeighborsClassifier(),\n",
       "             param_grid={&#x27;n_neig&#x27;: [1, 3, 5, 7, 9, 11, 13, 15, 17, 19, 21]},\n",
       "             scoring=&#x27;accuracy&#x27;)</pre><b>In a Jupyter environment, please rerun this cell to show the HTML representation or trust the notebook. <br />On GitHub, the HTML representation is unable to render, please try loading this page with nbviewer.org.</b></div><div class=\"sk-container\" hidden><div class=\"sk-item sk-dashed-wrapped\"><div class=\"sk-label-container\"><div class=\"sk-label sk-toggleable\"><input class=\"sk-toggleable__control sk-hidden--visually\" id=\"sk-estimator-id-1\" type=\"checkbox\" ><label for=\"sk-estimator-id-1\" class=\"sk-toggleable__label sk-toggleable__label-arrow\">GridSearchCV</label><div class=\"sk-toggleable__content\"><pre>GridSearchCV(cv=KFold(n_splits=10, random_state=7, shuffle=True),\n",
       "             estimator=KNeighborsClassifier(),\n",
       "             param_grid={&#x27;n_neig&#x27;: [1, 3, 5, 7, 9, 11, 13, 15, 17, 19, 21]},\n",
       "             scoring=&#x27;accuracy&#x27;)</pre></div></div></div><div class=\"sk-parallel\"><div class=\"sk-parallel-item\"><div class=\"sk-item\"><div class=\"sk-label-container\"><div class=\"sk-label sk-toggleable\"><input class=\"sk-toggleable__control sk-hidden--visually\" id=\"sk-estimator-id-2\" type=\"checkbox\" ><label for=\"sk-estimator-id-2\" class=\"sk-toggleable__label sk-toggleable__label-arrow\">estimator: KNeighborsClassifier</label><div class=\"sk-toggleable__content\"><pre>KNeighborsClassifier()</pre></div></div></div><div class=\"sk-serial\"><div class=\"sk-item\"><div class=\"sk-estimator sk-toggleable\"><input class=\"sk-toggleable__control sk-hidden--visually\" id=\"sk-estimator-id-3\" type=\"checkbox\" ><label for=\"sk-estimator-id-3\" class=\"sk-toggleable__label sk-toggleable__label-arrow\">KNeighborsClassifier</label><div class=\"sk-toggleable__content\"><pre>KNeighborsClassifier()</pre></div></div></div></div></div></div></div></div></div></div>"
      ],
      "text/plain": [
       "GridSearchCV(cv=KFold(n_splits=10, random_state=7, shuffle=True),\n",
       "             estimator=KNeighborsClassifier(),\n",
       "             param_grid={'n_neig': [1, 3, 5, 7, 9, 11, 13, 15, 17, 19, 21]},\n",
       "             scoring='accuracy')"
      ]
     },
     "execution_count": 69,
     "metadata": {},
     "output_type": "execute_result"
    }
   ],
   "source": [
    "grid"
   ]
  },
  {
   "cell_type": "code",
   "execution_count": 81,
   "id": "b130202b",
   "metadata": {},
   "outputs": [
    {
     "name": "stdout",
     "output_type": "stream",
     "text": [
      "Best: 0.8570833333333333 using {'n_neighbors': 5}\n",
      "0.8505333333333333, 0.003839704849768181 with {'n_neighbors': 1}\n",
      "0.8554333333333334, 0.004314188477827809 with {'n_neighbors': 3}\n",
      "0.8570833333333333, 0.0035747960314774243 with {'n_neighbors': 5}\n",
      "0.8567166666666666, 0.003835542841487873 with {'n_neighbors': 7}\n",
      "0.8552166666666666, 0.003311637728442597 with {'n_neighbors': 9}\n",
      "0.8532666666666667, 0.0036095552203684127 with {'n_neighbors': 11}\n",
      "0.8511166666666666, 0.003908715333144057 with {'n_neighbors': 13}\n",
      "0.8498833333333333, 0.004291496760390769 with {'n_neighbors': 15}\n",
      "0.8476666666666667, 0.004763868642652161 with {'n_neighbors': 17}\n",
      "0.8465833333333332, 0.004909882324908039 with {'n_neighbors': 19}\n",
      "0.8458666666666665, 0.004558142896692313 with {'n_neighbors': 21}\n"
     ]
    }
   ],
   "source": [
    "print(f'Best: {grid_result.best_score_} using {grid_result.best_params_}')\n",
    "means= grid_result.cv_results_['mean_test_score']\n",
    "param= grid_result.cv_results_['params']\n",
    "std= grid_result.cv_results_['std_test_score']\n",
    "\n",
    "for mean, std, param in zip(means, std, param):\n",
    "    print(f'{mean}, {std} with {param}')"
   ]
  },
  {
   "cell_type": "code",
   "execution_count": 86,
   "id": "ae7528e4",
   "metadata": {},
   "outputs": [],
   "source": [
    "# so we will go with k= 5\n",
    "\n",
    "# define the model\n",
    "model_knn= KNeighborsClassifier(n_neighbors=  5)\n",
    "\n",
    "# fit the model\n",
    "model_knn_fit= model_knn.fit(X_train_reshape, y_train)\n",
    "\n",
    "#predict the test data\n",
    "pred_knn= model_knn_fit.predict(X_test_reshape)"
   ]
  },
  {
   "cell_type": "code",
   "execution_count": 89,
   "id": "c82377b8",
   "metadata": {},
   "outputs": [
    {
     "data": {
      "text/plain": [
       "0.8554"
      ]
     },
     "execution_count": 89,
     "metadata": {},
     "output_type": "execute_result"
    }
   ],
   "source": [
    "# evaluate accuracy\n",
    "\n",
    "acc= accuracy_score(y_test, pred_knn)\n",
    "result['Knn']= np.round(acc*100, 2)\n",
    "acc"
   ]
  },
  {
   "cell_type": "code",
   "execution_count": 88,
   "id": "8e51b761",
   "metadata": {},
   "outputs": [
    {
     "name": "stdout",
     "output_type": "stream",
     "text": [
      "              precision    recall  f1-score   support\n",
      "\n",
      "           0       0.77      0.85      0.81      1000\n",
      "           1       0.99      0.97      0.98      1000\n",
      "           2       0.73      0.82      0.77      1000\n",
      "           3       0.90      0.86      0.88      1000\n",
      "           4       0.79      0.77      0.78      1000\n",
      "           5       0.99      0.82      0.90      1000\n",
      "           6       0.66      0.57      0.61      1000\n",
      "           7       0.88      0.96      0.92      1000\n",
      "           8       0.97      0.95      0.96      1000\n",
      "           9       0.90      0.97      0.93      1000\n",
      "\n",
      "    accuracy                           0.86     10000\n",
      "   macro avg       0.86      0.86      0.85     10000\n",
      "weighted avg       0.86      0.86      0.85     10000\n",
      "\n"
     ]
    }
   ],
   "source": [
    "# classification report\n",
    "print(classification_report(y_test, pred_knn))"
   ]
  },
  {
   "cell_type": "markdown",
   "id": "45f4e545",
   "metadata": {},
   "source": [
    "## SVM\n",
    "\n",
    "Support Vector Machines (SVMs) are a powerful supervised learning algorithm used for both classification and regression tasks. They are particularly effective for binary classification problems but can also be extended to handle multi-class classification and regression tasks."
   ]
  },
  {
   "cell_type": "code",
   "execution_count": null,
   "id": "e851332c",
   "metadata": {},
   "outputs": [],
   "source": [
    "# lets search the optimal value for C and kernal type using Randomized Search CV\n",
    "\n",
    "c_values= [0.1, 0.3, 0.5, 0.7, 0.9, 1.0, 1.3, 1.5, 1.7, 1.9, 2.1]\n",
    "kernal_values= ['linear', 'poly', 'rbf', 'sigmoid']\n",
    "param_grid= dict(C= c_values, kernel= kernal_values)\n",
    "model= SVC()\n",
    "k_fold= KFold(n_splits= 10, shuffle= True, random_state= 7)\n",
    "grid= RandomizedSearchCV(estimator= model, param_distributions= param_grid, scoring= 'accuracy', cv= k_fold)\n",
    "grid_result= grid.fit(X_train_reshape, y_train)"
   ]
  },
  {
   "cell_type": "code",
   "execution_count": 91,
   "id": "c3d0c706",
   "metadata": {},
   "outputs": [
    {
     "data": {
      "text/html": [
       "<style>#sk-container-id-2 {color: black;}#sk-container-id-2 pre{padding: 0;}#sk-container-id-2 div.sk-toggleable {background-color: white;}#sk-container-id-2 label.sk-toggleable__label {cursor: pointer;display: block;width: 100%;margin-bottom: 0;padding: 0.3em;box-sizing: border-box;text-align: center;}#sk-container-id-2 label.sk-toggleable__label-arrow:before {content: \"▸\";float: left;margin-right: 0.25em;color: #696969;}#sk-container-id-2 label.sk-toggleable__label-arrow:hover:before {color: black;}#sk-container-id-2 div.sk-estimator:hover label.sk-toggleable__label-arrow:before {color: black;}#sk-container-id-2 div.sk-toggleable__content {max-height: 0;max-width: 0;overflow: hidden;text-align: left;background-color: #f0f8ff;}#sk-container-id-2 div.sk-toggleable__content pre {margin: 0.2em;color: black;border-radius: 0.25em;background-color: #f0f8ff;}#sk-container-id-2 input.sk-toggleable__control:checked~div.sk-toggleable__content {max-height: 200px;max-width: 100%;overflow: auto;}#sk-container-id-2 input.sk-toggleable__control:checked~label.sk-toggleable__label-arrow:before {content: \"▾\";}#sk-container-id-2 div.sk-estimator input.sk-toggleable__control:checked~label.sk-toggleable__label {background-color: #d4ebff;}#sk-container-id-2 div.sk-label input.sk-toggleable__control:checked~label.sk-toggleable__label {background-color: #d4ebff;}#sk-container-id-2 input.sk-hidden--visually {border: 0;clip: rect(1px 1px 1px 1px);clip: rect(1px, 1px, 1px, 1px);height: 1px;margin: -1px;overflow: hidden;padding: 0;position: absolute;width: 1px;}#sk-container-id-2 div.sk-estimator {font-family: monospace;background-color: #f0f8ff;border: 1px dotted black;border-radius: 0.25em;box-sizing: border-box;margin-bottom: 0.5em;}#sk-container-id-2 div.sk-estimator:hover {background-color: #d4ebff;}#sk-container-id-2 div.sk-parallel-item::after {content: \"\";width: 100%;border-bottom: 1px solid gray;flex-grow: 1;}#sk-container-id-2 div.sk-label:hover label.sk-toggleable__label {background-color: #d4ebff;}#sk-container-id-2 div.sk-serial::before {content: \"\";position: absolute;border-left: 1px solid gray;box-sizing: border-box;top: 0;bottom: 0;left: 50%;z-index: 0;}#sk-container-id-2 div.sk-serial {display: flex;flex-direction: column;align-items: center;background-color: white;padding-right: 0.2em;padding-left: 0.2em;position: relative;}#sk-container-id-2 div.sk-item {position: relative;z-index: 1;}#sk-container-id-2 div.sk-parallel {display: flex;align-items: stretch;justify-content: center;background-color: white;position: relative;}#sk-container-id-2 div.sk-item::before, #sk-container-id-2 div.sk-parallel-item::before {content: \"\";position: absolute;border-left: 1px solid gray;box-sizing: border-box;top: 0;bottom: 0;left: 50%;z-index: -1;}#sk-container-id-2 div.sk-parallel-item {display: flex;flex-direction: column;z-index: 1;position: relative;background-color: white;}#sk-container-id-2 div.sk-parallel-item:first-child::after {align-self: flex-end;width: 50%;}#sk-container-id-2 div.sk-parallel-item:last-child::after {align-self: flex-start;width: 50%;}#sk-container-id-2 div.sk-parallel-item:only-child::after {width: 0;}#sk-container-id-2 div.sk-dashed-wrapped {border: 1px dashed gray;margin: 0 0.4em 0.5em 0.4em;box-sizing: border-box;padding-bottom: 0.4em;background-color: white;}#sk-container-id-2 div.sk-label label {font-family: monospace;font-weight: bold;display: inline-block;line-height: 1.2em;}#sk-container-id-2 div.sk-label-container {text-align: center;}#sk-container-id-2 div.sk-container {/* jupyter's `normalize.less` sets `[hidden] { display: none; }` but bootstrap.min.css set `[hidden] { display: none !important; }` so we also need the `!important` here to be able to override the default hidden behavior on the sphinx rendered scikit-learn.org. See: https://github.com/scikit-learn/scikit-learn/issues/21755 */display: inline-block !important;position: relative;}#sk-container-id-2 div.sk-text-repr-fallback {display: none;}</style><div id=\"sk-container-id-2\" class=\"sk-top-container\"><div class=\"sk-text-repr-fallback\"><pre>RandomizedSearchCV(cv=KFold(n_splits=10, random_state=7, shuffle=True),\n",
       "                   estimator=SVC(),\n",
       "                   param_distributions={&#x27;C&#x27;: [0.1, 0.3, 0.5, 0.7, 0.9, 1.0, 1.3,\n",
       "                                              1.5, 1.7, 1.9, 2.1],\n",
       "                                        &#x27;kernal&#x27;: [&#x27;linear&#x27;, &#x27;poly&#x27;, &#x27;rbf&#x27;,\n",
       "                                                   &#x27;sigmoid&#x27;]},\n",
       "                   scoring=&#x27;accuracy&#x27;)</pre><b>In a Jupyter environment, please rerun this cell to show the HTML representation or trust the notebook. <br />On GitHub, the HTML representation is unable to render, please try loading this page with nbviewer.org.</b></div><div class=\"sk-container\" hidden><div class=\"sk-item sk-dashed-wrapped\"><div class=\"sk-label-container\"><div class=\"sk-label sk-toggleable\"><input class=\"sk-toggleable__control sk-hidden--visually\" id=\"sk-estimator-id-4\" type=\"checkbox\" ><label for=\"sk-estimator-id-4\" class=\"sk-toggleable__label sk-toggleable__label-arrow\">RandomizedSearchCV</label><div class=\"sk-toggleable__content\"><pre>RandomizedSearchCV(cv=KFold(n_splits=10, random_state=7, shuffle=True),\n",
       "                   estimator=SVC(),\n",
       "                   param_distributions={&#x27;C&#x27;: [0.1, 0.3, 0.5, 0.7, 0.9, 1.0, 1.3,\n",
       "                                              1.5, 1.7, 1.9, 2.1],\n",
       "                                        &#x27;kernal&#x27;: [&#x27;linear&#x27;, &#x27;poly&#x27;, &#x27;rbf&#x27;,\n",
       "                                                   &#x27;sigmoid&#x27;]},\n",
       "                   scoring=&#x27;accuracy&#x27;)</pre></div></div></div><div class=\"sk-parallel\"><div class=\"sk-parallel-item\"><div class=\"sk-item\"><div class=\"sk-label-container\"><div class=\"sk-label sk-toggleable\"><input class=\"sk-toggleable__control sk-hidden--visually\" id=\"sk-estimator-id-5\" type=\"checkbox\" ><label for=\"sk-estimator-id-5\" class=\"sk-toggleable__label sk-toggleable__label-arrow\">estimator: SVC</label><div class=\"sk-toggleable__content\"><pre>SVC()</pre></div></div></div><div class=\"sk-serial\"><div class=\"sk-item\"><div class=\"sk-estimator sk-toggleable\"><input class=\"sk-toggleable__control sk-hidden--visually\" id=\"sk-estimator-id-6\" type=\"checkbox\" ><label for=\"sk-estimator-id-6\" class=\"sk-toggleable__label sk-toggleable__label-arrow\">SVC</label><div class=\"sk-toggleable__content\"><pre>SVC()</pre></div></div></div></div></div></div></div></div></div></div>"
      ],
      "text/plain": [
       "RandomizedSearchCV(cv=KFold(n_splits=10, random_state=7, shuffle=True),\n",
       "                   estimator=SVC(),\n",
       "                   param_distributions={'C': [0.1, 0.3, 0.5, 0.7, 0.9, 1.0, 1.3,\n",
       "                                              1.5, 1.7, 1.9, 2.1],\n",
       "                                        'kernal': ['linear', 'poly', 'rbf',\n",
       "                                                   'sigmoid']},\n",
       "                   scoring='accuracy')"
      ]
     },
     "execution_count": 91,
     "metadata": {},
     "output_type": "execute_result"
    }
   ],
   "source": [
    "grid"
   ]
  },
  {
   "cell_type": "code",
   "execution_count": null,
   "id": "f6d5d6bd",
   "metadata": {},
   "outputs": [],
   "source": [
    "print(f'Best {grid_result}')"
   ]
  },
  {
   "cell_type": "markdown",
   "id": "aab6bdd1",
   "metadata": {},
   "source": [
    "## ANN\n",
    "\n",
    "Artificial neural networks are a model inspired by the functioning of the human brain. It is made up of a set of nodes known as artificial neurons that are connected and transmit signals to each other. These signals are transmitted from the input to generate an output.\n",
    "\n",
    "#### How do neural networks work?\n",
    "\n",
    "The functioning of the networks is similar to that of the human brain. Networks receive a series of input values ​​and each of these inputs reaches a node called a neuron. The neurons of the network are in turn grouped into layers that form the neural network. Each of the neurons in the network in turn has a weight, a numerical value, with which it modifies the input received."
   ]
  },
  {
   "cell_type": "raw",
   "id": "80bdbffd",
   "metadata": {},
   "source": [
    " Label | Description |\n",
    "|:-----:|-------------|\n",
    "|   0   | T-shirt/top |\n",
    "|   1   | Trouser     |\n",
    "|   2   | Pullover    |\n",
    "|   3   | Dress       |\n",
    "|   4   | Coat        |\n",
    "|   5   | Sandal      |\n",
    "|   6   | Shirt       |\n",
    "|   7   | Sneaker     |\n",
    "|   8   | Bag         |\n",
    "|   9   | Ankle boot  |\n"
   ]
  },
  {
   "cell_type": "code",
   "execution_count": null,
   "id": "672853c2",
   "metadata": {},
   "outputs": [],
   "source": []
  },
  {
   "cell_type": "code",
   "execution_count": null,
   "id": "dbbdd298",
   "metadata": {},
   "outputs": [],
   "source": [
    "labels= ['T-shirt/top', 'Trouser', 'Pullover', 'Dress', 'Coat', 'Sandal', 'Shirt', 'Sneaker', 'Bag', 'Ankle boot']\n",
    "model_ann= keras.Sequential([\n",
    "    \n",
    "    # The input shape for the first layer of an ANN is a one-dimensional vector, where each element corresponds to a feature.\n",
    "    keras.layers.Dense(units=10, input_shape= (X_train_reshape.shape[1],), activation='relu'),\n",
    "    keras.layers.Dense(512, activation= 'relu'),\n",
    "    keras.layers.Dense(64, activation= 'relu'),\n",
    "    keras.layers.Dense(8, activation= 'relu'),\n",
    "    keras.layers.Dense(10, activation='sigmoid')\n",
    "])\n",
    "\n",
    "model_ann.compile(optimizer= 'Adam',\n",
    "                 loss= 'sparse_categorical_crossentropy', \n",
    "                 metrics=['accuracy'])"
   ]
  },
  {
   "cell_type": "code",
   "execution_count": null,
   "id": "4d541ff4",
   "metadata": {},
   "outputs": [],
   "source": [
    "model_ann.fit(X_train_reshape, y_train, epochs= 5)"
   ]
  },
  {
   "cell_type": "code",
   "execution_count": null,
   "id": "b86b336e",
   "metadata": {},
   "outputs": [],
   "source": [
    "model_ann.evaluate(X_test_reshape,y_test)"
   ]
  },
  {
   "cell_type": "code",
   "execution_count": null,
   "id": "5345a5ec",
   "metadata": {},
   "outputs": [],
   "source": [
    "pred_ann= model_ann.predict(X_test_reshape)"
   ]
  },
  {
   "cell_type": "code",
   "execution_count": null,
   "id": "b4994ecf",
   "metadata": {},
   "outputs": [],
   "source": [
    "pred_y=  [np.argmax(i) for i in pred_ann]"
   ]
  },
  {
   "cell_type": "code",
   "execution_count": null,
   "id": "5c6cee79",
   "metadata": {},
   "outputs": [],
   "source": [
    "accuracy_score(y_test, pred_y)        # accuracy= 0.8512"
   ]
  },
  {
   "cell_type": "code",
   "execution_count": null,
   "id": "4255e3a0",
   "metadata": {},
   "outputs": [],
   "source": [
    "labels[pred_y[1]], labels[y_test[1]]"
   ]
  },
  {
   "cell_type": "markdown",
   "id": "9edb0d7c",
   "metadata": {},
   "source": [
    "## CNN\n",
    "\n",
    "\n",
    "CNNs are a specialized type of neural network designed for processing grid-like data, such as images.\n",
    "\n",
    "They consist of multiple layers, including convolutional layers, pooling layers, and fully connected layers.\n",
    "\n",
    "Convolutional layers apply convolution operations to input data using learnable filters (kernels) to extract local features.\n",
    "\n",
    "Pooling layers downsample feature maps to reduce dimensionality and extract dominant features.\n",
    "\n",
    "CNNs are particularly effective for tasks involving spatially structured data, such as image recognition, object detection, and image segmentation.\n",
    "\n",
    "They leverage the hierarchical structure of images, where lower layers capture low-level features (e.g., edges, textures) and higher layers capture more abstract features (e.g., shapes, objects)."
   ]
  },
  {
   "cell_type": "code",
   "execution_count": null,
   "id": "7aa12cdd",
   "metadata": {},
   "outputs": [],
   "source": [
    "#The input shape for a CNN is typically a three-dimensional tensor representing the image dimensions: width, height, and \n",
    "# number of channels (e.g., RGB channels for color images).\n",
    "    \n",
    "    \n",
    "inp=Input(shape= (X_train.shape[1], X_train.shape[2],1))\n",
    "layer= Conv2D(64, (3,3), activation= 'relu')(inp)\n",
    "layer= MaxPool2D((2,2))(layer)\n",
    "layer= Conv2D(32, (3,3), activation= 'relu')(layer)\n",
    "layer= MaxPool2D((2,2))(layer)\n",
    "layer= keras.layers.Flatten()(layer)\n",
    "# layer= Dense(1000, activation= 'relu')(layer)\n",
    "# layer= Dense(200, activation='relu')(layer)\n",
    "out_layer= Dense(10, activation= 'sigmoid')(layer)\n",
    "\n",
    "model= Model(inp, out_layer)\n",
    "\n",
    "model.compile(optimizer= 'Adam',\n",
    "            loss= 'sparse_categorical_crossentropy', \n",
    "            metrics=['accuracy'])"
   ]
  },
  {
   "cell_type": "code",
   "execution_count": null,
   "id": "7030a55d",
   "metadata": {},
   "outputs": [],
   "source": [
    "model.fit(X_train, y_train, epochs= 10)"
   ]
  },
  {
   "cell_type": "code",
   "execution_count": null,
   "id": "3c68e86c",
   "metadata": {},
   "outputs": [],
   "source": [
    "model.evaluate(X_test, y_test)"
   ]
  },
  {
   "cell_type": "code",
   "execution_count": null,
   "id": "9595fc80",
   "metadata": {},
   "outputs": [],
   "source": [
    "pred_y= model.predict(X_test)"
   ]
  },
  {
   "cell_type": "code",
   "execution_count": null,
   "id": "d0493178",
   "metadata": {},
   "outputs": [],
   "source": [
    "pred_y= [np.argmax(i) for i in pred_y]"
   ]
  },
  {
   "cell_type": "code",
   "execution_count": null,
   "id": "49a08494",
   "metadata": {},
   "outputs": [],
   "source": [
    "accuracy_score(y_test, pred_y)   # accuracy score predicted is 0.9054"
   ]
  },
  {
   "cell_type": "code",
   "execution_count": null,
   "id": "90f68820",
   "metadata": {},
   "outputs": [],
   "source": [
    "pred_y[:10]"
   ]
  },
  {
   "cell_type": "code",
   "execution_count": null,
   "id": "4359832f",
   "metadata": {},
   "outputs": [],
   "source": [
    "y_test[:10]"
   ]
  },
  {
   "cell_type": "code",
   "execution_count": null,
   "id": "98c7b4c5",
   "metadata": {},
   "outputs": [],
   "source": [
    "labels[pred_y[2]]"
   ]
  },
  {
   "cell_type": "code",
   "execution_count": null,
   "id": "2b470656",
   "metadata": {},
   "outputs": [],
   "source": [
    "labels[y_test[2]]"
   ]
  },
  {
   "cell_type": "code",
   "execution_count": null,
   "id": "3b7a2ff4",
   "metadata": {},
   "outputs": [],
   "source": [
    "from tensorflow.keras.applications import VGG16\n",
    "tf.config.run_functions_eagerly(True)\n",
    "num_classes= 10\n",
    "INPUT_SHAPE= (224, 224)\n",
    "batch_size= 32  #change for better accuracy based on your dataset\n",
    "epochs = 5 #change for better accuracy based on your dataset\n"
   ]
  },
  {
   "cell_type": "code",
   "execution_count": null,
   "id": "ed9f4539",
   "metadata": {},
   "outputs": [],
   "source": [
    "# load and compile VGG16\n",
    "vgg= VGG16(input_shape= (INPUT_SHAPE+(3,)), include_top= False)\n",
    "\n",
    "for layer in vgg.layers:\n",
    "    layer.trainable= False\n",
    "\n",
    "x= keras.layers.Flatten()(vgg.output)\n",
    "x= Dense(128, activation= 'relu')(x)\n",
    "x= Dense(64, activation= 'relu')(x)\n",
    "x= Dense(num_classes, activation= 'softmax')(x)\n",
    "\n",
    "model= Model(inputs= vgg.input, outputs= x)\n",
    "model.compile(optimizer= 'Adam',\n",
    "                 loss= 'sparse_categorical_crossentropy',\n",
    "                 metrics=['accuracy'])"
   ]
  },
  {
   "cell_type": "code",
   "execution_count": null,
   "id": "de3838fb",
   "metadata": {},
   "outputs": [],
   "source": [
    "x_sample= X_train[:2000]"
   ]
  },
  {
   "cell_type": "code",
   "execution_count": null,
   "id": "29640daa",
   "metadata": {},
   "outputs": [],
   "source": [
    "y_reshape= y_train[:2000]"
   ]
  },
  {
   "cell_type": "code",
   "execution_count": null,
   "id": "8394f25d",
   "metadata": {},
   "outputs": [],
   "source": [
    "x_reshape= []\n",
    "for i in x_sample:\n",
    "    img= cv2.cvtColor(i, cv2.COLOR_GRAY2RGB)\n",
    "    x= cv2.resize(img, (224,224))\n",
    "    x_reshape.append(x)"
   ]
  },
  {
   "cell_type": "code",
   "execution_count": null,
   "id": "dd4311e3",
   "metadata": {},
   "outputs": [],
   "source": [
    "x_reshape= np.array(x_reshape)"
   ]
  },
  {
   "cell_type": "code",
   "execution_count": null,
   "id": "9ea3e77f",
   "metadata": {},
   "outputs": [],
   "source": [
    "x_reshape.shape"
   ]
  },
  {
   "cell_type": "code",
   "execution_count": null,
   "id": "051ce5af",
   "metadata": {},
   "outputs": [],
   "source": [
    "model.fit(x_reshape, y= y_reshape, epochs= 5)"
   ]
  },
  {
   "cell_type": "raw",
   "id": "6f39e53f",
   "metadata": {},
   "source": [
    "result= {}\n",
    "\n",
    "result['Adam']= 90.54\n",
    "result['SGD'] = np.round(acc*100, 2)\n",
    "result['RMSProp'] = 90.27\n",
    "result['Adagrad'] = 77.60\n",
    "result['AdaDelta'] = 57.58\n",
    "result['VGG16'] = 97.75"
   ]
  },
  {
   "cell_type": "markdown",
   "id": "d07bdefa",
   "metadata": {},
   "source": [
    "#### Save the Model"
   ]
  },
  {
   "cell_type": "code",
   "execution_count": null,
   "id": "888100ec",
   "metadata": {},
   "outputs": [],
   "source": [
    "keras_file= \"Model.h5\"\n",
    "tf.keras.models.save_model(model,keras_file)\n"
   ]
  },
  {
   "cell_type": "markdown",
   "id": "f7bdcf8c",
   "metadata": {},
   "source": [
    "\n",
    "#### Prediction using new image\n"
   ]
  },
  {
   "cell_type": "code",
   "execution_count": null,
   "id": "7cbe73aa",
   "metadata": {},
   "outputs": [],
   "source": [
    "#create new file test.py and run this filefrom tensorflow.keras.models import load_model\n",
    "from tensorflow.keras.preprocessing import image\n",
    "from tensorflow.keras.applications.vgg16 import preprocess_input, decode_predictions\n",
    "import numpy as np\n",
    "\n",
    "#load saved model\n",
    "model = load_model('Model.h5') \n",
    "\n",
    "img_path = 'fresh.jpg'\n",
    "img = image.load_img(img_path, target_size=(224, 224))\n",
    "\n",
    "x = image.img_to_array(img)\n",
    "x = np.expand_dims(x, axis=0)\n",
    "x = preprocess_input(x)\n",
    "preds=model.predict(x)\n",
    "\n",
    "# create a list containing the class labels\n",
    "class_labels = [‘Apple’,’Banana’,’Orange’]\n",
    "\n",
    "# find the index of the class with maximum score\n",
    "pred = np.argmax(preds, axis=-1)\n",
    "\n",
    "# print the label of the class with maximum score\n",
    "print(class_labels[pred[0]])"
   ]
  },
  {
   "cell_type": "code",
   "execution_count": null,
   "id": "5009aaa5",
   "metadata": {},
   "outputs": [],
   "source": []
  },
  {
   "cell_type": "code",
   "execution_count": null,
   "id": "d73d542f",
   "metadata": {},
   "outputs": [],
   "source": []
  },
  {
   "cell_type": "code",
   "execution_count": null,
   "id": "39a36498",
   "metadata": {},
   "outputs": [],
   "source": []
  }
 ],
 "metadata": {
  "kernelspec": {
   "display_name": "Python 3 (ipykernel)",
   "language": "python",
   "name": "python3"
  },
  "language_info": {
   "codemirror_mode": {
    "name": "ipython",
    "version": 3
   },
   "file_extension": ".py",
   "mimetype": "text/x-python",
   "name": "python",
   "nbconvert_exporter": "python",
   "pygments_lexer": "ipython3",
   "version": "3.11.5"
  }
 },
 "nbformat": 4,
 "nbformat_minor": 5
}
