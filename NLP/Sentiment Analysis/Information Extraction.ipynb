{
 "cells": [
  {
   "cell_type": "code",
   "execution_count": 39,
   "id": "c3498753",
   "metadata": {},
   "outputs": [],
   "source": [
    "import spacy \n",
    "import pandas as pd\n",
    "import re\n",
    "import string\n",
    "import nltk\n",
    "import spacy\n",
    "import numpy as np\n",
    "import math\n",
    "from tqdm import tqdm\n",
    "\n",
    "from spacy.matcher import Matcher \n",
    "from spacy.tokens import Span\n",
    "from spacy import displacy\n",
    "\n",
    "pd.set_option('display.max_colwidth', 200)"
   ]
  },
  {
   "cell_type": "code",
   "execution_count": 40,
   "id": "d6c37ca0",
   "metadata": {},
   "outputs": [],
   "source": [
    "# ! pip install spacy"
   ]
  },
  {
   "cell_type": "code",
   "execution_count": 41,
   "id": "44c78793",
   "metadata": {},
   "outputs": [],
   "source": [
    "# !python -m spacy download en_core_web_sm"
   ]
  },
  {
   "cell_type": "markdown",
   "id": "6b327f7b",
   "metadata": {},
   "source": [
    "### Rule Based Matcher:\n",
    "\n",
    "extract hypernym-hyponym pairs by using these patterns/rules"
   ]
  },
  {
   "cell_type": "code",
   "execution_count": 42,
   "id": "307da2d2",
   "metadata": {},
   "outputs": [],
   "source": [
    "# load Spacy model\n",
    "nlp= spacy.load('en_core_web_sm')"
   ]
  },
  {
   "cell_type": "code",
   "execution_count": 43,
   "id": "92472c4d",
   "metadata": {},
   "outputs": [],
   "source": [
    "# mine information from text based on these Hearst Patterns.\n",
    "\n",
    "# sample text \n",
    "text = \"GDP in developing countries such as Vietnam will continue growing at a high rate.\" \n",
    "\n",
    "# create a spaCy object\n",
    "doc= nlp(text)"
   ]
  },
  {
   "cell_type": "code",
   "execution_count": 44,
   "id": "b8cfa2cb",
   "metadata": {},
   "outputs": [
    {
     "data": {
      "text/plain": [
       "GDP in developing countries such as Vietnam will continue growing at a high rate."
      ]
     },
     "execution_count": 44,
     "metadata": {},
     "output_type": "execute_result"
    }
   ],
   "source": [
    "doc"
   ]
  },
  {
   "cell_type": "markdown",
   "id": "237bc0bf",
   "metadata": {},
   "source": [
    "#### Expected Pattern: X such as Y"
   ]
  },
  {
   "cell_type": "code",
   "execution_count": 45,
   "id": "8ca9f7cb",
   "metadata": {},
   "outputs": [
    {
     "name": "stdout",
     "output_type": "stream",
     "text": [
      "GDP --> nsubj --> NOUN\n",
      "in --> prep --> ADP\n",
      "developing --> amod --> VERB\n",
      "countries --> pobj --> NOUN\n",
      "such --> amod --> ADJ\n",
      "as --> prep --> ADP\n",
      "Vietnam --> pobj --> PROPN\n",
      "will --> aux --> AUX\n",
      "continue --> ROOT --> VERB\n",
      "growing --> xcomp --> VERB\n",
      "at --> prep --> ADP\n",
      "a --> det --> DET\n",
      "high --> amod --> ADJ\n",
      "rate --> pobj --> NOUN\n",
      ". --> punct --> PUNCT\n"
     ]
    }
   ],
   "source": [
    "# understand its syntactic structure – things like the subject, object, modifiers, and \n",
    "# parts-of-speech (POS) in the sentence.\n",
    "\n",
    "\n",
    "# print token, dependency, POS tag \n",
    "for tok in doc:\n",
    "    print(tok.text, '-->', tok.dep_, '-->', tok.pos_)"
   ]
  },
  {
   "cell_type": "raw",
   "id": "a16d1537",
   "metadata": {},
   "source": [
    "Look around the terms “such” and “as” . They are followed by a noun (“countries”). And after them, we have a proper noun (“Vietnam”) that acts as a hyponym."
   ]
  },
  {
   "cell_type": "code",
   "execution_count": 46,
   "id": "b3715348",
   "metadata": {},
   "outputs": [],
   "source": [
    "# define the pattern \n",
    "pattern= [{'POS':'NOUN'},{'LOWER':'such'},{'LOWER':'as'},{'POS':'PROPN'}]   # Proper noun"
   ]
  },
  {
   "cell_type": "code",
   "execution_count": 47,
   "id": "bbc2f959",
   "metadata": {},
   "outputs": [
    {
     "data": {
      "text/plain": [
       "[{'POS': 'NOUN'}, {'LOWER': 'such'}, {'LOWER': 'as'}, {'POS': 'PROPN'}]"
      ]
     },
     "execution_count": 47,
     "metadata": {},
     "output_type": "execute_result"
    }
   ],
   "source": [
    "pattern"
   ]
  },
  {
   "cell_type": "code",
   "execution_count": 48,
   "id": "6732d37a",
   "metadata": {},
   "outputs": [],
   "source": [
    "# Matcher class object\n",
    "matcher = Matcher(nlp.vocab)\n",
    "\n",
    "# Add the pattern to the matcher\n",
    "matcher.add('matching_1', patterns=[pattern])"
   ]
  },
  {
   "cell_type": "code",
   "execution_count": 49,
   "id": "6968b5a5",
   "metadata": {},
   "outputs": [],
   "source": [
    "matches= matcher(doc)"
   ]
  },
  {
   "cell_type": "code",
   "execution_count": 50,
   "id": "88f3a7b4",
   "metadata": {},
   "outputs": [
    {
     "data": {
      "text/plain": [
       "[(11840699188806025751, 3, 7)]"
      ]
     },
     "execution_count": 50,
     "metadata": {},
     "output_type": "execute_result"
    }
   ],
   "source": [
    "matches"
   ]
  },
  {
   "cell_type": "code",
   "execution_count": 54,
   "id": "d62eeda7",
   "metadata": {},
   "outputs": [
    {
     "name": "stdout",
     "output_type": "stream",
     "text": [
      "countries such as Vietnam\n"
     ]
    }
   ],
   "source": [
    "span= doc[matches[0][1]:matches[0][2]]\n",
    "print(span.text)"
   ]
  },
  {
   "cell_type": "markdown",
   "id": "88094b1b",
   "metadata": {},
   "source": [
    "However, if we could get “developing countries” instead of just “countries”, then the output would make more sense."
   ]
  },
  {
   "cell_type": "code",
   "execution_count": 55,
   "id": "123e3cb7",
   "metadata": {},
   "outputs": [],
   "source": [
    "# lets modify our pattern a bit\n",
    "pattern = [{'DEP': 'amod', 'OP': '?'}, # ‘OP’: ‘?’ in the pattern above means that the modifier(‘amod’)can occur once or not at all. \n",
    "           {'POS':'NOUN'},\n",
    "           {'LOWER':'such'},\n",
    "           {'LOWER':'as'},\n",
    "           {'POS':'PROPN'}]   # Proper noun\n"
   ]
  },
  {
   "cell_type": "code",
   "execution_count": 56,
   "id": "fdf8bfb1",
   "metadata": {},
   "outputs": [],
   "source": [
    "matcher= Matcher(nlp.vocab)\n",
    "matcher.add('matching_1', patterns= [pattern])"
   ]
  },
  {
   "cell_type": "code",
   "execution_count": 57,
   "id": "5590b5c3",
   "metadata": {},
   "outputs": [],
   "source": [
    "matches= matcher(doc)\n",
    "span= doc[matches[0][1]:matches[0][2]]"
   ]
  },
  {
   "cell_type": "code",
   "execution_count": 58,
   "id": "df624dc5",
   "metadata": {},
   "outputs": [
    {
     "data": {
      "text/plain": [
       "developing countries such as Vietnam"
      ]
     },
     "execution_count": 58,
     "metadata": {},
     "output_type": "execute_result"
    }
   ],
   "source": [
    "span"
   ]
  },
  {
   "cell_type": "markdown",
   "id": "b3cf40d8",
   "metadata": {},
   "source": [
    "### Lets create some more Hearts Pattern\n"
   ]
  },
  {
   "cell_type": "code",
   "execution_count": 59,
   "id": "bbd238ea",
   "metadata": {},
   "outputs": [
    {
     "data": {
      "text/plain": [
       "Here is how you can keep your car and other vehicles clean."
      ]
     },
     "execution_count": 59,
     "metadata": {},
     "output_type": "execute_result"
    }
   ],
   "source": [
    "doc= nlp(\"Here is how you can keep your car and other vehicles clean.\")\n",
    "doc"
   ]
  },
  {
   "cell_type": "code",
   "execution_count": 60,
   "id": "a2df117c",
   "metadata": {},
   "outputs": [
    {
     "name": "stdout",
     "output_type": "stream",
     "text": [
      "Here --> advmod --> ADV\n",
      "is --> ROOT --> AUX\n",
      "how --> advmod --> SCONJ\n",
      "you --> nsubj --> PRON\n",
      "can --> aux --> AUX\n",
      "keep --> ccomp --> VERB\n",
      "your --> poss --> PRON\n",
      "car --> dobj --> NOUN\n",
      "and --> cc --> CCONJ\n",
      "other --> amod --> ADJ\n",
      "vehicles --> conj --> NOUN\n",
      "clean --> oprd --> ADJ\n",
      ". --> punct --> PUNCT\n"
     ]
    }
   ],
   "source": [
    "for tok in doc:\n",
    "    print(tok.text, \"-->\", tok.dep_, '-->', tok.pos_)"
   ]
  },
  {
   "cell_type": "markdown",
   "id": "3ed46484",
   "metadata": {},
   "source": [
    "#### Pattern: X and/or Y"
   ]
  },
  {
   "cell_type": "code",
   "execution_count": 61,
   "id": "a7b30dd7",
   "metadata": {},
   "outputs": [],
   "source": [
    "pattern= [{'DEP':'amd', 'OP':\"?\"},\n",
    "        {'POS':'NOUN'},\n",
    "         {'LOWER':'and', 'OP':\"?\"},\n",
    "         {'LOWER':'or', 'OP':\"?\"},\n",
    "         {'LOWER':'other'},\n",
    "         {'POS':'NOUN'}]"
   ]
  },
  {
   "cell_type": "code",
   "execution_count": 62,
   "id": "2642ce36",
   "metadata": {},
   "outputs": [],
   "source": [
    "matcher= Matcher(nlp.vocab)\n",
    "matcher.add('matching_1', patterns= [pattern])"
   ]
  },
  {
   "cell_type": "code",
   "execution_count": 65,
   "id": "b7b875e4",
   "metadata": {},
   "outputs": [],
   "source": [
    "matches= matcher(doc)\n",
    "span= doc[matches[0][1]:matches[0][2]]"
   ]
  },
  {
   "cell_type": "code",
   "execution_count": 66,
   "id": "24023084",
   "metadata": {},
   "outputs": [
    {
     "data": {
      "text/plain": [
       "car and other vehicles"
      ]
     },
     "execution_count": 66,
     "metadata": {},
     "output_type": "execute_result"
    }
   ],
   "source": [
    "span"
   ]
  },
  {
   "cell_type": "code",
   "execution_count": 67,
   "id": "8ae63079",
   "metadata": {},
   "outputs": [],
   "source": [
    "# replaced 'and' with 'or'\n",
    "doc = nlp(\"Here is how you can keep your car or other vehicles clean.\")"
   ]
  },
  {
   "cell_type": "code",
   "execution_count": 68,
   "id": "b3a9c203",
   "metadata": {},
   "outputs": [],
   "source": [
    "matches= matcher(doc)\n",
    "span= doc[matches[0][1]:matches[0][2]]"
   ]
  },
  {
   "cell_type": "code",
   "execution_count": 69,
   "id": "f18f6c5f",
   "metadata": {},
   "outputs": [
    {
     "data": {
      "text/plain": [
       "car or other vehicles"
      ]
     },
     "execution_count": 69,
     "metadata": {},
     "output_type": "execute_result"
    }
   ],
   "source": [
    "span"
   ]
  },
  {
   "cell_type": "markdown",
   "id": "40a439e1",
   "metadata": {},
   "source": [
    "#### Pattern: X, including Y"
   ]
  },
  {
   "cell_type": "code",
   "execution_count": 70,
   "id": "34a4736d",
   "metadata": {},
   "outputs": [
    {
     "name": "stdout",
     "output_type": "stream",
     "text": [
      "Eight --> nummod --> NUM\n",
      "people --> nsubjpass --> NOUN\n",
      ", --> punct --> PUNCT\n",
      "including --> prep --> VERB\n",
      "two --> nummod --> NUM\n",
      "children --> pobj --> NOUN\n",
      ", --> punct --> PUNCT\n",
      "were --> auxpass --> AUX\n",
      "injured --> ROOT --> VERB\n",
      "in --> prep --> ADP\n",
      "the --> det --> DET\n",
      "explosion --> pobj --> NOUN\n"
     ]
    }
   ],
   "source": [
    "doc = nlp(\"Eight people, including two children, were injured in the explosion\") \n",
    "\n",
    "for tok in doc:\n",
    "    print(tok.text, '-->', tok.dep_, '-->', tok.pos_)"
   ]
  },
  {
   "cell_type": "code",
   "execution_count": 76,
   "id": "d122c7f0",
   "metadata": {},
   "outputs": [
    {
     "name": "stdout",
     "output_type": "stream",
     "text": [
      "Eight people, including two children\n"
     ]
    }
   ],
   "source": [
    "pattern= [{'DEP':'nummod','OP':\"?\"}, # numeric modifier \n",
    "           {'DEP':'amod','OP':\"?\"}, # adjectival modifier \n",
    "           {'POS':'NOUN'}, \n",
    "           {'IS_PUNCT': True}, \n",
    "           {'LOWER': 'including'}, \n",
    "           {'DEP':'nummod','OP':\"?\"}, \n",
    "           {'DEP':'amod','OP':\"?\"}, \n",
    "           {'POS':'NOUN'}] \n",
    "\n",
    "matcher.add(\"matching_1\",patterns= [pattern]) \n",
    "\n",
    "matches = matcher(doc) \n",
    "span = doc[matches[0][1]:matches[0][2]] \n",
    "print(span.text)"
   ]
  },
  {
   "cell_type": "markdown",
   "id": "23e9a3d8",
   "metadata": {},
   "source": [
    "#### Subtree Matching for Relation Extraction"
   ]
  },
  {
   "cell_type": "code",
   "execution_count": 77,
   "id": "b9b7e947",
   "metadata": {},
   "outputs": [
    {
     "data": {
      "text/html": [
       "<span class=\"tex2jax_ignore\"><svg xmlns=\"http://www.w3.org/2000/svg\" xmlns:xlink=\"http://www.w3.org/1999/xlink\" xml:lang=\"en\" id=\"5d606a0ba53c4b19bd52407c818a5cba-0\" class=\"displacy\" width=\"1100\" height=\"399.5\" direction=\"ltr\" style=\"max-width: none; height: 399.5px; color: #000000; background: #ffffff; font-family: Arial; direction: ltr\">\n",
       "<text class=\"displacy-token\" fill=\"currentColor\" text-anchor=\"middle\" y=\"309.5\">\n",
       "    <tspan class=\"displacy-word\" fill=\"currentColor\" x=\"50\">Tableau</tspan>\n",
       "    <tspan class=\"displacy-tag\" dy=\"2em\" fill=\"currentColor\" x=\"50\">PROPN</tspan>\n",
       "</text>\n",
       "\n",
       "<text class=\"displacy-token\" fill=\"currentColor\" text-anchor=\"middle\" y=\"309.5\">\n",
       "    <tspan class=\"displacy-word\" fill=\"currentColor\" x=\"225\">was</tspan>\n",
       "    <tspan class=\"displacy-tag\" dy=\"2em\" fill=\"currentColor\" x=\"225\">AUX</tspan>\n",
       "</text>\n",
       "\n",
       "<text class=\"displacy-token\" fill=\"currentColor\" text-anchor=\"middle\" y=\"309.5\">\n",
       "    <tspan class=\"displacy-word\" fill=\"currentColor\" x=\"400\">recently</tspan>\n",
       "    <tspan class=\"displacy-tag\" dy=\"2em\" fill=\"currentColor\" x=\"400\">ADV</tspan>\n",
       "</text>\n",
       "\n",
       "<text class=\"displacy-token\" fill=\"currentColor\" text-anchor=\"middle\" y=\"309.5\">\n",
       "    <tspan class=\"displacy-word\" fill=\"currentColor\" x=\"575\">acquired</tspan>\n",
       "    <tspan class=\"displacy-tag\" dy=\"2em\" fill=\"currentColor\" x=\"575\">VERB</tspan>\n",
       "</text>\n",
       "\n",
       "<text class=\"displacy-token\" fill=\"currentColor\" text-anchor=\"middle\" y=\"309.5\">\n",
       "    <tspan class=\"displacy-word\" fill=\"currentColor\" x=\"750\">by</tspan>\n",
       "    <tspan class=\"displacy-tag\" dy=\"2em\" fill=\"currentColor\" x=\"750\">ADP</tspan>\n",
       "</text>\n",
       "\n",
       "<text class=\"displacy-token\" fill=\"currentColor\" text-anchor=\"middle\" y=\"309.5\">\n",
       "    <tspan class=\"displacy-word\" fill=\"currentColor\" x=\"925\">Salesforce.</tspan>\n",
       "    <tspan class=\"displacy-tag\" dy=\"2em\" fill=\"currentColor\" x=\"925\">PROPN</tspan>\n",
       "</text>\n",
       "\n",
       "<g class=\"displacy-arrow\">\n",
       "    <path class=\"displacy-arc\" id=\"arrow-5d606a0ba53c4b19bd52407c818a5cba-0-0\" stroke-width=\"2px\" d=\"M70,264.5 C70,2.0 575.0,2.0 575.0,264.5\" fill=\"none\" stroke=\"currentColor\"/>\n",
       "    <text dy=\"1.25em\" style=\"font-size: 0.8em; letter-spacing: 1px\">\n",
       "        <textPath xlink:href=\"#arrow-5d606a0ba53c4b19bd52407c818a5cba-0-0\" class=\"displacy-label\" startOffset=\"50%\" side=\"left\" fill=\"currentColor\" text-anchor=\"middle\">nsubjpass</textPath>\n",
       "    </text>\n",
       "    <path class=\"displacy-arrowhead\" d=\"M70,266.5 L62,254.5 78,254.5\" fill=\"currentColor\"/>\n",
       "</g>\n",
       "\n",
       "<g class=\"displacy-arrow\">\n",
       "    <path class=\"displacy-arc\" id=\"arrow-5d606a0ba53c4b19bd52407c818a5cba-0-1\" stroke-width=\"2px\" d=\"M245,264.5 C245,89.5 570.0,89.5 570.0,264.5\" fill=\"none\" stroke=\"currentColor\"/>\n",
       "    <text dy=\"1.25em\" style=\"font-size: 0.8em; letter-spacing: 1px\">\n",
       "        <textPath xlink:href=\"#arrow-5d606a0ba53c4b19bd52407c818a5cba-0-1\" class=\"displacy-label\" startOffset=\"50%\" side=\"left\" fill=\"currentColor\" text-anchor=\"middle\">auxpass</textPath>\n",
       "    </text>\n",
       "    <path class=\"displacy-arrowhead\" d=\"M245,266.5 L237,254.5 253,254.5\" fill=\"currentColor\"/>\n",
       "</g>\n",
       "\n",
       "<g class=\"displacy-arrow\">\n",
       "    <path class=\"displacy-arc\" id=\"arrow-5d606a0ba53c4b19bd52407c818a5cba-0-2\" stroke-width=\"2px\" d=\"M420,264.5 C420,177.0 565.0,177.0 565.0,264.5\" fill=\"none\" stroke=\"currentColor\"/>\n",
       "    <text dy=\"1.25em\" style=\"font-size: 0.8em; letter-spacing: 1px\">\n",
       "        <textPath xlink:href=\"#arrow-5d606a0ba53c4b19bd52407c818a5cba-0-2\" class=\"displacy-label\" startOffset=\"50%\" side=\"left\" fill=\"currentColor\" text-anchor=\"middle\">advmod</textPath>\n",
       "    </text>\n",
       "    <path class=\"displacy-arrowhead\" d=\"M420,266.5 L412,254.5 428,254.5\" fill=\"currentColor\"/>\n",
       "</g>\n",
       "\n",
       "<g class=\"displacy-arrow\">\n",
       "    <path class=\"displacy-arc\" id=\"arrow-5d606a0ba53c4b19bd52407c818a5cba-0-3\" stroke-width=\"2px\" d=\"M595,264.5 C595,177.0 740.0,177.0 740.0,264.5\" fill=\"none\" stroke=\"currentColor\"/>\n",
       "    <text dy=\"1.25em\" style=\"font-size: 0.8em; letter-spacing: 1px\">\n",
       "        <textPath xlink:href=\"#arrow-5d606a0ba53c4b19bd52407c818a5cba-0-3\" class=\"displacy-label\" startOffset=\"50%\" side=\"left\" fill=\"currentColor\" text-anchor=\"middle\">agent</textPath>\n",
       "    </text>\n",
       "    <path class=\"displacy-arrowhead\" d=\"M740.0,266.5 L748.0,254.5 732.0,254.5\" fill=\"currentColor\"/>\n",
       "</g>\n",
       "\n",
       "<g class=\"displacy-arrow\">\n",
       "    <path class=\"displacy-arc\" id=\"arrow-5d606a0ba53c4b19bd52407c818a5cba-0-4\" stroke-width=\"2px\" d=\"M770,264.5 C770,177.0 915.0,177.0 915.0,264.5\" fill=\"none\" stroke=\"currentColor\"/>\n",
       "    <text dy=\"1.25em\" style=\"font-size: 0.8em; letter-spacing: 1px\">\n",
       "        <textPath xlink:href=\"#arrow-5d606a0ba53c4b19bd52407c818a5cba-0-4\" class=\"displacy-label\" startOffset=\"50%\" side=\"left\" fill=\"currentColor\" text-anchor=\"middle\">pobj</textPath>\n",
       "    </text>\n",
       "    <path class=\"displacy-arrowhead\" d=\"M915.0,266.5 L923.0,254.5 907.0,254.5\" fill=\"currentColor\"/>\n",
       "</g>\n",
       "</svg></span>"
      ],
      "text/plain": [
       "<IPython.core.display.HTML object>"
      ]
     },
     "metadata": {},
     "output_type": "display_data"
    }
   ],
   "source": [
    "text = \"Tableau was recently acquired by Salesforce.\" \n",
    "\n",
    "# Plot the dependency graph \n",
    "doc = nlp(text) \n",
    "displacy.render(doc, style='dep',jupyter=True)"
   ]
  },
  {
   "cell_type": "code",
   "execution_count": 78,
   "id": "0215a696",
   "metadata": {},
   "outputs": [
    {
     "name": "stdout",
     "output_type": "stream",
     "text": [
      "Tableau --> nsubjpass --> PROPN\n",
      "was --> auxpass --> AUX\n",
      "recently --> advmod --> ADV\n",
      "acquired --> ROOT --> VERB\n",
      "by --> agent --> ADP\n",
      "Salesforce --> pobj --> PROPN\n",
      ". --> punct --> PUNCT\n"
     ]
    }
   ],
   "source": [
    "text = \"Tableau was recently acquired by Salesforce.\" \n",
    "doc = nlp(text) \n",
    "\n",
    "for tok in doc: \n",
    "    print(tok.text,\"-->\",tok.dep_,\"-->\",tok.pos_)"
   ]
  },
  {
   "cell_type": "raw",
   "id": "257d30e4",
   "metadata": {},
   "source": [
    "The dependency tag for “Tableau” is nsubjpass which stands for a passive subject (as it is a passive sentence). The other entity “Salesforce” is the object in this sentence and the term “acquired” is the ROOT of the sentence which means it somehow connects the object and the subject."
   ]
  },
  {
   "cell_type": "code",
   "execution_count": 79,
   "id": "bdc1d190",
   "metadata": {},
   "outputs": [],
   "source": [
    "def subtree_matcher(doc):\n",
    "    \n",
    "    x= ''\n",
    "    y= ''\n",
    "    \n",
    "    # iterate through all the tokens in the input sentence \n",
    "    for i, tok in enumerate(doc):\n",
    "        \n",
    "        # extract subject\n",
    "        if tok.dep_.find('subjpass') == True:\n",
    "            y= tok.text\n",
    "            \n",
    "            \n",
    "        # extract subject\n",
    "        if tok.dep_.find('obj') == True:\n",
    "            x= tok.text\n",
    "            \n",
    "    return x,y       "
   ]
  },
  {
   "cell_type": "code",
   "execution_count": 80,
   "id": "b7181469",
   "metadata": {},
   "outputs": [
    {
     "data": {
      "text/plain": [
       "('Uber', 'Careem')"
      ]
     },
     "execution_count": 80,
     "metadata": {},
     "output_type": "execute_result"
    }
   ],
   "source": [
    "text_2 = \"Careem, a ride hailing major in middle east, was acquired by Uber.\" \n",
    "\n",
    "doc_2 = nlp(text_2) \n",
    "subtree_matcher(doc_2)"
   ]
  },
  {
   "cell_type": "code",
   "execution_count": null,
   "id": "d6242e93",
   "metadata": {},
   "outputs": [],
   "source": []
  },
  {
   "cell_type": "code",
   "execution_count": null,
   "id": "5d1f4143",
   "metadata": {},
   "outputs": [],
   "source": []
  },
  {
   "cell_type": "code",
   "execution_count": null,
   "id": "34d3185d",
   "metadata": {},
   "outputs": [],
   "source": []
  },
  {
   "cell_type": "code",
   "execution_count": null,
   "id": "a70d765f",
   "metadata": {},
   "outputs": [],
   "source": []
  },
  {
   "cell_type": "code",
   "execution_count": null,
   "id": "43a2b573",
   "metadata": {},
   "outputs": [],
   "source": []
  },
  {
   "cell_type": "code",
   "execution_count": null,
   "id": "9700b9b1",
   "metadata": {},
   "outputs": [],
   "source": []
  },
  {
   "cell_type": "code",
   "execution_count": null,
   "id": "96dde929",
   "metadata": {},
   "outputs": [],
   "source": []
  },
  {
   "cell_type": "code",
   "execution_count": null,
   "id": "0c17ff99",
   "metadata": {},
   "outputs": [],
   "source": []
  }
 ],
 "metadata": {
  "kernelspec": {
   "display_name": "Python 3 (ipykernel)",
   "language": "python",
   "name": "python3"
  },
  "language_info": {
   "codemirror_mode": {
    "name": "ipython",
    "version": 3
   },
   "file_extension": ".py",
   "mimetype": "text/x-python",
   "name": "python",
   "nbconvert_exporter": "python",
   "pygments_lexer": "ipython3",
   "version": "3.11.5"
  }
 },
 "nbformat": 4,
 "nbformat_minor": 5
}
