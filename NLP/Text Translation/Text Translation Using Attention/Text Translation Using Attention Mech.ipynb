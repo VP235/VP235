{
 "cells": [
  {
   "cell_type": "code",
   "execution_count": 192,
   "id": "48043545",
   "metadata": {},
   "outputs": [],
   "source": [
    "import pandas as pd\n",
    "import numpy as np\n",
    "import re\n",
    "import matplotlib.pyplot as plt\n",
    "\n",
    "from bs4 import BeautifulSoup\n",
    "from nltk.corpus import stopwords\n",
    "import tensorflow as tf\n",
    "import tensorflow.keras as keras\n",
    "from tensorflow.keras.models import Model\n",
    "from keras.preprocessing.text import Tokenizer\n",
    "from keras.preprocessing.sequence import pad_sequences\n",
    "from tensorflow.keras.callbacks import EarlyStopping\n",
    "from keras.layers import Input, Dense, LSTM, Embedding, Concatenate, TimeDistributed, Bidirectional\n",
    "from attention import AttentionLayer\n",
    "import warnings\n",
    "\n",
    "pd.set_option(\"display.max_colwidth\", 200)\n",
    "warnings.filterwarnings('ignore')\n"
   ]
  },
  {
   "cell_type": "code",
   "execution_count": 193,
   "id": "2218c9f3",
   "metadata": {},
   "outputs": [],
   "source": [
    "df= pd.read_csv(r\"D:\\Datasets\\Text trans- Attention Mech\\Amazon Reviews\\Reviews.csv\")"
   ]
  },
  {
   "cell_type": "markdown",
   "id": "4ea6d82a",
   "metadata": {},
   "source": [
    "##### This dataset consists of reviews of fine foods from Amazon. The data spans a period of more than 10 years, including all ~500,000 reviews up to October 2012. These reviews include product and user information, ratings, plain text review, and summary. It also includes reviews from all other Amazon categories."
   ]
  },
  {
   "cell_type": "code",
   "execution_count": 194,
   "id": "9ad45fe3",
   "metadata": {},
   "outputs": [
    {
     "data": {
      "text/html": [
       "<div>\n",
       "<style scoped>\n",
       "    .dataframe tbody tr th:only-of-type {\n",
       "        vertical-align: middle;\n",
       "    }\n",
       "\n",
       "    .dataframe tbody tr th {\n",
       "        vertical-align: top;\n",
       "    }\n",
       "\n",
       "    .dataframe thead th {\n",
       "        text-align: right;\n",
       "    }\n",
       "</style>\n",
       "<table border=\"1\" class=\"dataframe\">\n",
       "  <thead>\n",
       "    <tr style=\"text-align: right;\">\n",
       "      <th></th>\n",
       "      <th>Id</th>\n",
       "      <th>ProductId</th>\n",
       "      <th>UserId</th>\n",
       "      <th>ProfileName</th>\n",
       "      <th>HelpfulnessNumerator</th>\n",
       "      <th>HelpfulnessDenominator</th>\n",
       "      <th>Score</th>\n",
       "      <th>Time</th>\n",
       "      <th>Summary</th>\n",
       "      <th>Text</th>\n",
       "    </tr>\n",
       "  </thead>\n",
       "  <tbody>\n",
       "    <tr>\n",
       "      <th>0</th>\n",
       "      <td>1</td>\n",
       "      <td>B001E4KFG0</td>\n",
       "      <td>A3SGXH7AUHU8GW</td>\n",
       "      <td>delmartian</td>\n",
       "      <td>1</td>\n",
       "      <td>1</td>\n",
       "      <td>5</td>\n",
       "      <td>1303862400</td>\n",
       "      <td>Good Quality Dog Food</td>\n",
       "      <td>I have bought several of the Vitality canned dog food products and have found them all to be of good quality. The product looks more like a stew than a processed meat and it smells better. My Labr...</td>\n",
       "    </tr>\n",
       "    <tr>\n",
       "      <th>1</th>\n",
       "      <td>2</td>\n",
       "      <td>B00813GRG4</td>\n",
       "      <td>A1D87F6ZCVE5NK</td>\n",
       "      <td>dll pa</td>\n",
       "      <td>0</td>\n",
       "      <td>0</td>\n",
       "      <td>1</td>\n",
       "      <td>1346976000</td>\n",
       "      <td>Not as Advertised</td>\n",
       "      <td>Product arrived labeled as Jumbo Salted Peanuts...the peanuts were actually small sized unsalted. Not sure if this was an error or if the vendor intended to represent the product as \"Jumbo\".</td>\n",
       "    </tr>\n",
       "    <tr>\n",
       "      <th>2</th>\n",
       "      <td>3</td>\n",
       "      <td>B000LQOCH0</td>\n",
       "      <td>ABXLMWJIXXAIN</td>\n",
       "      <td>Natalia Corres \"Natalia Corres\"</td>\n",
       "      <td>1</td>\n",
       "      <td>1</td>\n",
       "      <td>4</td>\n",
       "      <td>1219017600</td>\n",
       "      <td>\"Delight\" says it all</td>\n",
       "      <td>This is a confection that has been around a few centuries.  It is a light, pillowy citrus gelatin with nuts - in this case Filberts. And it is cut into tiny squares and then liberally coated with ...</td>\n",
       "    </tr>\n",
       "    <tr>\n",
       "      <th>3</th>\n",
       "      <td>4</td>\n",
       "      <td>B000UA0QIQ</td>\n",
       "      <td>A395BORC6FGVXV</td>\n",
       "      <td>Karl</td>\n",
       "      <td>3</td>\n",
       "      <td>3</td>\n",
       "      <td>2</td>\n",
       "      <td>1307923200</td>\n",
       "      <td>Cough Medicine</td>\n",
       "      <td>If you are looking for the secret ingredient in Robitussin I believe I have found it.  I got this in addition to the Root Beer Extract I ordered (which was good) and made some cherry soda.  The fl...</td>\n",
       "    </tr>\n",
       "    <tr>\n",
       "      <th>4</th>\n",
       "      <td>5</td>\n",
       "      <td>B006K2ZZ7K</td>\n",
       "      <td>A1UQRSCLF8GW1T</td>\n",
       "      <td>Michael D. Bigham \"M. Wassir\"</td>\n",
       "      <td>0</td>\n",
       "      <td>0</td>\n",
       "      <td>5</td>\n",
       "      <td>1350777600</td>\n",
       "      <td>Great taffy</td>\n",
       "      <td>Great taffy at a great price.  There was a wide assortment of yummy taffy.  Delivery was very quick.  If your a taffy lover, this is a deal.</td>\n",
       "    </tr>\n",
       "  </tbody>\n",
       "</table>\n",
       "</div>"
      ],
      "text/plain": [
       "   Id   ProductId          UserId                      ProfileName  \\\n",
       "0   1  B001E4KFG0  A3SGXH7AUHU8GW                       delmartian   \n",
       "1   2  B00813GRG4  A1D87F6ZCVE5NK                           dll pa   \n",
       "2   3  B000LQOCH0   ABXLMWJIXXAIN  Natalia Corres \"Natalia Corres\"   \n",
       "3   4  B000UA0QIQ  A395BORC6FGVXV                             Karl   \n",
       "4   5  B006K2ZZ7K  A1UQRSCLF8GW1T    Michael D. Bigham \"M. Wassir\"   \n",
       "\n",
       "   HelpfulnessNumerator  HelpfulnessDenominator  Score        Time  \\\n",
       "0                     1                       1      5  1303862400   \n",
       "1                     0                       0      1  1346976000   \n",
       "2                     1                       1      4  1219017600   \n",
       "3                     3                       3      2  1307923200   \n",
       "4                     0                       0      5  1350777600   \n",
       "\n",
       "                 Summary  \\\n",
       "0  Good Quality Dog Food   \n",
       "1      Not as Advertised   \n",
       "2  \"Delight\" says it all   \n",
       "3         Cough Medicine   \n",
       "4            Great taffy   \n",
       "\n",
       "                                                                                                                                                                                                      Text  \n",
       "0  I have bought several of the Vitality canned dog food products and have found them all to be of good quality. The product looks more like a stew than a processed meat and it smells better. My Labr...  \n",
       "1           Product arrived labeled as Jumbo Salted Peanuts...the peanuts were actually small sized unsalted. Not sure if this was an error or if the vendor intended to represent the product as \"Jumbo\".  \n",
       "2  This is a confection that has been around a few centuries.  It is a light, pillowy citrus gelatin with nuts - in this case Filberts. And it is cut into tiny squares and then liberally coated with ...  \n",
       "3  If you are looking for the secret ingredient in Robitussin I believe I have found it.  I got this in addition to the Root Beer Extract I ordered (which was good) and made some cherry soda.  The fl...  \n",
       "4                                                             Great taffy at a great price.  There was a wide assortment of yummy taffy.  Delivery was very quick.  If your a taffy lover, this is a deal.  "
      ]
     },
     "execution_count": 194,
     "metadata": {},
     "output_type": "execute_result"
    }
   ],
   "source": [
    "df.head()"
   ]
  },
  {
   "cell_type": "code",
   "execution_count": 195,
   "id": "0ec361ee",
   "metadata": {},
   "outputs": [
    {
     "data": {
      "text/plain": [
       "'Good Quality Dog Food'"
      ]
     },
     "execution_count": 195,
     "metadata": {},
     "output_type": "execute_result"
    }
   ],
   "source": [
    "df['Summary'][0]"
   ]
  },
  {
   "cell_type": "code",
   "execution_count": 196,
   "id": "2e2ea081",
   "metadata": {},
   "outputs": [
    {
     "data": {
      "text/plain": [
       "'I have bought several of the Vitality canned dog food products and have found them all to be of good quality. The product looks more like a stew than a processed meat and it smells better. My Labrador is finicky and she appreciates this product better than  most.'"
      ]
     },
     "execution_count": 196,
     "metadata": {},
     "output_type": "execute_result"
    }
   ],
   "source": [
    "df['Text'][0]"
   ]
  },
  {
   "cell_type": "code",
   "execution_count": 197,
   "id": "5054f08e",
   "metadata": {},
   "outputs": [
    {
     "data": {
      "text/plain": [
       "(568454, 10)"
      ]
     },
     "execution_count": 197,
     "metadata": {},
     "output_type": "execute_result"
    }
   ],
   "source": [
    "df.shape"
   ]
  },
  {
   "cell_type": "code",
   "execution_count": 198,
   "id": "2d44ed03",
   "metadata": {},
   "outputs": [
    {
     "data": {
      "text/plain": [
       "Index(['Id', 'ProductId', 'UserId', 'ProfileName', 'HelpfulnessNumerator',\n",
       "       'HelpfulnessDenominator', 'Score', 'Time', 'Summary', 'Text'],\n",
       "      dtype='object')"
      ]
     },
     "execution_count": 198,
     "metadata": {},
     "output_type": "execute_result"
    }
   ],
   "source": [
    "df.columns"
   ]
  },
  {
   "cell_type": "code",
   "execution_count": 199,
   "id": "edebc0b1",
   "metadata": {},
   "outputs": [],
   "source": [
    "# We are just intrested in the two columns that is \"Summary\" and \"Text\", and will discard other columns\n",
    "new_df= df[['Summary','Text']]"
   ]
  },
  {
   "cell_type": "code",
   "execution_count": 200,
   "id": "d89e1ca5",
   "metadata": {},
   "outputs": [
    {
     "data": {
      "text/html": [
       "<div>\n",
       "<style scoped>\n",
       "    .dataframe tbody tr th:only-of-type {\n",
       "        vertical-align: middle;\n",
       "    }\n",
       "\n",
       "    .dataframe tbody tr th {\n",
       "        vertical-align: top;\n",
       "    }\n",
       "\n",
       "    .dataframe thead th {\n",
       "        text-align: right;\n",
       "    }\n",
       "</style>\n",
       "<table border=\"1\" class=\"dataframe\">\n",
       "  <thead>\n",
       "    <tr style=\"text-align: right;\">\n",
       "      <th></th>\n",
       "      <th>Summary</th>\n",
       "      <th>Text</th>\n",
       "    </tr>\n",
       "  </thead>\n",
       "  <tbody>\n",
       "    <tr>\n",
       "      <th>0</th>\n",
       "      <td>Good Quality Dog Food</td>\n",
       "      <td>I have bought several of the Vitality canned dog food products and have found them all to be of good quality. The product looks more like a stew than a processed meat and it smells better. My Labr...</td>\n",
       "    </tr>\n",
       "    <tr>\n",
       "      <th>1</th>\n",
       "      <td>Not as Advertised</td>\n",
       "      <td>Product arrived labeled as Jumbo Salted Peanuts...the peanuts were actually small sized unsalted. Not sure if this was an error or if the vendor intended to represent the product as \"Jumbo\".</td>\n",
       "    </tr>\n",
       "    <tr>\n",
       "      <th>2</th>\n",
       "      <td>\"Delight\" says it all</td>\n",
       "      <td>This is a confection that has been around a few centuries.  It is a light, pillowy citrus gelatin with nuts - in this case Filberts. And it is cut into tiny squares and then liberally coated with ...</td>\n",
       "    </tr>\n",
       "    <tr>\n",
       "      <th>3</th>\n",
       "      <td>Cough Medicine</td>\n",
       "      <td>If you are looking for the secret ingredient in Robitussin I believe I have found it.  I got this in addition to the Root Beer Extract I ordered (which was good) and made some cherry soda.  The fl...</td>\n",
       "    </tr>\n",
       "    <tr>\n",
       "      <th>4</th>\n",
       "      <td>Great taffy</td>\n",
       "      <td>Great taffy at a great price.  There was a wide assortment of yummy taffy.  Delivery was very quick.  If your a taffy lover, this is a deal.</td>\n",
       "    </tr>\n",
       "  </tbody>\n",
       "</table>\n",
       "</div>"
      ],
      "text/plain": [
       "                 Summary  \\\n",
       "0  Good Quality Dog Food   \n",
       "1      Not as Advertised   \n",
       "2  \"Delight\" says it all   \n",
       "3         Cough Medicine   \n",
       "4            Great taffy   \n",
       "\n",
       "                                                                                                                                                                                                      Text  \n",
       "0  I have bought several of the Vitality canned dog food products and have found them all to be of good quality. The product looks more like a stew than a processed meat and it smells better. My Labr...  \n",
       "1           Product arrived labeled as Jumbo Salted Peanuts...the peanuts were actually small sized unsalted. Not sure if this was an error or if the vendor intended to represent the product as \"Jumbo\".  \n",
       "2  This is a confection that has been around a few centuries.  It is a light, pillowy citrus gelatin with nuts - in this case Filberts. And it is cut into tiny squares and then liberally coated with ...  \n",
       "3  If you are looking for the secret ingredient in Robitussin I believe I have found it.  I got this in addition to the Root Beer Extract I ordered (which was good) and made some cherry soda.  The fl...  \n",
       "4                                                             Great taffy at a great price.  There was a wide assortment of yummy taffy.  Delivery was very quick.  If your a taffy lover, this is a deal.  "
      ]
     },
     "execution_count": 200,
     "metadata": {},
     "output_type": "execute_result"
    }
   ],
   "source": [
    "new_df.head()"
   ]
  },
  {
   "cell_type": "code",
   "execution_count": 201,
   "id": "8d71cd99",
   "metadata": {},
   "outputs": [
    {
     "data": {
      "text/plain": [
       "(568454, 2)"
      ]
     },
     "execution_count": 201,
     "metadata": {},
     "output_type": "execute_result"
    }
   ],
   "source": [
    "new_df.shape"
   ]
  },
  {
   "cell_type": "code",
   "execution_count": 202,
   "id": "2ee4b44a",
   "metadata": {},
   "outputs": [],
   "source": [
    "# WE have a very large dataset, so we will only take 100000 samples  to reduce the computation time\n",
    "\n",
    "new_df= new_df[0:100000]"
   ]
  },
  {
   "cell_type": "code",
   "execution_count": 203,
   "id": "3f58e883",
   "metadata": {},
   "outputs": [
    {
     "data": {
      "text/plain": [
       "(100000, 2)"
      ]
     },
     "execution_count": 203,
     "metadata": {},
     "output_type": "execute_result"
    }
   ],
   "source": [
    "new_df.shape"
   ]
  },
  {
   "cell_type": "markdown",
   "id": "a897795c",
   "metadata": {},
   "source": [
    "### Check the Duplicate and NA rows in Text columns"
   ]
  },
  {
   "cell_type": "code",
   "execution_count": 204,
   "id": "c6e7b700",
   "metadata": {},
   "outputs": [
    {
     "data": {
      "text/plain": [
       "(88426,)"
      ]
     },
     "execution_count": 204,
     "metadata": {},
     "output_type": "execute_result"
    }
   ],
   "source": [
    "new_df['Text'].unique().shape"
   ]
  },
  {
   "cell_type": "code",
   "execution_count": 205,
   "id": "18f9eb0c",
   "metadata": {},
   "outputs": [
    {
     "data": {
      "text/plain": [
       "Summary    2\n",
       "Text       0\n",
       "dtype: int64"
      ]
     },
     "execution_count": 205,
     "metadata": {},
     "output_type": "execute_result"
    }
   ],
   "source": [
    "new_df.isna().sum()"
   ]
  },
  {
   "cell_type": "code",
   "execution_count": 206,
   "id": "c0b2b83f",
   "metadata": {},
   "outputs": [],
   "source": [
    "# we will drop the duplicate rows and NA values\n",
    "\n",
    "new_df.drop_duplicates(subset= 'Text', inplace= True)  # droping duplicates\n",
    "new_df.dropna(axis= 0, inplace= True)        # droping NA"
   ]
  },
  {
   "cell_type": "code",
   "execution_count": 207,
   "id": "7acffdf1",
   "metadata": {},
   "outputs": [
    {
     "data": {
      "text/plain": [
       "(88425, 2)"
      ]
     },
     "execution_count": 207,
     "metadata": {},
     "output_type": "execute_result"
    }
   ],
   "source": [
    "new_df.shape"
   ]
  },
  {
   "cell_type": "markdown",
   "id": "f937a25a",
   "metadata": {},
   "source": [
    "### Preprocessing"
   ]
  },
  {
   "cell_type": "code",
   "execution_count": 208,
   "id": "49f2c29f",
   "metadata": {},
   "outputs": [],
   "source": [
    "# Dictionary that we will use for expanding contractions\n",
    "\n",
    "contraction_mapping = {\"ain't\": \"is not\", \"aren't\": \"are not\",\"can't\": \"cannot\", \"'cause\": \"because\", \"could've\": \"could have\", \"couldn't\": \"could not\",\n",
    "\n",
    "                           \"didn't\": \"did not\", \"doesn't\": \"does not\", \"don't\": \"do not\", \"hadn't\": \"had not\", \"hasn't\": \"has not\", \"haven't\": \"have not\",\n",
    "\n",
    "                           \"he'd\": \"he would\",\"he'll\": \"he will\", \"he's\": \"he is\", \"how'd\": \"how did\", \"how'd'y\": \"how do you\", \"how'll\": \"how will\", \"how's\": \"how is\",\n",
    "\n",
    "                           \"I'd\": \"I would\", \"I'd've\": \"I would have\", \"I'll\": \"I will\", \"I'll've\": \"I will have\",\"I'm\": \"I am\", \"I've\": \"I have\", \"i'd\": \"i would\",\n",
    "\n",
    "                           \"i'd've\": \"i would have\", \"i'll\": \"i will\",  \"i'll've\": \"i will have\",\"i'm\": \"i am\", \"i've\": \"i have\", \"isn't\": \"is not\", \"it'd\": \"it would\",\n",
    "\n",
    "                           \"it'd've\": \"it would have\", \"it'll\": \"it will\", \"it'll've\": \"it will have\",\"it's\": \"it is\", \"let's\": \"let us\", \"ma'am\": \"madam\",\n",
    "\n",
    "                           \"mayn't\": \"may not\", \"might've\": \"might have\",\"mightn't\": \"might not\",\"mightn't've\": \"might not have\", \"must've\": \"must have\",\n",
    "\n",
    "                           \"mustn't\": \"must not\", \"mustn't've\": \"must not have\", \"needn't\": \"need not\", \"needn't've\": \"need not have\",\"o'clock\": \"of the clock\",\n",
    "\n",
    "                           \"oughtn't\": \"ought not\", \"oughtn't've\": \"ought not have\", \"shan't\": \"shall not\", \"sha'n't\": \"shall not\", \"shan't've\": \"shall not have\",\n",
    "\n",
    "                           \"she'd\": \"she would\", \"she'd've\": \"she would have\", \"she'll\": \"she will\", \"she'll've\": \"she will have\", \"she's\": \"she is\",\n",
    "\n",
    "                           \"should've\": \"should have\", \"shouldn't\": \"should not\", \"shouldn't've\": \"should not have\", \"so've\": \"so have\",\"so's\": \"so as\",\n",
    "\n",
    "                           \"this's\": \"this is\",\"that'd\": \"that would\", \"that'd've\": \"that would have\", \"that's\": \"that is\", \"there'd\": \"there would\",\n",
    "\n",
    "                           \"there'd've\": \"there would have\", \"there's\": \"there is\", \"here's\": \"here is\",\"they'd\": \"they would\", \"they'd've\": \"they would have\",\n",
    "\n",
    "                           \"they'll\": \"they will\", \"they'll've\": \"they will have\", \"they're\": \"they are\", \"they've\": \"they have\", \"to've\": \"to have\",\n",
    "\n",
    "                           \"wasn't\": \"was not\", \"we'd\": \"we would\", \"we'd've\": \"we would have\", \"we'll\": \"we will\", \"we'll've\": \"we will have\", \"we're\": \"we are\",\n",
    "\n",
    "                           \"we've\": \"we have\", \"weren't\": \"were not\", \"what'll\": \"what will\", \"what'll've\": \"what will have\", \"what're\": \"what are\",\n",
    "\n",
    "                           \"what's\": \"what is\", \"what've\": \"what have\", \"when's\": \"when is\", \"when've\": \"when have\", \"where'd\": \"where did\", \"where's\": \"where is\",\n",
    "\n",
    "                           \"where've\": \"where have\", \"who'll\": \"who will\", \"who'll've\": \"who will have\", \"who's\": \"who is\", \"who've\": \"who have\",\n",
    "\n",
    "                           \"why's\": \"why is\", \"why've\": \"why have\", \"will've\": \"will have\", \"won't\": \"will not\", \"won't've\": \"will not have\",\n",
    "\n",
    "                           \"would've\": \"would have\", \"wouldn't\": \"would not\", \"wouldn't've\": \"would not have\", \"y'all\": \"you all\",\n",
    "\n",
    "                           \"y'all'd\": \"you all would\",\"y'all'd've\": \"you all would have\",\"y'all're\": \"you all are\",\"y'all've\": \"you all have\",\n",
    "\n",
    "                           \"you'd\": \"you would\", \"you'd've\": \"you would have\", \"you'll\": \"you will\", \"you'll've\": \"you will have\",\n",
    "\n",
    "                           \"you're\": \"you are\", \"you've\": \"you have\"}"
   ]
  },
  {
   "cell_type": "markdown",
   "id": "e814cecd",
   "metadata": {},
   "source": [
    "#### We will perform seprate text preprocessing for Reviews and Text Summarization"
   ]
  },
  {
   "cell_type": "markdown",
   "id": "a5961e9d",
   "metadata": {},
   "source": [
    "### a) Text / Reviews Cleaning"
   ]
  },
  {
   "cell_type": "code",
   "execution_count": 209,
   "id": "0dc569c1",
   "metadata": {},
   "outputs": [
    {
     "data": {
      "text/plain": [
       "0    I have bought several of the Vitality canned dog food products and have found them all to be of good quality. The product looks more like a stew than a processed meat and it smells better. My Labr...\n",
       "1             Product arrived labeled as Jumbo Salted Peanuts...the peanuts were actually small sized unsalted. Not sure if this was an error or if the vendor intended to represent the product as \"Jumbo\".\n",
       "2    This is a confection that has been around a few centuries.  It is a light, pillowy citrus gelatin with nuts - in this case Filberts. And it is cut into tiny squares and then liberally coated with ...\n",
       "3    If you are looking for the secret ingredient in Robitussin I believe I have found it.  I got this in addition to the Root Beer Extract I ordered (which was good) and made some cherry soda.  The fl...\n",
       "4                                                               Great taffy at a great price.  There was a wide assortment of yummy taffy.  Delivery was very quick.  If your a taffy lover, this is a deal.\n",
       "5    I got a wild hair for taffy and ordered this five pound bag. The taffy was all very enjoyable with many flavors: watermelon, root beer, melon, peppermint, grape, etc. My only complaint is there wa...\n",
       "6    This saltwater taffy had great flavors and was very soft and chewy.  Each candy was individually wrapped well.  None of the candies were stuck together, which did happen in the expensive version, ...\n",
       "7                                                               This taffy is so good.  It is very soft and chewy.  The flavors are amazing.  I would definitely recommend you buying it.  Very satisfying!!\n",
       "8                                                                        Right now I'm mostly just sprouting this so my cats can eat the grass. They love it. I rotate it around with Wheatgrass and Rye too\n",
       "9                                                                  This is a very healthy dog food. Good for their digestion. Also good for small puppies. My dog eats her required amount at every feeding.\n",
       "Name: Text, dtype: object"
      ]
     },
     "execution_count": 209,
     "metadata": {},
     "output_type": "execute_result"
    }
   ],
   "source": [
    "# let's peak at the text data\n",
    "new_df['Text'][:10]"
   ]
  },
  {
   "cell_type": "markdown",
   "id": "32798789",
   "metadata": {},
   "source": [
    "##### We will perform the below preprocessing tasks for our data:\n",
    "\n",
    "Convert everything to lowercase\n",
    "\n",
    "Remove HTML tags\n",
    "\n",
    "Contraction mapping\n",
    "\n",
    "Remove (‘s)\n",
    "\n",
    "Remove any text inside the parenthesis ( )\n",
    "\n",
    "Eliminate punctuations and special characters\n",
    "\n",
    "Remove stopwords\n",
    "\n",
    "Remove short words\n"
   ]
  },
  {
   "cell_type": "code",
   "execution_count": 210,
   "id": "c35669ec",
   "metadata": {},
   "outputs": [],
   "source": [
    "# Text Preprocessing for Text Reviews Column\n",
    "\n",
    "def review_cleaning(text):\n",
    "    \n",
    "    # convert the text into lower case\n",
    "    new_text= text.lower()\n",
    "    # remove html tags if any\n",
    "    new_text = BeautifulSoup(new_text, 'lxml').text\n",
    "    # contraction mapping\n",
    "    new_text= ' '.join([contraction_mapping[txt] if txt in contraction_mapping else txt for txt in new_text.split(\" \")])\n",
    "    # replace \"\" to empty space\n",
    "    new_text= re.sub('\"', '', new_text)\n",
    "    # remove 's\n",
    "    new_text= re.sub('\\'s', '', new_text)\n",
    "    # remove any text inside the paranthesis\n",
    "    new_text= re.sub(r'\\([^)]*\\)', '', new_text)\n",
    "    # keep only alphabets, discard anything else\n",
    "    new_text= re.sub('[^a-zA-Z]', ' ', new_text)\n",
    "    # remove stopwords\n",
    "    new_text= [txt for txt in new_text.split() if txt not in stopwords.words('english')]\n",
    "    \n",
    "    # remove short words\n",
    "    longwords= []\n",
    "    for i in new_text:\n",
    "        if len(i) >= 3:\n",
    "            longwords.append(i)\n",
    "#     print((' '.join(longwords)))\n",
    "    return (' '.join(longwords)).strip()\n",
    "            \n",
    "    "
   ]
  },
  {
   "cell_type": "code",
   "execution_count": 211,
   "id": "6c495914",
   "metadata": {},
   "outputs": [],
   "source": [
    "cleaned_txt= []\n",
    "\n",
    "for txt in new_df['Text']:\n",
    "    cleaned_txt.append(review_cleaning(txt))"
   ]
  },
  {
   "cell_type": "code",
   "execution_count": 212,
   "id": "e8e147c1",
   "metadata": {},
   "outputs": [
    {
     "data": {
      "text/plain": [
       "'remove shortshould words'"
      ]
     },
     "execution_count": 212,
     "metadata": {},
     "output_type": "execute_result"
    }
   ],
   "source": [
    "review_cleaning(\"Remove (short\"\"\" \"should's is the words\")"
   ]
  },
  {
   "cell_type": "markdown",
   "id": "5559c3d2",
   "metadata": {},
   "source": [
    "### Summary Cleaning"
   ]
  },
  {
   "cell_type": "code",
   "execution_count": 213,
   "id": "2ddc71e8",
   "metadata": {},
   "outputs": [
    {
     "data": {
      "text/plain": [
       "0                            Good Quality Dog Food\n",
       "1                                Not as Advertised\n",
       "2                            \"Delight\" says it all\n",
       "3                                   Cough Medicine\n",
       "4                                      Great taffy\n",
       "5                                       Nice Taffy\n",
       "6    Great!  Just as good as the expensive brands!\n",
       "7                           Wonderful, tasty taffy\n",
       "8                                       Yay Barley\n",
       "9                                 Healthy Dog Food\n",
       "Name: Summary, dtype: object"
      ]
     },
     "execution_count": 213,
     "metadata": {},
     "output_type": "execute_result"
    }
   ],
   "source": [
    "new_df['Summary'][:10]"
   ]
  },
  {
   "cell_type": "code",
   "execution_count": 214,
   "id": "3afdd40b",
   "metadata": {},
   "outputs": [],
   "source": [
    "def Summary_cleaning(text):\n",
    "    \n",
    "    # convert the text into lower case\n",
    "    new_txt= text.lower()\n",
    "    # contraction mapping\n",
    "    new_txt= ' '.join([contraction_mapping[txt] if txt in contraction_mapping else txt for txt in new_txt.split()])\n",
    "    # remove 's\n",
    "    new_txt= re.sub('\\'s', '', new_txt)\n",
    "    # only have aplhabets\n",
    "    new_txt= re.sub('[^a-zA-Z]', ' ', new_txt)\n",
    "    \n",
    "    # create tokens by splitting\n",
    "    tokens= new_txt.split()\n",
    "    \n",
    "    new_string= ''\n",
    "#     print(tokens)\n",
    "    \n",
    "    for i in tokens:\n",
    "#         print(i)\n",
    "        if len(i) > 1:\n",
    "            new_string= new_string + i + ' '\n",
    "    return new_string          "
   ]
  },
  {
   "cell_type": "code",
   "execution_count": 215,
   "id": "7a7560b8",
   "metadata": {},
   "outputs": [],
   "source": [
    "# call above function\n",
    "\n",
    "cleaned_summary= []\n",
    "for txt in new_df['Summary']:\n",
    "    cleaned_summary.append(Summary_cleaning(txt))\n",
    "    "
   ]
  },
  {
   "cell_type": "code",
   "execution_count": 216,
   "id": "33f56377",
   "metadata": {},
   "outputs": [
    {
     "data": {
      "text/plain": [
       "['good quality dog food ',\n",
       " 'not as advertised ',\n",
       " 'delight says it all ',\n",
       " 'cough medicine ',\n",
       " 'great taffy ']"
      ]
     },
     "execution_count": 216,
     "metadata": {},
     "output_type": "execute_result"
    }
   ],
   "source": [
    "cleaned_summary[:5]"
   ]
  },
  {
   "cell_type": "code",
   "execution_count": 217,
   "id": "f5d3b266",
   "metadata": {},
   "outputs": [],
   "source": [
    "# create new columns for cleaned text and summary\n",
    "\n",
    "new_df['cleaned_text']= cleaned_txt\n",
    "new_df['cleaned_summary']= cleaned_summary\n"
   ]
  },
  {
   "cell_type": "code",
   "execution_count": 218,
   "id": "68c36d48",
   "metadata": {},
   "outputs": [
    {
     "data": {
      "text/html": [
       "<div>\n",
       "<style scoped>\n",
       "    .dataframe tbody tr th:only-of-type {\n",
       "        vertical-align: middle;\n",
       "    }\n",
       "\n",
       "    .dataframe tbody tr th {\n",
       "        vertical-align: top;\n",
       "    }\n",
       "\n",
       "    .dataframe thead th {\n",
       "        text-align: right;\n",
       "    }\n",
       "</style>\n",
       "<table border=\"1\" class=\"dataframe\">\n",
       "  <thead>\n",
       "    <tr style=\"text-align: right;\">\n",
       "      <th></th>\n",
       "      <th>Summary</th>\n",
       "      <th>Text</th>\n",
       "      <th>cleaned_text</th>\n",
       "      <th>cleaned_summary</th>\n",
       "    </tr>\n",
       "  </thead>\n",
       "  <tbody>\n",
       "    <tr>\n",
       "      <th>0</th>\n",
       "      <td>Good Quality Dog Food</td>\n",
       "      <td>I have bought several of the Vitality canned dog food products and have found them all to be of good quality. The product looks more like a stew than a processed meat and it smells better. My Labr...</td>\n",
       "      <td>bought several vitality canned dog food products found good quality product looks like stew processed meat smells better labrador finicky appreciates product better</td>\n",
       "      <td>good quality dog food</td>\n",
       "    </tr>\n",
       "    <tr>\n",
       "      <th>1</th>\n",
       "      <td>Not as Advertised</td>\n",
       "      <td>Product arrived labeled as Jumbo Salted Peanuts...the peanuts were actually small sized unsalted. Not sure if this was an error or if the vendor intended to represent the product as \"Jumbo\".</td>\n",
       "      <td>product arrived labeled jumbo salted peanuts peanuts actually small sized unsalted sure error vendor intended represent product jumbo</td>\n",
       "      <td>not as advertised</td>\n",
       "    </tr>\n",
       "    <tr>\n",
       "      <th>2</th>\n",
       "      <td>\"Delight\" says it all</td>\n",
       "      <td>This is a confection that has been around a few centuries.  It is a light, pillowy citrus gelatin with nuts - in this case Filberts. And it is cut into tiny squares and then liberally coated with ...</td>\n",
       "      <td>confection around centuries light pillowy citrus gelatin nuts case filberts cut tiny squares liberally coated powdered sugar tiny mouthful heaven chewy flavorful highly recommend yummy treat famil...</td>\n",
       "      <td>delight says it all</td>\n",
       "    </tr>\n",
       "    <tr>\n",
       "      <th>3</th>\n",
       "      <td>Cough Medicine</td>\n",
       "      <td>If you are looking for the secret ingredient in Robitussin I believe I have found it.  I got this in addition to the Root Beer Extract I ordered (which was good) and made some cherry soda.  The fl...</td>\n",
       "      <td>looking secret ingredient robitussin believe found got addition root beer extract ordered made cherry soda flavor medicinal</td>\n",
       "      <td>cough medicine</td>\n",
       "    </tr>\n",
       "    <tr>\n",
       "      <th>4</th>\n",
       "      <td>Great taffy</td>\n",
       "      <td>Great taffy at a great price.  There was a wide assortment of yummy taffy.  Delivery was very quick.  If your a taffy lover, this is a deal.</td>\n",
       "      <td>great taffy great price wide assortment yummy taffy delivery quick taffy lover deal</td>\n",
       "      <td>great taffy</td>\n",
       "    </tr>\n",
       "  </tbody>\n",
       "</table>\n",
       "</div>"
      ],
      "text/plain": [
       "                 Summary  \\\n",
       "0  Good Quality Dog Food   \n",
       "1      Not as Advertised   \n",
       "2  \"Delight\" says it all   \n",
       "3         Cough Medicine   \n",
       "4            Great taffy   \n",
       "\n",
       "                                                                                                                                                                                                      Text  \\\n",
       "0  I have bought several of the Vitality canned dog food products and have found them all to be of good quality. The product looks more like a stew than a processed meat and it smells better. My Labr...   \n",
       "1           Product arrived labeled as Jumbo Salted Peanuts...the peanuts were actually small sized unsalted. Not sure if this was an error or if the vendor intended to represent the product as \"Jumbo\".   \n",
       "2  This is a confection that has been around a few centuries.  It is a light, pillowy citrus gelatin with nuts - in this case Filberts. And it is cut into tiny squares and then liberally coated with ...   \n",
       "3  If you are looking for the secret ingredient in Robitussin I believe I have found it.  I got this in addition to the Root Beer Extract I ordered (which was good) and made some cherry soda.  The fl...   \n",
       "4                                                             Great taffy at a great price.  There was a wide assortment of yummy taffy.  Delivery was very quick.  If your a taffy lover, this is a deal.   \n",
       "\n",
       "                                                                                                                                                                                              cleaned_text  \\\n",
       "0                                     bought several vitality canned dog food products found good quality product looks like stew processed meat smells better labrador finicky appreciates product better   \n",
       "1                                                                    product arrived labeled jumbo salted peanuts peanuts actually small sized unsalted sure error vendor intended represent product jumbo   \n",
       "2  confection around centuries light pillowy citrus gelatin nuts case filberts cut tiny squares liberally coated powdered sugar tiny mouthful heaven chewy flavorful highly recommend yummy treat famil...   \n",
       "3                                                                              looking secret ingredient robitussin believe found got addition root beer extract ordered made cherry soda flavor medicinal   \n",
       "4                                                                                                                      great taffy great price wide assortment yummy taffy delivery quick taffy lover deal   \n",
       "\n",
       "          cleaned_summary  \n",
       "0  good quality dog food   \n",
       "1      not as advertised   \n",
       "2    delight says it all   \n",
       "3         cough medicine   \n",
       "4            great taffy   "
      ]
     },
     "execution_count": 218,
     "metadata": {},
     "output_type": "execute_result"
    }
   ],
   "source": [
    "new_df.head()"
   ]
  },
  {
   "cell_type": "code",
   "execution_count": 219,
   "id": "f2364cb4",
   "metadata": {},
   "outputs": [
    {
     "name": "stdout",
     "output_type": "stream",
     "text": [
      "['K']\n",
      "['Q']\n"
     ]
    },
    {
     "data": {
      "text/plain": [
       "2"
      ]
     },
     "execution_count": 219,
     "metadata": {},
     "output_type": "execute_result"
    }
   ],
   "source": [
    "li= []\n",
    "for i in new_df['Summary']:\n",
    "    if len(i)<=1:\n",
    "        li.append(i)\n",
    "        print([i]) \n",
    "len(li)"
   ]
  },
  {
   "cell_type": "code",
   "execution_count": 220,
   "id": "693cc05f",
   "metadata": {},
   "outputs": [
    {
     "data": {
      "text/plain": [
       "88425"
      ]
     },
     "execution_count": 220,
     "metadata": {},
     "output_type": "execute_result"
    }
   ],
   "source": [
    "len(new_df['cleaned_summary'])"
   ]
  },
  {
   "cell_type": "code",
   "execution_count": 221,
   "id": "bef2f572",
   "metadata": {},
   "outputs": [
    {
     "data": {
      "text/plain": [
       "0"
      ]
     },
     "execution_count": 221,
     "metadata": {},
     "output_type": "execute_result"
    }
   ],
   "source": [
    "new_df['cleaned_summary'].isna().sum()"
   ]
  },
  {
   "cell_type": "code",
   "execution_count": 222,
   "id": "68701f80",
   "metadata": {},
   "outputs": [
    {
     "data": {
      "text/html": [
       "<div>\n",
       "<style scoped>\n",
       "    .dataframe tbody tr th:only-of-type {\n",
       "        vertical-align: middle;\n",
       "    }\n",
       "\n",
       "    .dataframe tbody tr th {\n",
       "        vertical-align: top;\n",
       "    }\n",
       "\n",
       "    .dataframe thead th {\n",
       "        text-align: right;\n",
       "    }\n",
       "</style>\n",
       "<table border=\"1\" class=\"dataframe\">\n",
       "  <thead>\n",
       "    <tr style=\"text-align: right;\">\n",
       "      <th></th>\n",
       "      <th>Summary</th>\n",
       "      <th>Text</th>\n",
       "      <th>cleaned_text</th>\n",
       "      <th>cleaned_summary</th>\n",
       "    </tr>\n",
       "  </thead>\n",
       "  <tbody>\n",
       "  </tbody>\n",
       "</table>\n",
       "</div>"
      ],
      "text/plain": [
       "Empty DataFrame\n",
       "Columns: [Summary, Text, cleaned_text, cleaned_summary]\n",
       "Index: []"
      ]
     },
     "execution_count": 222,
     "metadata": {},
     "output_type": "execute_result"
    }
   ],
   "source": [
    "new_df[new_df['cleaned_summary'].isnull()]"
   ]
  },
  {
   "cell_type": "code",
   "execution_count": 223,
   "id": "dbafa8e9",
   "metadata": {},
   "outputs": [],
   "source": [
    "# replace empty places with nan and then drop the Nan's\n",
    "new_df['cleaned_summary'].replace('', np.nan, inplace= True)\n",
    "new_df.dropna(axis= 0, inplace= True)"
   ]
  },
  {
   "cell_type": "code",
   "execution_count": 224,
   "id": "580d2f1a",
   "metadata": {},
   "outputs": [
    {
     "data": {
      "text/plain": [
       "(88356,)"
      ]
     },
     "execution_count": 224,
     "metadata": {},
     "output_type": "execute_result"
    }
   ],
   "source": [
    "new_df['cleaned_summary'].shape"
   ]
  },
  {
   "cell_type": "code",
   "execution_count": 225,
   "id": "c3af9e9d",
   "metadata": {},
   "outputs": [],
   "source": [
    "# Add START and END special tokens at the start and end of the summary\n",
    "\n",
    "new_df['cleaned_summary']= new_df['cleaned_summary'].apply(lambda x: '_START_' + x +'_END_')"
   ]
  },
  {
   "cell_type": "code",
   "execution_count": 226,
   "id": "6341fa23",
   "metadata": {},
   "outputs": [
    {
     "name": "stdout",
     "output_type": "stream",
     "text": [
      "bought several vitality canned dog food products found good quality product looks like stew processed meat smells better labrador finicky appreciates product better\n",
      "_START_good quality dog food _END_\n",
      "\n",
      "\n",
      "product arrived labeled jumbo salted peanuts peanuts actually small sized unsalted sure error vendor intended represent product jumbo\n",
      "_START_not as advertised _END_\n",
      "\n",
      "\n",
      "confection around centuries light pillowy citrus gelatin nuts case filberts cut tiny squares liberally coated powdered sugar tiny mouthful heaven chewy flavorful highly recommend yummy treat familiar story lewis lion witch wardrobe treat seduces edmund selling brother sisters witch\n",
      "_START_delight says it all _END_\n",
      "\n",
      "\n",
      "looking secret ingredient robitussin believe found got addition root beer extract ordered made cherry soda flavor medicinal\n",
      "_START_cough medicine _END_\n",
      "\n",
      "\n",
      "great taffy great price wide assortment yummy taffy delivery quick taffy lover deal\n",
      "_START_great taffy _END_\n",
      "\n",
      "\n"
     ]
    }
   ],
   "source": [
    "# Let's peak at the first 5 processed text and clean summary\n",
    "\n",
    "for i in range(5):\n",
    "    print(new_df['cleaned_text'][i])\n",
    "    print(new_df['cleaned_summary'][i])\n",
    "    print('\\n')\n",
    "    "
   ]
  },
  {
   "cell_type": "markdown",
   "id": "8b4d602f",
   "metadata": {},
   "source": [
    "### Understanding the distibution of the sequences"
   ]
  },
  {
   "cell_type": "code",
   "execution_count": 227,
   "id": "0170f707",
   "metadata": {},
   "outputs": [
    {
     "data": {
      "text/html": [
       "<div>\n",
       "<style scoped>\n",
       "    .dataframe tbody tr th:only-of-type {\n",
       "        vertical-align: middle;\n",
       "    }\n",
       "\n",
       "    .dataframe tbody tr th {\n",
       "        vertical-align: top;\n",
       "    }\n",
       "\n",
       "    .dataframe thead th {\n",
       "        text-align: right;\n",
       "    }\n",
       "</style>\n",
       "<table border=\"1\" class=\"dataframe\">\n",
       "  <thead>\n",
       "    <tr style=\"text-align: right;\">\n",
       "      <th></th>\n",
       "      <th>text</th>\n",
       "      <th>summary</th>\n",
       "    </tr>\n",
       "  </thead>\n",
       "  <tbody>\n",
       "    <tr>\n",
       "      <th>0</th>\n",
       "      <td>23</td>\n",
       "      <td>5</td>\n",
       "    </tr>\n",
       "    <tr>\n",
       "      <th>1</th>\n",
       "      <td>18</td>\n",
       "      <td>4</td>\n",
       "    </tr>\n",
       "    <tr>\n",
       "      <th>2</th>\n",
       "      <td>39</td>\n",
       "      <td>5</td>\n",
       "    </tr>\n",
       "    <tr>\n",
       "      <th>3</th>\n",
       "      <td>17</td>\n",
       "      <td>3</td>\n",
       "    </tr>\n",
       "    <tr>\n",
       "      <th>4</th>\n",
       "      <td>13</td>\n",
       "      <td>3</td>\n",
       "    </tr>\n",
       "    <tr>\n",
       "      <th>...</th>\n",
       "      <td>...</td>\n",
       "      <td>...</td>\n",
       "    </tr>\n",
       "    <tr>\n",
       "      <th>88351</th>\n",
       "      <td>7</td>\n",
       "      <td>2</td>\n",
       "    </tr>\n",
       "    <tr>\n",
       "      <th>88352</th>\n",
       "      <td>91</td>\n",
       "      <td>4</td>\n",
       "    </tr>\n",
       "    <tr>\n",
       "      <th>88353</th>\n",
       "      <td>20</td>\n",
       "      <td>3</td>\n",
       "    </tr>\n",
       "    <tr>\n",
       "      <th>88354</th>\n",
       "      <td>28</td>\n",
       "      <td>2</td>\n",
       "    </tr>\n",
       "    <tr>\n",
       "      <th>88355</th>\n",
       "      <td>22</td>\n",
       "      <td>13</td>\n",
       "    </tr>\n",
       "  </tbody>\n",
       "</table>\n",
       "<p>88356 rows × 2 columns</p>\n",
       "</div>"
      ],
      "text/plain": [
       "       text  summary\n",
       "0        23        5\n",
       "1        18        4\n",
       "2        39        5\n",
       "3        17        3\n",
       "4        13        3\n",
       "...     ...      ...\n",
       "88351     7        2\n",
       "88352    91        4\n",
       "88353    20        3\n",
       "88354    28        2\n",
       "88355    22       13\n",
       "\n",
       "[88356 rows x 2 columns]"
      ]
     },
     "execution_count": 227,
     "metadata": {},
     "output_type": "execute_result"
    }
   ],
   "source": [
    "text_word_count= []\n",
    "summary_word_count= []\n",
    "\n",
    "# check the length of the texts and store the count \n",
    "for i in new_df['cleaned_text']:\n",
    "    \n",
    "    text_word_count.append(len(i.split()))\n",
    "    \n",
    "# check the length of the summary and store the count \n",
    "for i in new_df['cleaned_summary']:\n",
    "    summary_word_count.append(len(i.split()))\n",
    "    \n",
    "\n",
    "# lets creata a dataframe for the count of length\n",
    "\n",
    "length_df= pd.DataFrame({'text': text_word_count, 'summary': summary_word_count})\n",
    "length_df"
   ]
  },
  {
   "cell_type": "code",
   "execution_count": 228,
   "id": "3cfadc46",
   "metadata": {},
   "outputs": [
    {
     "data": {
      "image/png": "[encoded data removed]",
      "text/plain": [
       "<Figure size 640x480 with 2 Axes>"
      ]
     },
     "metadata": {},
     "output_type": "display_data"
    }
   ],
   "source": [
    "# lets visualize it on a histogram \n",
    "length_df.hist(bins= 30)\n",
    "plt.show()"
   ]
  },
  {
   "cell_type": "code",
   "execution_count": 229,
   "id": "6338e693",
   "metadata": {},
   "outputs": [
    {
     "data": {
      "text/plain": [
       "(1212, 29)"
      ]
     },
     "execution_count": 229,
     "metadata": {},
     "output_type": "execute_result"
    }
   ],
   "source": [
    "# check what is the max length of sentence in text and in summary\n",
    "max(length_df['text']), max(length_df['summary'])"
   ]
  },
  {
   "cell_type": "raw",
   "id": "a1b6901d",
   "metadata": {},
   "source": [
    "fix the maximum length of the reviews to 80 since that seems to be the majority review length. Similarly, we can set the maximum summary length to 10"
   ]
  },
  {
   "cell_type": "code",
   "execution_count": 230,
   "id": "7364ed4c",
   "metadata": {},
   "outputs": [],
   "source": [
    "max_len_text= 80\n",
    "max_len_summary= 10 "
   ]
  },
  {
   "cell_type": "markdown",
   "id": "4be37b41",
   "metadata": {},
   "source": [
    "### Split Train and Test Data"
   ]
  },
  {
   "cell_type": "code",
   "execution_count": 231,
   "id": "34ec2dbb",
   "metadata": {},
   "outputs": [
    {
     "data": {
      "text/plain": [
       "((79520,), (79520,), (8836,), (8836,))"
      ]
     },
     "execution_count": 231,
     "metadata": {},
     "output_type": "execute_result"
    }
   ],
   "source": [
    "from sklearn.model_selection import train_test_split\n",
    "\n",
    "X_train, X_val, y_train, y_val = train_test_split(new_df['cleaned_text'], new_df['cleaned_summary'], test_size= 0.1, random_state= 0, shuffle= True)\n",
    "\n",
    "X_train.shape,  y_train.shape, X_val.shape, y_val.shape"
   ]
  },
  {
   "cell_type": "code",
   "execution_count": 232,
   "id": "15ffeae3",
   "metadata": {},
   "outputs": [
    {
     "data": {
      "text/plain": [
       "3256                                                                                   item awesome chocolate flavor would recommend product anyone looking hot chocolate keurig machine uses cups great product\n",
       "48474                                                                                      really enjoyed cereal bar banana nut bread flavor tasted authentic like banana flavoring moist dense around great bar\n",
       "92377                           coffee bolder expected expecting nice medium roast blend flavor bolder stronger even brewing cups pod smells awesome package brewing pods fit keurig perfectly use reorder blend\n",
       "29078    second flavor izze tried first clementine tasty syrupy really enjoyed flavor tried blackberry unlike clementine flavor name drink also makes one juices used make beverage blackberry like clementin...\n",
       "15364    agree review beware plant pictured anything like purchased desert rose dad fell love one photo description amazon shipping weight says lbs mine ups lbs totally disappointed paid shipping get deser...\n",
       "Name: cleaned_text, dtype: object"
      ]
     },
     "execution_count": 232,
     "metadata": {},
     "output_type": "execute_result"
    }
   ],
   "source": [
    "X_train.head()"
   ]
  },
  {
   "cell_type": "code",
   "execution_count": 233,
   "id": "4f21a028",
   "metadata": {},
   "outputs": [
    {
     "data": {
      "text/plain": [
       "3256                                _START_love this _END_\n",
       "48474               _START_great on the go breakfast _END_\n",
       "92377                    _START_bolder than expected _END_\n",
       "29078    _START_another flavor and another thumbs up _END_\n",
       "15364    _START_not as pictured at all false listing _END_\n",
       "Name: cleaned_summary, dtype: object"
      ]
     },
     "execution_count": 233,
     "metadata": {},
     "output_type": "execute_result"
    }
   ],
   "source": [
    "y_train.head()"
   ]
  },
  {
   "cell_type": "markdown",
   "id": "fb76e918",
   "metadata": {},
   "source": [
    "### Prepare Tokenizer\n",
    "\n",
    "A tokenizer builds the vocabulary and converts a word sequence to an integer sequence."
   ]
  },
  {
   "cell_type": "markdown",
   "id": "9eb03f07",
   "metadata": {},
   "source": [
    "#### a) Text Tokenizer"
   ]
  },
  {
   "cell_type": "code",
   "execution_count": 234,
   "id": "505db52d",
   "metadata": {},
   "outputs": [
    {
     "data": {
      "text/plain": [
       "51825"
      ]
     },
     "execution_count": 234,
     "metadata": {},
     "output_type": "execute_result"
    }
   ],
   "source": [
    "# prepare tokenizer for reviews on training data\n",
    "\n",
    "text_tokenizer= Tokenizer()\n",
    "text_tokenizer.fit_on_texts(list(X_train))\n",
    "\n",
    "# convert text seq into integer seq\n",
    "X_train= text_tokenizer.texts_to_sequences(X_train)\n",
    "X_val= text_tokenizer.texts_to_sequences(X_val)\n",
    "\n",
    "\n",
    "# padding zero upto maximum length\n",
    "X_train= pad_sequences(X_train, maxlen= max_len_text, padding= 'post')\n",
    "X_val= pad_sequences(X_val, maxlen= max_len_text, padding= 'post')\n",
    "\n",
    "X_voc_size= len(text_tokenizer.word_index) + 1\n",
    "\n",
    "X_voc_size"
   ]
  },
  {
   "cell_type": "code",
   "execution_count": 235,
   "id": "775abd92",
   "metadata": {},
   "outputs": [
    {
     "data": {
      "text/plain": [
       "array([243, 429,  27,   8,   5,  60,   7, 333, 132,  72,  27, 357, 393,\n",
       "       797, 155,   6,   7,   0,   0,   0,   0,   0,   0,   0,   0,   0,\n",
       "         0,   0,   0,   0,   0,   0,   0,   0,   0,   0,   0,   0,   0,\n",
       "         0,   0,   0,   0,   0,   0,   0,   0,   0,   0,   0,   0,   0,\n",
       "         0,   0,   0,   0,   0,   0,   0,   0,   0,   0,   0,   0,   0,\n",
       "         0,   0,   0,   0,   0,   0,   0,   0,   0,   0,   0,   0,   0,\n",
       "         0,   0])"
      ]
     },
     "execution_count": 235,
     "metadata": {},
     "output_type": "execute_result"
    }
   ],
   "source": [
    "X_train[0]"
   ]
  },
  {
   "cell_type": "markdown",
   "id": "f4791097",
   "metadata": {},
   "source": [
    "### b) Summary Tokenizer"
   ]
  },
  {
   "cell_type": "code",
   "execution_count": 236,
   "id": "d9505ae6",
   "metadata": {},
   "outputs": [
    {
     "data": {
      "text/plain": [
       "14068"
      ]
     },
     "execution_count": 236,
     "metadata": {},
     "output_type": "execute_result"
    }
   ],
   "source": [
    "# preparing tokenixer for Summary columns\n",
    "summary_tokenizer= Tokenizer()\n",
    "summary_tokenizer.fit_on_texts(list(y_train))\n",
    "\n",
    "y_train= summary_tokenizer.texts_to_sequences(y_train)\n",
    "y_val= summary_tokenizer.texts_to_sequences(y_val)\n",
    "\n",
    "\n",
    "# padding zero upto max length\n",
    "y_train= pad_sequences(y_train, maxlen= max_len_summary, padding= 'post')\n",
    "y_val= pad_sequences(y_val, maxlen= max_len_summary, padding= 'post')\n",
    "\n",
    "y_voc_size= len(summary_tokenizer.word_index) + 1\n",
    "y_voc_size"
   ]
  },
  {
   "cell_type": "markdown",
   "id": "f6412088",
   "metadata": {},
   "source": [
    "### Model Building\n",
    "\n",
    "\n",
    "Return Sequences = True: When the return sequences parameter is set to True, LSTM produces the hidden state and cell state for every timestep\n",
    "\n",
    "Return State = True: When return state = True, LSTM produces the hidden state and cell state of the last timestep only.\n",
    "\n",
    "Initial State: This is used to initialize the internal states of the LSTM for the first timestep.\n",
    "\n",
    "Stacked LSTM: Stacked LSTM has multiple layers of LSTM stacked on top of each other. This leads to a better representation of the sequence. I encourage you to experiment with the multiple layers of the LSTM stacked on top of each other (it’s a great way to learn this)\n"
   ]
  },
  {
   "cell_type": "code",
   "execution_count": 237,
   "id": "d6868fb6",
   "metadata": {},
   "outputs": [
    {
     "name": "stdout",
     "output_type": "stream",
     "text": [
      "Model: \"model\"\n",
      "__________________________________________________________________________________________________\n",
      " Layer (type)                Output Shape                 Param #   Connected to                  \n",
      "==================================================================================================\n",
      " input_1 (InputLayer)        [(None, 80)]                 0         []                            \n",
      "                                                                                                  \n",
      " embedding (Embedding)       (None, 80, 500)              2591250   ['input_1[0][0]']             \n",
      "                                                          0                                       \n",
      "                                                                                                  \n",
      " lstm (LSTM)                 [(None, 80, 500),            2002000   ['embedding[0][0]']           \n",
      "                              (None, 500),                                                        \n",
      "                              (None, 500)]                                                        \n",
      "                                                                                                  \n",
      " input_2 (InputLayer)        [(None, None)]               0         []                            \n",
      "                                                                                                  \n",
      " lstm_1 (LSTM)               [(None, 80, 500),            2002000   ['lstm[0][0]']                \n",
      "                              (None, 500),                                                        \n",
      "                              (None, 500)]                                                        \n",
      "                                                                                                  \n",
      " embedding_1 (Embedding)     (None, None, 500)            7034000   ['input_2[0][0]']             \n",
      "                                                                                                  \n",
      " lstm_2 (LSTM)               [(None, 80, 500),            2002000   ['lstm_1[0][0]']              \n",
      "                              (None, 500),                                                        \n",
      "                              (None, 500)]                                                        \n",
      "                                                                                                  \n",
      " lstm_3 (LSTM)               [(None, None, 500),          2002000   ['embedding_1[0][0]',         \n",
      "                              (None, 500),                           'lstm_2[0][1]',              \n",
      "                              (None, 500)]                           'lstm_2[0][2]']              \n",
      "                                                                                                  \n",
      " attention_layer (Attention  ((None, None, 500),          500500    ['lstm_2[0][0]',              \n",
      " Layer)                       (None, None, 80))                      'lstm_3[0][0]']              \n",
      "                                                                                                  \n",
      " concat_layer (Concatenate)  (None, None, 1000)           0         ['lstm_3[0][0]',              \n",
      "                                                                     'attention_layer[0][0]']     \n",
      "                                                                                                  \n",
      " time_distributed (TimeDist  (None, None, 14068)          1408206   ['concat_layer[0][0]']        \n",
      " ributed)                                                 8                                       \n",
      "                                                                                                  \n",
      "==================================================================================================\n",
      "Total params: 55537068 (211.86 MB)\n",
      "Trainable params: 55537068 (211.86 MB)\n",
      "Non-trainable params: 0 (0.00 Byte)\n",
      "__________________________________________________________________________________________________\n"
     ]
    }
   ],
   "source": [
    "# Building a 3 stacked LSTM for encoder\n",
    "from keras import backend as backend\n",
    "\n",
    "# Resets all state generated by Keras\n",
    "backend.clear_session()\n",
    "latent_dim= 500\n",
    "\n",
    "# Encoder\n",
    "encoder_inputs= Input(shape= (max_len_text,))\n",
    "enc_emb= Embedding(X_voc_size, latent_dim, trainable= True)(encoder_inputs)\n",
    "\n",
    "# LSTM 1\n",
    "# this line of code mean creating LSTM with 100(latent_dim) cell/neuron with each cell/neuron has its \n",
    "# own forget gate input gate and output gate\n",
    "encoder_lstm1= LSTM(latent_dim, return_sequences= True, return_state= True)\n",
    "encoder_output1, state_h1, state_c1= encoder_lstm1(enc_emb)\n",
    "\n",
    "# LSTM 2\n",
    "encoder_lstm2= LSTM(latent_dim, return_sequences= True, return_state= True)\n",
    "encoder_output2, state_h2, state_c2= encoder_lstm2(encoder_output1)\n",
    "\n",
    "# LSTM 3\n",
    "encoder_lstm3= LSTM(latent_dim, return_sequences= True, return_state= True)\n",
    "encoder_outputs, state_h, state_c= encoder_lstm3(encoder_output2)\n",
    "\n",
    "#------------------------- Setting Up Decoder------------------------------\n",
    "# decoder\n",
    "decoder_inputs= Input(shape= (None, ))\n",
    "dec_emb= Embedding(y_voc_size, latent_dim, trainable=  True)(decoder_inputs)\n",
    "\n",
    "# LSTM using encoder_states as initial state\n",
    "decoder_lstm= LSTM(latent_dim, return_sequences= True, return_state= True)\n",
    "decoder_outputs, deocder_fwd_state, decoder_back_state= decoder_lstm(dec_emb, initial_state= [state_h, state_c])\n",
    "\n",
    "\n",
    "# Attention Layer\n",
    "attn_layer= AttentionLayer(name= 'attention_layer')\n",
    "attn_out, attn_states= attn_layer([encoder_outputs, decoder_outputs])\n",
    "\n",
    "# Concatenate attention output and decoder output\n",
    "decoder_concat_input= Concatenate(axis= -1, name= 'concat_layer')([decoder_outputs, attn_out])\n",
    "\n",
    "# Dense Layer\n",
    "decoder_dense= TimeDistributed(Dense(y_voc_size, activation= 'softmax'))\n",
    "decoder_outputs= decoder_dense(decoder_concat_input)\n",
    "\n",
    "# Define the Model\n",
    "model= Model([encoder_inputs, decoder_inputs], decoder_outputs)\n",
    "model.summary()"
   ]
  },
  {
   "cell_type": "markdown",
   "id": "49109c36",
   "metadata": {},
   "source": [
    "##### Using sparse categorical cross-entropy as the loss function since it converts the integer sequence to a one-hot vector on the fly. This overcomes any memory issues."
   ]
  },
  {
   "cell_type": "code",
   "execution_count": 238,
   "id": "c63d399a",
   "metadata": {},
   "outputs": [],
   "source": [
    "# compile the model\n",
    "model.compile(optimizer= 'rmsprop', loss='sparse_categorical_crossentropy')"
   ]
  },
  {
   "cell_type": "raw",
   "id": "00f22692",
   "metadata": {},
   "source": [
    "# Monitoring the validation loss (val_loss). Our model will stop training once the validation loss increases"
   ]
  },
  {
   "cell_type": "code",
   "execution_count": 239,
   "id": "8950a3d2",
   "metadata": {},
   "outputs": [
    {
     "name": "stdout",
     "output_type": "stream",
     "text": [
      "WARNING:tensorflow:EarlyStopping mode <built-in function min> is unknown, fallback to auto mode.\n"
     ]
    }
   ],
   "source": [
    "# In `min` mode, training will stop when the quantity monitored has stopped decreasing\n",
    "es= EarlyStopping(monitor= 'val_loss', mode= min, verbose= 1)"
   ]
  },
  {
   "cell_type": "code",
   "execution_count": 253,
   "id": "7963d9de",
   "metadata": {},
   "outputs": [
    {
     "data": {
      "text/plain": [
       "array([[   1,   13,   15, ...,    0,    0,    0],\n",
       "       [   1,    3,   42, ...,    0,    0,    0],\n",
       "       [   1, 4545,   54, ...,    0,    0,    0],\n",
       "       ...,\n",
       "       [   1,  121,    6, ...,    0,    0,    0],\n",
       "       [   1, 1167,  172, ...,    0,    0,    0],\n",
       "       [   1,    5,   20, ...,    2,    0,    0]])"
      ]
     },
     "execution_count": 253,
     "metadata": {},
     "output_type": "execute_result"
    }
   ],
   "source": [
    "y_train"
   ]
  },
  {
   "cell_type": "code",
   "execution_count": 261,
   "id": "351969a0",
   "metadata": {},
   "outputs": [
    {
     "data": {
      "text/plain": [
       "array([[ 1],\n",
       "       [13],\n",
       "       [15],\n",
       "       [ 2],\n",
       "       [ 0],\n",
       "       [ 0],\n",
       "       [ 0],\n",
       "       [ 0],\n",
       "       [ 0],\n",
       "       [ 0]])"
      ]
     },
     "execution_count": 261,
     "metadata": {},
     "output_type": "execute_result"
    }
   ],
   "source": [
    "# history=model.fit([x_tr,y_tr[:,:-1]], y_tr.reshape(y_tr.shape[0],y_tr.shape[1], 1)[:,1:] ,epochs=50,callbacks=[es],batch_size=512, validation_data=([x_val,y_val[:,:-1]], y_val.reshape(y_val.shape[0],y_val.shape[1], 1)[:,1:]))\n",
    "\n",
    "y_train.reshape(y_train.shape[0], y_train.shape[1], 1)[:,:][0]"
   ]
  },
  {
   "cell_type": "code",
   "execution_count": 242,
   "id": "e9efb29f",
   "metadata": {},
   "outputs": [
    {
     "data": {
      "text/plain": [
       "(79520, 10)"
      ]
     },
     "execution_count": 242,
     "metadata": {},
     "output_type": "execute_result"
    }
   ],
   "source": [
    "y_train.shape"
   ]
  },
  {
   "cell_type": "code",
   "execution_count": 248,
   "id": "66e19feb",
   "metadata": {},
   "outputs": [
    {
     "data": {
      "text/plain": [
       "array([ 1, 13, 15,  2,  0,  0,  0,  0,  0])"
      ]
     },
     "execution_count": 248,
     "metadata": {},
     "output_type": "execute_result"
    }
   ],
   "source": [
    "y_train[:,:-1][0]"
   ]
  },
  {
   "cell_type": "code",
   "execution_count": null,
   "id": "3d7f503c",
   "metadata": {},
   "outputs": [
    {
     "name": "stdout",
     "output_type": "stream",
     "text": [
      "Epoch 1/50\n",
      "WARNING:tensorflow:From C:\\Users\\varsha\\anaconda3\\Lib\\site-packages\\keras\\src\\utils\\tf_utils.py:492: The name tf.ragged.RaggedTensorValue is deprecated. Please use tf.compat.v1.ragged.RaggedTensorValue instead.\n",
      "\n",
      "156/156 [==============================] - 1542s 10s/step - loss: 3.5855 - val_loss: 3.0297\n",
      "Epoch 2/50\n",
      " 12/156 [=>............................] - ETA: 22:39 - loss: 3.0855"
     ]
    }
   ],
   "source": [
    "# we will train the model on a batch size of 512, and validate on hold out set\n",
    "# ([encoder_input, decoder_input], decoder_output)\n",
    "history= model.fit([X_train, y_train[:, :-1]], y_train.reshape(y_train.shape[0], y_train.shape[1], 1)[:, 1:], batch_size= 512, epochs= 50, callbacks= [es], validation_data=([X_val, y_val[:, :-1]], y_val.reshape(y_val.shape[0], y_val.shape[1], 1)[:, 1:]))\n"
   ]
  },
  {
   "cell_type": "code",
   "execution_count": null,
   "id": "1cc546e8",
   "metadata": {},
   "outputs": [],
   "source": [
    "# Understanding diagnostic plot\n",
    "plt.plot(history.history['loss'], label= 'train')\n",
    "plt.plot(history.history['val_loss'], label= 'test')\n",
    "plt.legend()\n",
    "plt.show()"
   ]
  },
  {
   "cell_type": "code",
   "execution_count": null,
   "id": "994fe58e",
   "metadata": {},
   "outputs": [],
   "source": [
    "# Build the dict to convert the index to words for target and source vocabulary\n",
    "\n",
    "reverse_target_word_index= decoder_tokenixer.index_word\n",
    "reverse_source_word_index= encoder_tokenizer.index_word\n",
    "target_word_index= decoder_tokenizer.word_index"
   ]
  },
  {
   "cell_type": "code",
   "execution_count": null,
   "id": "2a1240d8",
   "metadata": {},
   "outputs": [],
   "source": [
    "reverse_target_word_index"
   ]
  },
  {
   "cell_type": "code",
   "execution_count": null,
   "id": "9aef0e84",
   "metadata": {},
   "outputs": [],
   "source": [
    "reverse_source_word_index"
   ]
  },
  {
   "cell_type": "code",
   "execution_count": null,
   "id": "fa12e8fe",
   "metadata": {},
   "outputs": [],
   "source": [
    "target_word_index"
   ]
  },
  {
   "cell_type": "markdown",
   "id": "58cff26e",
   "metadata": {},
   "source": [
    "## Inference"
   ]
  },
  {
   "cell_type": "code",
   "execution_count": null,
   "id": "b77c2267",
   "metadata": {},
   "outputs": [],
   "source": [
    "# encoder inference\n",
    "encoder_model= Model(inputs= encoder_inputs, outputs= [encoder_outputs, state_h, state_c])\n",
    "\n",
    "\n",
    "# decoder inference\n",
    "# below tensors will hold the states of the previous timestep\n",
    "decoder_state_input_h= Input(state= (latent_dim,))\n",
    "decoder_state_input_c= Input(state= (latent_dim,))\n",
    "decoder_hidden_state_input= Input(state= (max_len_text, latent_dim))\n",
    "\n",
    "# Get the embeddings of the decoder seq\n",
    "decoder_model= dec_emb(decoder_input)\n",
    "\n",
    "\n",
    "# to predict the next word in the seq, set the initial states to the states from the previous time step\n",
    "decoder_output2, state_h2, state_c2= decoder_lstm(dec_emb2, initial_state=[decoder_state_input_h, decoder_state_input_c])\n",
    "\n",
    "# attention inference\n",
    "attn_out_inf, attn_state_inf= attn_layer([decoder_hidden_state_input, decoder_output2])\n",
    "decoder_inf_concat= Concatenate(axis= -1, name= 'concat')([decoder_output2, attn_out_inf])\n",
    "\n",
    "# A dense softmax layer to generate prob dist. over the target vocabulary\n",
    "decoder_output2= decoder_dense(decoder_inf_concat)\n",
    "\n",
    "\n",
    "# Final decoder model\n",
    "decoder_model= Model(\n",
    "[decoder_inputs] + [decoder_hidden_state_input, decoder_state_input_h, decoder_state_input_c],\n",
    "[decoder_outputs2] + [state_h2, state_c2])\n"
   ]
  },
  {
   "cell_type": "code",
   "execution_count": null,
   "id": "d598e0be",
   "metadata": {},
   "outputs": [],
   "source": [
    "def decode_sequence(input_seq):\n",
    "    # Encode the input as state vectors.\n",
    "    e_out, e_h, e_c = encoder_model.predict(input_seq)\n",
    "\n",
    "    # Generate empty target sequence of length 1.\n",
    "    target_seq = np.zeros((1,1))\n",
    "\n",
    "    # Chose the 'start' word as the first word of the target sequence\n",
    "    target_seq[0, 0] = target_word_index['start']\n",
    "\n",
    "    stop_condition = False\n",
    "    decoded_sentence = ''\n",
    "    while not stop_condition:\n",
    "        output_tokens, h, c = decoder_model.predict([target_seq] + [e_out, e_h, e_c])\n",
    "\n",
    "        # Sample a token\n",
    "        sampled_token_index = np.argmax(output_tokens[0, -1, :])\n",
    "        sampled_token = reverse_target_word_index[sampled_token_index]\n",
    "\n",
    "        if(sampled_token!='end'):\n",
    "            decoded_sentence += ' '+sampled_token\n",
    "\n",
    "            # Exit condition: either hit max length or find stop word.\n",
    "            if (sampled_token == 'end' or len(decoded_sentence.split()) >= (max_len_summary-1)):\n",
    "                stop_condition = True\n",
    "\n",
    "        # Update the target sequence (of length 1).\n",
    "        target_seq = np.zeros((1,1))\n",
    "        target_seq[0, 0] = sampled_token_index\n",
    "\n",
    "        # Update internal states\n",
    "        e_h, e_c = h, c\n",
    "\n",
    "    return decoded_sentence"
   ]
  },
  {
   "cell_type": "code",
   "execution_count": null,
   "id": "dccdb8c5",
   "metadata": {},
   "outputs": [],
   "source": [
    "def seq2summary(input_seq):\n",
    "    newString=''\n",
    "    for i in input_seq:\n",
    "        if((i!=0 and i!=target_word_index['start']) and i!=target_word_index['end']):\n",
    "            newString=newString+reverse_target_word_index[i]+' '\n",
    "    return newString\n",
    "\n",
    "def seq2text(input_seq):\n",
    "    newString=''\n",
    "    for i in input_seq:\n",
    "        if(i!=0):\n",
    "            newString=newString+reverse_source_word_index[i]+' '\n",
    "    return newString"
   ]
  },
  {
   "cell_type": "code",
   "execution_count": null,
   "id": "86c104c4",
   "metadata": {},
   "outputs": [],
   "source": [
    "for i in range(len(x_val)):\n",
    "    print(\"Review:\",seq2text(x_val[i]))\n",
    "    print(\"Original summary:\",seq2summary(y_val[i]))\n",
    "    print(\"Predicted summary:\",decode_sequence(x_val[i].reshape(1,max_len_text)))\n",
    "    print(\"\\n\")"
   ]
  },
  {
   "cell_type": "code",
   "execution_count": null,
   "id": "c00156fe",
   "metadata": {},
   "outputs": [],
   "source": []
  },
  {
   "cell_type": "code",
   "execution_count": null,
   "id": "5e36155b",
   "metadata": {},
   "outputs": [],
   "source": []
  },
  {
   "cell_type": "code",
   "execution_count": null,
   "id": "8e7c4240",
   "metadata": {},
   "outputs": [],
   "source": []
  },
  {
   "cell_type": "code",
   "execution_count": null,
   "id": "d120ca4b",
   "metadata": {},
   "outputs": [],
   "source": []
  },
  {
   "cell_type": "code",
   "execution_count": null,
   "id": "cc513dd0",
   "metadata": {},
   "outputs": [],
   "source": []
  },
  {
   "cell_type": "code",
   "execution_count": null,
   "id": "a0f5dbcc",
   "metadata": {},
   "outputs": [],
   "source": []
  },
  {
   "cell_type": "code",
   "execution_count": null,
   "id": "e8e9b208",
   "metadata": {},
   "outputs": [],
   "source": []
  },
  {
   "cell_type": "code",
   "execution_count": null,
   "id": "8de8ff38",
   "metadata": {},
   "outputs": [],
   "source": []
  },
  {
   "cell_type": "code",
   "execution_count": null,
   "id": "dbc5f293",
   "metadata": {},
   "outputs": [],
   "source": []
  },
  {
   "cell_type": "code",
   "execution_count": null,
   "id": "ec76d1a5",
   "metadata": {},
   "outputs": [],
   "source": []
  },
  {
   "cell_type": "code",
   "execution_count": null,
   "id": "51256857",
   "metadata": {},
   "outputs": [],
   "source": []
  },
  {
   "cell_type": "code",
   "execution_count": null,
   "id": "35811b80",
   "metadata": {},
   "outputs": [],
   "source": []
  }
 ],
 "metadata": {
  "kernelspec": {
   "display_name": "Python 3 (ipykernel)",
   "language": "python",
   "name": "python3"
  },
  "language_info": {
   "codemirror_mode": {
    "name": "ipython",
    "version": 3
   },
   "file_extension": ".py",
   "mimetype": "text/x-python",
   "name": "python",
   "nbconvert_exporter": "python",
   "pygments_lexer": "ipython3",
   "version": "3.11.5"
  }
 },
 "nbformat": 4,
 "nbformat_minor": 5
}
