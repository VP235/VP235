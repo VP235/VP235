{
 "cells": [
  {
   "cell_type": "code",
   "execution_count": 66,
   "id": "afdf581c",
   "metadata": {},
   "outputs": [
    {
     "name": "stderr",
     "output_type": "stream",
     "text": [
      "[nltk_data] Downloading package stopwords to\n",
      "[nltk_data]     C:\\Users\\varsha\\AppData\\Roaming\\nltk_data...\n",
      "[nltk_data]   Package stopwords is already up-to-date!\n",
      "[nltk_data] Downloading package punkt to\n",
      "[nltk_data]     C:\\Users\\varsha\\AppData\\Roaming\\nltk_data...\n",
      "[nltk_data]   Package punkt is already up-to-date!\n"
     ]
    },
    {
     "data": {
      "text/plain": [
       "True"
      ]
     },
     "execution_count": 66,
     "metadata": {},
     "output_type": "execute_result"
    }
   ],
   "source": [
    "import pandas as pd\n",
    "import numpy as np\n",
    "import nltk\n",
    "import re\n",
    "\n",
    "from nltk.tokenize import sent_tokenize\n",
    "from nltk.corpus import stopwords\n",
    "from nltk.stem import WordNetLemmatizer\n",
    "\n",
    "from keras.preprocessing.text import Tokenizer\n",
    "from keras.preprocessing.sequence import pad_sequences\n",
    "from keras.utils import to_categorical\n",
    "\n",
    "nltk.download('stopwords')\n",
    "nltk.download('punkt')"
   ]
  },
  {
   "cell_type": "code",
   "execution_count": 98,
   "id": "07890cdf",
   "metadata": {},
   "outputs": [
    {
     "data": {
      "text/plain": [
       "'The Vatican Apostolic Library (), more commonly called the Vatican Library or simply the Vat, is the library of the Holy See, located in Vatican City. Formally established in 1475, although it is much older, it is one of the oldest libraries in the world and contains one of the most significant collections of historical texts. It has 75,000 codices from throughout history, as well as 1.1 million printed books, which include some 8,500 incunabula. \\n\\nThe Vatican Library is a research library for history, law, philosophy, science and theology. The Vatican Library is open to anyone who can document their qualifications and research needs. Photocopies for private study of pages from books published between 1801 and 1990 can be requested in person or by mail. \\n\\nIn March 2014, the Vatican Library began an initial four-year project of digitising its collection of manuscripts, to be made available online. \\n\\nThe Vatican Secret Archives were separated from the library at the beginning of the 17th century; they contain another 150,000 items. \\n\\nScholars have traditionally divided the history of the library into five periods, Pre-Lateran, Lateran, Avignon, Pre-Vatican and Vatican. \\n\\nThe Pre-Lateran period, comprising the initial days of the library, dated from the earliest days of the Church. Only a handful of volumes survive from this period, though some are very significant.'"
      ]
     },
     "execution_count": 98,
     "metadata": {},
     "output_type": "execute_result"
    }
   ],
   "source": [
    "org_txt = 'The Vatican Apostolic Library (), more commonly called the Vatican Library or simply the Vat, is the library of the Holy See, located in Vatican City. Formally established in 1475, although it is much older, it is one of the oldest libraries in the world and contains one of the most significant collections of historical texts. It has 75,000 codices from throughout history, as well as 1.1 million printed books, which include some 8,500 incunabula. \\n\\nThe Vatican Library is a research library for history, law, philosophy, science and theology. The Vatican Library is open to anyone who can document their qualifications and research needs. Photocopies for private study of pages from books published between 1801 and 1990 can be requested in person or by mail. \\n\\nIn March 2014, the Vatican Library began an initial four-year project of digitising its collection of manuscripts, to be made available online. \\n\\nThe Vatican Secret Archives were separated from the library at the beginning of the 17th century; they contain another 150,000 items. \\n\\nScholars have traditionally divided the history of the library into five periods, Pre-Lateran, Lateran, Avignon, Pre-Vatican and Vatican. \\n\\nThe Pre-Lateran period, comprising the initial days of the library, dated from the earliest days of the Church. Only a handful of volumes survive from this period, though some are very significant.'\n",
    "org_txt"
   ]
  },
  {
   "cell_type": "code",
   "execution_count": 92,
   "id": "19877f6b",
   "metadata": {},
   "outputs": [
    {
     "data": {
      "text/plain": [
       "'A 51-year-old lawyer has moved back in with his mother-after giving up his Los Angeles home to a family of strangers for a year. \\n\\nTony Tolbert looked for a family in need after his father set a glowing example when he was growing up by always welcoming people to stay in their spare room. \"You don\\'t have to be Bill Gates or Warren Buffet or Oprah,\" Tolbert told CBS. \"We can do it wherever we are, with whatever we have, and for me, I have a home that I can make available. \" His mother, Marie Tolbert, added, \" He is go giving, and he\\'s always been that way. \" \\n\\nTolbert went to Alexandria House, a shelter for homeless women and children, and came across Felicia Dukes, who lived in a single bedroom with three of her children. Her family had been separated as the shelter was just for children and her eldest son was unable to join them. Tolbert told the staff he wanted to bring the. family back together, and offered his home. \\n\\nThe family has now moved into the three-bedroom, two-bathroom home - with Duke\\'s oldest son. It is worth nearly $400,000, according to online estimates. \"My heart just fills up with appreciation, \" Dukes said, as she wiped away her tears. \\n\\nThe heartwarming story comes after the report that l0-year-old Gracie McNulty, from England, served Christmas dinners t0 50 homeless people, achieving her fathers last Christmas wish. \\n\\nHer father Craig, 38, was a regular charity volunteer who had served breakfast to the homeless on Boxing Day. But as a roofer, he suffered serious head injuries when he fell while working. And \\'he died soon after the accident in August. \\n\\n\"It\\'s been the best Christmas ever, \" Cracie said. \"I was just at school feeling sad and so I decided I wanted to do something to make him proud and this felt like the perfect thing. \"'"
      ]
     },
     "execution_count": 92,
     "metadata": {},
     "output_type": "execute_result"
    }
   ],
   "source": [
    "diff_txt = 'A 51-year-old lawyer has moved back in with his mother-after giving up his Los Angeles home to a family of strangers for a year. \\n\\nTony Tolbert looked for a family in need after his father set a glowing example when he was growing up by always welcoming people to stay in their spare room. \"You don\\'t have to be Bill Gates or Warren Buffet or Oprah,\" Tolbert told CBS. \"We can do it wherever we are, with whatever we have, and for me, I have a home that I can make available. \" His mother, Marie Tolbert, added, \" He is go giving, and he\\'s always been that way. \" \\n\\nTolbert went to Alexandria House, a shelter for homeless women and children, and came across Felicia Dukes, who lived in a single bedroom with three of her children. Her family had been separated as the shelter was just for children and her eldest son was unable to join them. Tolbert told the staff he wanted to bring the. family back together, and offered his home. \\n\\nThe family has now moved into the three-bedroom, two-bathroom home - with Duke\\'s oldest son. It is worth nearly $400,000, according to online estimates. \"My heart just fills up with appreciation, \" Dukes said, as she wiped away her tears. \\n\\nThe heartwarming story comes after the report that l0-year-old Gracie McNulty, from England, served Christmas dinners t0 50 homeless people, achieving her fathers last Christmas wish. \\n\\nHer father Craig, 38, was a regular charity volunteer who had served breakfast to the homeless on Boxing Day. But as a roofer, he suffered serious head injuries when he fell while working. And \\'he died soon after the accident in August. \\n\\n\"It\\'s been the best Christmas ever, \" Cracie said. \"I was just at school feeling sad and so I decided I wanted to do something to make him proud and this felt like the perfect thing. \"'\n",
    "diff_txt"
   ]
  },
  {
   "cell_type": "code",
   "execution_count": 93,
   "id": "0c113359",
   "metadata": {},
   "outputs": [],
   "source": [
    "same_txt= 'The Vatican Apostolic (), more commonly called the Vatican Library or simply the Vat, is the library of the Holy See, located in Vatican City. Formally established in 1475, although it is much older, it is one of the oldest libraries in the world and contains one of the most significant collections of historical texts. It has 75,000 codices from throughout history, as well as 1.1 million printed books, which include some 8,500 incunabula. \\n\\nThe Vatican Library is a research library for history, law, philosophy, science and theology. The Vatican Library is open to anyone who can document their qualifications and research needs. Photocopies for private study of pages from books published between 1801 and 1990 can be requested in person or by mail. \\n\\nIn March 2014, the Vatican Library began an initial four-year project of digitising its collection of manuscripts, to be made available online. \\n\\nThe Vatican Secret Archives were separated from the library at the beginning of the 17th century; they contain another 150,000 items. \\n\\nScholars have traditionally divided the history of the library into five periods, Pre-Lateran, Lateran, Avignon, Pre-Vatican and Vatican. \\n\\nThe Pre-Lateran period, comprising the initial days of the library, dated from the earliest days of the Church. Only a handful of volumes survive from this period, though some are very significant.'\n"
   ]
  },
  {
   "cell_type": "code",
   "execution_count": 84,
   "id": "0f213833",
   "metadata": {},
   "outputs": [],
   "source": [
    "import string\n",
    "\n",
    "def txt_preprocess(txt):\n",
    "    \n",
    "    # convert to replace \\n with '' and lower case\n",
    "    txt = txt.replace('\\n','').lower().strip(' ')    \n",
    "    \n",
    "    # remove punctuation\n",
    "    token_txt = txt.translate(str.maketrans('', '', string.punctuation))\n",
    "    \n",
    "\n",
    "    return token_txt\n",
    "    "
   ]
  },
  {
   "cell_type": "code",
   "execution_count": 99,
   "id": "d762daf0",
   "metadata": {},
   "outputs": [],
   "source": [
    "txt_1 = txt_preprocess(org_txt)\n",
    "txt_2 = txt_preprocess(diff_txt)"
   ]
  },
  {
   "cell_type": "code",
   "execution_count": 100,
   "id": "1dfd7294",
   "metadata": {},
   "outputs": [
    {
     "data": {
      "text/plain": [
       "array([[0.30635087]])"
      ]
     },
     "execution_count": 100,
     "metadata": {},
     "output_type": "execute_result"
    }
   ],
   "source": [
    "from sklearn.feature_extraction.text import TfidfVectorizer\n",
    "from sklearn.metrics.pairwise import cosine_similarity\n",
    "\n",
    "# tokenizer\n",
    "vectorizer = TfidfVectorizer()\n",
    "X = vectorizer.fit_transform([txt_1, txt_2])\n",
    "\n",
    "cos_sim = cosine_similarity(X[0], X[1])\n",
    "\n",
    "cos_sim"
   ]
  },
  {
   "cell_type": "code",
   "execution_count": 91,
   "id": "f6e1a81a",
   "metadata": {},
   "outputs": [],
   "source": [
    "# X"
   ]
  },
  {
   "cell_type": "code",
   "execution_count": null,
   "id": "d2444547",
   "metadata": {},
   "outputs": [],
   "source": [
    "# Doc Comparision -> Tfidf matrix -> tfidf([txt_1, txt_2]) -> cosine sim(row*row) -> thresh\n",
    "# Movie Recommender -> Tfidf matrix -> tfidf(rows*columns) -> cosine sim(row*column)\n",
    "# Text summarization-> same as Movie Recommender\n",
    "# Question Answer -> Tfidf matrix -> tfidf.fit_trans(context) -> tfidf.trans([question]) \n",
    "#                 -> cosine sim(txt_rows, question)\n",
    "\n",
    "\n",
    "\n"
   ]
  },
  {
   "cell_type": "markdown",
   "id": "6ac27aec",
   "metadata": {},
   "source": [
    "#### Doc File Scanner"
   ]
  },
  {
   "cell_type": "code",
   "execution_count": 101,
   "id": "db727f38",
   "metadata": {},
   "outputs": [
    {
     "name": "stdout",
     "output_type": "stream",
     "text": [
      "Collecting python-docx\n",
      "  Obtaining dependency information for python-docx from https://files.pythonhosted.org/packages/5f/d8/6948f7ac00edf74bfa52b3c5e3073df20284bec1db466d13e668fe991707/python_docx-1.1.0-py3-none-any.whl.metadata\n",
      "  Downloading python_docx-1.1.0-py3-none-any.whl.metadata (2.0 kB)\n",
      "Requirement already satisfied: lxml>=3.1.0 in c:\\users\\varsha\\anaconda3\\lib\\site-packages (from python-docx) (4.9.3)\n",
      "Requirement already satisfied: typing-extensions in c:\\users\\varsha\\anaconda3\\lib\\site-packages (from python-docx) (4.10.0)\n",
      "Downloading python_docx-1.1.0-py3-none-any.whl (239 kB)\n",
      "   ---------------------------------------- 0.0/239.6 kB ? eta -:--:--\n",
      "   - -------------------------------------- 10.2/239.6 kB ? eta -:--:--\n",
      "   --------------- ------------------------ 92.2/239.6 kB 1.1 MB/s eta 0:00:01\n",
      "   ---------------------------------------- 239.6/239.6 kB 1.8 MB/s eta 0:00:00\n",
      "Installing collected packages: python-docx\n",
      "Successfully installed python-docx-1.1.0\n"
     ]
    }
   ],
   "source": [
    "!pip install python-docx"
   ]
  },
  {
   "cell_type": "code",
   "execution_count": 130,
   "id": "f5460669",
   "metadata": {},
   "outputs": [],
   "source": [
    "import docx\n",
    "\n",
    "doc = docx.Document(r\"D:\\Datasets\\Scrapper\\The Vatican Apostolic Library.docx\")\n",
    "\n",
    "# Extract text from document\n",
    "text = []\n",
    "for i in range(len(doc.paragraphs)):\n",
    "    \n",
    "    if doc.paragraphs[i].text != '':\n",
    "#         text = ''\n",
    "        text.append(doc.paragraphs[i].text)\n",
    "        \n",
    "        "
   ]
  },
  {
   "cell_type": "code",
   "execution_count": 131,
   "id": "432e7752",
   "metadata": {},
   "outputs": [
    {
     "data": {
      "text/plain": [
       "['The Vatican Apostolic Library (), more commonly called the Vatican Library or simply the Vat, is the library of the Holy See, located in Vatican City. Formally established in 1475, although it is much older, it is one of the oldest libraries in the world and contains one of the most significant collections of historical texts. It has 75,000 codices from throughout history, as well as 1.1 million printed books, which include some 8,500 incunabula. \\\\n\\\\nThe Vatican Library is a research library for history, law, philosophy, science and theology. The Vatican Library is open to anyone who can document their qualifications and research needs. Photocopies for private study of pages from books published between 1801 and 1990 can be requested in person or by mail. \\\\n\\\\nIn March 2014, the Vatican Library began an initial four-year project of digitising its collection of manuscripts, to be made available online. \\\\n\\\\nThe Vatican Secret Archives were separated from the library at the beginning of the 17th century; they contain another 150,000 items. \\\\n\\\\nScholars have traditionally divided the history of the library into five periods, Pre-Lateran, Lateran, Avignon, Pre-Vatican and Vatican. \\\\n\\\\nThe Pre-Lateran period, comprising the initial days of the library, dated from the earliest days of the Church. Only a handful of volumes survive from this period, though some are very significant.',\n",
       " 'A 51-year-old lawyer has moved back in with his mother-after giving up his Los Angeles home to a family of strangers for a year. \\\\n\\\\nTony Tolbert looked for a family in need after his father set a glowing example when he was growing up by always welcoming people to stay in their spare room. \"You don\\\\\\'t have to be Bill Gates or Warren Buffet or Oprah,\" Tolbert told CBS. \"We can do it wherever we are, with whatever we have, and for me, I have a home that I can make available. \" His mother, Marie Tolbert, added, \" He is go giving, and he\\\\\\'s always been that way. \" \\\\n\\\\nTolbert went to Alexandria House, a shelter for homeless women and children, and came across Felicia Dukes, who lived in a single bedroom with three of her children. Her family had been separated as the shelter was just for children and her eldest son was unable to join them. Tolbert told the staff he wanted to bring the. family back together, and offered his home. \\\\n\\\\nThe family has now moved into the three-bedroom, two-bathroom home - with Duke\\\\\\'s oldest son. It is worth nearly $400,000, according to online estimates. \"My heart just fills up with appreciation, \" Dukes said, as she wiped away her tears. \\\\n\\\\nThe heartwarming story comes after the report that l0-year-old Gracie McNulty, from England, served Christmas dinners t0 50 homeless people, achieving her fathers last Christmas wish. \\\\n\\\\nHer father Craig, 38, was a regular charity volunteer who had served breakfast to the homeless on Boxing Day. But as a roofer, he suffered serious head injuries when he fell while working. And \\\\\\'he died soon after the accident in August. \\\\n\\\\n\"It\\\\\\'s been the best Christmas ever, \" Cracie said. \"I was just at school feeling sad and so I decided I wanted to do something to make him proud and this felt like the perfect thing. \"']"
      ]
     },
     "execution_count": 131,
     "metadata": {},
     "output_type": "execute_result"
    }
   ],
   "source": [
    "text"
   ]
  },
  {
   "cell_type": "markdown",
   "id": "22d9ef7c",
   "metadata": {},
   "source": [
    "## PDF Scrapping"
   ]
  },
  {
   "cell_type": "code",
   "execution_count": 133,
   "id": "a3e26259",
   "metadata": {},
   "outputs": [],
   "source": [
    "# ! pip install PyPDF2"
   ]
  },
  {
   "cell_type": "code",
   "execution_count": 136,
   "id": "886180ea",
   "metadata": {},
   "outputs": [],
   "source": [
    "# import PyPDF2\n",
    "\n",
    "# pdf_file = open(r\"C:\\Users\\varsha\\Documents\\Lobo-GloEcoBioGeo-2007.pdf\")\n",
    "# pdf_reader = PyPDF2.PdfReader(pdf_file)\n",
    "\n",
    "# text = ''\n",
    "# for page_num in range(pdf_reader.numPages):\n",
    "#     page = pdf_reader.getPage(page_num)\n",
    "#     text += page.extractText()\n",
    "    \n",
    "# pdf_file.close()"
   ]
  },
  {
   "cell_type": "code",
   "execution_count": null,
   "id": "518f9e66",
   "metadata": {},
   "outputs": [],
   "source": []
  },
  {
   "cell_type": "code",
   "execution_count": null,
   "id": "185c578a",
   "metadata": {},
   "outputs": [],
   "source": []
  },
  {
   "cell_type": "code",
   "execution_count": null,
   "id": "30d7b681",
   "metadata": {},
   "outputs": [],
   "source": []
  },
  {
   "cell_type": "code",
   "execution_count": null,
   "id": "22cab9b2",
   "metadata": {},
   "outputs": [],
   "source": []
  },
  {
   "cell_type": "code",
   "execution_count": null,
   "id": "3640581c",
   "metadata": {},
   "outputs": [],
   "source": []
  },
  {
   "cell_type": "code",
   "execution_count": null,
   "id": "8918f29b",
   "metadata": {},
   "outputs": [],
   "source": []
  },
  {
   "cell_type": "code",
   "execution_count": null,
   "id": "2dae62b0",
   "metadata": {},
   "outputs": [],
   "source": []
  }
 ],
 "metadata": {
  "kernelspec": {
   "display_name": "Python 3 (ipykernel)",
   "language": "python",
   "name": "python3"
  },
  "language_info": {
   "codemirror_mode": {
    "name": "ipython",
    "version": 3
   },
   "file_extension": ".py",
   "mimetype": "text/x-python",
   "name": "python",
   "nbconvert_exporter": "python",
   "pygments_lexer": "ipython3",
   "version": "3.11.5"
  }
 },
 "nbformat": 4,
 "nbformat_minor": 5
}
