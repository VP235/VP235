{
 "cells": [
  {
   "cell_type": "code",
   "execution_count": null,
   "id": "16b53c5b",
   "metadata": {},
   "outputs": [],
   "source": [
    "# !pip install torchvision"
   ]
  },
  {
   "cell_type": "code",
   "execution_count": 1,
   "id": "85537b54",
   "metadata": {},
   "outputs": [],
   "source": [
    "import torch \n",
    "from pathlib import Path\n",
    "from PIL import Image\n",
    "import pandas as pd\n",
    "import os"
   ]
  },
  {
   "cell_type": "code",
   "execution_count": 8,
   "id": "60539625",
   "metadata": {},
   "outputs": [],
   "source": [
    "def create_classLabel_dict(annotations_dir):\n",
    "    \n",
    "    # Set to store unique class labels\n",
    "    class_labels = set()\n",
    "    label_dict= {}\n",
    "\n",
    "    # Iterate through annotation files\n",
    "    with open(annotations_dir, 'r') as f:\n",
    "\n",
    "        # Parse annotation file (example assumes annotations are in CSV format)\n",
    "        lines = f.readlines()\n",
    "        for i, line in enumerate(lines):\n",
    "\n",
    "            # Extract class label from annotation\n",
    "            class_label = line.split(',')[3]  # Assuming class label is in first column\n",
    "            class_labels.add(class_label.strip())\n",
    "\n",
    "\n",
    "    # Write class labels to LABELS_dict file\n",
    "        for idx, label in enumerate(sorted(class_labels)):\n",
    "            label_dict[label]= idx\n",
    "    #         f.write(label + '\\n')\n",
    "    \n",
    "    return label_dict"
   ]
  },
  {
   "cell_type": "code",
   "execution_count": 12,
   "id": "bde086f0",
   "metadata": {},
   "outputs": [
    {
     "name": "stdout",
     "output_type": "stream",
     "text": [
      "0     IMG_2277_jpeg_jpg.rf.86c72d6192da48d941ffa957f...\n",
      "1     IMG_2277_jpeg_jpg.rf.86c72d6192da48d941ffa957f...\n",
      "2     IMG_2277_jpeg_jpg.rf.86c72d6192da48d941ffa957f...\n",
      "3     IMG_2277_jpeg_jpg.rf.86c72d6192da48d941ffa957f...\n",
      "4     IMG_2277_jpeg_jpg.rf.86c72d6192da48d941ffa957f...\n",
      "                            ...                        \n",
      "90    IMG_2325_jpeg_jpg.rf.a8ebf587a5ae7d2f8c58f9775...\n",
      "91    IMG_2325_jpeg_jpg.rf.a8ebf587a5ae7d2f8c58f9775...\n",
      "92    IMG_2325_jpeg_jpg.rf.a8ebf587a5ae7d2f8c58f9775...\n",
      "93    IMG_2325_jpeg_jpg.rf.a8ebf587a5ae7d2f8c58f9775...\n",
      "94    IMG_2325_jpeg_jpg.rf.a8ebf587a5ae7d2f8c58f9775...\n",
      "Name: filename, Length: 95, dtype: object\n"
     ]
    }
   ],
   "source": [
    "# Path to directory containing annotations\n",
    "annotations_dir = r\"D:\\Datasets\\Subset_Aquariam\\val\\annotations.csv\"\n",
    "\n",
    "annotations_df= pd.read_csv(annotations_dir)\n",
    "print(annotations_df['filename'])\n",
    "# Define class label mapping\n",
    "class_mapping = create_classLabel_dict(annotations_dir)\n",
    "# class_mapping\n",
    "\n",
    "# Function to convert bounding box coordinates to YOLO format\n",
    "def convert_to_yolo_format(bbox, image_width, image_height):\n",
    "    xmin, ymin, xmax, ymax = bbox\n",
    "    center_x = (xmin + xmax) / (2 * image_width)\n",
    "    center_y = (ymin + ymax) / (2 * image_height)\n",
    "    width = (xmax - xmin) / image_width\n",
    "    height = (ymax - ymin) / image_height\n",
    "    \n",
    "    return center_x, center_y, width, height\n",
    "\n"
   ]
  },
  {
   "cell_type": "code",
   "execution_count": 13,
   "id": "87a8d3b1",
   "metadata": {},
   "outputs": [],
   "source": [
    "# Iterate through each image annotation\n",
    "for index, row in annotations_df.iterrows():\n",
    "    image_filename = row['filename']\n",
    "    image_width = row['width']\n",
    "    image_height = row['height']\n",
    "    class_label = row['class']\n",
    "\n",
    "    # Convert class label to integer ID\n",
    "    class_id = class_mapping[class_label]\n",
    "\n",
    "    # Convert bounding box coordinates to YOLO format\n",
    "    bbox = [row['xmin'], row['ymin'], row['xmax'], row['ymax']]\n",
    "    yolo_bbox = convert_to_yolo_format(bbox, image_width, image_height)\n",
    "\n",
    "    # Write YOLO format label to text file\n",
    "#     baseurl= \"D:\\Datasets\\Yolov5_labels\\\"\n",
    "    label_filename = r\"D:\\Datasets\\Subset_Aquariam\\val_label\\\\\" + os.path.splitext(image_filename)[0] + '.txt'\n",
    "    \n",
    "    with open(label_filename, 'a') as f:\n",
    "        label_line = f\"{class_id} {' '.join(map(str, yolo_bbox))}\\n\"\n",
    "        f.write(label_line)\n"
   ]
  },
  {
   "cell_type": "code",
   "execution_count": null,
   "id": "902d6865",
   "metadata": {},
   "outputs": [],
   "source": [
    "import torch  # YOLOv5 implemented using pytorch\n",
    "from IPython.display import Image #this is to render predictions"
   ]
  },
  {
   "cell_type": "code",
   "execution_count": null,
   "id": "4cf70265",
   "metadata": {},
   "outputs": [],
   "source": [
    "!git clone https://github.com/ultralytics/yolov5 "
   ]
  },
  {
   "cell_type": "code",
   "execution_count": null,
   "id": "43786c10",
   "metadata": {},
   "outputs": [],
   "source": [
    "import os\n",
    "from random import choice\n",
    "import shutil\n",
    "\n",
    "#arrays to store file names\n",
    "imgs =[]\n",
    "xmls =[]\n",
    "\n",
    "#setup dir names\n",
    "trainPath = 'D:/yolov5_traffic_sign_detection/dataset/images/train'\n",
    "valPath = 'D:/yolov5_traffic_sign_detection/dataset/images/val'\n",
    "crsPath = 'D:/yolov5_traffic_sign_detection/data/ts/' #dir where images and annotations stored\n",
    "\n",
    "#setup ratio (val ratio = rest of the files in origin dir after splitting into train and test)\n",
    "train_ratio = 0.8\n",
    "val_ratio = 0.2\n",
    "\n",
    "\n",
    "#total count of imgs\n",
    "totalImgCount = len(os.listdir(crsPath))/2\n",
    "\n",
    "#soring files to corresponding arrays\n",
    "for (dirname, dirs, files) in os.walk(crsPath):\n",
    "    for filename in files:\n",
    "        if filename.endswith('.txt'):\n",
    "            xmls.append(filename)\n",
    "        else:\n",
    "            imgs.append(filename)\n",
    "\n",
    "\n",
    "#counting range for cycles\n",
    "countForTrain = int(len(imgs)*train_ratio)\n",
    "countForVal = int(len(imgs)*val_ratio)\n",
    "print(\"training images are : \",countForTrain)\n",
    "print(\"Validation images are : \",countForVal)"
   ]
  },
  {
   "cell_type": "code",
   "execution_count": null,
   "id": "3feaacdc",
   "metadata": {},
   "outputs": [],
   "source": [
    "trainimagePath = 'D:/yolov5_traffic_sign_detection/dataset/images/train'\n",
    "trainlabelPath = 'D:/yolov5_traffic_sign_detection/dataset/labels/train'\n",
    "valimagePath = 'D:/yolov5_traffic_sign_detection/dataset/images/val'\n",
    "vallabelPath = 'D:/yolov5_traffic_sign_detection/dataset/labels/val'\n",
    "#cycle for train dir\n",
    "for x in range(countForTrain):\n",
    "\n",
    "    fileJpg = choice(imgs) # get name of random image from origin dir\n",
    "    fileXml = fileJpg[:-4] +'.txt' # get name of corresponding annotation file\n",
    "\n",
    "    #move both files into train dir\n",
    "    #shutil.move(os.path.join(crsPath, fileJpg), os.path.join(trainimagePath, fileJpg))\n",
    "    #shutil.move(os.path.join(crsPath, fileXml), os.path.join(trainlabelPath, fileXml))\n",
    "    shutil.copy(os.path.join(crsPath, fileJpg), os.path.join(trainimagePath, fileJpg))\n",
    "    shutil.copy(os.path.join(crsPath, fileXml), os.path.join(trainlabelPath, fileXml))\n",
    "\n",
    "\n",
    "    #remove files from arrays\n",
    "    imgs.remove(fileJpg)\n",
    "    xmls.remove(fileXml)\n",
    "\n"
   ]
  },
  {
   "cell_type": "code",
   "execution_count": null,
   "id": "22b974e0",
   "metadata": {},
   "outputs": [],
   "source": [
    "#cycle for test dir   \n",
    "for x in range(countForVal):\n",
    "\n",
    "    fileJpg = choice(imgs) # get name of random image from origin dir\n",
    "    fileXml = fileJpg[:-4] +'.txt' # get name of corresponding annotation file\n",
    "\n",
    "    #move both files into train dir\n",
    "    #shutil.move(os.path.join(crsPath, fileJpg), os.path.join(valimagePath, fileJpg))\n",
    "    #shutil.move(os.path.join(crsPath, fileXml), os.path.join(vallabelPath, fileXml))\n",
    "    shutil.copy(os.path.join(crsPath, fileJpg), os.path.join(valimagePath, fileJpg))\n",
    "    shutil.copy(os.path.join(crsPath, fileXml), os.path.join(vallabelPath, fileXml))\n",
    "    \n",
    "    #remove files from arrays\n",
    "    imgs.remove(fileJpg)\n",
    "    xmls.remove(fileXml)\n",
    "\n",
    "#rest of files will be validation files, so rename origin dir to val dir\n",
    "#os.rename(crsPath, valPath)\n",
    "shutil.move(crsPath, valPath) "
   ]
  },
  {
   "cell_type": "code",
   "execution_count": null,
   "id": "269cf6bb",
   "metadata": {},
   "outputs": [],
   "source": [
    "!python train.py --img 415 --batch 16 --epochs 30 --data dataset.yaml --weights yolov5s.pt --cache"
   ]
  },
  {
   "cell_type": "code",
   "execution_count": null,
   "id": "dd665b84",
   "metadata": {},
   "outputs": [],
   "source": []
  },
  {
   "cell_type": "code",
   "execution_count": null,
   "id": "5aad729f",
   "metadata": {},
   "outputs": [],
   "source": []
  },
  {
   "cell_type": "code",
   "execution_count": null,
   "id": "bfb3b249",
   "metadata": {},
   "outputs": [],
   "source": []
  },
  {
   "cell_type": "code",
   "execution_count": null,
   "id": "786da266",
   "metadata": {},
   "outputs": [],
   "source": []
  },
  {
   "cell_type": "code",
   "execution_count": null,
   "id": "b5c88323",
   "metadata": {},
   "outputs": [],
   "source": []
  },
  {
   "cell_type": "code",
   "execution_count": null,
   "id": "73602fca",
   "metadata": {},
   "outputs": [],
   "source": []
  },
  {
   "cell_type": "code",
   "execution_count": null,
   "id": "d1c4b692",
   "metadata": {},
   "outputs": [],
   "source": []
  }
 ],
 "metadata": {
  "kernelspec": {
   "display_name": "Python 3 (ipykernel)",
   "language": "python",
   "name": "python3"
  },
  "language_info": {
   "codemirror_mode": {
    "name": "ipython",
    "version": 3
   },
   "file_extension": ".py",
   "mimetype": "text/x-python",
   "name": "python",
   "nbconvert_exporter": "python",
   "pygments_lexer": "ipython3",
   "version": "3.11.5"
  }
 },
 "nbformat": 4,
 "nbformat_minor": 5
}
