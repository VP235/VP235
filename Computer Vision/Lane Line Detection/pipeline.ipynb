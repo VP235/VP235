{
 "cells": [
  {
   "cell_type": "code",
   "execution_count": 3,
   "id": "188b0887",
   "metadata": {},
   "outputs": [],
   "source": [
    "# !pip install collection"
   ]
  },
  {
   "cell_type": "code",
   "execution_count": 1,
   "id": "dfc670ed",
   "metadata": {},
   "outputs": [],
   "source": [
    "%run helper.ipynb"
   ]
  },
  {
   "cell_type": "code",
   "execution_count": 3,
   "id": "0abb38c3",
   "metadata": {},
   "outputs": [],
   "source": [
    "from collections import deque\n",
    "# from helper import *\n",
    "import cv2\n",
    "import numpy as np\n",
    "\n",
    "class LaneMemory:\n",
    "    def _init_(self, max_entries=50):\n",
    "        self.max_entries= max_entries\n",
    "        self.left_lanes= deque(max_entries= self.max_entries)\n",
    "        self.right_lanes= deque(max_entries= self.max_entries)\n",
    "        \n",
    "    def process(self, img):\n",
    "        result, left_lane, right_lane= process_img(self, calc_mean= True, left_mem= self.left_lanes, right_mem= self.right_lanes)\n",
    "        self.left_lanes.append(left_lane)\n",
    "        self.right_lanes.append(right_lane)\n",
    "        \n",
    "        return result\n",
    "    \n",
    "\n",
    "def process_image(img, calc_mean=False, **kwargs):\n",
    "    # NOTE: The output you return should be a color image (3 channel) for processing video below\n",
    "    # TODO: put your pipeline here,\n",
    "    # you should return the final output (image where lines are drawn on lanes)\n",
    "    \n",
    "    assert('left_mem' in kwargs.keys())\n",
    "    assert('right_mem' in kwargs.keys())\n",
    "    \n",
    "    original_img= img.copy()\n",
    "    \n",
    "    #convert to grayscale\n",
    "    gray_img= grayscale(img)\n",
    "    \n",
    "    \n",
    "    #darken the grayscale\n",
    "    darkned_img= adjust_Gamma(gray_img, 0.5)\n",
    "    \n",
    "    #color selection\n",
    "    white_mask= isolate_color_mask(to_hls(img), np.array([0,200,0], dtype= uint8), np.array([200,255,255], dtype=uint8))\n",
    "    yellow_mask= isolate_color_mask(to_hls(img), np.array([10, 0, 100], dtype= uint8), np.array([40, 255, 255],dtype=uint8))\n",
    "    \n",
    "    mask= cv2.bitwise_or(white_mask, yellow_mask)\n",
    "    colored_img= cv2.bitwise_and(darkned_img, darkned_img, mask= mask)\n",
    "    \n",
    "    #Apply Gaussian Blur\n",
    "    blurred_img= gaussian_Blur(colored_img, kernel_size= 7)\n",
    "    \n",
    "    #Apply Canny edge filter\n",
    "    canny_img= canny(blurred_img, low_threshold= 70, upper_threshold= 140)\n",
    "    \n",
    "    #Get Area of intrest\n",
    "    aoi_img= get_Aoi(canny_img)\n",
    "    \n",
    "    #Apply Hough lines\n",
    "    hough_lines= get_Hough_Lines(aoi_img)\n",
    "    hough_img= get_Hough_img(original_img, hough_lines)\n",
    "    \n",
    "    #Extrapolation and averaging\n",
    "    \n",
    "    left_lane, right_lane= get_lane_lines(original_img, hough_lines)\n",
    "    \n",
    "    if calc_mean:\n",
    "        if left_lane is not null and right_lane is not null:\n",
    "            kwargs['left_mem'].append(left_lane)\n",
    "            kwargs['right_mem'].append(right_lane)\n",
    "            \n",
    "        left_mean= np.mean(kwargs['left_mem'], axis=0, dtype= np.int32)\n",
    "        right_mean= np.mean(kwargs['right_mem'], axis=0, dtype= np.int32)\n",
    "        \n",
    "        left_lane_avg= tuple(map(tuple, left_lane))\n",
    "        right_lane_avg= tuple(map(tuple, right_lane))\n",
    "        \n",
    "        result= draw_weighted_lines(original_img, [left_lane_avg, right_lane_avg], thickness= 10)\n",
    "        return result, left_lane, right_lane\n",
    "    \n",
    "    result = draw_weighted_lines(original_img, [left_lane, right_lane], thickness= 10)\n",
    "        \n",
    "    return result, left_lane, right_lane\n",
    "    "
   ]
  },
  {
   "cell_type": "code",
   "execution_count": null,
   "id": "739019a3",
   "metadata": {},
   "outputs": [],
   "source": []
  },
  {
   "cell_type": "code",
   "execution_count": null,
   "id": "cc49c5f2",
   "metadata": {},
   "outputs": [],
   "source": []
  },
  {
   "cell_type": "code",
   "execution_count": null,
   "id": "027e0539",
   "metadata": {},
   "outputs": [],
   "source": []
  },
  {
   "cell_type": "code",
   "execution_count": null,
   "id": "68fc4624",
   "metadata": {},
   "outputs": [],
   "source": []
  },
  {
   "cell_type": "code",
   "execution_count": null,
   "id": "67605688",
   "metadata": {},
   "outputs": [],
   "source": []
  },
  {
   "cell_type": "code",
   "execution_count": null,
   "id": "0599ecc0",
   "metadata": {},
   "outputs": [],
   "source": []
  },
  {
   "cell_type": "code",
   "execution_count": null,
   "id": "82baadad",
   "metadata": {},
   "outputs": [],
   "source": []
  },
  {
   "cell_type": "code",
   "execution_count": null,
   "id": "216abf82",
   "metadata": {},
   "outputs": [],
   "source": []
  },
  {
   "cell_type": "code",
   "execution_count": null,
   "id": "299a055c",
   "metadata": {},
   "outputs": [],
   "source": []
  },
  {
   "cell_type": "code",
   "execution_count": null,
   "id": "0bba6be9",
   "metadata": {},
   "outputs": [],
   "source": []
  },
  {
   "cell_type": "code",
   "execution_count": null,
   "id": "c2015d0a",
   "metadata": {},
   "outputs": [],
   "source": []
  },
  {
   "cell_type": "code",
   "execution_count": null,
   "id": "c55fc2bb",
   "metadata": {},
   "outputs": [],
   "source": []
  },
  {
   "cell_type": "code",
   "execution_count": null,
   "id": "87e43dfc",
   "metadata": {},
   "outputs": [],
   "source": []
  },
  {
   "cell_type": "code",
   "execution_count": null,
   "id": "23f2dcbe",
   "metadata": {},
   "outputs": [],
   "source": []
  }
 ],
 "metadata": {
  "kernelspec": {
   "display_name": "Python 3 (ipykernel)",
   "language": "python",
   "name": "python3"
  },
  "language_info": {
   "codemirror_mode": {
    "name": "ipython",
    "version": 3
   },
   "file_extension": ".py",
   "mimetype": "text/x-python",
   "name": "python",
   "nbconvert_exporter": "python",
   "pygments_lexer": "ipython3",
   "version": "3.11.5"
  }
 },
 "nbformat": 4,
 "nbformat_minor": 5
}
