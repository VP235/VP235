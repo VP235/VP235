{
 "cells": [
  {
   "cell_type": "code",
   "execution_count": null,
   "id": "faca2463",
   "metadata": {},
   "outputs": [],
   "source": [
    "import pandas as pd \n",
    "import numpy as np\n",
    "import seaborn as sns\n",
    "import matplotlib.pyplot as plt\n",
    "import plotly.express as px\n",
    "from plotly.subplots import make_subplots\n",
    "import plotly.graph_objects as go\n",
    "\n",
    "from warnings import filterwarnings\n",
    "\n",
    "filterwarnings('ignore')"
   ]
  },
  {
   "cell_type": "code",
   "execution_count": null,
   "id": "d51e0010",
   "metadata": {},
   "outputs": [],
   "source": [
    "app= pd.read_csv(r\"D:\\Datasets\\Credit Card Fraud Data\\application_data.csv\")\n",
    "prev_app= pd.read_csv(r\"D:\\Datasets\\Credit Card Fraud Data\\application_data.csv\")         \n"
   ]
  },
  {
   "cell_type": "code",
   "execution_count": null,
   "id": "bcfc45fd",
   "metadata": {},
   "outputs": [],
   "source": [
    "# pd.set_option() allows you to show all the columns present in the large dataset\n",
    "\n",
    "pd.set_option('display.max_columns', None)  \n",
    "app.head()"
   ]
  },
  {
   "cell_type": "code",
   "execution_count": null,
   "id": "668e0bb7",
   "metadata": {},
   "outputs": [],
   "source": [
    "prev_app.head()"
   ]
  },
  {
   "cell_type": "code",
   "execution_count": null,
   "id": "d1ac48cc",
   "metadata": {},
   "outputs": [],
   "source": [
    "app.shape"
   ]
  },
  {
   "cell_type": "code",
   "execution_count": null,
   "id": "4c9eb1e6",
   "metadata": {},
   "outputs": [],
   "source": [
    "prev_app.shape"
   ]
  },
  {
   "cell_type": "code",
   "execution_count": null,
   "id": "253ed189",
   "metadata": {},
   "outputs": [],
   "source": [
    "app.info(verbose=True)"
   ]
  },
  {
   "cell_type": "code",
   "execution_count": null,
   "id": "6d6624bb",
   "metadata": {},
   "outputs": [],
   "source": [
    "app.describe()"
   ]
  },
  {
   "cell_type": "code",
   "execution_count": null,
   "id": "88700cc2",
   "metadata": {},
   "outputs": [],
   "source": [
    "app.describe(include='object')"
   ]
  },
  {
   "cell_type": "code",
   "execution_count": null,
   "id": "69809dfe",
   "metadata": {},
   "outputs": [],
   "source": [
    "# total Null Values\n",
    "total_null=app.isna().sum()\n",
    "null_per=((total_null/app.shape[0])*100)\n",
    "\n",
    "null_df= pd.DataFrame({'total_Null_data': total_null, 'Null percentage': null_per})\n",
    "\n",
    "null_df.sort_values(by='Null percentage',ascending=False).head(20)"
   ]
  },
  {
   "cell_type": "code",
   "execution_count": null,
   "id": "296e74ed",
   "metadata": {},
   "outputs": [],
   "source": [
    "null_more_than_thresh= (null_df[null_df['Null percentage']>35.0])\n",
    "null_more_than_thresh.sort_values(by='Null percentage',ascending=False)"
   ]
  },
  {
   "cell_type": "code",
   "execution_count": null,
   "id": "fb6c9655",
   "metadata": {},
   "outputs": [],
   "source": [
    "#Plotting the graph for Null cols which are higher than threshold\n",
    "plt.figure(figsize=(10,4))\n",
    "px.bar(null_more_than_thresh.sort_values(by='Null percentage', ascending=False),title= 'List of Columns & null counts where null values are more than 35%', labels={'\"Null Columns','Count of null values'},template= 'plotly_dark')\n",
    "\n"
   ]
  },
  {
   "cell_type": "markdown",
   "id": "919740d5",
   "metadata": {},
   "source": [
    "Theoretically, 25 to 30% is the maximum missing values are allowed, beyond which we might want to drop the variable from analysis. But practically we get variables with ~50% of missing values but still, the customer insists to have it for analyzing. In those cases, we have to treat them accordingly. Here, we will remove columns with null values of more than 35% after observing those columns."
   ]
  },
  {
   "cell_type": "code",
   "execution_count": null,
   "id": "78587719",
   "metadata": {},
   "outputs": [],
   "source": [
    "#checking the total null column count > 35%\n",
    "\n",
    "len(null_more_than_thresh)"
   ]
  },
  {
   "cell_type": "code",
   "execution_count": null,
   "id": "a6fa36de",
   "metadata": {},
   "outputs": [],
   "source": [
    "# drop the total columns which are > 35%\n",
    "columns_label= null_more_than_thresh.index.values  # Getting names of all the columns which are having null values > 35%\n",
    "\n",
    "app.drop(columns_label, axis=1, inplace=True) "
   ]
  },
  {
   "cell_type": "code",
   "execution_count": null,
   "id": "33d70774",
   "metadata": {},
   "outputs": [],
   "source": [
    "app.shape"
   ]
  },
  {
   "cell_type": "code",
   "execution_count": null,
   "id": "deaf0ac9",
   "metadata": {},
   "outputs": [],
   "source": [
    "#Recheck the null counts of the app dataframe\n",
    "\n",
    "def check_null():\n",
    "    \n",
    "    totalNA= app.isna().sum()\n",
    "    perNA= (totalNA/app.shape[0])*100\n",
    "\n",
    "    null_check= pd.DataFrame({'totalNA':totalNA, 'Per_NA':perNA})\n",
    "    null_check=null_check.sort_values(by='Per_NA', ascending=False)\n",
    "    \n",
    "    cols_with_null_data= null_check[null_check['Per_NA']>0.0000]\n",
    "\n",
    "    return cols_with_null_data\n"
   ]
  },
  {
   "cell_type": "code",
   "execution_count": null,
   "id": "8d91524f",
   "metadata": {},
   "outputs": [],
   "source": [
    "check_null()"
   ]
  },
  {
   "cell_type": "code",
   "execution_count": null,
   "id": "2b293f33",
   "metadata": {},
   "outputs": [],
   "source": [
    "app['OCCUPATION_TYPE'].dtype"
   ]
  },
  {
   "cell_type": "code",
   "execution_count": null,
   "id": "52c07286",
   "metadata": {},
   "outputs": [],
   "source": [
    "def check_null_dtypes():\n",
    "    \n",
    "    cat=[]\n",
    "    num= []\n",
    "    \n",
    "    null_cols= check_null()\n",
    "    null_col_names= null_cols.index.values\n",
    "    \n",
    "    for i in null_col_names:\n",
    "        if(app[i].dtype=='object'):\n",
    "            cat.append(i)\n",
    "        else:\n",
    "            num.append(i)\n",
    "\n",
    "    print(f'categorical: {len(cat)}\\n\\n {cat} \\n\\n numerical: {len(num)}\\n\\n {num}')\n",
    "    return cat, num\n"
   ]
  },
  {
   "cell_type": "code",
   "execution_count": null,
   "id": "6d8527c3",
   "metadata": {},
   "outputs": [],
   "source": [
    "cat, num= check_null_dtypes()"
   ]
  },
  {
   "cell_type": "code",
   "execution_count": null,
   "id": "0517f60d",
   "metadata": {},
   "outputs": [],
   "source": [
    "app['NAME_TYPE_SUITE'].value_counts()"
   ]
  },
  {
   "cell_type": "code",
   "execution_count": null,
   "id": "c5115e10",
   "metadata": {},
   "outputs": [],
   "source": [
    "app['OCCUPATION_TYPE'].value_counts()"
   ]
  },
  {
   "cell_type": "code",
   "execution_count": null,
   "id": "fec5558e",
   "metadata": {},
   "outputs": [],
   "source": [
    "check_null()"
   ]
  },
  {
   "cell_type": "code",
   "execution_count": null,
   "id": "a581c9d3",
   "metadata": {},
   "outputs": [],
   "source": [
    "cat[0]"
   ]
  },
  {
   "cell_type": "code",
   "execution_count": null,
   "id": "4e801adf",
   "metadata": {},
   "outputs": [],
   "source": [
    "# Fill the categorical NA columns with mode value, lets leave occupation_type column, as it might contains some imp info\n",
    "\n",
    "app[cat[1]].fillna(app[cat[1]].mode()[0], inplace=True)\n",
    "    \n",
    "# Fill the numerical NA columns with median value\n",
    "for i in num:\n",
    "\n",
    "    app[i].fillna(app[i].median(), inplace=True)\n",
    "    \n",
    "   "
   ]
  },
  {
   "cell_type": "code",
   "execution_count": null,
   "id": "15994383",
   "metadata": {},
   "outputs": [],
   "source": [
    "# Check if all the null values are filled or not\n",
    "\n",
    "check_null()"
   ]
  },
  {
   "cell_type": "code",
   "execution_count": null,
   "id": "4f3e848a",
   "metadata": {},
   "outputs": [],
   "source": [
    "check_null_dtypes()"
   ]
  },
  {
   "cell_type": "code",
   "execution_count": null,
   "id": "4e50c970",
   "metadata": {},
   "outputs": [],
   "source": [
    "# Clear the error values present in [\"DAYS_BIRTH\",\"DAYS_EMPLOYED\",\"DAYS_REGISTRATION\",\"DAYS_ID_PUBLISH\",\"DAYS_LAST_PHONE_CHANGE\"]\n",
    "\n",
    "app[[\"DAYS_BIRTH\",\"DAYS_EMPLOYED\",\"DAYS_REGISTRATION\",\"DAYS_ID_PUBLISH\",\"DAYS_LAST_PHONE_CHANGE\"]].head()"
   ]
  },
  {
   "cell_type": "markdown",
   "id": "4bea8e3c",
   "metadata": {},
   "source": [
    "From above table we can see that all these columns are Days columns and are having days count as -ve number. So, lets clear it up"
   ]
  },
  {
   "cell_type": "code",
   "execution_count": null,
   "id": "581a05e2",
   "metadata": {},
   "outputs": [],
   "source": [
    "# create a list for all the columns which starts with Days word, as these are the only columns which have -ve days error\n",
    "\n",
    "days_cols= [i for i in app if i.startswith('DAYS_')]\n",
    "days_cols"
   ]
  },
  {
   "cell_type": "code",
   "execution_count": null,
   "id": "089feb14",
   "metadata": {},
   "outputs": [],
   "source": [
    "def check_unique_values(days_cols):\n",
    "    \n",
    "    for i in days_cols:\n",
    "        print(app[i].unique())\n",
    "\n",
    "check_unique_values(days_cols)"
   ]
  },
  {
   "cell_type": "code",
   "execution_count": null,
   "id": "e3d9364b",
   "metadata": {},
   "outputs": [],
   "source": [
    "#Convert negative values to the positive one for all the days columns\n",
    "\n",
    "app[days_cols]= abs(app[days_cols])"
   ]
  },
  {
   "cell_type": "code",
   "execution_count": null,
   "id": "4194c3e0",
   "metadata": {},
   "outputs": [],
   "source": [
    "# check if all the cols after taking abso value of the cols \n",
    "check_unique_values(days_cols)"
   ]
  },
  {
   "cell_type": "code",
   "execution_count": null,
   "id": "baa56a45",
   "metadata": {},
   "outputs": [],
   "source": [
    "# abs_days_cols"
   ]
  },
  {
   "cell_type": "code",
   "execution_count": null,
   "id": "0061267c",
   "metadata": {},
   "outputs": [],
   "source": [
    "#Convert columns which has Y/N value to 0/1 for our convinence\n",
    "\n",
    "app['FLAG_OWN_CAR']= np.where(app['FLAG_OWN_CAR']=='Y', 1, 0)\n",
    "app['FLAG_OWN_REALTY']= np.where(app['FLAG_OWN_REALTY']=='Y', 1, 0)"
   ]
  },
  {
   "cell_type": "code",
   "execution_count": null,
   "id": "1fccaa53",
   "metadata": {},
   "outputs": [],
   "source": [
    "app.head()"
   ]
  },
  {
   "cell_type": "code",
   "execution_count": null,
   "id": "454196cb",
   "metadata": {},
   "outputs": [],
   "source": [
    "#check the distribution of categorical columns\n",
    "\n",
    "app.describe(include='O')"
   ]
  },
  {
   "cell_type": "code",
   "execution_count": null,
   "id": "e2637383",
   "metadata": {},
   "outputs": [],
   "source": [
    "# app['CODE_GENDER'].value_counts()\n",
    "\n",
    "def cat_and_num():\n",
    "    categorical_cols=[]\n",
    "    numerical_cols=[]\n",
    "\n",
    "    for i in app.columns:\n",
    "        if app[i].dtype == 'O':\n",
    "            categorical_cols.append(i)\n",
    "        else:\n",
    "            numerical_cols.append(i)\n",
    "            \n",
    "    return categorical_cols, numerical_cols"
   ]
  },
  {
   "cell_type": "code",
   "execution_count": null,
   "id": "eb8e730a",
   "metadata": {},
   "outputs": [],
   "source": [
    "# check the value counts of all the categorical columns\n",
    "\n",
    "total_cat_cols, total_num_cols= cat_and_num()\n",
    "\n",
    "for i in total_cat_cols:\n",
    "    print('\\n\\n',app[i].value_counts())\n",
    "    "
   ]
  },
  {
   "cell_type": "markdown",
   "id": "0545be85",
   "metadata": {},
   "source": [
    "#### After seeing the above categorical description we can say that CODE_GENDER and ORGANIZATION_TYPE has NA value as XNA, so lets impute it\n"
   ]
  },
  {
   "cell_type": "code",
   "execution_count": null,
   "id": "7d2b9af8",
   "metadata": {},
   "outputs": [],
   "source": [
    "# Compute and impute the CODE_GENDER XNA values with the most frequent value\n",
    "\n",
    "app['CODE_GENDER']= app['CODE_GENDER'].replace('XNA','F')"
   ]
  },
  {
   "cell_type": "code",
   "execution_count": null,
   "id": "e376aaa0",
   "metadata": {},
   "outputs": [],
   "source": [
    "app['CODE_GENDER'].value_counts()"
   ]
  },
  {
   "cell_type": "code",
   "execution_count": null,
   "id": "eb14c2e7",
   "metadata": {},
   "outputs": [],
   "source": [
    "# app[app['ORGANIZATION_TYPE']=='XNA']"
   ]
  },
  {
   "cell_type": "code",
   "execution_count": null,
   "id": "e06e2ed5",
   "metadata": {},
   "outputs": [],
   "source": [
    "cat_df=app[total_cat_cols]"
   ]
  },
  {
   "cell_type": "code",
   "execution_count": null,
   "id": "66b43bf1",
   "metadata": {},
   "outputs": [],
   "source": [
    "cat_df[cat_df['ORGANIZATION_TYPE']=='XNA'].head(50)"
   ]
  },
  {
   "cell_type": "code",
   "execution_count": null,
   "id": "113af65b",
   "metadata": {},
   "outputs": [],
   "source": [
    "# Observation says that ORGANIZATION_TYPE is follwing a parallel pattern with NAME_INCOME_TYPE \n",
    "# check how much of data in NAME_INCOME_TYPE is having rows as Pensioner\n",
    "\n",
    "app['NAME_INCOME_TYPE'].value_counts()"
   ]
  },
  {
   "cell_type": "code",
   "execution_count": null,
   "id": "4e998cc8",
   "metadata": {},
   "outputs": [],
   "source": [
    "# As we can see that total count of XNA's in ORGANIZATION_TYPE is 55374 \n",
    "# and total count of Pensioner in NAME_INCOME_TYPE is 55362\n",
    "# which says that Pensioner's count is almost same to the XNA, So the value is Missing At Random and we can use it to fill ORGANIZATION_TYPE XNA's"
   ]
  },
  {
   "cell_type": "code",
   "execution_count": null,
   "id": "5a7bc960",
   "metadata": {},
   "outputs": [],
   "source": [
    "# Analyse the 'OCCUPATION_TYPE' column as it is yet to be imputed for null values\n",
    "app_copy= cat_df"
   ]
  },
  {
   "cell_type": "code",
   "execution_count": null,
   "id": "706be3bd",
   "metadata": {},
   "outputs": [],
   "source": [
    "#Replace null values with 'XNA' just to know its relation with other columns\n",
    "app_copy['OCCUPATION_TYPE'].fillna('XNA', inplace=True)"
   ]
  },
  {
   "cell_type": "code",
   "execution_count": null,
   "id": "f989bb17",
   "metadata": {},
   "outputs": [],
   "source": [
    "app_copy['OCCUPATION_TYPE'].value_counts()"
   ]
  },
  {
   "cell_type": "code",
   "execution_count": null,
   "id": "c792f1d5",
   "metadata": {
    "scrolled": false
   },
   "outputs": [],
   "source": [
    "# Notice that NAME_INCOME_TYPE and OCCUPATION_TYPE is having a pattern together, its that almost 80% of missing data is \n",
    "#having 'Pensioner' as most frequent one.\n",
    "\n",
    "app_copy.loc[(app_copy['NAME_INCOME_TYPE']=='Pensioner') & (app_copy['OCCUPATION_TYPE']=='XNA')]"
   ]
  },
  {
   "cell_type": "code",
   "execution_count": null,
   "id": "dcd83af3",
   "metadata": {},
   "outputs": [],
   "source": [
    "# Replace XNA values in ORGANIZATION_TYPE as Pensioner\n",
    "\n",
    "app['ORGANIZATION_TYPE']= app['ORGANIZATION_TYPE'].replace('XNA', 'Pensioner')\n",
    "\n",
    "# Impute missing values in OCCUPATION_TYPE column with Pensioner\n",
    "\n",
    "app['OCCUPATION_TYPE'].fillna('Pensioner', inplace= True)\n"
   ]
  },
  {
   "cell_type": "code",
   "execution_count": null,
   "id": "7a991a13",
   "metadata": {},
   "outputs": [],
   "source": [
    "cat_df.head(10)"
   ]
  },
  {
   "cell_type": "code",
   "execution_count": null,
   "id": "68452f67",
   "metadata": {},
   "outputs": [],
   "source": [
    "app['AMT_INCOME_TOTAL'].head(20)"
   ]
  },
  {
   "cell_type": "code",
   "execution_count": null,
   "id": "fe713f61",
   "metadata": {},
   "outputs": [],
   "source": [
    "plt.boxplot(app['AMT_INCOME_TOTAL']);"
   ]
  },
  {
   "cell_type": "code",
   "execution_count": null,
   "id": "2c3ad69e",
   "metadata": {},
   "outputs": [],
   "source": [
    "# We have some nominal categorical column, so impute them as required\n",
    "\n",
    "app['AMT_INCOME_TYPE']= pd.qcut(app['AMT_INCOME_TOTAL'], q=[0, 0.2, 0.5, 0.8, 0.95, 1], labels=['VERY_LOW', 'LOW', 'MEDIUM', 'HIGH', 'VERY_HIGH'])\n",
    "app.head()"
   ]
  },
  {
   "cell_type": "code",
   "execution_count": null,
   "id": "533365b2",
   "metadata": {},
   "outputs": [],
   "source": [
    "# Lets Bin the DAYS_BIRTh to the AGE_GROUP\n",
    "\n",
    "app['YEARS_BIRTH']=(app['DAYS_BIRTH']/365).astype('int')\n",
    "\n",
    "app['YEARS_BIRTH'].unique()"
   ]
  },
  {
   "cell_type": "code",
   "execution_count": null,
   "id": "a99fcb18",
   "metadata": {},
   "outputs": [],
   "source": [
    "# Bin the YEARS_BIRTH into AGE_GROUP bins\n",
    "\n",
    "app['AGE_GROUP']= pd.cut(app['YEARS_BIRTH'], bins=[19, 25, 35, 60, 100], labels=['Very_Young','Young', 'Middle_Age', 'Senior_Citizen'])"
   ]
  },
  {
   "cell_type": "code",
   "execution_count": null,
   "id": "87ef602c",
   "metadata": {},
   "outputs": [],
   "source": [
    "plt.figure(figsize=(22,5))\n",
    "sns.countplot(data= app, x= 'YEARS_BIRTH')"
   ]
  },
  {
   "cell_type": "code",
   "execution_count": null,
   "id": "3e8d11c5",
   "metadata": {},
   "outputs": [],
   "source": [
    "plt.figure(figsize=(22,5))\n",
    "sns.countplot(data=app,x='AGE_GROUP')"
   ]
  },
  {
   "cell_type": "code",
   "execution_count": null,
   "id": "cefcbfcc",
   "metadata": {},
   "outputs": [],
   "source": [
    "app.head()"
   ]
  },
  {
   "cell_type": "code",
   "execution_count": null,
   "id": "112c2e2d",
   "metadata": {},
   "outputs": [],
   "source": [
    "app.info()"
   ]
  },
  {
   "cell_type": "code",
   "execution_count": null,
   "id": "747b57e8",
   "metadata": {},
   "outputs": [],
   "source": [
    "# categorical_cols"
   ]
  },
  {
   "cell_type": "code",
   "execution_count": null,
   "id": "a4422e3e",
   "metadata": {},
   "outputs": [],
   "source": [
    "# Convert all the object datatypes to category dtypes\n",
    "\n",
    "for i in total_cat_cols:\n",
    "    app[i]= app[i].astype('category')"
   ]
  },
  {
   "cell_type": "code",
   "execution_count": null,
   "id": "b8268372",
   "metadata": {},
   "outputs": [],
   "source": [
    "# app['NAME_CONTRACT_TYPE']= app['NAME_CONTRACT_TYPE']. astype('category')"
   ]
  },
  {
   "cell_type": "code",
   "execution_count": null,
   "id": "a404fdc5",
   "metadata": {},
   "outputs": [],
   "source": [
    "# Here the thing is to notice that the memory usage is reduced quite nicely\n",
    "app.info()"
   ]
  },
  {
   "cell_type": "code",
   "execution_count": null,
   "id": "d5375aa5",
   "metadata": {},
   "outputs": [],
   "source": [
    "# There are many unwanted columns which should be removed or refactored\n",
    "\n",
    "unwanted=['FLAG_MOBIL', 'FLAG_EMP_PHONE', 'FLAG_WORK_PHONE', 'FLAG_CONT_MOBILE',\n",
    "       'FLAG_PHONE', 'FLAG_EMAIL','REGION_RATING_CLIENT','REGION_RATING_CLIENT_W_CITY','FLAG_EMAIL', 'REGION_RATING_CLIENT',\n",
    "       'REGION_RATING_CLIENT_W_CITY', 'FLAG_DOCUMENT_2', 'FLAG_DOCUMENT_3','FLAG_DOCUMENT_4', 'FLAG_DOCUMENT_5', 'FLAG_DOCUMENT_6',\n",
    "       'FLAG_DOCUMENT_7', 'FLAG_DOCUMENT_8', 'FLAG_DOCUMENT_9','FLAG_DOCUMENT_10', 'FLAG_DOCUMENT_11', 'FLAG_DOCUMENT_12',\n",
    "       'FLAG_DOCUMENT_13', 'FLAG_DOCUMENT_14', 'FLAG_DOCUMENT_15','FLAG_DOCUMENT_16', 'FLAG_DOCUMENT_17', 'FLAG_DOCUMENT_18',\n",
    "       'FLAG_DOCUMENT_19', 'FLAG_DOCUMENT_20', 'FLAG_DOCUMENT_21']"
   ]
  },
  {
   "cell_type": "code",
   "execution_count": null,
   "id": "bb2a0d9b",
   "metadata": {},
   "outputs": [],
   "source": [
    "app.drop(labels=unwanted, axis=1, inplace=True)"
   ]
  },
  {
   "cell_type": "markdown",
   "id": "5a07494f",
   "metadata": {},
   "source": [
    "### Outlier Analysis"
   ]
  },
  {
   "cell_type": "code",
   "execution_count": null,
   "id": "c7279409",
   "metadata": {},
   "outputs": [],
   "source": [
    "# To detect the outlier, plot a box plot to analyis the numerical column\n",
    "\n",
    "num_cols= app.select_dtypes(include='number').columns\n",
    "\n",
    "fig, axes= plt.subplots(nrows= 7, ncols= 5)\n",
    "fig.subplots_adjust(left= 0, bottom=0, right=3, top=12, wspace= 0.09, hspace= 0.3)\n",
    "\n",
    "for ax, column in zip(axes.flatten(), num_cols):\n",
    "    \n",
    "    sns.boxplot(data= app[column],orient= 'h', ax=ax).set(xlabel= column)\n"
   ]
  },
  {
   "cell_type": "raw",
   "id": "87f19027",
   "metadata": {},
   "source": [
    "Insights:\n",
    "\n",
    ">CNT_CHILDREN have outlier values having children more than 5.\n",
    "\n",
    ">IQR for AMT_INCOME_TOTAL is very slim and it has a large number of outliers.\n",
    "\n",
    ">Third quartile of AMT_CREDIT is larger as compared to the First quartile which means that most of the Credit amount of the loan of customers are present in the third quartile. And there are a large number of outliers present in AMT_CREDIT.\n",
    "\n",
    ">The third quartile AMT_ANNUITY is slightly larger than the First quartile and there is a large number of outliers.\n",
    "\n",
    ">Third quartile of AMT_GOODS_PRICE,DAYS_REGISTRATION AND DAYS_LAST_PHONE_CHANGE is larger as compared to the First quartile and all have a large number of outliers.\n",
    "\n",
    ">IQR for DAYS EMPLOYED is very slim. Most of the outliers are present below 25000. And an outlier is present 375000.\n",
    "\n",
    ">From boxplot of CNT_FAM_MEMBERS , we can say that most of the clients have 4 family members. There are some outliers present.\n",
    "\n",
    ">DAYS_BIRTH ,DAYS_ID_PUBLISH and EXT_SOURCE_2,EXT_SOURCE_3 don’t have any outliers.\n",
    "\n",
    ">Boxplot for DAYS_EMPLOYED ,OBS_30_CNT_SOCIAL_CIRCLE, DEF_30_CNT_SOCIAL_CIRCLE,OBS_60_CNT_SOCIAL_CIRCLE, DEF_60_CNT_SOCIAL_CIRCLE,AMT_REQ_CREDIT_BUREAU_HOUR,AMT_REQ_CREDIT_BUREAU_DAY, AMT_REQ_CREDIT_BUREAU_WEEK,AMT_REQ_CREDIT_BUREAU_MON, AMT_REQ_CREDIT_BUREAU_QRT and AMT_REQ_CREDIT_BUREAU_YEARare very slim and have a large number of outliers.\n",
    "\n",
    ">FLAG_OWN_CAR : It doesn’t have First and Third quantile and values lies within IQR, So we can conclude that most of the clients own a car\n",
    "\n",
    ">FLAG_OWN_REALTY : It doesn’t have First and Third quantile and values lies within IQR, So we can conclude that  most of the clients own a House/Flat\n"
   ]
  },
  {
   "cell_type": "markdown",
   "id": "555a4c5a",
   "metadata": {},
   "source": [
    "###  Before starting the analysis lets check the data imbalance"
   ]
  },
  {
   "cell_type": "code",
   "execution_count": null,
   "id": "c2db0bfe",
   "metadata": {},
   "outputs": [],
   "source": [
    "target0 = app.loc[app['TARGET']==0]\n",
    "target1 = app.loc[app['TARGET']==1]"
   ]
  },
  {
   "cell_type": "code",
   "execution_count": null,
   "id": "9c58e340",
   "metadata": {},
   "outputs": [],
   "source": [
    "#Imbalance Ratio\n",
    "\n",
    "round(len(target0)/len(target1),2)"
   ]
  },
  {
   "cell_type": "code",
   "execution_count": null,
   "id": "6aff0359",
   "metadata": {},
   "outputs": [],
   "source": [
    "# Visualisation of Imbalance Data distribution on a pie chart\n",
    "\n",
    "count0= 0\n",
    "count1= 0\n",
    "\n",
    "for i in app['TARGET'].values:\n",
    "    \n",
    "    if i == 0:\n",
    "        count0 +=1\n",
    "    else:\n",
    "        count1 +=1\n",
    "\n",
    "count0 = (count0/len(app['TARGET'])) * 100        \n",
    "count1 = (count1/len(app['TARGET'])) * 100\n",
    "\n",
    "\n",
    "x= ['Defaulted Population(Target=1)', 'Non-Defaulted Population(Target=0)']\n",
    "y= [count1, count0]\n",
    "\n",
    "explode= (0.1, 0) # only explode the 1st slice\n",
    "\n",
    "fig1, ax1= plt.subplots()\n",
    "ax1.pie(y, explode= explode, labels= x,autopct='%1.1f%%', shadow= True, startangle= 110)\n",
    "\n",
    "ax1.axis('equal')     # Equal aspect ratio ensures that pie is drawn as a circle.\n",
    "\n",
    "plt.title(\"Data Imbalance Chart\", fontsize= 25)\n",
    "plt.show()"
   ]
  },
  {
   "cell_type": "raw",
   "id": "a4a30f31",
   "metadata": {},
   "source": [
    "It shows that the data is highly imbalanced, 9% of data is Default Population and 91% is Non-Default Population, and also the imbalanced data ratio is 11.39"
   ]
  },
  {
   "cell_type": "code",
   "execution_count": null,
   "id": "62f161d1",
   "metadata": {},
   "outputs": [],
   "source": [
    "plt.figure(figsize=(40,5))\n",
    "plt.rcParams[\"axes.labelsize\"] = 30\n",
    "plt.rcParams['axes.titlesize'] = 80                                                           # Plot Configuration \n",
    "plt.rcParams['axes.titlepad'] = 30\n",
    "fig, axes = plt.subplots(nrows=1,ncols=2)                  \n",
    "sns.set_context('talk')\n",
    "fig.subplots_adjust(left= 0.09,bottom=1,right=3,top= 12,wspace=0.6,hspace=0.9) \n",
    "\n",
    "\n",
    "plt.subplot(121)\n",
    "plt.xscale('log')                                                                             # For Target0      \n",
    "sns.countplot(data=target0,y='ORGANIZATION_TYPE',\n",
    "              order=app['ORGANIZATION_TYPE'].value_counts().index,palette='Set3',hue = 'TARGET')\n",
    "plt.title(\"ORGANIZATION_TYPE Vs Target 0\")\n",
    "\n",
    "\n",
    "\n",
    "plt.subplot(122)\n",
    "plt.xscale('log')                                                                              # For Target1\n",
    "sns.countplot(data=target1, y='ORGANIZATION_TYPE',\n",
    "              order=app['ORGANIZATION_TYPE'].value_counts().index,palette='Set1',hue = 'TARGET')\n",
    "plt.title(\"ORGANIZATION_TYPE Vs Target 1\")\n",
    "\n",
    "plt.show()"
   ]
  },
  {
   "cell_type": "raw",
   "id": "60fe0f43",
   "metadata": {},
   "source": [
    "# Clients with Organization Type Business Entity Type 3, Self-Employed, Other, Medicine, Business Entity Type 2 and Government applied the most for Loan\n",
    "# Clients with Organization Type Industry:Type 8, Trade: type 5, Trade: type 4, Industry: type 13 applied lower for the loan as compared to others"
   ]
  },
  {
   "cell_type": "code",
   "execution_count": null,
   "id": "90af5d86",
   "metadata": {},
   "outputs": [],
   "source": [
    "# To understand it properly lets compare all data columns with the target columns\n",
    "\n",
    "def comp_plot(col):\n",
    "    \n",
    "    plt.figure(figsize=(40, 20))\n",
    "\n",
    "    plt.rcParams['axes.labelpad'] = 50\n",
    "    plt.subplot(1,2,1)\n",
    "    sns.countplot(data= target0, x= col, hue= 'TARGET', palette= 'Set2' )\n",
    "    plt.xlabel(col, fontsize= 30, fontweight=\"bold\")                                                         #Target 0\n",
    "    plt.ylabel('Non Payment Difficulties', fontsize= 30, fontweight=\"bold\")\n",
    "    plt.xticks(rotation=90, fontsize=30)\n",
    "    plt.yticks(rotation=360, fontsize=30)\n",
    "\n",
    "    plt.rcParams['axes.labelpad'] = 50\n",
    "    plt.subplot(1,2,2)\n",
    "    sns.countplot(data= target1, x= col, hue= 'TARGET', palette= 'Set3' )\n",
    "    plt.xlabel(col, fontsize= 30, fontweight=\"bold\")                                                         #Target 0\n",
    "    plt.ylabel('Payment Difficulties', fontsize= 30, fontweight=\"bold\")\n",
    "    plt.xticks(rotation=90, fontsize=30)\n",
    "    plt.yticks(rotation=360, fontsize=30)\n",
    "    \n",
    "    plt.show()"
   ]
  },
  {
   "cell_type": "code",
   "execution_count": null,
   "id": "35ec42b5",
   "metadata": {},
   "outputs": [],
   "source": [
    "# Remove Organization_Type from the categorical list as we have already analysed it\n",
    "\n",
    "cat_list= list(app.select_dtypes(include='category').columns)\n",
    "cat_list.remove('ORGANIZATION_TYPE')\n",
    "\n",
    "cat_list"
   ]
  },
  {
   "cell_type": "code",
   "execution_count": null,
   "id": "6242bef1",
   "metadata": {},
   "outputs": [],
   "source": [
    "for i in cat_list:\n",
    "    comp_plot(i)"
   ]
  },
  {
   "cell_type": "raw",
   "id": "9103eacd",
   "metadata": {},
   "source": [
    "# Target 0: Non- Defaulters(Non-Payment Difficulties), Target 1: Defaulters(Payment Difficulties)\n",
    "\n",
    "# NAME_CONTRACT_TYPE:\n",
    "\n",
    "   > Many of the clients opts for the cash loans, and very few clients goes for Revolving loans may be its defaulter or non-defaulter\n",
    "\n",
    "# CODE_GENDER:\n",
    "\n",
    "    > As compare to Male Clients, most of the Female Clients opts for loan. \n",
    "    > 66.6 % non-defaulters are Female and only 33.4 % of Male are non-defaulters. \n",
    "    > Also as for Defaulter 57% are Female and 42% are Male.\n",
    "    \n",
    "# NAME_TYPE_SUITE:\n",
    "\n",
    "    > Most of the client were unaccompanied and few were accompanied as a family for both defaulters and non- defaulters.\n",
    "    > Who accompanied a client while taking for a loan does not have much impact on the defaults. Also both the populations have same prportion.\n",
    "    \n",
    "# NAME_INCOME_TYPE:\n",
    "\n",
    "    > Clients who are getting payments from Wroking, Commercial associate and Pensioner are more likely to apply for loans.\n",
    "    > Mostly working professionals have high numbers for applying loans\n",
    "    > Businessman, Maternity Leave, Students and Unemployed clients are less likely to opt for loan.\n",
    "    > Working Professionals have high risk for defaulters.\n",
    "    > State servants has minimal risk for default.\n",
    "    \n",
    "# NAME_EDUCATION_TYPE:\n",
    "\n",
    "    > Clients having education Secondary or Secondary Special are more likey to apply for the loan.\n",
    "    > Clients having education Secondary or Secondary Special have higher risk to default.\n",
    "    > Other education types have minimal risk.\n",
    "\n",
    "# NAME_FAMILY_STATUS :\n",
    "\n",
    "    > Married Clients seems to be applied most for the loan compared to others for both Defaulters and Non-Defaulters.\n",
    "    > In case of Defaulters,Clients having single relationship are less risky\n",
    "    > In case of Defaulters, Widows shows Minimal risk.\n",
    "    \n",
    "# NAME_HOUSING_TYPE:\n",
    "\n",
    "    > From the bar chart, it is clear that Most of the clients own a house or living in a apartment for both Defaulters and Non-Defaulters.\n",
    "\n",
    "# OCCUPATION_TYPE:\n",
    "\n",
    "    > Pensioners have applied the most for the loan in case of Defaulters and Non-Defaulters.\n",
    "    > Pensioner being highest followed by laborers have high risk to default.\n",
    "\n",
    "# WEEKDAY_APPR_PROCESS_START:\n",
    "\n",
    "    > There is no considerable difference in days for both Defaulters and Non-defaulters.\n",
    "\n",
    "# AMT_INCOME_TYPE:\n",
    "\n",
    "    > Clients having Medium salary range are more likely to apply for the loan for both Defaulters and Non-defaulters.\n",
    "    > Clients having lowandmedium income are at high risk to default.\n",
    "\n",
    "# AGE_GROUP:\n",
    "    \n",
    "    > Middle Age(35-60) the group seems to applied higher than any other age group for loans in the case of Defaulters as well as Non-defaulters.\n",
    "    > Also, Middle Age group facing paying difficulties the most.\n",
    "    > While Senior Citizens(60-100) and Very young(19-25) age group facing paying difficulties less as compared to other age groups.\n"
   ]
  },
  {
   "cell_type": "code",
   "execution_count": null,
   "id": "f901b720",
   "metadata": {},
   "outputs": [],
   "source": [
    "# Way to calculate percent of Male Defaulters and Non-Defaulters\n",
    "\n",
    "len(app[(app['CODE_GENDER']=='M') & (app['TARGET']==1)])/len(app[(app['TARGET']==1)])*100  # Non-Defaulter Male count\n",
    "len(app[(app['CODE_GENDER']=='M') & (app['TARGET']==0)])/len(app[(app['TARGET']==0)])*100  # Defaulter Male count"
   ]
  },
  {
   "cell_type": "markdown",
   "id": "8ff5c18a",
   "metadata": {},
   "source": [
    "### Univariate Analysis of Numerical Columns W.R.T Target Variable"
   ]
  },
  {
   "cell_type": "code",
   "execution_count": null,
   "id": "8b977fc2",
   "metadata": {},
   "outputs": [],
   "source": [
    "def num_univ(col):\n",
    "    \n",
    "    sns.set(style='darkgrid')\n",
    "    plt.figure(figsize=(40,20))\n",
    "    \n",
    "    plt.subplot(1,2,1)\n",
    "    sns.distplot(target0[col], color=\"g\")\n",
    "    plt.yscale('linear')\n",
    "    plt.xlabel(col, fontsize= 30, fontweight= 'bold')\n",
    "    plt.ylabel('Non Payment Difficulties', fontsize= 30, fontweight= 'bold')\n",
    "    plt.xticks(rotation=90, fontsize=30)\n",
    "    plt.yticks(rotation=360, fontsize=30)\n",
    "    \n",
    "    plt.subplot(1,2,2)\n",
    "    sns.distplot(target1[col], color=\"r\")\n",
    "    plt.yscale('linear')\n",
    "    plt.xlabel(col, fontsize= 30, fontweight= 'bold')\n",
    "    plt.ylabel('Payment Difficulties', fontsize= 30, fontweight= 'bold')\n",
    "    plt.xticks(rotation=90, fontsize=30)\n",
    "    plt.yticks(rotation=360, fontsize=30)\n",
    "    \n",
    "    plt.show();"
   ]
  },
  {
   "cell_type": "code",
   "execution_count": null,
   "id": "109400d9",
   "metadata": {},
   "outputs": [],
   "source": [
    "app.select_dtypes(exclude='category').columns"
   ]
  },
  {
   "cell_type": "code",
   "execution_count": null,
   "id": "a1ca094a",
   "metadata": {},
   "outputs": [],
   "source": [
    "num_univ('AMT_ANNUITY')"
   ]
  },
  {
   "cell_type": "code",
   "execution_count": null,
   "id": "4367836f",
   "metadata": {},
   "outputs": [],
   "source": [
    "num_univ('AMT_CREDIT')"
   ]
  },
  {
   "cell_type": "code",
   "execution_count": null,
   "id": "cb26cb6e",
   "metadata": {},
   "outputs": [],
   "source": [
    "num_univ('AMT_GOODS_PRICE')"
   ]
  },
  {
   "cell_type": "code",
   "execution_count": null,
   "id": "41fd94f5",
   "metadata": {},
   "outputs": [],
   "source": [
    "num_univ(col='AMT_INCOME_TOTAL')"
   ]
  },
  {
   "cell_type": "raw",
   "id": "baff4832",
   "metadata": {},
   "source": [
    "Insights:\n",
    "\n",
    "    > People with target one has largely staggered income as compared to target zero. \n",
    "    \n",
    "    > Dist. plot clearly shows that the shape in Income total, Annuity, Credit and Good Price is similar for Target 0 and similar for Target 1.\n",
    "\n",
    "    > The plots are also highlighting that people who have difficulty in paying back loans with respect to their income, loan amount, price of goods against which loan is procured and Annuity.\n",
    "\n",
    "    > Dist. plot highlights the curve shape which is wider for Target 1 in comparison to Target 0 which is narrower with well-defined edges.\n"
   ]
  },
  {
   "cell_type": "markdown",
   "id": "4f7229da",
   "metadata": {},
   "source": [
    "### Bivariate Analysis : Numerical And Categorical w.r.t to Target Variable"
   ]
  },
  {
   "cell_type": "code",
   "execution_count": null,
   "id": "8b3a2f23",
   "metadata": {},
   "outputs": [],
   "source": [
    "# Select Num and Cat type columns for analysis\n",
    "\n",
    "app[[\"TARGET\",\"AMT_INCOME_TOTAL\",\"NAME_EDUCATION_TYPE\",\"NAME_FAMILY_STATUS\"]].head()"
   ]
  },
  {
   "cell_type": "markdown",
   "id": "62229c10",
   "metadata": {},
   "source": [
    "### For Target 0"
   ]
  },
  {
   "cell_type": "code",
   "execution_count": null,
   "id": "207b7aca",
   "metadata": {},
   "outputs": [],
   "source": [
    "plt.figure(figsize=(35, 14))\n",
    "plt.yscale('log')                           #As the values are too big, so better to use log\n",
    "\n",
    "sns.boxplot(data= target0, x= 'NAME_EDUCATION_TYPE', y= 'AMT_INCOME_TOTAL', hue= 'NAME_FAMILY_STATUS', orient= 'v', palette='Set2')\n",
    "\n",
    "plt.legend(loc='upper right')\n",
    "plt.title('Income amount vs Education Status',fontsize=35 )\n",
    "plt.xlabel(\"NAME_EDUCATION_TYPE\",fontsize= 30, fontweight=\"bold\")\n",
    "plt.ylabel(\"AMT_INCOME_TOTAL\",fontsize= 30, fontweight=\"bold\")\n",
    "plt.xticks(rotation=90, fontsize=30)\n",
    "plt.yticks(rotation=360, fontsize=30)\n",
    "\n",
    "plt.show()"
   ]
  },
  {
   "cell_type": "raw",
   "id": "10fdcf84",
   "metadata": {},
   "source": [
    "Insights:\n",
    "\n",
    "   > Widow Client with Academic degree have very few outliers and doesn’t have First and Third quartile. \n",
    "   \n",
    "   > Also, Clients with all types of family statuses having academic degrees have very less outliers as compared to other types of education.\n",
    "\n",
    "   > Income of the clients with all types of family status having rest of the education type lie Below the First quartile i.e. 25%\n",
    "\n",
    "   > Clients having Higher Education, Incomplete Higher Education, Lower Secondary Education and Secondary/Secondary Special have a higher number of outliers.\n",
    "\n",
    "   > From the above figure, we can say that some of the clients having Higher Education tend to have the highest income compared to others.\n",
    "\n",
    "   > Though some of the clients who haven’t completed their Higher Education tend to have higher incomes.\n",
    "\n",
    "   > Some of the clients having Secondary/Secondary Special Education tend to have higher incomes.\n"
   ]
  },
  {
   "cell_type": "code",
   "execution_count": null,
   "id": "4e0716dc",
   "metadata": {},
   "outputs": [],
   "source": [
    "plt.figure(figsize=(35, 14))\n",
    "plt.yscale('log')                           #As the values are too big, so better to use log\n",
    "# plt.xticks(rotation= 90)\n",
    "\n",
    "sns.boxplot(data= target0, x= 'NAME_EDUCATION_TYPE', y= 'AMT_CREDIT', hue= 'NAME_FAMILY_STATUS', orient= 'v', palette='Set2')\n",
    "\n",
    "plt.legend(loc='upper right')\n",
    "plt.title('Credit vs Education Status',fontsize=35 )\n",
    "plt.xlabel(\"NAME_EDUCATION_TYPE\",fontsize= 30, fontweight=\"bold\")\n",
    "plt.ylabel(\"AMT_CREDIT\",fontsize= 30, fontweight=\"bold\")\n",
    "plt.xticks(rotation=90, fontsize=30)\n",
    "plt.yticks(rotation=360, fontsize=30)\n",
    "\n",
    "plt.show()"
   ]
  },
  {
   "cell_type": "raw",
   "id": "dd4c5daa",
   "metadata": {},
   "source": [
    "Insights:\n",
    "\n",
    "    > Clients with different Education types except Academic degrees have a large number of outliers**\n",
    "\n",
    "    > Most of the population i.e. clients’ credit amounts lie below 25%.\n",
    "\n",
    "    > Clients with an Academic degree and who is a widow tend to take higher credit loan.**\n",
    "\n",
    "    > Some of the clients with Higher Education, Incomplete Higher Education, Lower Secondary Education and Secondary/Secondary Special Education are more likely to take a high amount of credit loans.\n"
   ]
  },
  {
   "cell_type": "markdown",
   "id": "28da398c",
   "metadata": {},
   "source": [
    "### For Target 1"
   ]
  },
  {
   "cell_type": "code",
   "execution_count": null,
   "id": "7b0082d3",
   "metadata": {},
   "outputs": [],
   "source": [
    "plt.figure(figsize=(30,12)) \n",
    "plt.yscale('log')                     #As the values are too large, it is convinient to use log for better analysis\n",
    "# plt.xticks(rotation = 90)\n",
    "\n",
    "\n",
    "sns.boxplot(data =target1, x='NAME_EDUCATION_TYPE',y='AMT_INCOME_TOTAL',   #Boxplot w.r.t Data Target 1\n",
    "            hue ='NAME_FAMILY_STATUS',orient='v',palette='Set2')\n",
    "\n",
    "plt.legend( loc = 'upper right')                                              #Adjusting legend position\n",
    "plt.title('Income amount vs Education Status',fontsize= 35)\n",
    "plt.xlabel(\"NAME_EDUCATION_TYPE\",fontsize= 30, fontweight=\"bold\")\n",
    "plt.ylabel(\"AMT_INCOME_TOTAL\",fontsize= 30, fontweight=\"bold\")\n",
    "plt.xticks( fontsize=30)\n",
    "plt.yticks(rotation=360, fontsize=30)\n",
    "\n",
    "plt.show()"
   ]
  },
  {
   "cell_type": "raw",
   "id": "1ac386a3",
   "metadata": {},
   "source": [
    "Insights:\n",
    "\n",
    "   > The income amount for Married clients with an academic degree is much lesser as compared to others.\n",
    "\n",
    "   > (Defaulter) Clients have relatively less income as compared to Non-defaulters.\n"
   ]
  },
  {
   "cell_type": "markdown",
   "id": "b1fd6af6",
   "metadata": {},
   "source": [
    "#### Credit Amnt Vs Name_Education_Type Vs Name_Family_Status"
   ]
  },
  {
   "cell_type": "code",
   "execution_count": null,
   "id": "be16adf1",
   "metadata": {},
   "outputs": [],
   "source": [
    "plt.figure(figsize=(30,12)) \n",
    "plt.yscale('log')                     #As the values are too large, it is convinient to use log for better analysis\n",
    "# plt.xticks(rotation = 90)\n",
    "\n",
    "\n",
    "sns.boxplot(data =target1, x='NAME_EDUCATION_TYPE',y='AMT_CREDIT',   #Boxplot w.r.t Data Target 1\n",
    "            hue ='NAME_FAMILY_STATUS',orient='v',palette='Set2')\n",
    "\n",
    "plt.legend( loc = 'upper right')                                              #Adjusting legend position\n",
    "plt.title('Credit Amount vs Education Status',fontsize= 35)\n",
    "plt.xlabel(\"NAME_EDUCATION_TYPE\",fontsize= 30, fontweight=\"bold\")\n",
    "plt.ylabel(\"AMT_CREDIT\",fontsize= 30, fontweight=\"bold\")\n",
    "plt.xticks( fontsize=30)\n",
    "plt.yticks(rotation=360, fontsize=30)\n",
    "\n",
    "plt.show()"
   ]
  },
  {
   "cell_type": "raw",
   "id": "5a5aed73",
   "metadata": {},
   "source": [
    "Insights:\n",
    "\n",
    "    > Married client with academic applied for a higher credit loan. And doesn’t have outliers. \n",
    "    \n",
    "    > Single clients with academic degrees have a very slim boxplot with no outliers.\n",
    "\n",
    "    > Some of the clients with Higher Education, Incomplete Higher Education, Lower Secondary Education and Secondary/Secondary Special Education are more likely to take a high amount of credit loans.\n"
   ]
  },
  {
   "cell_type": "markdown",
   "id": "8ccdb9b2",
   "metadata": {},
   "source": [
    "### Bivariate Analysis of Categorical-Categorical to Find the Maximum % Clients with Loan-Payment Difficulties"
   ]
  },
  {
   "cell_type": "code",
   "execution_count": null,
   "id": "22e5d0db",
   "metadata": {},
   "outputs": [],
   "source": [
    " pr=app[['AMT_INCOME_TYPE', 'TARGET']].groupby(['AMT_INCOME_TYPE'],as_index=False).mean() "
   ]
  },
  {
   "cell_type": "code",
   "execution_count": null,
   "id": "e32e2c0e",
   "metadata": {},
   "outputs": [],
   "source": [
    "pr"
   ]
  },
  {
   "cell_type": "code",
   "execution_count": null,
   "id": "f2289962",
   "metadata": {},
   "outputs": [],
   "source": [
    "def biplot(data, feature, title):\n",
    "    \n",
    "    temp= data[feature].value_counts()\n",
    "    \n",
    "    #Calculate the percentage of target=1 for per category value\n",
    "    \n",
    "    perc= data[[feature, 'TARGET']].groupby([feature], as_index=False).mean()\n",
    "    perc.sort_values(by= 'TARGET', ascending=False, inplace= True)\n",
    "    \n",
    "    fig= make_subplots(rows= 1, cols= 2,subplot_titles=(\"Count of \"+ title,\"% of Loan Payment difficulties within each category\"))\n",
    "    fig.add_trace(go.Bar(x= temp.index, y= temp.values), row= 1, col= 1)\n",
    "    fig.add_trace(go.Bar(x= perc[feature].to_list(), y= perc['TARGET'].to_list()), row= 1, col= 2)\n",
    "    \n",
    "    fig['layout']['xaxis']['title']= feature\n",
    "    fig['layout']['xaxis2']['title']= feature\n",
    "    fig['layout']['yaxis']['title']='Count'\n",
    "    fig['layout']['yaxis2']['title']='% of Loan Payment Difficulties'\n",
    "    fig.update_layout(height=600, width=1000, title_text=title, showlegend=False)\n",
    "    \n",
    "    fig.show()"
   ]
  },
  {
   "cell_type": "code",
   "execution_count": null,
   "id": "1847967c",
   "metadata": {},
   "outputs": [],
   "source": [
    "biplot(app ,'AMT_INCOME_TYPE','Income range')"
   ]
  },
  {
   "cell_type": "code",
   "execution_count": null,
   "id": "a110b34f",
   "metadata": {},
   "outputs": [],
   "source": [
    "app.select_dtypes(include=\"category\").columns"
   ]
  },
  {
   "cell_type": "code",
   "execution_count": null,
   "id": "7ce98a63",
   "metadata": {},
   "outputs": [],
   "source": [
    "for i in app.select_dtypes(include=\"category\").columns:\n",
    "    biplot(app , i, i)"
   ]
  },
  {
   "cell_type": "raw",
   "id": "8d2a1ce0",
   "metadata": {},
   "source": [
    "# Insights:\n",
    "\n",
    "    Amnt_Income_Type :\n",
    "    \n",
    "        > Many of the Clients are having income range as of Middle class.\n",
    "        \n",
    "        > And many of the Clients with low income faces difficulty for paying loan back.\n",
    "        \n",
    "    NAME_CONTRACT_TYPE:\n",
    "    \n",
    "        > Most of the Clients opts for Cash Loans and Clients who does the repayment of loan by Cash faces more difficulty in paying loan then Revolving Loans.\n",
    "        \n",
    "     Code_Gender:\n",
    "     \n",
    "         > Females are more in count to opt for the loans as compared to the mens.\n",
    "         \n",
    "         > But for loan repayment, Males faces more difficulty then females and they fall in defaulters.\n",
    "         \n",
    "      Name_Type_Suite:\n",
    "          \n",
    "         > Many of the clients comes solo/unaccompanied for taking loan. Whereas, some are follwed by their family.\n",
    "         \n",
    "         > Clients who falls in Other_B and Other_A seems to face difficulty for paying off the loan.\n",
    "         \n",
    "      Name_Income_Type:\n",
    "          \n",
    "          > Clients who opt for a loan are mostly Working Professionals, Commercial_associate and Pensioner by occupation.\n",
    "          \n",
    "          > And Clients who are on Maternity_leave or Unemployeed faces difficulties for loan repayment.\n",
    "          \n",
    "      Name_Education_Type:\n",
    "      \n",
    "          > Clients who goes for loan are either having Secondary Eduation or Higher Education.\n",
    "          \n",
    "          > CLients having Lower Secondary Education, Secondary Education or Incomplete Education faces loan repayment issues may be because of work instability.\n",
    "          \n",
    "      Name_Family_Status:\n",
    "          \n",
    "          > Peoples who are married and have family, has more chances to go for a loan.\n",
    "          \n",
    "          > Clients who are having Family_Status as Civil_Marriage, Seperated or Single faces difficulties for loan repayment.\n",
    "          \n",
    "      Name_Housing_Type:\n",
    "      \n",
    "          > Many of the Clients are having their own house/apprtment.\n",
    "          \n",
    "          > Clients who are living in rented apprtment and are leaving with parents, are facing issues for repayment.\n",
    "          \n",
    "          \n",
    "       Occupation_Type:\n",
    "       \n",
    "          > Clients having occupation Pensioner and loabour are supposed to take loan.\n",
    "          \n",
    "          > Clients which are having low-skilled labours faces more difficulties, followed by drivers or waiters.\n",
    "          \n",
    "          \n",
    "       Organization_Type:\n",
    "       \n",
    "          > Clients who are from organization Business Entity Type 3 are supposed to take more loans.\n",
    "          \n",
    "          > And clients by organizatoin type Transport Type_3 faces difficulties for repayment.\n",
    "          \n",
    "       Age_Group:\n",
    "       \n",
    "          > Clients which are in Middle Age group goes for loan.\n",
    "          \n",
    "          > Clients who are in their Very Young age and Young age, faces too much difficulties for loan repayment as their unemployed or student or ver less paying job.\n",
    "          "
   ]
  },
  {
   "cell_type": "markdown",
   "id": "72d451a3",
   "metadata": {},
   "source": [
    "#### Distribution of CODE_GENDER with respect to AMT_INCOME_RANGE to find maximum % Loan-Payment Difficulties using pivot table"
   ]
  },
  {
   "cell_type": "code",
   "execution_count": null,
   "id": "c074a597",
   "metadata": {},
   "outputs": [],
   "source": [
    "table= pd.pivot_table(data= app, values= 'TARGET', index= ['CODE_GENDER', 'AMT_INCOME_TYPE'], columns= ['NAME_EDUCATION_TYPE'], aggfunc= np.mean)"
   ]
  },
  {
   "cell_type": "code",
   "execution_count": null,
   "id": "e7254d99",
   "metadata": {},
   "outputs": [],
   "source": [
    "table"
   ]
  },
  {
   "cell_type": "raw",
   "id": "5ac179d4",
   "metadata": {},
   "source": [
    "Insights:\n",
    "\n",
    "    > Female clients with an Academic degree and high-income type have a higher risk of default\n",
    "\n",
    "    > Male clients with Secondary/Secondary Special Education having all types of salaries have a higher risk of default.\n",
    "\n",
    "    > Male clients with Incomplete Education having very low salaries have a high risk of default.\n",
    "\n",
    "    > Male Clients with Lower Secondary Education having very low or medium have a high risk to default\n"
   ]
  },
  {
   "cell_type": "markdown",
   "id": "6294f5e5",
   "metadata": {},
   "source": [
    "### Check Correlations in the data visually. For that make a list of all numeric features."
   ]
  },
  {
   "cell_type": "code",
   "execution_count": null,
   "id": "4f20eaa6",
   "metadata": {},
   "outputs": [],
   "source": [
    "num_cols= app.select_dtypes(exclude='category').columns\n",
    "num_cols"
   ]
  },
  {
   "cell_type": "code",
   "execution_count": null,
   "id": "978d834b",
   "metadata": {},
   "outputs": [],
   "source": [
    "len(num_cols)"
   ]
  },
  {
   "cell_type": "markdown",
   "id": "3d36dcc8",
   "metadata": {},
   "source": [
    "### Pairplot for Target 0 (Loan - No Payment Difficulties)"
   ]
  },
  {
   "cell_type": "code",
   "execution_count": null,
   "id": "110e7635",
   "metadata": {},
   "outputs": [],
   "source": [
    "pair = target0[['TARGET','AMT_CREDIT', 'AMT_ANNUITY', 'AMT_INCOME_TOTAL', 'AMT_GOODS_PRICE', 'DAYS_BIRTH','CNT_CHILDREN','DAYS_EMPLOYED']].fillna(0)\n",
    "sns.pairplot(pair)\n"
   ]
  },
  {
   "cell_type": "markdown",
   "id": "a1327aeb",
   "metadata": {},
   "source": [
    "### Pairplot for Target 1 (Loan - Payment Difficulties)"
   ]
  },
  {
   "cell_type": "code",
   "execution_count": null,
   "id": "e57e9d7a",
   "metadata": {},
   "outputs": [],
   "source": [
    "pair = target1[['TARGET','AMT_CREDIT', 'AMT_ANNUITY', 'AMT_INCOME_TOTAL', 'AMT_GOODS_PRICE', 'DAYS_BIRTH','CNT_CHILDREN','DAYS_EMPLOYED']].fillna(0)\n",
    "sns.pairplot(pair)"
   ]
  },
  {
   "cell_type": "raw",
   "id": "d58648ba",
   "metadata": {},
   "source": [
    "# Insights:\n",
    "\n",
    "    > AMT_CREDIT and AMT_GOODS_PRICE are highly correlated variables for both defaulters and non – defaulters. So as the home price increases the loan amount also increases\n",
    "    \n",
    "    > AMT_CREDIT and AMT_ANNUITY (EMI) are highly correlated variables for both defaulters and non – defaulters. So as the home price increases the EMI amount also increases which is logical\n",
    "    \n",
    "    > All three variables AMT_CREDIT, AMT_GOODS_PRICE and AMT_ANNUITY are highly correlated for both defaulters and non-defaulters, which might not give a good indicator for defaulter detection\n"
   ]
  },
  {
   "cell_type": "markdown",
   "id": "a6bf59df",
   "metadata": {},
   "source": [
    "### Correlation Between Numerical Values Using HeatMap"
   ]
  },
  {
   "cell_type": "code",
   "execution_count": null,
   "id": "c3badc78",
   "metadata": {},
   "outputs": [],
   "source": [
    "# Correlation By seperating data in to two\n",
    "\n",
    "corr0= app.iloc[0: , 4:]\n",
    "corr1= app.iloc[0:, 4:]\n",
    "\n",
    "t0= corr0.corr(method = 'spearman') # t0 - Corelations distibuted according rank wise for target 0\n",
    "t1= corr1.corr(method = 'spearman') # t1 - Corelations distibuted according rank wise for target 1"
   ]
  },
  {
   "cell_type": "raw",
   "id": "8892e46a",
   "metadata": {},
   "source": [
    "Now, plotting the above correlation with heat map using function \"targets_corr\" as it is the best choice to visulaize"
   ]
  },
  {
   "cell_type": "code",
   "execution_count": null,
   "id": "6fe4e132",
   "metadata": {},
   "outputs": [],
   "source": [
    "def targets_corr(data,title):\n",
    "    plt.figure(figsize=(15, 10))\n",
    "    \n",
    "    mask= np.zeros_like(data)\n",
    "    mask[np.triu_indices_from(mask)]=True\n",
    "    with sns.axes_style(\"white\"):\n",
    "        ax= sns.heatmap(data, mask=mask,cmap='RdYlGn')           \n"
   ]
  },
  {
   "cell_type": "markdown",
   "id": "e18cb3d7",
   "metadata": {},
   "source": [
    "### For TARGET 0"
   ]
  },
  {
   "cell_type": "code",
   "execution_count": null,
   "id": "03fb16b1",
   "metadata": {},
   "outputs": [],
   "source": [
    "targets_corr(data=t0,title='Correlation for Target 0')"
   ]
  },
  {
   "cell_type": "code",
   "execution_count": null,
   "id": "b32faf20",
   "metadata": {},
   "outputs": [],
   "source": [
    "Insight:\n",
    "\n",
    "    > AMT_CREDIT is inversely proportional to the DAYS_BIRTH , peoples belongs to low-age group taking high Credit amount and vice-versa\n",
    "\n",
    "    > AMT_CREDIT is inversely proportional to the CNT_CHILDREN, means Credit amount is higher for less children count client have and vice-versa.\n",
    "\n",
    "    > AMT_INCOME_TOTAL is inversely proportional to the CNT_CHILDREN, means more income for less children client have and vice-versa.\n",
    "\n",
    "    > less children client have in densely populated area.\n",
    "\n",
    "    > AMT_CREDIT is higher to densely populated area.\n",
    "\n",
    "    > AMT_INCOME_TOTAL is also higher in densely populated area.\n"
   ]
  },
  {
   "cell_type": "markdown",
   "id": "a48c45d9",
   "metadata": {},
   "source": [
    "### For TARGET 1"
   ]
  },
  {
   "cell_type": "code",
   "execution_count": null,
   "id": "b467788e",
   "metadata": {},
   "outputs": [],
   "source": [
    "targets_corr(data=t1,title='Correlation for Target 1')"
   ]
  },
  {
   "cell_type": "raw",
   "id": "568ffe1a",
   "metadata": {},
   "source": [
    "Insight:\n",
    "\n",
    "    > This heat map for Target 1 is also having quite a same observation just like Target 0. But for few points are different. They are listed below.\n",
    "\n",
    "    > The client's permanent address does not match contact address are having less children.\n",
    "\n",
    "    > The client's permanent address does not match work address are having less children.\n",
    "\n"
   ]
  },
  {
   "cell_type": "code",
   "execution_count": 2,
   "id": "56921cd7",
   "metadata": {},
   "outputs": [],
   "source": []
  },
  {
   "cell_type": "code",
   "execution_count": null,
   "id": "e22b057b",
   "metadata": {},
   "outputs": [],
   "source": [
    "ar"
   ]
  },
  {
   "cell_type": "code",
   "execution_count": null,
   "id": "35eebe53",
   "metadata": {},
   "outputs": [],
   "source": []
  }
 ],
 "metadata": {
  "kernelspec": {
   "display_name": "Python 3 (ipykernel)",
   "language": "python",
   "name": "python3"
  },
  "language_info": {
   "codemirror_mode": {
    "name": "ipython",
    "version": 3
   },
   "file_extension": ".py",
   "mimetype": "text/x-python",
   "name": "python",
   "nbconvert_exporter": "python",
   "pygments_lexer": "ipython3",
   "version": "3.11.5"
  }
 },
 "nbformat": 4,
 "nbformat_minor": 5
}
