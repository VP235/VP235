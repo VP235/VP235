{
 "cells": [
  {
   "cell_type": "code",
   "execution_count": null,
   "id": "ea2d9218",
   "metadata": {},
   "outputs": [],
   "source": [
    "import numpy as np\n",
    "import math\n",
    "\n",
    "arr= [[11, 2, 4],\n",
    "[4, 5 ,6],\n",
    "[10, 8, -12]]\n",
    "\n",
    "k= len(arr)\n",
    "sumk= sump= 0\n",
    "\n",
    "for i in range(0, len(arr)):\n",
    "    k -=1\n",
    "    sump+= arr[i][i]\n",
    "    sumk+= arr[i][k]\n",
    "#     for j in range(0, len(arr)):\n",
    "        \n",
    "#         if i== j:\n",
    "#             sumk+=arr[i][j]\n",
    "            \n",
    "#         if j==k:\n",
    "#             sump+=arr[i][j]\n",
    "            \n",
    "\n",
    "\n",
    "\n",
    "sumk, sump"
   ]
  },
  {
   "cell_type": "code",
   "execution_count": null,
   "id": "5d50b535",
   "metadata": {},
   "outputs": [],
   "source": [
    "arr= [63, 25, 73, 1, 98, 73, 56, 84, 86, 57, 16, 83, 8, 25, 81, 56, 9, 53, 98, 67, 99, 12, 83, 89, 80, 91, 39, 86, 76, 85, 74, 39, 25, 90, 59, 10, 94, 32, 44, 3, 89, 30, 27, 79, 46, 96, 27, 32, 18, 21, 92, 69, 81, 40, 40, 34, 68, 78, 24, 87, 42, 69, 23, 41, 78, 22, 6, 90, 99, 89, 50, 30, 20, 1, 43, 3, 70, 95, 33, 46, 44, 9, 69, 48, 33, 60, 65, 16, 82, 67, 61, 32, 21, 79, 75, 75, 13, 87, 70, 33]\n",
    "def countingSort(arr):\n",
    "    \n",
    "    count= [] \n",
    "    arr.sort()\n",
    "    print(arr)\n",
    "    for i in range(0 , len(arr), 1) : \n",
    "        \n",
    "        if arr[i] == arr[i-1]:\n",
    "#             print(arr[i], arr[i-1])\n",
    "#             count.extend([0]* (1))\n",
    "            count[arr[i]]+=1\n",
    "#             print(count[arr[i]])\n",
    "\n",
    "        else:\n",
    "            count.extend([0]* (1))\n",
    "            count.append(1)\n",
    "    return print(count)"
   ]
  },
  {
   "cell_type": "code",
   "execution_count": null,
   "id": "8897efdc",
   "metadata": {},
   "outputs": [],
   "source": [
    "sft= '63 25 73 1 98 73 56 84 86 57 16 83 8 25 81 56 9 53 98 67 99 12 83 89 80 91 39 86 76 85 74 39 25 90 59 10 94 32 44 3 89 30 27 79 46 96 27 32 18 21 92 69 81 40 40 34 68 78 24 87 42 69 23 41 78 22 6 90 99 89 50 30 20 1 43 3 70 95 33 46 44 9 69 48 33 60 65 16 82 67 61 32 21 79 75 75 13 87 70 33'\n",
    "arr = list(map(int, sft.rstrip().split()))\n",
    "# print(arr)\n",
    "countingSort(arr)"
   ]
  },
  {
   "cell_type": "code",
   "execution_count": null,
   "id": "8f67dc8d",
   "metadata": {},
   "outputs": [],
   "source": [
    "# arr= [1, 1, 3, 2, 1]\n",
    "\n",
    "count= [0] * len(arr)\n",
    "arr.sort()\n",
    "# print(arr)\n",
    "for i in range(0,len(arr)):\n",
    "#     print(arr[i])\n",
    "    \n",
    "    if arr[i] == arr[i-1]:\n",
    "#         print(arr[i], arr[i-1])\n",
    "        count[arr[i]]+=1\n",
    "    else:\n",
    "        count[arr[i]] = 1\n",
    "    \n",
    "    \n",
    "print(count)   "
   ]
  },
  {
   "cell_type": "code",
   "execution_count": null,
   "id": "0e1f53f4",
   "metadata": {},
   "outputs": [],
   "source": [
    "count= [0] * (len(arr)-1)\n",
    "arr.sort()\n",
    "\n",
    "i= 0\n",
    "if arr[i] == arr[i-1]:\n",
    "    print(arr[i], arr[i-1])\n",
    "    count[arr[i]]+=1\n",
    "    \n",
    "    \n",
    "count    "
   ]
  },
  {
   "cell_type": "code",
   "execution_count": null,
   "id": "77bd4817",
   "metadata": {},
   "outputs": [],
   "source": [
    "arr"
   ]
  },
  {
   "cell_type": "code",
   "execution_count": null,
   "id": "79418fd5",
   "metadata": {},
   "outputs": [],
   "source": [
    "kstr= '37 29 73 68 82 58 45 84 17 88 46 69 60 20 24 34 49 52 80 43 72 92 55 10 49 14 88 77 47 64 43 23 66 64 86 27 63 38 62 75 25 58 13 79 30 26 12 94 96 29 92 59 15 98 39 32 81 78 13 15 86 72 45 82 46 42 66 97 85 42 46 56 57 40 54 63 27 32 68 2 64 29 22 38 18 36 60 82 20 75 18 79 70 17 56 6 15 11 15 40 17 5 96 84 7 78 28 74 51 67 3 48 53 30 46 9 89 40 65 16 61 98 33 3 19 57 84 32 27 42 83 60 80 27 17 98 61 7 14 76 74 65 37 2 97 52 12 77 40 41 99 90 29 55 76 71 62 63 46 27 46 51 3 11 89 75 52 78 23 96 17 65 85 63 19 16 50 42 4 92 67 51 96 53 7 37 97 45 5 70 73 80 73 39 19 15 43 39 34 4 31 72 26 96 98 17 84 8 76 21 5 86 23 30 95 88 92 44 33 7 10 32 1 69 88 10 19 29 8 82 86 25 91 60 47 18 7 36 53 88 40 25 29 69 99 82 93 47 92 25 33 26 8 88 83 16 87 31 95 9 0 28 52 20 39 20 81 71 39 10 85 63 22 8 98 67 26 99 96 71 19 64 75 54 35 58 26 40 89 46 67 23 53 61 17 69 41 62 64 19 74 48 61 81 38 49 38 69 74 61 20 2 84 48 35 63 91 82 75 98 87 16 35 26 53 9 0 84 75 41 28 25 48 11 0 99 11 10 71 79 58 96 88 94 0 74 75 84 52 92 53 93 13 21 91 64 46 16 6 82 57 19 53 95 29 1 46 52 58 99 78 37 23 60 24 47 10 97 34 38 6 35 49 53 98 84 62 51 66 78 30 58 48 60 34 51 30 95 16 36 55 53 99 54 3 53 57 43 55 98 92 53 98 73 70 86 7 50 58 75 32 67 36 84 56 37 81 6 73 90 5 8 69 92 18 3 76 59 42 88 87 64 48 45 95 33 40 5 51 58 5 30 20 87 33 37 61 14 36 95 32 44 33 74 93 23 23 28 4 90 75 58 93 20 60 57 64 79 56 69 35 45 37 14 6 47 16 36 90 18 29 4 82 19 77 8 22 54 2 65 37 86 5 67 58 33 86 43 15 4 97 62 39 7 12 60 75 17 66 97 76 57 86 75 7 78 49 74 81 50 26 69 82 75 40 17 34 24 15 37 8 18 35 24 19 86 47 0 14 30 22 20 3 97 56 93 55 28 11 98 78 19 5 70 71 42 62 91 0 84 36 24 21 26 59 20 46 65 26 82 50 34 40 98 30 63 60 2 91 83 94 18 69 12 37 22 97 53 78 17 85 66 27 55 0 96 89 73 85 42 21 81 5 38 37 62 14 77 60 57 17 45 43 25 53 82 72 30 2 85 25 8 29 18 21 96 51 4 55 23 79 9 40 35 10 96 24 96 18 11 81 55 27 72 8 28 67 40 32 77 76 26 17 63 47 99 22 37 64 42 32 3 41 15 83 86 58 5 74 93 47 44 18 1 32 27 41 10 74 67 42 81 70 17 57 26 92 33 29 23 42 90 9 40 11 20 85 79 67 26 62 19 81 45 17 92 20 34 52 79 39 90 58 92 56 12 66 69 20 53 0 14 5 1 44 34 49 47 68 53 62 13 21 37 36 66 25 55 87 88 4 31 2 54 64 71 62 97 95 45 46 23 94 37 45 45 49 50 54 24 10 29 44 91 93 12 71 9 73 45 46 63 94 10 50 94 64 22 96 54 53 89 67 98 2 42 15 31 82 82 18 72 41 20 8 21 57 54 78 37 47 37 75 26 32 17 64 79 46 88 46 57 63 62 63 30 86 99 57 32 58 48 67 27 7 0 6 9 50 82 55 72 5 48 20 45 62 67 32 45 94 18 81 92 33 78 9 97 76 25 29 74 86 0 59 60 45 25 6 25 14 4 20 10 45 34 4 64 6 21 42 87 0 81 16 77 16 79 46 24 33 83 62 95 52 52 51 92 47 57 97 47 53 12 62 24 41 74 35 3 95 70 13 13 99 50 19 2 63 4 70 42 78 95 8 69 56 98 54 42 73 22 45 73 22 7 32 58 6 90 13 50 74 26 37 44 9 60 54 45 87 30 8 24 81 23 91 90 97 29 49 31 47 93 88 6 29 48 11 43 28 28 2 9 73 37 48 72 56 62 13 48 19 83 21 29 19 24 76 60 35 89 76 18 65 2 32 45 91'\n",
    "# kstr= kstr.replace(' ', ',')\n",
    "kstr= np.array([int(x) for x in kstr.split()])\n",
    "arr= kstr\n"
   ]
  },
  {
   "cell_type": "code",
   "execution_count": null,
   "id": "03907a15",
   "metadata": {},
   "outputs": [],
   "source": [
    "matrix = [[112, 42, 83, 119], [56, 125, 56, 49], [15, 78, 101, 43], [62, 98, 114, 108]]"
   ]
  },
  {
   "cell_type": "code",
   "execution_count": null,
   "id": "8c29c4c3",
   "metadata": {},
   "outputs": [],
   "source": [
    "row= col= 0\n",
    "max_sort_row1= sorted(matrix[0], reverse= True)\n",
    "max_sort_row2= sorted(matrix[1], reverse= True)\n",
    "max_sort_row3= sorted(matrix[2], reverse= True)\n",
    "max_sort_row4= sorted(matrix[3], reverse= True)\n",
    "\n",
    "for i in range(0,len(matrix)):\n",
    "    for j in range(len(matrix)):\n",
    "        if max_sort_row1[0] == matrix[i][j] and (i!=(0 or 1), j!=(0 or 1)):\n",
    "            matrix[]\n",
    "            \n",
    "            \n",
    "#             if (matrix[0][0] != max(matrix[i])) or (i!=0 and j !=1) or (i!=1 and j !=0) or (i!=1 and j !=1):\n",
    "                \n",
    "                \n",
    "                \n",
    "#             print(i,j, matrix[i][j])\n",
    "        \n",
    "        "
   ]
  },
  {
   "cell_type": "code",
   "execution_count": null,
   "id": "64cbc8ca",
   "metadata": {},
   "outputs": [],
   "source": [
    "import numpy as np\n",
    "np.array(matrix)"
   ]
  },
  {
   "cell_type": "code",
   "execution_count": null,
   "id": "d026546e",
   "metadata": {},
   "outputs": [],
   "source": [
    "import math\n",
    "\n",
    "nums1 = [1,2,3,0,0,0]\n",
    "nums2= [2,5,6]\n",
    "\n",
    "max_len= min(len(nums1), len(nums2))\n",
    "merged_lis= nums1[:max_len] + nums2[:max_len]\n",
    "merged_lis.sort()\n",
    "print(merged_lis)"
   ]
  },
  {
   "cell_type": "code",
   "execution_count": null,
   "id": "a915abfd",
   "metadata": {},
   "outputs": [],
   "source": [
    "for i in range(n):\n",
    "    nums1[m+i]= nums2[i]\n",
    "    \n",
    "nums1.sort()\n",
    "nums1"
   ]
  },
  {
   "cell_type": "code",
   "execution_count": null,
   "id": "f9e631eb",
   "metadata": {},
   "outputs": [],
   "source": [
    "nums = [0,1,2,2,3,0,4,2]\n",
    "val = 2\n",
    "\n",
    "\n",
    "# nums= [x for x in nums if x!=val]\n",
    "# nums.sort()\n",
    "# nums"
   ]
  },
  {
   "cell_type": "code",
   "execution_count": null,
   "id": "6fa7bda5",
   "metadata": {},
   "outputs": [],
   "source": [
    "nums= [x for x in nums if x!=val]\n",
    "nums"
   ]
  },
  {
   "cell_type": "code",
   "execution_count": null,
   "id": "da7b5b85",
   "metadata": {},
   "outputs": [],
   "source": [
    "index = 0\n",
    "\n",
    "for i in range(len(nums)):\n",
    "    \n",
    "    if nums[i] != val:\n",
    "        print(i, nums[i], index)\n",
    "        nums[index] = nums[i]\n",
    "\n",
    "        index += 1\n",
    "        \n",
    "index, nums"
   ]
  },
  {
   "cell_type": "code",
   "execution_count": null,
   "id": "2401ebba",
   "metadata": {},
   "outputs": [],
   "source": [
    "nums = [0,0,1,1,1,2,2,3,3,4]\n",
    "new=[]\n",
    "for i in range(len(nums)-1):\n",
    "#     print(nums[i], nums[i+1])\n",
    "    if nums[i] == nums[i+1]:\n",
    "        nums[i]=999\n",
    "    else:\n",
    "        new.append(nums[i])\n",
    "nums.sort()\n",
    "nums, new"
   ]
  },
  {
   "cell_type": "code",
   "execution_count": null,
   "id": "85a6bbc9",
   "metadata": {},
   "outputs": [],
   "source": [
    "nums= [nums[x] for x in range(len(nums)-1) if nums[x]!=nums[x+1]]\n",
    "nums.sort()\n",
    "print(nums)"
   ]
  },
  {
   "cell_type": "code",
   "execution_count": null,
   "id": "d1b5efd1",
   "metadata": {},
   "outputs": [],
   "source": [
    "j = 1\n",
    "for i in range(1, len(nums)):\n",
    "    if nums[i] != nums[i - 1]:\n",
    "        nums[j] = nums[i]\n",
    "        j += 1\n",
    "j, nums"
   ]
  },
  {
   "cell_type": "code",
   "execution_count": null,
   "id": "7ff86395",
   "metadata": {},
   "outputs": [],
   "source": [
    "new=[]\n",
    "for i in range(0, len(nums)-1):\n",
    "#     print(nums[i], nums[i+1])\n",
    "    if nums[i] != nums[i+1]:\n",
    "       \n",
    "        new.append(nums[i])\n",
    "nums.sort()\n",
    "len(new)+1, new"
   ]
  },
  {
   "cell_type": "code",
   "execution_count": null,
   "id": "5405455b",
   "metadata": {},
   "outputs": [],
   "source": [
    "nums = [0,0,1,1,1,1,2,3,3]\n",
    "flag= 0\n",
    "count= 0\n",
    "k= 0\n",
    "nunique= list(set(nums))\n",
    "nums.sort()\n",
    "for i in range(len(nums)):\n",
    "    \n",
    "    if nunique[count] == nums[i] and flag != 2:\n",
    "#         print(nunique[count], nums[i])\n",
    "        flag+=1\n",
    "        k+=1\n",
    "        print(nunique[count], nums[i], flag, k, i)\n",
    "        \n",
    "    elif flag == 2 : \n",
    "        if(nums[i]==nums[i-1]):\n",
    "            nums[i]=999\n",
    "            flag= 0\n",
    "            count+=1\n",
    "    else:\n",
    "        nums[i]= nums[i]\n",
    "        k+=1\n",
    "        count+=1\n",
    "        \n",
    "    \n",
    "#     if nums[i]== nums[i+1] and flag != 2:\n",
    "#         flag+=1\n",
    "#         nums[i+2]=999\n",
    "        \n",
    "    \n",
    "#     if nums[i] not in new and count < 2:\n",
    "#         new.append(nums[i])\n",
    "#         count+=1\n",
    "\n",
    "    \n",
    "    \n",
    "#     print(nunique[count],nums[i])\n",
    "#     if nunique[count]==nums[i] and flag <=2:\n",
    "# #         print(nunique[count])\n",
    "#         new.append(nunique[count])\n",
    "#         flag+=1\n",
    "#         if flag==2:\n",
    "#             count+=1\n",
    "    \n",
    "#     if nums[i]==nums[i-1] and count<=2:\n",
    "#         new.append(nums[i])\n",
    "# #         print(nums)\n",
    "# #         nums[idx]= nums[i]\n",
    "#     else:\n",
    "#         count+=1\n",
    "#         print(count)\n",
    "#         idx+=1\n",
    "nums.sort()   \n",
    "nums, k, nunique\n",
    "    "
   ]
  },
  {
   "cell_type": "code",
   "execution_count": null,
   "id": "72675afc",
   "metadata": {},
   "outputs": [],
   "source": [
    "k=2\n",
    "for i in range(2,len(nums)):\n",
    "    if nums[i]!=nums[k-1]:\n",
    "        nums[k]=nums[i]\n",
    "        k+=1\n",
    "    elif nums[i]!=nums[k-2]:\n",
    "        nums[k]=nums[i]\n",
    "        k+=1\n",
    "k, nums"
   ]
  },
  {
   "cell_type": "code",
   "execution_count": null,
   "id": "ff8dd528",
   "metadata": {},
   "outputs": [],
   "source": [
    "[nums[x] for x in range(len(nums)-1) if nums[x]==nums[x+1]]"
   ]
  },
  {
   "cell_type": "code",
   "execution_count": null,
   "id": "51d234eb",
   "metadata": {},
   "outputs": [],
   "source": [
    "set(nums)"
   ]
  },
  {
   "cell_type": "code",
   "execution_count": null,
   "id": "aadf2061",
   "metadata": {},
   "outputs": [],
   "source": [
    "prices = [7,1,5,3,6,4]\n",
    "day= []\n",
    "profit= []\n",
    "for i in range(len(prices)):\n",
    "    for j in range(len(prices)):\n",
    "#         print(prices[i],prices[j])\n",
    "        day.append((prices[i],prices[j]))\n",
    "        profit.append(prices[j]-prices[i])\n",
    " "
   ]
  },
  {
   "cell_type": "code",
   "execution_count": null,
   "id": "f4df3282",
   "metadata": {},
   "outputs": [],
   "source": [
    "for i, j in zip(day, profit):\n",
    "    prof= max(profit)\n",
    "    if j==prof:\n",
    "        print(i, j)"
   ]
  },
  {
   "cell_type": "code",
   "execution_count": null,
   "id": "513cea2f",
   "metadata": {},
   "outputs": [],
   "source": [
    "# profit"
   ]
  },
  {
   "cell_type": "code",
   "execution_count": null,
   "id": "b9155f44",
   "metadata": {},
   "outputs": [],
   "source": [
    "import pandas as pd\n",
    "\n",
    "df= pd.read_csv(r\"D:\\Datasets\\spaceship-titanic\\train.csv\")\n",
    "df.head()"
   ]
  },
  {
   "cell_type": "code",
   "execution_count": null,
   "id": "8dd1c28c",
   "metadata": {},
   "outputs": [],
   "source": [
    "df.sort_values(by=['Age'])"
   ]
  },
  {
   "cell_type": "code",
   "execution_count": null,
   "id": "95920f2b",
   "metadata": {},
   "outputs": [],
   "source": [
    "doc=df[(df['RoomService']>43.0).all() or (df['FoodCourt']> 9.0)][['HomePlanet', 'CryoSleep']]"
   ]
  },
  {
   "cell_type": "code",
   "execution_count": null,
   "id": "b40195a7",
   "metadata": {},
   "outputs": [],
   "source": [
    "import re\n",
    "re['^$M']df['Name']"
   ]
  },
  {
   "cell_type": "code",
   "execution_count": null,
   "id": "5c4539ba",
   "metadata": {},
   "outputs": [],
   "source": [
    "str_lis= ['Earthllk', 'Cat', 'CA', 'CATSSK']"
   ]
  },
  {
   "cell_type": "code",
   "execution_count": null,
   "id": "3c28115b",
   "metadata": {},
   "outputs": [],
   "source": [
    "max_char={}\n",
    "max_len= 0\n",
    "idx=[]\n",
    "for n,i in enumerate(df['Name'][:10]):\n",
    "    len_char= len(list(i))\n",
    "    if len_char >= max_len:\n",
    "        max_len= len_char\n",
    "        print(n, i, max_len, len_char)\n",
    "    \n",
    "        max_char[n]=len(list(i))\n",
    "        \n",
    "max_word= max(max_char.values())\n",
    "for key, val in max_char.items():\n",
    "    if val== max_word:\n",
    "        idx.append(key)\n",
    "        \n",
    "    \n",
    "idx\n",
    "# print()\n",
    "# df[df['Name'].index==n][['Age']]\n",
    "   \n",
    "            "
   ]
  },
  {
   "cell_type": "code",
   "execution_count": null,
   "id": "465d087b",
   "metadata": {},
   "outputs": [],
   "source": [
    "max_char.values()"
   ]
  },
  {
   "cell_type": "code",
   "execution_count": null,
   "id": "2bcb7589",
   "metadata": {},
   "outputs": [],
   "source": [
    "df.iloc[[2, 3, 4]][['HomePlanet']]"
   ]
  },
  {
   "cell_type": "code",
   "execution_count": null,
   "id": "779d2460",
   "metadata": {},
   "outputs": [],
   "source": [
    "val=max(max_char.values())"
   ]
  },
  {
   "cell_type": "code",
   "execution_count": null,
   "id": "765d3add",
   "metadata": {},
   "outputs": [],
   "source": [
    "max_char.items"
   ]
  },
  {
   "cell_type": "code",
   "execution_count": null,
   "id": "dcc167c2",
   "metadata": {},
   "outputs": [],
   "source": [
    "max_char"
   ]
  },
  {
   "cell_type": "code",
   "execution_count": null,
   "id": "6888aac7",
   "metadata": {},
   "outputs": [],
   "source": [
    "df=doc[['HomePlanet', 'CryoSleep']]\n",
    "df"
   ]
  },
  {
   "cell_type": "code",
   "execution_count": null,
   "id": "6b5334e5",
   "metadata": {},
   "outputs": [],
   "source": [
    "df.dropna(axis=0, inplace= True)"
   ]
  },
  {
   "cell_type": "code",
   "execution_count": null,
   "id": "6186abe1",
   "metadata": {},
   "outputs": [],
   "source": [
    "df"
   ]
  },
  {
   "cell_type": "code",
   "execution_count": null,
   "id": "67b397a8",
   "metadata": {},
   "outputs": [],
   "source": [
    "df[((df['HomePlanet']== 'Earth') & (df['CryoSleep']==False))]"
   ]
  },
  {
   "cell_type": "code",
   "execution_count": null,
   "id": "06b344e8",
   "metadata": {},
   "outputs": [],
   "source": [
    "df['HomePlanet']=(df['HomePlanet'].drop_duplicates()).dropna()"
   ]
  },
  {
   "cell_type": "code",
   "execution_count": null,
   "id": "0468325c",
   "metadata": {},
   "outputs": [],
   "source": []
  },
  {
   "cell_type": "code",
   "execution_count": null,
   "id": "44e82d85",
   "metadata": {},
   "outputs": [],
   "source": [
    "df.sort_values(by=['Age'])"
   ]
  },
  {
   "cell_type": "code",
   "execution_count": null,
   "id": "0a4008fa",
   "metadata": {},
   "outputs": [],
   "source": [
    "9%2"
   ]
  },
  {
   "cell_type": "code",
   "execution_count": null,
   "id": "9fdf34fb",
   "metadata": {},
   "outputs": [],
   "source": [
    "import string as str\n",
    "\n",
    "txt= ['DIAB100 MYOP', 'ACNE DIAB100']\n",
    "pattern= r'^[DIAB1]*'\n",
    "diab= txt[0].match(pattern)\n",
    "\n",
    "# for i in txt:\n",
    "# #     i= i.lower()\n",
    "# #     print(i)\n",
    "#     print(i.str)\n",
    "\n",
    "# pattern= [^[a-zA-Z]]\n",
    "# txt[0].split('@')"
   ]
  },
  {
   "cell_type": "code",
   "execution_count": null,
   "id": "c5354479",
   "metadata": {},
   "outputs": [],
   "source": [
    "# count=0\n",
    "\n",
    "# for i in range(itr):\n",
    "#     for j in range(len(tick)):\n",
    "#         tick[j]= j-1\n",
    "#     count+=1\n",
    "    \n",
    "# count*len(tick)"
   ]
  },
  {
   "cell_type": "code",
   "execution_count": null,
   "id": "617d43f7",
   "metadata": {},
   "outputs": [],
   "source": [
    "tick= [5,1,1,1]\n",
    "k= 0 \n",
    "\n",
    "itr= tick[k]\n",
    "\n",
    "count=0\n",
    "\n",
    "# for i in range(itr):\n",
    "while (tick[k]!=0):\n",
    "    for j in range(len(tick)-1):\n",
    "            print('before sub: ',j, tick[j])\n",
    "            tick[j]= tick[j]-1\n",
    "            print('after sub: ', j, tick[j])\n",
    "\n",
    "            if tick[j]== 0:\n",
    "                print('before pop: ',tick)\n",
    "                tick.pop(j)\n",
    "                print('after pop: ',tick)\n",
    "\n",
    "    count+=1\n",
    "\n",
    "# print(count*len(tick))\n",
    "        \n",
    "        \n",
    "\n",
    "count"
   ]
  },
  {
   "cell_type": "code",
   "execution_count": null,
   "id": "60100360",
   "metadata": {},
   "outputs": [],
   "source": [
    "nums=[1,2,3,1,1,3]\n",
    "\n",
    "good_pair= [(i, j) for i in nums for j in nums if (nums[i]==nums[j]) & (i<j)] \n",
    "good_pair"
   ]
  },
  {
   "cell_type": "code",
   "execution_count": null,
   "id": "7407d6ed",
   "metadata": {},
   "outputs": [],
   "source": [
    "for i in range(len(nums)):\n",
    "    for j in range(len(nums)):\n",
    "        if (i<j) & (nums[i]==nums[j]) :\n",
    "            print(i,j)"
   ]
  },
  {
   "cell_type": "code",
   "execution_count": null,
   "id": "453cba19",
   "metadata": {},
   "outputs": [],
   "source": [
    "x=0\n",
    "i=0\n",
    "operations = [\"--X\",\"X--\",\"X++\"]\n",
    "\n",
    "sum(1 if i== 'X++' or i=='++X' else -1 for i in operations)"
   ]
  },
  {
   "cell_type": "code",
   "execution_count": null,
   "id": "721dde3d",
   "metadata": {},
   "outputs": [],
   "source": [
    "nums = [2,5,1,3,4,7]\n",
    "n = 3\n",
    "\n",
    "set1= nums[:n]\n",
    "set2= nums[n:]\n",
    "\n",
    "fset= [ [i, j] for i, j in zip(set1, set2)]\n",
    "fset"
   ]
  },
  {
   "cell_type": "code",
   "execution_count": null,
   "id": "3c993df2",
   "metadata": {},
   "outputs": [],
   "source": [
    "lis= []\n",
    "for i, j in zip(set1, set2):\n",
    "    lis.append(i)\n",
    "    lis.append(j)"
   ]
  },
  {
   "cell_type": "code",
   "execution_count": null,
   "id": "1315a3fc",
   "metadata": {},
   "outputs": [],
   "source": [
    "lis=['name', 'leet']\n",
    "\n",
    "for i in lis:\n",
    "    print(i.find('e'))"
   ]
  },
  {
   "cell_type": "code",
   "execution_count": null,
   "id": "a18248d8",
   "metadata": {},
   "outputs": [],
   "source": [
    "words= [\"abc\",\"bcd\",\"aaaa\",\"cbc\"]\n",
    "\n",
    "for i in range(len(words)):\n",
    "#     print(words[i], words[i].find(\"a\"))\n",
    "#     if words[i].find('a')!=0:\n",
    "#         print(i, words[i])\n",
    "    if 'a' in words[i]:\n",
    "        print(i)"
   ]
  },
  {
   "cell_type": "code",
   "execution_count": null,
   "id": "02d7a025",
   "metadata": {},
   "outputs": [],
   "source": [
    "points = [[3,1],[9,0],[1,0],[1,4],[5,3],[8,8]]\n",
    "max_diff=[]\n",
    "points.sort()\n",
    "for i in range(len(points)-1):\n",
    "    print(points[i+1][0]-points[i][0])\n",
    "    max_diff.append(points[i+1][0] - points[i][0])\n",
    "    "
   ]
  },
  {
   "cell_type": "code",
   "execution_count": null,
   "id": "d89c6617",
   "metadata": {},
   "outputs": [],
   "source": [
    "points.sort()\n",
    "points"
   ]
  },
  {
   "cell_type": "code",
   "execution_count": null,
   "id": "450236e5",
   "metadata": {},
   "outputs": [],
   "source": [
    "for p in points:\n",
    "    print(p[0])"
   ]
  },
  {
   "cell_type": "code",
   "execution_count": null,
   "id": "6fb71627",
   "metadata": {},
   "outputs": [],
   "source": [
    "from itertools import pairwise \n",
    "\n",
    "[print(x, y, y-x) for x,y in pairwise(sorted(p[0] for p in points))]"
   ]
  },
  {
   "cell_type": "code",
   "execution_count": null,
   "id": "f5bd4886",
   "metadata": {},
   "outputs": [],
   "source": [
    "accounts = [[1,2,3],[1,2,1]]\n",
    "max_acc= 0\n",
    "tot= 0\n",
    "for i in range(len(accounts)):\n",
    "    tot= 0\n",
    "    for j in range(len(accounts[i])):\n",
    "        \n",
    "        tot+= accounts[i][j]\n",
    "    print(tot)\n",
    "    max_acc= max(max_acc, tot)\n",
    "        \n",
    "print(max_acc)"
   ]
  },
  {
   "cell_type": "code",
   "execution_count": null,
   "id": "681f97ab",
   "metadata": {},
   "outputs": [],
   "source": [
    "df.head()"
   ]
  },
  {
   "cell_type": "code",
   "execution_count": null,
   "id": "80ab71f7",
   "metadata": {},
   "outputs": [],
   "source": [
    "df.groupby('HomePlanet').apply(lambda x: x[x['Age']== 78.0])"
   ]
  },
  {
   "cell_type": "code",
   "execution_count": null,
   "id": "fc0108d5",
   "metadata": {},
   "outputs": [],
   "source": [
    "n= 1\n",
    "if df['PassengerId'][n]== '0002_01':\n",
    "    print('hiiiiiiiiiiii')\n",
    "    df[f'getNthHighestSalary({n})'][n]= df['HomePlanet'][n]\n",
    "    print(df)\n",
    "else:\n",
    "    df[f'getNthHighestSalary({n})'][n]= 'null'\n",
    "df[['getNthHighestSalary']]"
   ]
  },
  {
   "cell_type": "code",
   "execution_count": null,
   "id": "99c4e9a3",
   "metadata": {},
   "outputs": [],
   "source": [
    "df['getNthHighestSalary'].sort_values().drop_duplicates()"
   ]
  },
  {
   "cell_type": "code",
   "execution_count": null,
   "id": "13a98e8d",
   "metadata": {},
   "outputs": [],
   "source": [
    "df['HomePlanet'].value_counts()"
   ]
  },
  {
   "cell_type": "code",
   "execution_count": null,
   "id": "b4bec60b",
   "metadata": {},
   "outputs": [],
   "source": [
    "df[df['HomePlanet']=='Earth'].sort_values(['Age'], ascending= False)"
   ]
  },
  {
   "cell_type": "code",
   "execution_count": null,
   "id": "261c0db4",
   "metadata": {},
   "outputs": [],
   "source": [
    "Scores =[3.5, 3.65, 4, 3.85, 4, 3.65]\n",
    "idx= [ 1, 2, 3, 4, 5, 6]\n",
    "df= pd.DataFrame({'id': idx, 'score': Scores})\n",
    "df.sort_values('score', ascending= False, inplace= True)\n",
    "df['rank']=df['score'].rank(method='dense')\n",
    "df"
   ]
  },
  {
   "cell_type": "code",
   "execution_count": null,
   "id": "dc9652d1",
   "metadata": {},
   "outputs": [],
   "source": [
    "#----------------------------- Ranking  Problem-----------------------------\n",
    "    scores= scores.sort_values('score', ascending= False).reset_index(drop=True)\n",
    "    scores['rank']= scores['score'].rank(method= 'dense', ascending= False)\n",
    "    \n",
    "\n",
    "    \n",
    "    # scores= scores.sort_values('score', ascending= False).reset_index(drop=True)\n",
    "    # print(scores['score'], len(scores['score']))\n",
    "    # rank= 1\n",
    "    # rank_lis= []\n",
    "\n",
    "    # for i in range(0, len(scores['score'])):\n",
    "\n",
    "    #     if (len(scores['score'])-1) == i:\n",
    "    #         rank_lis.append(rank)\n",
    "\n",
    "    #     elif scores['score'][i] == scores['score'][i+1]:\n",
    "    #         rank_lis.append(rank)\n",
    "  \n",
    "    #     else:\n",
    "    #         rank_lis.append(rank)\n",
    "    #         rank+=1\n",
    "\n",
    "    # scores['rank']= rank_lis"
   ]
  },
  {
   "cell_type": "code",
   "execution_count": null,
   "id": "e6380f06",
   "metadata": {},
   "outputs": [],
   "source": [
    "df.drop_duplicates('score', keep= 'first')"
   ]
  },
  {
   "cell_type": "code",
   "execution_count": null,
   "id": "90a91faf",
   "metadata": {},
   "outputs": [],
   "source": [
    "jewels = \"aA\"\n",
    "stones = \"aAAbbbb\"\n",
    "\n",
    "jewels= list(jewels)\n",
    "# stones= list(stones)\n",
    "stones.count(jewels[1])"
   ]
  },
  {
   "cell_type": "code",
   "execution_count": null,
   "id": "585e2609",
   "metadata": {},
   "outputs": [],
   "source": [
    "sentences = [\"alice and bob love leetcode\", \"i think so too\", \"this is great thanks very much\"]\n",
    "\n",
    "list(sentences[0])\n"
   ]
  },
  {
   "cell_type": "code",
   "execution_count": null,
   "id": "4eeb0d62",
   "metadata": {},
   "outputs": [],
   "source": [
    "x = str(222)\n",
    "str_x= list(x)\n",
    "str_x"
   ]
  },
  {
   "cell_type": "code",
   "execution_count": null,
   "id": "26e6da5d",
   "metadata": {},
   "outputs": [],
   "source": [
    "str_x.reverse()"
   ]
  },
  {
   "cell_type": "code",
   "execution_count": null,
   "id": "1ac2782b",
   "metadata": {},
   "outputs": [],
   "source": [
    "ds= str_x\n",
    "ds"
   ]
  },
  {
   "cell_type": "code",
   "execution_count": null,
   "id": "a2eb4eec",
   "metadata": {},
   "outputs": [],
   "source": [
    "str_x[::-1]"
   ]
  },
  {
   "cell_type": "code",
   "execution_count": null,
   "id": "59dc7c56",
   "metadata": {},
   "outputs": [],
   "source": [
    "str(x) == str(x)[::-1]"
   ]
  },
  {
   "cell_type": "code",
   "execution_count": null,
   "id": "ab5e91be",
   "metadata": {},
   "outputs": [],
   "source": [
    "x= 'XIV'\n",
    "l= x.count('L')\n",
    "v= x.count('V')\n",
    "i= x.count('I')"
   ]
  },
  {
   "cell_type": "code",
   "execution_count": null,
   "id": "ce432181",
   "metadata": {},
   "outputs": [],
   "source": [
    "x_lis= {char:i for i, char in enumerate(x)}\n",
    "x_lis"
   ]
  },
  {
   "cell_type": "code",
   "execution_count": null,
   "id": "33849851",
   "metadata": {},
   "outputs": [],
   "source": [
    "if 'L' in x_lis and x_lis['L'] < x_lis['V']:\n",
    "    print(l*50 + v*5 + i*1)"
   ]
  },
  {
   "cell_type": "code",
   "execution_count": null,
   "id": "4d093280",
   "metadata": {},
   "outputs": [],
   "source": [
    "def romanToInt(x):\n",
    "       \n",
    "\n",
    "        x = x.replace(\"IV\", \"IIII\").replace(\"IX\", \"VIIII\")\n",
    "        x = x.replace(\"XL\", \"XXXX\").replace(\"XC\", \"LXXXX\")\n",
    "        x = x.replace(\"CD\", \"CCCC\").replace(\"CM\", \"DCCCC\")\n",
    "        \n",
    "        i= x.count('I')\n",
    "        v= x.count('V')\n",
    "        xx= x.count('X')\n",
    "        l= x.count('L')\n",
    "        c= x.count('C')\n",
    "        d= x.count('D')\n",
    "        m= x.count('M')\n",
    "\n",
    "        num= 0\n",
    "        num = i * 1 + v * 5 + xx * 10 + l * 50 + c * 100 + d * 500 + m * 1000\n",
    "\n",
    "        return num"
   ]
  },
  {
   "cell_type": "code",
   "execution_count": null,
   "id": "826cbf26",
   "metadata": {},
   "outputs": [],
   "source": [
    "# %timeit\n",
    "# romanToInt(x= 'XIIIIV')\n",
    "\n",
    "# Time the function using %timeit\n",
    "%timeit -n 1 -r 1 romanToInt(x= 'XIIIIV')"
   ]
  },
  {
   "cell_type": "code",
   "execution_count": null,
   "id": "b1c77177",
   "metadata": {},
   "outputs": [],
   "source": [
    "s= 'flower'\n",
    "s.removeprefix('f')"
   ]
  },
  {
   "cell_type": "code",
   "execution_count": null,
   "id": "e92041ae",
   "metadata": {},
   "outputs": [],
   "source": [
    "strs = [\"flewero\",\"flewo\",\"fleighto\"]\n",
    "''.join(strs)"
   ]
  },
  {
   "cell_type": "code",
   "execution_count": null,
   "id": "3d5928d4",
   "metadata": {},
   "outputs": [],
   "source": [
    "import pandas as pd\n",
    "import numpy as np\n",
    "\n",
    "intr= set(strs[0]) & set(strs[1]) \n",
    "ch= intr & set(strs[2])\n",
    "\n",
    "list(ch)"
   ]
  },
  {
   "cell_type": "code",
   "execution_count": null,
   "id": "b79a7e7b",
   "metadata": {},
   "outputs": [],
   "source": [
    "strs = [\"cir\",\"car\"]\n",
    "pre = \"\"\n",
    "for i in list(zip(*strs)):\n",
    "    if len(set(i)) == 1:\n",
    "        pre+=i[0]\n",
    "        print(pre)\n",
    "    else:\n",
    "        break\n",
    "#     return pre"
   ]
  },
  {
   "cell_type": "code",
   "execution_count": null,
   "id": "458cf5fc",
   "metadata": {},
   "outputs": [],
   "source": [
    "strs = [\"cir\",\"car\"]\n",
    "\n",
    "strs= ''.join([i[0] if len(set(i)) == 1  else break for i in list(zip(*strs))])\n",
    "strs"
   ]
  },
  {
   "cell_type": "code",
   "execution_count": null,
   "id": "bd09a6ce",
   "metadata": {},
   "outputs": [],
   "source": [
    "fruits = ['lemon', 'pear', 'watermelon', 'tomato']\n",
    "print(fruits[0], fruits[1], fruits[2], fruits[3])\n",
    "\n",
    "# manual list indexing can be replaced with * for same result\n",
    "print(*fruits)"
   ]
  },
  {
   "cell_type": "code",
   "execution_count": null,
   "id": "48bc7f2c",
   "metadata": {},
   "outputs": [],
   "source": [
    "s = list(\"()\")\n",
    "# sta= []\n",
    "\n",
    "d= {')' : '(', ']' : '[', '}' : '{'}\n",
    "\n",
    "stack= []\n",
    "\n",
    "for i in range(len(s)):\n",
    "\n",
    "    if i in d:\n",
    "        stack.append(i)\n",
    "    elif len(stack) == 0 or d[stack.pop()] != i:\n",
    "        print(d[stack.pop()])\n",
    "        print(stack)\n",
    "        \n",
    "    \n",
    "#     if i == rb or i == sb or i == cb:\n",
    "#         lis.append(i)\n",
    "#         print( lis)\n",
    "#     elif i == br and (rb in lis):\n",
    "#         lis.remove(rb)\n",
    "#         print( lis)\n",
    "#     elif i == bs and (sb in lis):\n",
    "#         lis.remove(sb)\n",
    "#         print( lis)\n",
    "\n",
    "#     elif i == bc and (cb in lis):\n",
    "#         lis.remove(cb)\n",
    "#         print( lis)\n",
    "        \n",
    "#     else:\n",
    "#         lis.append(i)\n",
    "#         print( lis)\n",
    "\n",
    "\n",
    "# return c1 == 0\n"
   ]
  },
  {
   "cell_type": "code",
   "execution_count": null,
   "id": "d8e23cc3",
   "metadata": {},
   "outputs": [],
   "source": [
    "class Node:\n",
    "    \n",
    "    def __init__(self, data):\n",
    "        self.data= data\n",
    "        self.next= None\n",
    "        \n",
    "class LinkedList:\n",
    "    \n",
    "    def __init__(self):\n",
    "        self.head = None\n",
    "        \n",
    "    def append(self, data):\n",
    "        new_node= Node(data)\n",
    "        \n",
    "        if self.head is None:\n",
    "            self.head = new_node\n",
    "            return\n",
    "        curr = self.head\n",
    "        \n",
    "        while curr.next :\n",
    "            curr = curr.next\n",
    "        curr.next= new_node\n",
    "        \n",
    "    def search(self, data):\n",
    "        curr_node = self.head\n",
    "        \n",
    "        while curr_node:\n",
    "            if curr_node.data == data:\n",
    "                print('found', curr_node.data, data)\n",
    "            curr_node= curr_node.next\n",
    "        print('not found')\n",
    "            \n",
    "    def sort_li(self, data):\n",
    "        \n",
    "        \n",
    "        \n",
    "    def print_list(self):\n",
    "        curr_node = self.head\n",
    "        \n",
    "        while curr_node:\n",
    "            print(curr_node.data)\n",
    "            curr_node= curr_node.next\n",
    "            \n",
    "        print('None')\n",
    "            \n",
    "                \n",
    "    \n",
    "# Example usage:\n",
    "llist = LinkedList()\n",
    "llist.append(1)\n",
    "llist.append(2)\n",
    "llist.append(3)\n",
    "llist.search(2)\n",
    "llist.print_list()  \n",
    "        \n",
    "        "
   ]
  },
  {
   "cell_type": "code",
   "execution_count": null,
   "id": "c6e1dabc",
   "metadata": {},
   "outputs": [],
   "source": [
    "haystack = \"sadbutsad\"\n",
    "needle = \"sad\"\n",
    "\n",
    "haystack.find(needle)"
   ]
  },
  {
   "cell_type": "code",
   "execution_count": null,
   "id": "4e3dd859",
   "metadata": {},
   "outputs": [],
   "source": [
    "nums = [1,3,6] \n",
    "target = 5\n",
    "\n",
    "# if target in nums:\n",
    "#     return nums.index(target)\n",
    "# else:\n",
    "    \n",
    "for i in range(len(nums)-1):\n",
    "    print(nums[i], nums[i+1])\n",
    "    if nums[i] < target and nums[i+1] > target:\n",
    "        print(nums[i], nums[i+1])\n",
    "        print(i+1)\n",
    "    elif target == nums[i]:\n",
    "        print(i)\n",
    "#     else:\n",
    "        "
   ]
  },
  {
   "cell_type": "code",
   "execution_count": null,
   "id": "5251d17e",
   "metadata": {},
   "outputs": [],
   "source": [
    "digits = [1, 2, 3]\n",
    "i=int(''.join(map(str,digits)))\n",
    "[int(x) for x in str(i+1)]"
   ]
  },
  {
   "cell_type": "code",
   "execution_count": null,
   "id": "f07e7119",
   "metadata": {},
   "outputs": [],
   "source": [
    "a = '1011'\n",
    "b = '1'\n",
    "num= 1\n",
    "power= 1\n",
    "\n",
    "for i in a[-2::-1]:\n",
    "    print(i)\n",
    "#     if int(i) == 1:\n",
    "    power = power*2\n",
    "#     print(power)\n",
    "    num +=int(i)* power\n",
    "#     power = power*2\n",
    "    print(num, power)"
   ]
  },
  {
   "cell_type": "code",
   "execution_count": null,
   "id": "cd0d3598",
   "metadata": {},
   "outputs": [],
   "source": [
    "a = \"1010\"\n",
    "b = \"1011\"\n",
    "\n",
    "base= '0b'\n",
    "int(base+a, base = 0)"
   ]
  },
  {
   "cell_type": "code",
   "execution_count": null,
   "id": "23d5e40e",
   "metadata": {},
   "outputs": [],
   "source": []
  },
  {
   "cell_type": "code",
   "execution_count": null,
   "id": "9e4b63bc",
   "metadata": {},
   "outputs": [],
   "source": [
    "int('0b1010', base=0)"
   ]
  },
  {
   "cell_type": "code",
   "execution_count": null,
   "id": "d70fc65d",
   "metadata": {},
   "outputs": [],
   "source": [
    "dig=10\n",
    "a = [0]*dig\n",
    "\n",
    "for i in range(dig):\n",
    "    if dig % 2 == 0:\n",
    "        dig= dig // 2\n",
    "    else:\n",
    "        dig= dig % 2\n",
    "#     print(dig)\n",
    "    a[dig] = 1\n",
    "a"
   ]
  },
  {
   "cell_type": "code",
   "execution_count": null,
   "id": "52882256",
   "metadata": {},
   "outputs": [],
   "source": [
    "int(bin(5).split('b')[1])"
   ]
  },
  {
   "cell_type": "code",
   "execution_count": null,
   "id": "fb57df4b",
   "metadata": {},
   "outputs": [],
   "source": [
    "import math\n",
    "(1/2)*math.log(8)"
   ]
  },
  {
   "cell_type": "code",
   "execution_count": null,
   "id": "9ae1aaad",
   "metadata": {},
   "outputs": [],
   "source": [
    "27**(1/2)"
   ]
  },
  {
   "cell_type": "code",
   "execution_count": null,
   "id": "0151009f",
   "metadata": {},
   "outputs": [],
   "source": [
    "[1,2,3]"
   ]
  },
  {
   "cell_type": "code",
   "execution_count": null,
   "id": "1f2438ca",
   "metadata": {},
   "outputs": [],
   "source": [
    "a=(5)\n",
    "a"
   ]
  },
  {
   "cell_type": "code",
   "execution_count": null,
   "id": "a1843d84",
   "metadata": {},
   "outputs": [],
   "source": [
    "3//2"
   ]
  },
  {
   "cell_type": "code",
   "execution_count": null,
   "id": "c47dfcca",
   "metadata": {},
   "outputs": [],
   "source": [
    "df.head()"
   ]
  },
  {
   "cell_type": "code",
   "execution_count": null,
   "id": "c77c2ce0",
   "metadata": {},
   "outputs": [],
   "source": [
    "pd.DataFrame(df.groupby(['Cabin','Spa'])['Spa'].count())"
   ]
  },
  {
   "cell_type": "code",
   "execution_count": null,
   "id": "14cdba6d",
   "metadata": {},
   "outputs": [],
   "source": [
    "dk= df['HomePlanet'].value_counts()>2000\n"
   ]
  },
  {
   "cell_type": "code",
   "execution_count": null,
   "id": "9511b566",
   "metadata": {},
   "outputs": [],
   "source": [
    "dk= df['HomePlanet'].value_counts().to_frame().reset_index()\n",
    "dk"
   ]
  },
  {
   "cell_type": "code",
   "execution_count": null,
   "id": "80309e0d",
   "metadata": {},
   "outputs": [],
   "source": [
    "df['HomePlanet'].merge()"
   ]
  },
  {
   "cell_type": "code",
   "execution_count": null,
   "id": "9043dcf3",
   "metadata": {},
   "outputs": [],
   "source": [
    "str(np.nan)"
   ]
  },
  {
   "cell_type": "code",
   "execution_count": null,
   "id": "9943fa40",
   "metadata": {},
   "outputs": [],
   "source": [
    "df.merge()"
   ]
  },
  {
   "cell_type": "code",
   "execution_count": null,
   "id": "19923f76",
   "metadata": {},
   "outputs": [],
   "source": [
    "df['HomePlanet'].iat[1]"
   ]
  },
  {
   "cell_type": "code",
   "execution_count": 33,
   "id": "f8b39410",
   "metadata": {},
   "outputs": [
    {
     "name": "stdout",
     "output_type": "stream",
     "text": [
      "2\n",
      "5\n",
      "6\n",
      "7\n",
      "8\n",
      "10\n",
      "12\n",
      "15\n",
      "20\n",
      "30\n"
     ]
    }
   ],
   "source": [
    "## Tree\n",
    "class TreeNode:\n",
    "    \n",
    "    def __init__(self, data):                                   #  5\n",
    "        self.data = data                                       #  / \\\n",
    "        self.left = None                                      #  3   10\n",
    "        self.right = None                                   #  /     \\\n",
    "                                                             # 2       15\n",
    "class Tree:\n",
    "    \n",
    "    def createNode(self, data):\n",
    "        return TreeNode(data)\n",
    "    \n",
    "    def insertNode(self, node, data):\n",
    "        if node == None:\n",
    "            return self.createNode(data)\n",
    "        \n",
    "        if data < node.data:\n",
    "            node.left = self.insertNode(node.left, data)\n",
    "        else:\n",
    "            self.createNode(data)\n",
    "            node.right = self.insertNode(node.right, data)\n",
    "        return node\n",
    "    \n",
    "    def traverseInorder(self, node):\n",
    "        if node != None:\n",
    "            self.traverseInorder(node.left)\n",
    "            root = node.data\n",
    "            print(root)\n",
    "            self.traverseInorder(node.right)\n",
    "        \n",
    "        \n",
    "        \n",
    "        \n",
    "                \n",
    "tree= Tree()\n",
    "root= tree.createNode(5)\n",
    "tree.insertNode(root, 2)\n",
    "tree.insertNode(root, 10)\n",
    "tree.insertNode(root, 7)\n",
    "tree.insertNode(root, 15)\n",
    "tree.insertNode(root, 12)\n",
    "tree.insertNode(root, 20)\n",
    "tree.insertNode(root, 30)\n",
    "tree.insertNode(root, 6)\n",
    "tree.insertNode(root, 8)\n",
    "tree.traverseInorder(root)"
   ]
  },
  {
   "cell_type": "code",
   "execution_count": 42,
   "id": "9d07f881",
   "metadata": {},
   "outputs": [
    {
     "data": {
      "text/plain": [
       "False"
      ]
     },
     "execution_count": 42,
     "metadata": {},
     "output_type": "execute_result"
    }
   ],
   "source": [
    "import numpy as np\n",
    "p= [1,4,3]\n",
    "q= [1,np.nan,3]\n",
    "\n",
    "p==q"
   ]
  },
  {
   "cell_type": "code",
   "execution_count": 43,
   "id": "a7385981",
   "metadata": {},
   "outputs": [
    {
     "data": {
      "text/plain": [
       "nan"
      ]
     },
     "execution_count": 43,
     "metadata": {},
     "output_type": "execute_result"
    }
   ],
   "source": [
    "np.nan"
   ]
  },
  {
   "cell_type": "code",
   "execution_count": null,
   "id": "e08119c4",
   "metadata": {},
   "outputs": [],
   "source": [
    "# Definition for a binary tree node.\n",
    "# class TreeNode(object):\n",
    "#     def __init__(self, val=0, left=None, right=None):\n",
    "#         self.val = val\n",
    "#         self.left = left\n",
    "#         self.right = right\n",
    "class Solution(object):\n",
    "    def isSymmetric(self, root):\n",
    "        \n",
    "        def preorder(node):\n",
    "\n",
    "            if node is not None:\n",
    "                l_arr.append(node.val)\n",
    "                preorder(node.left)\n",
    "\n",
    "                if node.left is None:\n",
    "                    l_arr.append(node.left)\n",
    "\n",
    "                if node.right is None:\n",
    "                    l_arr.append(node.right)\n",
    "\n",
    "                preorder(node.right)\n",
    "            # print(l_arr)\n",
    "            return l_arr\n",
    "\n",
    "        def postorder(node):\n",
    "            \n",
    "            if node in not None:\n",
    "                postorder(node.left)\n",
    "\n",
    "                if node.left is None:\n",
    "                    r_arr.append(node.left)\n",
    "\n",
    "                if node.right is None:\n",
    "                    r_arr.append(node.right)\n",
    "\n",
    "                postorder(node.right)\n",
    "\n",
    "                r_arr.append(node.val)\n",
    "            return r_arr\n",
    "                \n",
    "\n",
    "        l_arr =  []\n",
    "        l= preorder(root)\n",
    "        print(root)\n",
    "        print(l)\n",
    "        r_arr = []\n",
    "        r = postorder(root)\n",
    "        # print(root)\n",
    "        print(r)\n",
    "\n",
    "\n",
    "\n",
    "\n",
    "        "
   ]
  },
  {
   "cell_type": "code",
   "execution_count": 50,
   "id": "a049ee55",
   "metadata": {},
   "outputs": [
    {
     "data": {
      "text/plain": [
       "1"
      ]
     },
     "execution_count": 50,
     "metadata": {},
     "output_type": "execute_result"
    }
   ],
   "source": [
    "l= [1,2,4,5]\n",
    "len(l)//3"
   ]
  },
  {
   "cell_type": "code",
   "execution_count": 49,
   "id": "8c70cac7",
   "metadata": {},
   "outputs": [
    {
     "name": "stdout",
     "output_type": "stream",
     "text": [
      "1\n",
      "4\n",
      "5\n"
     ]
    }
   ],
   "source": [
    "for i in l:\n",
    "    if i == l[1]:\n",
    "        continue\n",
    "    else:\n",
    "        print(i)"
   ]
  },
  {
   "cell_type": "code",
   "execution_count": 70,
   "id": "6121ab17",
   "metadata": {},
   "outputs": [
    {
     "data": {
      "text/plain": [
       "(((0, 0), (0, 0)), (0, 0))"
      ]
     },
     "execution_count": 70,
     "metadata": {},
     "output_type": "execute_result"
    }
   ],
   "source": [
    "(((0, 0), (0, 0)), (0, 0))"
   ]
  },
  {
   "cell_type": "code",
   "execution_count": 63,
   "id": "2691441f",
   "metadata": {},
   "outputs": [
    {
     "data": {
      "text/plain": [
       "2"
      ]
     },
     "execution_count": 63,
     "metadata": {},
     "output_type": "execute_result"
    }
   ],
   "source": [
    "lis = [1, 2, 3, 4, 5]\n",
    "for i in range(len(lis)):\n",
    "    print('i:', i, 'len: ', len(lis))"
   ]
  },
  {
   "cell_type": "code",
   "execution_count": 62,
   "id": "b3b09897",
   "metadata": {},
   "outputs": [
    {
     "data": {
      "text/plain": [
       "2"
      ]
     },
     "execution_count": 62,
     "metadata": {},
     "output_type": "execute_result"
    }
   ],
   "source": [
    "len(list(((0,0))))"
   ]
  }
 ],
 "metadata": {
  "kernelspec": {
   "display_name": "Python 3 (ipykernel)",
   "language": "python",
   "name": "python3"
  },
  "language_info": {
   "codemirror_mode": {
    "name": "ipython",
    "version": 3
   },
   "file_extension": ".py",
   "mimetype": "text/x-python",
   "name": "python",
   "nbconvert_exporter": "python",
   "pygments_lexer": "ipython3",
   "version": "3.11.5"
  }
 },
 "nbformat": 4,
 "nbformat_minor": 5
}
