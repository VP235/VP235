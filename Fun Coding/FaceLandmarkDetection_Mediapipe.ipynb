{
 "cells": [
  {
   "cell_type": "code",
   "execution_count": 1,
   "id": "231a9f37",
   "metadata": {},
   "outputs": [],
   "source": [
    "# ! pip install mediapipe"
   ]
  },
  {
   "cell_type": "code",
   "execution_count": 2,
   "id": "d5a14f2c",
   "metadata": {},
   "outputs": [
    {
     "name": "stdout",
     "output_type": "stream",
     "text": [
      "WARNING:tensorflow:From C:\\Users\\varsha\\anaconda3\\Lib\\site-packages\\keras\\src\\losses.py:2976: The name tf.losses.sparse_softmax_cross_entropy is deprecated. Please use tf.compat.v1.losses.sparse_softmax_cross_entropy instead.\n",
      "\n"
     ]
    }
   ],
   "source": [
    "import cv2\n",
    "import mediapipe as mp\n",
    "import time\n",
    "import matplotlib.pyplot as plt\n"
   ]
  },
  {
   "cell_type": "code",
   "execution_count": 7,
   "id": "ac2f1a4e",
   "metadata": {},
   "outputs": [],
   "source": [
    "class FaceMeshDetector():\n",
    "    \n",
    "    def __init__(self, static_image_mode= False, max_num_faces= 1, min_detection_confidence= 0.5, min_tracking_confidence= 0.5):\n",
    "        \n",
    "        self.static_image_mode= static_image_mode\n",
    "        self.max_num_faces = max_num_faces\n",
    "        self.min_detection_confidence= min_detection_confidence\n",
    "        self.min_tracking_confidence= min_tracking_confidence\n",
    "                     \n",
    "                       \n",
    "        # Initialize mediapipe face detection and landmark models\n",
    "        self.mpDraw= mp.solutions.drawing_utils  # creates line between detected points\n",
    "        self.mpFaceMesh= mp.solutions.face_mesh\n",
    "        self.faceMesh= self.mpFaceMesh.FaceMesh(max_num_faces= 3)\n",
    "        self.drawSpec= self.mpDraw.DrawingSpec(thickness= 1, circle_radius= 2)\n",
    "    \n",
    "    def findFaceMesh(self, img, draw= True):\n",
    "\n",
    "        # convert to rgb\n",
    "        self.imgRGB= cv2.cvtColor(img, cv2.COLOR_BGR2RGB)\n",
    "        \n",
    "        self.results= self.faceMesh.process(self.imgRGB)\n",
    "\n",
    "        faces= []\n",
    "        if self.results.multi_face_landmarks:\n",
    "            for faceLms in self.results.multi_face_landmarks:\n",
    "                self.mpDraw.draw_landmarks(img, faceLms, self.mpFaceMesh.FACEMESH_CONTOURS, self.drawSpec, self.drawSpec)\n",
    "\n",
    "                face= []\n",
    "                for id, lm in enumerate(faceLms.landmark):\n",
    "    #                 print(id, lm)\n",
    "                    ih, iw, ic= img.shape\n",
    "                    x, y= int(lm.x*iw), int(lm.y*ih)\n",
    "#                     print(x,y)\n",
    "#                     cv2.putText(img, str(id), (x, y), cv2.FONT_HERSHEY_PLAIN,0.5, (0,255,0), 1)\n",
    "\n",
    "                    face.append([x, y])\n",
    "                faces.append(face)\n",
    "                \n",
    "        return img, faces\n",
    "\n",
    "\n",
    "def main():\n",
    "    # initialize the video\n",
    "#     cap= cv2.VideoCapture(r\"vid_1.mp4\")\n",
    "    cap= cv2.VideoCapture(0)\n",
    "\n",
    "    # checking if video capture was sucessful\n",
    "    if not cap.isOpened():\n",
    "        print(\"Unable to find Video file\")\n",
    "        exit()\n",
    "\n",
    "    pTime= 0\n",
    "    detector= FaceMeshDetector()\n",
    "    # Loop to read frames from the video\n",
    "    while True:\n",
    "\n",
    "        # Read a frame from the video\n",
    "        success, img= cap.read()   # here img is BGR\n",
    "        \n",
    "        img, faces= detector.findFaceMesh(img, False)\n",
    "        \n",
    "#         if len(faces)!=0:\n",
    "#             print(len(faces))\n",
    "#             print(faces[0])\n",
    "\n",
    "        # write frame rate\n",
    "        cTime= time.time()\n",
    "        fps= 1/(cTime-pTime)   # c for current time, p for previous time\n",
    "        pTime= cTime\n",
    "        \n",
    "        # check if frame was read sucessfully\n",
    "        if  success:  \n",
    "            cv2.putText(img, f'FPS: {int(fps)}', (20, 70), cv2.FONT_HERSHEY_PLAIN, 2, (0,255,0), 3)\n",
    "            cv2.imshow(\"Image\", img)\n",
    "\n",
    "            if cv2.waitKey(1) == ord('q'):\n",
    "                break\n",
    "    \n",
    "    #release the capture object\n",
    "    cap.release()\n",
    "\n",
    "    #close all active windows\n",
    "    cv2.destroyAllWindows()\n",
    "    \n",
    "    \n",
    "if __name__== '__main__':\n",
    "    main()\n",
    "\n",
    "\n"
   ]
  },
  {
   "cell_type": "code",
   "execution_count": null,
   "id": "cf4fd28c",
   "metadata": {},
   "outputs": [],
   "source": []
  },
  {
   "cell_type": "code",
   "execution_count": null,
   "id": "9bf61814",
   "metadata": {},
   "outputs": [],
   "source": []
  },
  {
   "cell_type": "code",
   "execution_count": null,
   "id": "90c857a8",
   "metadata": {},
   "outputs": [],
   "source": []
  },
  {
   "cell_type": "code",
   "execution_count": null,
   "id": "dd3acdb7",
   "metadata": {},
   "outputs": [],
   "source": []
  },
  {
   "cell_type": "code",
   "execution_count": null,
   "id": "9c13e316",
   "metadata": {},
   "outputs": [],
   "source": []
  },
  {
   "cell_type": "code",
   "execution_count": null,
   "id": "bfa33e66",
   "metadata": {},
   "outputs": [],
   "source": []
  },
  {
   "cell_type": "code",
   "execution_count": null,
   "id": "2aec6026",
   "metadata": {},
   "outputs": [],
   "source": []
  },
  {
   "cell_type": "code",
   "execution_count": null,
   "id": "07c32ce1",
   "metadata": {},
   "outputs": [],
   "source": []
  },
  {
   "cell_type": "code",
   "execution_count": null,
   "id": "76135109",
   "metadata": {},
   "outputs": [],
   "source": []
  },
  {
   "cell_type": "code",
   "execution_count": null,
   "id": "313a8187",
   "metadata": {},
   "outputs": [],
   "source": []
  },
  {
   "cell_type": "code",
   "execution_count": null,
   "id": "19f74b84",
   "metadata": {},
   "outputs": [],
   "source": []
  },
  {
   "cell_type": "code",
   "execution_count": null,
   "id": "1b6bf962",
   "metadata": {},
   "outputs": [],
   "source": []
  },
  {
   "cell_type": "code",
   "execution_count": null,
   "id": "5495bed7",
   "metadata": {},
   "outputs": [],
   "source": []
  },
  {
   "cell_type": "code",
   "execution_count": null,
   "id": "df591b8e",
   "metadata": {},
   "outputs": [],
   "source": []
  },
  {
   "cell_type": "code",
   "execution_count": null,
   "id": "127a96b7",
   "metadata": {},
   "outputs": [],
   "source": []
  },
  {
   "cell_type": "code",
   "execution_count": null,
   "id": "5116ef70",
   "metadata": {},
   "outputs": [],
   "source": []
  },
  {
   "cell_type": "code",
   "execution_count": null,
   "id": "4e9e52dd",
   "metadata": {},
   "outputs": [],
   "source": []
  },
  {
   "cell_type": "code",
   "execution_count": null,
   "id": "614be94e",
   "metadata": {},
   "outputs": [],
   "source": []
  },
  {
   "cell_type": "code",
   "execution_count": null,
   "id": "1ad4b89b",
   "metadata": {},
   "outputs": [],
   "source": []
  },
  {
   "cell_type": "code",
   "execution_count": null,
   "id": "d5624496",
   "metadata": {},
   "outputs": [],
   "source": []
  },
  {
   "cell_type": "code",
   "execution_count": null,
   "id": "5e807b98",
   "metadata": {},
   "outputs": [],
   "source": []
  },
  {
   "cell_type": "code",
   "execution_count": null,
   "id": "957eda56",
   "metadata": {},
   "outputs": [],
   "source": []
  },
  {
   "cell_type": "code",
   "execution_count": null,
   "id": "2a9dcbdb",
   "metadata": {},
   "outputs": [],
   "source": []
  },
  {
   "cell_type": "code",
   "execution_count": null,
   "id": "aed610c8",
   "metadata": {},
   "outputs": [],
   "source": []
  },
  {
   "cell_type": "code",
   "execution_count": null,
   "id": "b82f4cd6",
   "metadata": {},
   "outputs": [],
   "source": []
  },
  {
   "cell_type": "code",
   "execution_count": null,
   "id": "62c6c0fa",
   "metadata": {},
   "outputs": [],
   "source": []
  },
  {
   "cell_type": "code",
   "execution_count": null,
   "id": "f94d5c6b",
   "metadata": {},
   "outputs": [],
   "source": []
  },
  {
   "cell_type": "code",
   "execution_count": null,
   "id": "c25422bf",
   "metadata": {},
   "outputs": [],
   "source": []
  },
  {
   "cell_type": "code",
   "execution_count": null,
   "id": "07e503ae",
   "metadata": {},
   "outputs": [],
   "source": []
  },
  {
   "cell_type": "code",
   "execution_count": null,
   "id": "5c5125d4",
   "metadata": {},
   "outputs": [],
   "source": []
  },
  {
   "cell_type": "code",
   "execution_count": null,
   "id": "8838fb8f",
   "metadata": {},
   "outputs": [],
   "source": []
  }
 ],
 "metadata": {
  "kernelspec": {
   "display_name": "Python 3 (ipykernel)",
   "language": "python",
   "name": "python3"
  },
  "language_info": {
   "codemirror_mode": {
    "name": "ipython",
    "version": 3
   },
   "file_extension": ".py",
   "mimetype": "text/x-python",
   "name": "python",
   "nbconvert_exporter": "python",
   "pygments_lexer": "ipython3",
   "version": "3.11.5"
  }
 },
 "nbformat": 4,
 "nbformat_minor": 5
}
