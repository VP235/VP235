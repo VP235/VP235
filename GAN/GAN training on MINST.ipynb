{
 "cells": [
  {
   "cell_type": "code",
   "execution_count": 104,
   "id": "53f004e9",
   "metadata": {},
   "outputs": [],
   "source": [
    "import tensorflow as tf\n",
    "from tensorflow import keras\n",
    "import numpy as np \n",
    "import pandas as pd\n",
    "from keras import Sequential\n",
    "from keras.optimizers.legacy import Adam\n",
    "from keras.layers import Dense, LeakyReLU, BatchNormalization\n",
    "import matplotlib.pyplot as plt\n"
   ]
  },
  {
   "cell_type": "code",
   "execution_count": 91,
   "id": "2b86cd13",
   "metadata": {},
   "outputs": [],
   "source": [
    "# define input image dimension\n",
    "img_rows= 28\n",
    "img_col= 28\n",
    "imh_channel= 1\n",
    "\n",
    "img_shape= (img_rows, img_col, imh_channel)"
   ]
  },
  {
   "cell_type": "code",
   "execution_count": 92,
   "id": "07ff4587",
   "metadata": {},
   "outputs": [],
   "source": [
    "# noise/ latent vector -> it is nothing but the randomly generated 1D array of size 100"
   ]
  },
  {
   "cell_type": "markdown",
   "id": "6cb88032",
   "metadata": {},
   "source": [
    "### Generator:\n",
    "\n",
    "#### Given input image as noise or vector latent produces the generator produces fake image\n",
    "\n",
    "#### for our model, it takes in 1D randomly generated noise and returns back a image by converting it into into (28,28,1) shape"
   ]
  },
  {
   "cell_type": "code",
   "execution_count": 132,
   "id": "c651291c",
   "metadata": {},
   "outputs": [],
   "source": [
    "def  build_generator():\n",
    "    \n",
    "    noise_shape= (100, ) # 1D array of size 100 that will be passed to the generator\n",
    "    \n",
    "    # for now we will be using only the simple neural network but the networks can be complicated, depends on the purpose\n",
    "    # Created a Sequential model\n",
    "    model= Sequential()\n",
    "    \n",
    "    model.add(Dense(256, input_shape= noise_shape))  # this input_shape is defined for the Sequential model's first layer (which we usually do, to pass input)\n",
    "    model.add(keras.layers.LeakyReLU(alpha= 0.2))     #dont know why alpha is 0.2, taken directly from the research paper\n",
    "    model.add(keras.layers.BatchNormalization(momentum= 0.8)) # momentum specifices at what rate or how fast to the model should be train\n",
    "    \n",
    "    model.add(Dense(512))\n",
    "    model.add(LeakyReLU(alpha=0.2))\n",
    "    model.add(BatchNormalization(momentum=0.8))\n",
    "    \n",
    "    model.add(Dense(1024))\n",
    "    model.add(LeakyReLU(alpha=0.2))\n",
    "    model.add(BatchNormalization(momentum=0.8))\n",
    "    \n",
    "    model.add(Dense(np.prod(img_shape), activation= 'tanh')) # it like applying activation on (z)= weights+bias -> tanh(z)\n",
    "    model.add(keras.layers.Reshape(img_shape))  # Layer that reshapes inputs into the given shape.\n",
    "    \n",
    "    print('----------------------Build Generator - Sequential Layers--------------------------------')\n",
    "    model.summary()\n",
    "    \n",
    "    # cerate a Functional API Model , beecause it is more flexible for non-linear problems like GAN and is more flexible.\n",
    "    noise= keras.layers.Input(shape= noise_shape)  #`For Functional API model, we need to define the input layer \n",
    "    generated_img= model(noise)      # Generated image : whatever the image is generated from the Sequential model as output it to the Functional API model\n",
    "    \n",
    "#     print('----------------------Build Generator - Wrap Sequential Layers in Functional API--------------------------------')\n",
    "    functioalApi_model= keras.models.Model(noise, generated_img)\n",
    "    functioalApi_model.summary()\n",
    "    \n",
    "    \n",
    "    return functioalApi_model# defining a functional API model\n",
    "#Alpha — α is a hyperparameter It allows a small gradient when the unit is not active. It takes activation to near zero, instead of complete zero.\n",
    "#Momentum — Speed up the training\n",
    "    "
   ]
  },
  {
   "cell_type": "raw",
   "id": "cdd705fd",
   "metadata": {},
   "source": [
    "# Leaky Relu :It allows a small gradient when the unit is not active\n",
    "\n",
    "# Batch normalization :Applies a transformation that maintains the mean output close to 0 and the output standard deviation                        close to 1.\n",
    "\n",
    "Importantly, batch normalization works differently during training and during inference:\n",
    "\n",
    "1] During training (i.e. when using fit() or when calling the layer/model with the argument training=True), the layer normalizes its output using the mean and standard deviation of the current batch of inputs. \n",
    "\n",
    "2] During inference (i.e. when using evaluate() or predict() or when calling the layer/model with the argument training=False (which is the default), the layer normalizes its output using a moving average of the mean and standard deviation of the batches it has seen during training. "
   ]
  },
  {
   "cell_type": "markdown",
   "id": "adc11f20",
   "metadata": {},
   "source": [
    "### Descriminator:\n",
    "\n",
    "\n",
    "#### Given an input image, the Discriminator outputs the likelihood of the image being real.\n",
    "#### Binary classification - true or false (we're calling it validity)\n",
    "\n",
    "#### First we flatten the image of size(28,28,1 ) to a 1D array to passin to the NN"
   ]
  },
  {
   "cell_type": "code",
   "execution_count": 131,
   "id": "8afafbc7",
   "metadata": {},
   "outputs": [],
   "source": [
    "def build_discriminator():\n",
    "    \n",
    "    model= Sequential()\n",
    "    \n",
    "    model.add(keras.layers.Flatten(input_shape= img_shape))\n",
    "    model.add(Dense(512))\n",
    "    model.add(LeakyReLU(alpha=0.2))\n",
    "    model.add(Dense(256))\n",
    "    model.add(LeakyReLU(alpha=0.2))\n",
    "    model.add(Dense(1, activation='sigmoid'))\n",
    "    \n",
    "    print('----------------------Build Discriminator--------------------------------')\n",
    "    model.summary()\n",
    "    \n",
    "    img= keras.layers.Input(shape= img_shape)\n",
    "    validity= model(img)                      #The validity is the Discriminator’s guess of input being real or not.\n",
    "    \n",
    "#     print('----------------------Build Generator - Wrap Sequential Layers in Functional API--------------------------------')\n",
    "    functioalApi_model= keras.models.Model(img, validity)\n",
    "    functioalApi_model.summary()\n",
    "    \n",
    "    return functioalApi_model\n",
    "\n"
   ]
  },
  {
   "cell_type": "code",
   "execution_count": 124,
   "id": "ba048493",
   "metadata": {},
   "outputs": [],
   "source": [
    "# create training function\n",
    "\n",
    "def train( epochs, batch_size=128 , save_interval= 50):\n",
    "    \n",
    "    # load the dataset\n",
    "    (X_train, _),(_, _)= keras.datasets.mnist.load_data()\n",
    "    \n",
    "    # convert it to float from uint8 and normalize the data between -1 to 1 (we can also scale it to 0 to -1)\n",
    "    X_train= (X_train.astype('float32')-127.5)/127.5\n",
    "    \n",
    "    # we will add a dimension of channel =1, as the input to our generator and desc is img of size (28,28,1)\n",
    "    X_train= np.expand_dims(X_train, axis= 3)\n",
    "    \n",
    "    # now will divide the batch size to half, so that we can give half of the batch to training purpose \n",
    "    half_batch= int(batch_size/2)\n",
    "    \n",
    "    \n",
    "    #We then loop through a number of epochs to train our Discriminator by first selecting\n",
    "    #a random batch of images from our true dataset, generating a set of images from our\n",
    "    #Generator, feeding both set of images into our Discriminator, and finally setting the\n",
    "    #loss parameters for both the real and fake images, as well as the combined loss. \n",
    "\n",
    "    \n",
    "    for epoch in range(epochs):\n",
    "        \n",
    "       # train the discriminator\n",
    "        \n",
    "        #selectthe random half batch of real images \n",
    "        idx= np.random.randint(0, X_train.shape[0], half_batch)\n",
    "        imgs = X_train[idx]\n",
    "        \n",
    "        # create a noise for descriminator training\n",
    "        noise= np.random.normal(0, 1, (half_batch, 100))  # Draw random samples from a normal (Gaussian) distribution.\n",
    "        \n",
    "        # generate half batch of fake image\n",
    "        gen_img= generator.predict(noise)\n",
    "        \n",
    "        \n",
    "        # Train the discriminator on real and fake images, separately\n",
    "        #Research showed that separate training is more effective. \n",
    "        d_loss_real= discriminator.train_on_batch(imgs, np.ones((half_batch,1)))   # Runs a single gradient update on a single batch of data, it returns scalar training loss\n",
    "        d_loss_fake= discriminator.train_on_batch(gen_img, np.zeros((half_batch,1)))\n",
    "        \n",
    "        \n",
    "        # take avg loss for real and fake\n",
    "        d_loss= 0.5* np.add(d_loss_real,d_loss_fake)\n",
    "        \n",
    "        #And within the same loop we train our Generator, by setting the input noise and\n",
    "        #ultimately training the Generator to have the Discriminator label its samples as valid\n",
    "        #by specifying the gradient loss.\n",
    "        \n",
    "        # Note: When we train the descriminator, at that time we keep the generator non trainable\n",
    "                # and when we train the generator, descriminator is kept non-trainable\n",
    "                # we do it so that generator do not adjust the weights in descriminator\n",
    "                \n",
    "                \n",
    "        # -------------------Train Generator----------------------\n",
    "        \n",
    "        #Create noise vectors as input for generator training.\n",
    "        #Create as many noise vectors as defined by the batch size. \n",
    "        #Based on normal distribution. Output will be of size (batch size, 100)\n",
    "        \n",
    "        noise= np.random.normal( 0, 1, (batch_size, 100))\n",
    "        \n",
    "        # The generator wants the discriminator to label the generated samples\n",
    "        # as valid (ones)\n",
    "        #This is where the genrator is trying to trick discriminator into believing\n",
    "        #the generated image is true (hence value of 1 for y)\n",
    "        valid_y = np.array([1] * batch_size) #Creates an array of all ones of size=batch size\n",
    "\n",
    "        \n",
    "        # Generator is part of combined where it got directly linked with the discriminator\n",
    "        # Train the generator with noise as x and 1 as y. \n",
    "        # Again, 1 as the output as it is adversarial and if generator did a great\n",
    "        #job of folling the discriminator then the output would be 1 (true)\n",
    "\n",
    "        g_loss= combined.train_on_batch(noise, valid_y)\n",
    "        \n",
    "        #Additionally, in order for us to keep track of our training process, we print the\n",
    "        #progress and save the sample image output depending on the epoch interval specified.  \n",
    "        # Plot the progress\n",
    "        \n",
    "        print (f\"{epochs} [D loss: {d_loss[0]}, acc.: {np.round(100*d_loss[1],2)}] [G loss: {g_loss}]\")\n",
    "        \n",
    "       "
   ]
  },
  {
   "cell_type": "code",
   "execution_count": 257,
   "id": "acf7b624",
   "metadata": {},
   "outputs": [
    {
     "name": "stdout",
     "output_type": "stream",
     "text": [
      "----------------------Build Discriminator--------------------------------\n",
      "Model: \"sequential_77\"\n",
      "_________________________________________________________________\n",
      " Layer (type)                Output Shape              Param #   \n",
      "=================================================================\n",
      " flatten_9 (Flatten)         (None, 784)               0         \n",
      "                                                                 \n",
      " dense_111 (Dense)           (None, 512)               401920    \n",
      "                                                                 \n",
      " leaky_re_lu_81 (LeakyReLU)  (None, 512)               0         \n",
      "                                                                 \n",
      " dense_112 (Dense)           (None, 256)               131328    \n",
      "                                                                 \n",
      " leaky_re_lu_82 (LeakyReLU)  (None, 256)               0         \n",
      "                                                                 \n",
      " dense_113 (Dense)           (None, 1)                 257       \n",
      "                                                                 \n",
      "=================================================================\n",
      "Total params: 533505 (2.04 MB)\n",
      "Trainable params: 533505 (2.04 MB)\n",
      "Non-trainable params: 0 (0.00 Byte)\n",
      "_________________________________________________________________\n",
      "Model: \"model_33\"\n",
      "_________________________________________________________________\n",
      " Layer (type)                Output Shape              Param #   \n",
      "=================================================================\n",
      " input_38 (InputLayer)       [(None, 28, 28, 1)]       0         \n",
      "                                                                 \n",
      " sequential_77 (Sequential)  (None, 1)                 533505    \n",
      "                                                                 \n",
      "=================================================================\n",
      "Total params: 533505 (2.04 MB)\n",
      "Trainable params: 533505 (2.04 MB)\n",
      "Non-trainable params: 0 (0.00 Byte)\n",
      "_________________________________________________________________\n",
      "----------------------After Building Discriminator--------------------------------\n",
      "Model: \"model_33\"\n",
      "_________________________________________________________________\n",
      " Layer (type)                Output Shape              Param #   \n",
      "=================================================================\n",
      " input_38 (InputLayer)       [(None, 28, 28, 1)]       0         \n",
      "                                                                 \n",
      " sequential_77 (Sequential)  (None, 1)                 533505    \n",
      "                                                                 \n",
      "=================================================================\n",
      "Total params: 533505 (2.04 MB)\n",
      "Trainable params: 533505 (2.04 MB)\n",
      "Non-trainable params: 0 (0.00 Byte)\n",
      "_________________________________________________________________\n",
      "----------------------Build Generator - Sequential Layers--------------------------------\n",
      "Model: \"sequential_78\"\n",
      "_________________________________________________________________\n",
      " Layer (type)                Output Shape              Param #   \n",
      "=================================================================\n",
      " dense_114 (Dense)           (None, 256)               25856     \n",
      "                                                                 \n",
      " leaky_re_lu_83 (LeakyReLU)  (None, 256)               0         \n",
      "                                                                 \n",
      " batch_normalization_63 (Ba  (None, 256)               1024      \n",
      " tchNormalization)                                               \n",
      "                                                                 \n",
      " dense_115 (Dense)           (None, 512)               131584    \n",
      "                                                                 \n",
      " leaky_re_lu_84 (LeakyReLU)  (None, 512)               0         \n",
      "                                                                 \n",
      " batch_normalization_64 (Ba  (None, 512)               2048      \n",
      " tchNormalization)                                               \n",
      "                                                                 \n",
      " dense_116 (Dense)           (None, 1024)              525312    \n",
      "                                                                 \n",
      " leaky_re_lu_85 (LeakyReLU)  (None, 1024)              0         \n",
      "                                                                 \n",
      " batch_normalization_65 (Ba  (None, 1024)              4096      \n",
      " tchNormalization)                                               \n",
      "                                                                 \n",
      " dense_117 (Dense)           (None, 784)               803600    \n",
      "                                                                 \n",
      " reshape_22 (Reshape)        (None, 28, 28, 1)         0         \n",
      "                                                                 \n",
      "=================================================================\n",
      "Total params: 1493520 (5.70 MB)\n",
      "Trainable params: 1489936 (5.68 MB)\n",
      "Non-trainable params: 3584 (14.00 KB)\n",
      "_________________________________________________________________\n",
      "Model: \"model_34\"\n",
      "_________________________________________________________________\n",
      " Layer (type)                Output Shape              Param #   \n",
      "=================================================================\n",
      " input_39 (InputLayer)       [(None, 100)]             0         \n",
      "                                                                 \n",
      " sequential_78 (Sequential)  (None, 28, 28, 1)         1493520   \n",
      "                                                                 \n",
      "=================================================================\n",
      "Total params: 1493520 (5.70 MB)\n",
      "Trainable params: 1489936 (5.68 MB)\n",
      "Non-trainable params: 3584 (14.00 KB)\n",
      "_________________________________________________________________\n",
      "----------------------After Building Generator--------------------------------\n",
      "Model: \"model_34\"\n",
      "_________________________________________________________________\n",
      " Layer (type)                Output Shape              Param #   \n",
      "=================================================================\n",
      " input_39 (InputLayer)       [(None, 100)]             0         \n",
      "                                                                 \n",
      " sequential_78 (Sequential)  (None, 28, 28, 1)         1493520   \n",
      "                                                                 \n",
      "=================================================================\n",
      "Total params: 1493520 (5.70 MB)\n",
      "Trainable params: 1489936 (5.68 MB)\n",
      "Non-trainable params: 3584 (14.00 KB)\n",
      "_________________________________________________________________\n",
      "----------------------Combined Generator and Discriminator--------------------------------\n",
      "Model: \"model_35\"\n",
      "_________________________________________________________________\n",
      " Layer (type)                Output Shape              Param #   \n",
      "=================================================================\n",
      " input_40 (InputLayer)       [(None, 100)]             0         \n",
      "                                                                 \n",
      " model_34 (Functional)       (None, 28, 28, 1)         1493520   \n",
      "                                                                 \n",
      " model_33 (Functional)       (None, 1)                 533505    \n",
      "                                                                 \n",
      "=================================================================\n",
      "Total params: 2027025 (7.73 MB)\n",
      "Trainable params: 1489936 (5.68 MB)\n",
      "Non-trainable params: 537089 (2.05 MB)\n",
      "_________________________________________________________________\n",
      "1/1 [==============================] - 0s 170ms/step\n",
      "1 [D loss: 0.9239471554756165, acc.: 43.75] [G loss: 0.8967821002006531]\n"
     ]
    }
   ],
   "source": [
    "#######################################################################\n",
    "    \n",
    "# define a optimzer for easy access\n",
    "optimizer= Adam(0.0002, 0.5)  #Learning rate and momentum.\n",
    "\n",
    "# Build and compile the discriminator first. \n",
    "#Generator will be trained as part of the combined model, later. \n",
    "#pick the loss function and the type of metric to keep track.                 \n",
    "#Binary cross entropy as we are doing prediction and it is a better loss function compared to MSE or other \n",
    "#for binary(0 or 1) output\n",
    "\n",
    "discriminator= build_discriminator()\n",
    "discriminator.compile(optimizer= optimizer,\n",
    "                     loss= 'binary_crossentropy',\n",
    "                     metrics= ['accuracy'])\n",
    "\n",
    "print('----------------------After Building Discriminator--------------------------------')\n",
    "discriminator.summary()\n",
    "#build and compile our Discriminator, pick the loss function\n",
    "\n",
    "#since we are only generating (faking) images, let us not track any metrics.\n",
    "generator= build_generator()\n",
    "generator.compile(optimizer= optimizer,\n",
    "                loss= 'binary_crossentropy')\n",
    "\n",
    "print('----------------------After Building Generator--------------------------------')\n",
    "generator.summary()\n",
    "\n",
    "#This builds the Generator and defines the input noise. \n",
    "#In a GAN the Generator network takes noise z as an input to produce its images.  \n",
    "z= keras.layers.Input(shape= (100,))\n",
    "img= generator(z)\n",
    "\n",
    "# plt.imshow(img[0])\n",
    "#This ensures that when we combine our networks we only train the Generator.\n",
    "#While generator training we do not want discriminator weights to be adjusted. \n",
    "#This Doesn't affect the above descriminator training.\n",
    "\n",
    "discriminator.trainable= False\n",
    "\n",
    "#This specifies that our Discriminator will take the images generated by our Generator\n",
    "#and true dataset and set its output to a parameter called valid, which will indicate\n",
    "#whether the input is real or not.  \n",
    "\n",
    "valid= discriminator(img)   #Validity check on the generated image\n",
    "\n",
    "\n",
    "\n",
    "#Here we combined the models and also set our loss function and optimizer. \n",
    "#Again, we are only training the generator here. \n",
    "#The ultimate goal here is for the Generator to fool the Discriminator.  \n",
    "# The combined model  (stacked generator and discriminator) takes\n",
    "# noise as input => generates images => determines validity\n",
    "\n",
    "combined= keras.models.Model(z, valid) \n",
    "\n",
    "print('----------------------Combined Generator and Discriminator--------------------------------')\n",
    "combined.summary()\n",
    "combined.compile(loss='binary_crossentropy', optimizer=optimizer)\n",
    "\n",
    "\n",
    "train(epochs= 1, batch_size=32, save_interval=10)\n",
    "\n",
    "#Save model for future use to generate fake images\n",
    "#Not tested yet... make sure right model is being saved..\n",
    "#Compare with GAN4\n",
    "\n",
    "# generator.save('generator_model.h5')  #Test the model on GAN4_predict...\n",
    "#Change epochs back to 30K\n",
    "                \n",
    "#Epochs dictate the number of backward and forward propagations, the batch_size\n",
    "#indicates the number of training samples per backward/forward propagation, and the\n",
    "#sample_interval specifies after how many epochs we call our sample_image function.\n"
   ]
  },
  {
   "cell_type": "code",
   "execution_count": 130,
   "id": "84562d9a",
   "metadata": {},
   "outputs": [],
   "source": [
    "# x = keras.layers.Input(shape=(32,))\n",
    "# y = tf.square(x)  # This op will be treated like a layer\n",
    "# model = keras.models.Model(x, y)\n",
    "# model.summary()\n",
    "# y"
   ]
  },
  {
   "cell_type": "code",
   "execution_count": null,
   "id": "29f1ee17",
   "metadata": {},
   "outputs": [],
   "source": []
  },
  {
   "cell_type": "code",
   "execution_count": 98,
   "id": "c890d28d",
   "metadata": {},
   "outputs": [
    {
     "name": "stdout",
     "output_type": "stream",
     "text": [
      "2/2 [==============================] - 0s 18ms/step\n"
     ]
    }
   ],
   "source": [
    " noise_shape= (100, ) # 1D array of size 100 that will be passed to the generator\n",
    "    \n",
    "# for now we will be using only the simple neural network but the networks can be complicated, depends on the purpose\n",
    "\n",
    "model= Sequential()\n",
    "model.add(Dense(256, input_shape= noise_shape))\n",
    "model.add(keras.layers.LeakyReLU(alpha= 0.2))     #dont know why alpha is 0.2, taken directly from the research paper\n",
    "model.add(keras.layers.BatchNormalization(momentum= 0.8)) # momentum specifices at what rate or how fast to the model should be train\n",
    "model.add(Dense(512))\n",
    "model.add(LeakyReLU(alpha=0.2))\n",
    "model.add(BatchNormalization(momentum=0.8))\n",
    "model.add(Dense(1024))\n",
    "model.add(LeakyReLU(alpha=0.2))\n",
    "model.add(BatchNormalization(momentum=0.8))\n",
    "\n",
    "model.add(Dense(np.prod(img_shape), activation= 'tanh')) # it like applying activation on (z)= weights+bias -> tanh(z)\n",
    "model.add(keras.layers.Reshape(img_shape))  # Layer that reshapes inputs into the given shape.\n",
    "\n",
    "# model.summary()\n",
    "\n",
    "# noise= keras.layers.Input(shape= noise_shape)  #`Input()` is used to instantiate a Keras tensor.\n",
    "# generated_img= model(noise)      # Generated image\n",
    "#           # Generated image\n",
    "# print(noise)\n",
    "# print(\"===========generated------------\",generated_img)\n",
    "# chit= keras.models.Model(noise, generated_img)\n",
    "# print(\"---------------------hi\", chit)\n",
    "noise= np.random.normal(0, 1, (64, 100))\n",
    "img= model.predict(noise)\n",
    "\n",
    "# keras.utils.plot_model(chit, \"model.png\",show_shapes=True)"
   ]
  },
  {
   "cell_type": "code",
   "execution_count": 99,
   "id": "9b7c9f73",
   "metadata": {},
   "outputs": [
    {
     "data": {
      "text/plain": [
       "<matplotlib.image.AxesImage at 0x1c2404da650>"
      ]
     },
     "execution_count": 99,
     "metadata": {},
     "output_type": "execute_result"
    },
    {
     "data": {
      "image/png": "[encoded data removed]",
      "text/plain": [
       "<Figure size 640x480 with 1 Axes>"
      ]
     },
     "metadata": {},
     "output_type": "display_data"
    }
   ],
   "source": [
    "plt.imshow(img[0])"
   ]
  },
  {
   "cell_type": "code",
   "execution_count": 261,
   "id": "94cdd61a",
   "metadata": {},
   "outputs": [
    {
     "data": {
      "text/plain": [
       "array([1.])"
      ]
     },
     "execution_count": 261,
     "metadata": {},
     "output_type": "execute_result"
    }
   ],
   "source": [
    "np.ones((1,))"
   ]
  },
  {
   "cell_type": "code",
   "execution_count": 291,
   "id": "ee35b429",
   "metadata": {},
   "outputs": [
    {
     "name": "stdout",
     "output_type": "stream",
     "text": [
      "1/1 [==============================] - 0s 106ms/step\n"
     ]
    }
   ],
   "source": [
    "model = Sequential()\n",
    "model.add(Embedding(10, 50, embeddings_initializer=\"ones\")) #Try \"uniform\" and \"ones\" initializer\n",
    "\n",
    "#Array of size 10, --> should output size (10,1,50)\n",
    "input_array = np.array([5])\n",
    "output_array = model.predict(input_array)\n",
    "\n"
   ]
  },
  {
   "cell_type": "code",
   "execution_count": 292,
   "id": "10e90082",
   "metadata": {},
   "outputs": [
    {
     "data": {
      "text/plain": [
       "array([[1., 1., 1., 1., 1., 1., 1., 1., 1., 1., 1., 1., 1., 1., 1., 1.,\n",
       "        1., 1., 1., 1., 1., 1., 1., 1., 1., 1., 1., 1., 1., 1., 1., 1.,\n",
       "        1., 1., 1., 1., 1., 1., 1., 1., 1., 1., 1., 1., 1., 1., 1., 1.,\n",
       "        1., 1.]], dtype=float32)"
      ]
     },
     "execution_count": 292,
     "metadata": {},
     "output_type": "execute_result"
    }
   ],
   "source": [
    "output_array"
   ]
  },
  {
   "cell_type": "code",
   "execution_count": 277,
   "id": "589562cd",
   "metadata": {},
   "outputs": [
    {
     "data": {
      "text/plain": [
       "<KerasTensor: shape=(None, 1, 50) dtype=float32 (created by layer 'embedding_47')>"
      ]
     },
     "execution_count": 277,
     "metadata": {},
     "output_type": "execute_result"
    }
   ],
   "source": [
    "layer"
   ]
  },
  {
   "cell_type": "code",
   "execution_count": null,
   "id": "deca8518",
   "metadata": {},
   "outputs": [],
   "source": []
  },
  {
   "cell_type": "code",
   "execution_count": null,
   "id": "769b8013",
   "metadata": {},
   "outputs": [],
   "source": []
  },
  {
   "cell_type": "code",
   "execution_count": null,
   "id": "7991ce99",
   "metadata": {},
   "outputs": [],
   "source": []
  },
  {
   "cell_type": "code",
   "execution_count": null,
   "id": "9e8344ea",
   "metadata": {},
   "outputs": [],
   "source": []
  },
  {
   "cell_type": "code",
   "execution_count": null,
   "id": "1fd7ca3c",
   "metadata": {},
   "outputs": [],
   "source": []
  },
  {
   "cell_type": "code",
   "execution_count": null,
   "id": "b1904eeb",
   "metadata": {},
   "outputs": [],
   "source": []
  },
  {
   "cell_type": "code",
   "execution_count": null,
   "id": "e552dd3b",
   "metadata": {},
   "outputs": [],
   "source": []
  }
 ],
 "metadata": {
  "kernelspec": {
   "display_name": "Python 3 (ipykernel)",
   "language": "python",
   "name": "python3"
  },
  "language_info": {
   "codemirror_mode": {
    "name": "ipython",
    "version": 3
   },
   "file_extension": ".py",
   "mimetype": "text/x-python",
   "name": "python",
   "nbconvert_exporter": "python",
   "pygments_lexer": "ipython3",
   "version": "3.11.5"
  }
 },
 "nbformat": 4,
 "nbformat_minor": 5
}
