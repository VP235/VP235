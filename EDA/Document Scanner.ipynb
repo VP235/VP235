{
 "cells": [
  {
   "cell_type": "code",
   "execution_count": null,
   "id": "b074b925",
   "metadata": {},
   "outputs": [],
   "source": [
    "import cv2\n",
    "import numpy as np\n",
    "import pandas as pd\n",
    "import matplotlib.pyplot as plt\n"
   ]
  },
  {
   "cell_type": "code",
   "execution_count": null,
   "id": "38d1d0fa",
   "metadata": {},
   "outputs": [],
   "source": [
    "cover = cv2.imread(r\"C:\\Users\\varsha\\Pictures\\cover_3.jpg\")\n",
    "wrap = cv2.imread(r\"C:\\Users\\varsha\\Pictures\\wrap.jpg\")\n",
    "\n",
    "# convert to RGB\n",
    "cover_rgb = cv2.cvtColor(cover, cv2.COLOR_BGR2RGB)\n",
    "wrap_rgb = cv2.cvtColor(wrap, cv2.COLOR_BGR2RGB)"
   ]
  },
  {
   "cell_type": "code",
   "execution_count": null,
   "id": "453420c4",
   "metadata": {},
   "outputs": [],
   "source": [
    "fig, ax = plt.subplots(1, 2, figsize = (10, 10))\n",
    "ax[0].imshow(cover_rgb)\n",
    "ax[1].imshow(wrap_rgb)"
   ]
  },
  {
   "cell_type": "code",
   "execution_count": null,
   "id": "5e63efce",
   "metadata": {},
   "outputs": [],
   "source": [
    "# conver to gray scale\n",
    "cover_gray = cv2.cvtColor(cover_rgb, cv2.COLOR_RGB2GRAY)\n",
    "wrap_gray = cv2.cvtColor(wrap_rgb, cv2.COLOR_RGB2GRAY)\n",
    "\n",
    "fig, ax = plt.subplots(1, 2, figsize = (10, 10))\n",
    "ax[0].imshow(cover_gray, cmap = 'gray')\n",
    "ax[1].imshow(wrap_gray, cmap = 'gray')"
   ]
  },
  {
   "cell_type": "code",
   "execution_count": null,
   "id": "27ce8abc",
   "metadata": {},
   "outputs": [],
   "source": [
    "MAX_FEATURES = 500\n",
    "GOOD_MATCH_PERCENT = 0.15\n",
    "\n",
    "# detect ORB features and compute descriptor \n",
    "orb = cv2.ORB_create(MAX_FEATURES)\n",
    "\n",
    "keypt_1, descriptor_1 = orb.detectAndCompute(cover_gray, None)\n",
    "keypt_2, descriptor_2 = orb.detectAndCompute(wrap_gray, None)\n",
    "\n",
    "# display\n",
    "img_1 = cv2.drawKeypoints(cover_rgb, keypt_1, outImage = np.array([]), color =(255, 0, 0), flags =cv2.DrawMatchesFlags_DRAW_RICH_KEYPOINTS)\n",
    "img_2 = cv2.drawKeypoints(wrap_rgb, keypt_2, outImage = np.array([]), color =(255, 0, 0), flags =cv2.DrawMatchesFlags_DRAW_RICH_KEYPOINTS)\n",
    "\n",
    "fig, ax = plt.subplots(1, 2, figsize = (10, 10))\n",
    "ax[0].imshow(img_1)\n",
    "ax[1].imshow(img_2)"
   ]
  },
  {
   "cell_type": "code",
   "execution_count": null,
   "id": "bf04a511",
   "metadata": {},
   "outputs": [],
   "source": [
    "# Match features.\n",
    "matcher = cv2.DescriptorMatcher_create(cv2.DESCRIPTOR_MATCHER_BRUTEFORCE_HAMMING)\n",
    "matches = matcher.match(descriptor_1, descriptor_2, None)\n",
    "\n",
    "\n",
    "# # sort matches by score\n",
    "sorted(matches, key = lambda x: x.distance, reverse = False)\n",
    "\n",
    "\n",
    "# remove not so good matches\n",
    "goodMatches = int(len(matches) * 0.1)\n",
    "\n",
    "matches = matches[:goodMatches]\n",
    "\n",
    "# display\n",
    "img_1 = cv2.drawMatches(cover_rgb, keypt_1, wrap_rgb, keypt_2, matches, None)\n",
    "\n",
    "plt.imshow(img_1)\n"
   ]
  },
  {
   "cell_type": "code",
   "execution_count": null,
   "id": "ff61258a",
   "metadata": {},
   "outputs": [],
   "source": [
    "# Extract location of goodMatches\n",
    "pts1 = np.zeros((len(matches), 2), dtype = np.float32)\n",
    "pts2 = np.zeros((len(matches), 2), dtype = np.float32)\n",
    "\n",
    "for i, match in enumerate(matches):\n",
    "    pts1[i, :] = keypt_1[match.queryIdx].pt\n",
    "    pts2[i, :] = keypt_2[match.trainIdx].pt\n",
    "    \n",
    "    \n",
    "# find homography\n",
    "h, mask = cv2.findHomography(pts1, pts2, cv2.RANSAC)\n",
    "\n",
    "# use homography\n",
    "height, width, channels = wrap_rgb.shape\n",
    "cover_R = cv2.warpPerspective(cover_rgb, h, (width, height))\n",
    "\n",
    "\n",
    "fig, ax = plt.subplots(1, 2, figsize = (10, 10))\n",
    "ax[0].imshow(cover_rgb)\n",
    "ax[1].imshow(cover_R)"
   ]
  },
  {
   "cell_type": "code",
   "execution_count": null,
   "id": "229ad4c0",
   "metadata": {},
   "outputs": [],
   "source": [
    "# Initialize ORB detector\n",
    "orb = cv2.ORB_create()\n",
    "\n",
    "# Detect keypoints and compute descriptors\n",
    "keypoints_1, descriptors_1 = orb.detectAndCompute(cover_gray, None)\n",
    "keypoints_2, descriptors_2 = orb.detectAndCompute(wrap_gray, None)\n",
    "\n",
    "# Match descriptors using a brute-force matcher\n",
    "bf = cv2.BFMatcher(cv2.NORM_HAMMING, crossCheck=True)\n",
    "matches = bf.match(descriptors_1, descriptors_2)\n",
    "\n",
    "# Sort matches by distance\n",
    "matches = sorted(matches, key=lambda x: x.distance)\n",
    "\n",
    "# Apply ratio test to filter good matches\n",
    "good_matches = []\n",
    "for m in matches:\n",
    "    if m.distance < 0.75 * matches[0].distance:\n",
    "        good_matches.append(m)\n",
    "\n",
    "print(good_matches)\n",
    "# matches = matches[:goodMatches]\n",
    "\n",
    "# # Extract location of goodMatches\n",
    "# pts1 = np.zeros((len(goodMatches), 2), dtype = np.float32)\n",
    "# pts2 = np.zeros((len(goodMatches), 2), dtype = np.float32)\n",
    "\n",
    "# for i, match in enumerate(goodMatches):\n",
    "#     pts1[i, :] = keypt_1[match.queryIdx].pt\n",
    "#     pts2[i, :] = keypt_2[match.trainIdx].pt\n",
    "    \n",
    "    \n",
    "# # find homography\n",
    "# h, mask = cv2.findHomography(pts1, pts2, cv2.RANSAC)\n",
    "\n",
    "# # use homography\n",
    "# height, width, channels = wrap_rgb.shape\n",
    "# cover_R = cv2.warpPerspective(cover_rgb, h, (width, height))\n",
    "\n",
    "\n",
    "# fig, ax = plt.subplots(1, 2, figsize = (10, 10))\n",
    "# ax[0].imshow(cover_rgb)\n",
    "# ax[1].imshow(cover_R)\n",
    "\n",
    "# Draw top matches\n",
    "image_matches = cv2.drawMatches(cover_rgb, keypoints_1, wrap_rgb, keypoints_2, good_matches, None)\n",
    "\n",
    "# Show image with matches\n",
    "plt.imshow(image_matches)\n"
   ]
  },
  {
   "cell_type": "code",
   "execution_count": null,
   "id": "563e6153",
   "metadata": {},
   "outputs": [],
   "source": [
    "# display\n",
    "img_1 = cv2.drawMatches(cover_rgb, keypt_1, wrap_rgb, keypt_2, matches, None)\n",
    "\n",
    "plt.imshow(img_1)"
   ]
  },
  {
   "cell_type": "code",
   "execution_count": null,
   "id": "cb9ec99d",
   "metadata": {},
   "outputs": [],
   "source": []
  },
  {
   "cell_type": "code",
   "execution_count": null,
   "id": "cd58f7a3",
   "metadata": {},
   "outputs": [],
   "source": []
  },
  {
   "cell_type": "code",
   "execution_count": null,
   "id": "866feb63",
   "metadata": {},
   "outputs": [],
   "source": []
  },
  {
   "cell_type": "code",
   "execution_count": null,
   "id": "007ad094",
   "metadata": {},
   "outputs": [],
   "source": []
  },
  {
   "cell_type": "code",
   "execution_count": null,
   "id": "aa343801",
   "metadata": {},
   "outputs": [],
   "source": []
  },
  {
   "cell_type": "code",
   "execution_count": null,
   "id": "5504ecaf",
   "metadata": {},
   "outputs": [],
   "source": []
  },
  {
   "cell_type": "code",
   "execution_count": null,
   "id": "7b330e8f",
   "metadata": {},
   "outputs": [],
   "source": []
  },
  {
   "cell_type": "code",
   "execution_count": null,
   "id": "3bfe8cfd",
   "metadata": {},
   "outputs": [],
   "source": []
  },
  {
   "cell_type": "code",
   "execution_count": null,
   "id": "7ee27d94",
   "metadata": {},
   "outputs": [],
   "source": []
  },
  {
   "cell_type": "code",
   "execution_count": null,
   "id": "f64ea23a",
   "metadata": {},
   "outputs": [],
   "source": []
  },
  {
   "cell_type": "code",
   "execution_count": null,
   "id": "f7f3c3b2",
   "metadata": {},
   "outputs": [],
   "source": []
  }
 ],
 "metadata": {
  "kernelspec": {
   "display_name": "Python 3 (ipykernel)",
   "language": "python",
   "name": "python3"
  },
  "language_info": {
   "codemirror_mode": {
    "name": "ipython",
    "version": 3
   },
   "file_extension": ".py",
   "mimetype": "text/x-python",
   "name": "python",
   "nbconvert_exporter": "python",
   "pygments_lexer": "ipython3",
   "version": "3.11.5"
  }
 },
 "nbformat": 4,
 "nbformat_minor": 5
}
