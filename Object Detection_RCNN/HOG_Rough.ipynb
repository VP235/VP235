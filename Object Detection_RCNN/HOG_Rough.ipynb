{
 "cells": [
  {
   "cell_type": "code",
   "execution_count": null,
   "id": "639ecedd",
   "metadata": {},
   "outputs": [],
   "source": [
    "import cv2\n",
    "import numpy as np\n",
    "from tensorflow.keras.applications import VGG16\n",
    "from tensorflow.keras.models import Model\n",
    "from sklearn.svm import SVC\n",
    "from skimage.segmentation import felzenszwalb\n",
    "\n",
    "# Load pre-trained CNN (VGG16)\n",
    "base_model = VGG16(weights='imagenet', include_top=False)\n",
    "model = Model(inputs=base_model.input, outputs=base_model.get_layer('block5_pool').output)\n",
    "\n",
    "# Load classifier (SVM or Softmax)\n",
    "classifier = SVC()\n",
    "\n",
    "# Load training data (images and corresponding labels)\n",
    "train_images = ['train_img1.jpg', 'train_img2.jpg', ...]  # List of training image paths\n",
    "train_labels = ['label1', 'label2', ...]  # List of corresponding labels\n",
    "\n",
    "# Extract features and labels from training data\n",
    "features_train = []\n",
    "labels_train = []\n",
    "img= cv2.imread(r\"D:\\Datasets\\Aquarium Combined.v2-raw-1024.tensorflow\\train\\IMG_2284_jpeg_jpg.rf.99de11cb5727748bd3eae3afe7b415e6.jpg\")\n",
    "for img_path, label in zip(img, 1):\n",
    "    image = cv2.imread(img_path)\n",
    "    \n",
    "    regions = felzenszwalb(image, scale=100, sigma=0.9, min_size=50)\n",
    "    \n",
    "    for region in regions:\n",
    "        (x, y, w, h) = cv2.boundingRect(region)\n",
    "        \n",
    "        roi = image[y:y+h, x:x+w]\n",
    "        roi_resized = cv2.resize(roi, (224, 224))  # Resize region to fit VGG input size\n",
    "        roi_preprocessed = np.expand_dims(cv2.cvtColor(roi_resized, cv2.COLOR_BGR2RGB), axis=0)\n",
    "        \n",
    "        features = model.predict(roi_preprocessed)\n",
    "        features_flattened = features.flatten()\n",
    "        features_train.append(features_flattened)\n",
    "        \n",
    "        labels_train.append(label)\n",
    "\n",
    "# Train the classifier\n",
    "classifier.fit(features_train, labels_train)\n",
    "\n"
   ]
  },
  {
   "cell_type": "code",
   "execution_count": 3,
   "id": "e78c1a0d",
   "metadata": {},
   "outputs": [
    {
     "name": "stdout",
     "output_type": "stream",
     "text": [
      "[[   0    0    0 ...   37   37   37]\n",
      " [   0    0    0 ...   37   37   37]\n",
      " [   0    0    0 ...   37   37   37]\n",
      " ...\n",
      " [1364 1364 1364 ... 1353 1353 1353]\n",
      " [1364 1364 1364 ... 1353 1353 1353]\n",
      " [1364 1364 1364 ... 1353 1353 1353]]\n"
     ]
    },
    {
     "ename": "error",
     "evalue": "OpenCV(4.9.0) D:\\a\\opencv-python\\opencv-python\\opencv\\modules\\imgproc\\src\\shapedescr.cpp:874: error: (-215:Assertion failed) npoints >= 0 && (depth == CV_32F || depth == CV_32S) in function 'cv::pointSetBoundingRect'\n",
     "output_type": "error",
     "traceback": [
      "\u001b[1;31m---------------------------------------------------------------------------\u001b[0m",
      "\u001b[1;31merror\u001b[0m                                     Traceback (most recent call last)",
      "Cell \u001b[1;32mIn[3], line 9\u001b[0m\n\u001b[0;32m      7\u001b[0m \u001b[38;5;28mprint\u001b[39m(regions)\n\u001b[0;32m      8\u001b[0m \u001b[38;5;28;01mfor\u001b[39;00m region \u001b[38;5;129;01min\u001b[39;00m regions:\n\u001b[1;32m----> 9\u001b[0m     (x, y, w, h) \u001b[38;5;241m=\u001b[39m cv2\u001b[38;5;241m.\u001b[39mboundingRect(region)\n\u001b[0;32m     10\u001b[0m     roi \u001b[38;5;241m=\u001b[39m image[y:y\u001b[38;5;241m+\u001b[39mh, x:x\u001b[38;5;241m+\u001b[39mw]\n\u001b[0;32m     11\u001b[0m     roi_resized \u001b[38;5;241m=\u001b[39m cv2\u001b[38;5;241m.\u001b[39mresize(roi, (\u001b[38;5;241m224\u001b[39m, \u001b[38;5;241m224\u001b[39m))  \u001b[38;5;66;03m# Resize region to fit VGG input size\u001b[39;00m\n",
      "\u001b[1;31merror\u001b[0m: OpenCV(4.9.0) D:\\a\\opencv-python\\opencv-python\\opencv\\modules\\imgproc\\src\\shapedescr.cpp:874: error: (-215:Assertion failed) npoints >= 0 && (depth == CV_32F || depth == CV_32S) in function 'cv::pointSetBoundingRect'\n"
     ]
    }
   ],
   "source": [
    "# Load testing data (images)\n",
    "img= cv2.imread(r\"D:\\Datasets\\Aquarium Combined.v2-raw-1024.tensorflow\\train\\IMG_2284_jpeg_jpg.rf.99de11cb5727748bd3eae3afe7b415e6.jpg\")\n",
    "\n",
    "# Perform object detection and classification on testing data\n",
    "\n",
    "regions = felzenszwalb(img, scale=100, sigma=0.9, min_size=50)\n",
    "print(regions)\n",
    "for region in regions:\n",
    "    (x, y, w, h) = cv2.boundingRect(region)\n",
    "    roi = image[y:y+h, x:x+w]\n",
    "    roi_resized = cv2.resize(roi, (224, 224))  # Resize region to fit VGG input size\n",
    "    roi_preprocessed = np.expand_dims(cv2.cvtColor(roi_resized, cv2.COLOR_BGR2RGB), axis=0)\n",
    "    features = model.predict(roi_preprocessed)\n",
    "    features_flattened = features.flatten()\n",
    "    prediction = classifier.predict([features_flattened])[0]\n",
    "\n",
    "    # Draw bounding box and label on the image\n",
    "    cv2.rectangle(image, (x, y), (x + w, y + h), (0, 255, 0), 2)\n",
    "    cv2.putText(image, f'Class: {prediction}', (x, y - 10), cv2.FONT_HERSHEY_SIMPLEX, 0.5, (0, 255, 0), 2)\n",
    "\n",
    "# Display the image with bounding boxes and labels\n",
    "cv2.imshow('Object Detection', image)\n",
    "cv2.waitKey(0)\n",
    "\n",
    "cv2.destroyAllWindows()"
   ]
  },
  {
   "cell_type": "code",
   "execution_count": 2,
   "id": "a9d30cf7",
   "metadata": {},
   "outputs": [
    {
     "ename": "ValueError",
     "evalue": "too many values to unpack (expected 4)",
     "output_type": "error",
     "traceback": [
      "\u001b[1;31m---------------------------------------------------------------------------\u001b[0m",
      "\u001b[1;31mValueError\u001b[0m                                Traceback (most recent call last)",
      "Cell \u001b[1;32mIn[2], line 24\u001b[0m\n\u001b[0;32m     22\u001b[0m \u001b[38;5;66;03m# Extract features and classify each region proposal\u001b[39;00m\n\u001b[0;32m     23\u001b[0m \u001b[38;5;28;01mfor\u001b[39;00m region \u001b[38;5;129;01min\u001b[39;00m regions:\n\u001b[1;32m---> 24\u001b[0m     (x, y, w, h) \u001b[38;5;241m=\u001b[39m region\n\u001b[0;32m     26\u001b[0m     \u001b[38;5;66;03m# Extract region from the image\u001b[39;00m\n\u001b[0;32m     27\u001b[0m     roi \u001b[38;5;241m=\u001b[39m image[y:y\u001b[38;5;241m+\u001b[39mh, x:x\u001b[38;5;241m+\u001b[39mw]\n",
      "\u001b[1;31mValueError\u001b[0m: too many values to unpack (expected 4)"
     ]
    }
   ],
   "source": [
    "import cv2\n",
    "import numpy as np\n",
    "from tensorflow.keras.applications import VGG16\n",
    "from tensorflow.keras.models import Model\n",
    "from sklearn.svm import SVC\n",
    "from skimage.segmentation import felzenszwalb\n",
    "\n",
    "# Load pre-trained CNN (VGG16)\n",
    "base_model = VGG16(weights='imagenet', include_top=False)\n",
    "model = Model(inputs=base_model.input, outputs=base_model.get_layer('block5_pool').output)\n",
    "\n",
    "# Load classifier (SVM or Softmax)\n",
    "classifier = SVC()\n",
    "\n",
    "# Load image\n",
    "image= cv2.imread(r\"D:\\Datasets\\Aquarium Combined.v2-raw-1024.tensorflow\\train\\IMG_2284_jpeg_jpg.rf.99de11cb5727748bd3eae3afe7b415e6.jpg\")\n",
    "\n",
    "\n",
    "# Perform Selective Search Fast\n",
    "regions = felzenszwalb(image, scale=100, sigma=0.9, min_size=50)\n",
    "\n",
    "# Extract features and classify each region proposal\n",
    "for region in regions:\n",
    "    (x, y, w, h) = region\n",
    "    \n",
    "    # Extract region from the image\n",
    "    roi = image[y:y+h, x:x+w]\n",
    "    \n",
    "    # Resize ROI to fit VGG input size\n",
    "    roi_resized = cv2.resize(roi, (224, 224))\n",
    "    \n",
    "    # Preprocess ROI for VGG input\n",
    "    roi_preprocessed = np.expand_dims(cv2.cvtColor(roi_resized, cv2.COLOR_BGR2RGB), axis=0)\n",
    "    roi_preprocessed = preprocess_input(roi_preprocessed)\n",
    "    \n",
    "    # Extract features using the pre-trained CNN\n",
    "    features = model.predict(roi_preprocessed)\n",
    "    \n",
    "    # Flatten features\n",
    "    features_flattened = features.flatten()\n",
    "    \n",
    "    # Classify the region using the classifier\n",
    "    prediction = classifier.predict([features_flattened])[0]\n",
    "    \n",
    "    # Draw bounding box and label on the image\n",
    "    cv2.rectangle(image, (x, y), (x + w, y + h), (0, 255, 0), 2)\n",
    "    cv2.putText(image, f'Class: {prediction}', (x, y - 10), cv2.FONT_HERSHEY_SIMPLEX, 0.5, (0, 255, 0), 2)\n",
    "\n",
    "# Display the image with bounding boxes and labels\n",
    "cv2.imshow('Object Detection', image)\n",
    "cv2.waitKey(0)\n",
    "cv2.destroyAllWindows()"
   ]
  }
 ],
 "metadata": {
  "kernelspec": {
   "display_name": "Python 3 (ipykernel)",
   "language": "python",
   "name": "python3"
  },
  "language_info": {
   "codemirror_mode": {
    "name": "ipython",
    "version": 3
   },
   "file_extension": ".py",
   "mimetype": "text/x-python",
   "name": "python",
   "nbconvert_exporter": "python",
   "pygments_lexer": "ipython3",
   "version": "3.11.5"
  }
 },
 "nbformat": 4,
 "nbformat_minor": 5
}
